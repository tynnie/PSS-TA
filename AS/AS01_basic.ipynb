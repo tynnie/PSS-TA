{
  "nbformat": 4,
  "nbformat_minor": 0,
  "metadata": {
    "kernelspec": {
      "display_name": "Python 3",
      "language": "python",
      "name": "python3"
    },
    "language_info": {
      "codemirror_mode": {
        "name": "ipython",
        "version": 3
      },
      "file_extension": ".py",
      "mimetype": "text/x-python",
      "name": "python",
      "nbconvert_exporter": "python",
      "pygments_lexer": "ipython3",
      "version": "3.7.6"
    },
    "toc": {
      "base_numbering": 1,
      "nav_menu": {},
      "number_sections": true,
      "sideBar": true,
      "skip_h1_title": false,
      "title_cell": "Table of Contents",
      "title_sidebar": "Contents",
      "toc_cell": false,
      "toc_position": {},
      "toc_section_display": true,
      "toc_window_display": true
    },
    "varInspector": {
      "cols": {
        "lenName": 16,
        "lenType": 16,
        "lenVar": 40
      },
      "kernels_config": {
        "python": {
          "delete_cmd_postfix": "",
          "delete_cmd_prefix": "del ",
          "library": "var_list.py",
          "varRefreshCmd": "print(var_dic_list())"
        },
        "r": {
          "delete_cmd_postfix": ") ",
          "delete_cmd_prefix": "rm(",
          "library": "var_list.r",
          "varRefreshCmd": "cat(var_dic_list()) "
        }
      },
      "types_to_exclude": [
        "module",
        "function",
        "builtin_function_or_method",
        "instance",
        "_Feature"
      ],
      "window_display": false
    },
    "colab": {
      "name": "AS01_basic.ipynb",
      "provenance": [],
      "include_colab_link": true
    }
  },
  "cells": [
    {
      "cell_type": "markdown",
      "metadata": {
        "id": "view-in-github",
        "colab_type": "text"
      },
      "source": [
        "<a href=\"https://colab.research.google.com/github/P4CSS/PSS/blob/master/AS01_basic.ipynb\" target=\"_parent\"><img src=\"https://colab.research.google.com/assets/colab-badge.svg\" alt=\"Open In Colab\"/></a>"
      ]
    },
    {
      "cell_type": "markdown",
      "metadata": {
        "id": "sQQyD_YkjNxI"
      },
      "source": [
        "# AS01_1: Converting Fahrenheit to Celsius temperature degree\n",
        "\n",
        "課程`P02_basic.ipynb`中以華氏溫度轉攝氏溫度為例子示範加減乘除。<br>請你寫出轉換攝氏溫度為華氏溫度的Code。\n",
        "並輸出為以下型態。\n",
        "```\n",
        "tc:  10 \ttf:  50.0\n",
        "```"
      ]
    },
    {
      "cell_type": "code",
      "metadata": {
        "ExecuteTime": {
          "end_time": "2020-03-17T03:19:33.590969Z",
          "start_time": "2020-03-17T03:19:33.588177Z"
        },
        "id": "b0worFEpjNxM",
        "outputId": "8df0b1e4-4340-4a55-928d-9297db9fad89"
      },
      "source": [
        "tc = 10\n",
        "# Your code should be here\n",
        "\n"
      ],
      "execution_count": null,
      "outputs": [
        {
          "output_type": "stream",
          "text": [
            "tc:  10 \ttf:  50.0\n"
          ],
          "name": "stdout"
        }
      ]
    },
    {
      "cell_type": "markdown",
      "metadata": {
        "id": "L7uDk1mojNxN"
      },
      "source": [
        "# AS01_2: Using raw_input() to aceept keyboard input\n",
        "\n",
        "本題中請你用`raw_input()`讀取鍵盤輸入，程式碼如下。<br>\n",
        "僅是把課程範例中華氏轉攝氏氣溫的程式碼修改為鍵盤輸入。<br>\n",
        "但這樣的程式碼可能會連續遇到兩個錯誤，請修正之。<br>\n",
        "並以input 50為測試資料，將答案輸出為以下格式。<br>\n",
        "注意，必須要完全與下述字串相同（`10.0`和`10`是不同的)<br>\n",
        "```\n",
        "tf input is 50, and tc output is 10\n",
        "```\n",
        "\n",
        "**參考資料：**可以參考這篇[PyFormat](https://pyformat.info/)來了解`%d`和`.format()`另外一種print formatting的寫法。<br>\n",
        "也可參考以下網址的內容：https://docs.python.org/3/tutorial/inputout"
      ]
    },
    {
      "cell_type": "code",
      "metadata": {
        "ExecuteTime": {
          "end_time": "2020-03-17T03:21:27.897409Z",
          "start_time": "2020-03-17T03:21:25.084299Z"
        },
        "id": "7TMhB68IjNxO",
        "outputId": "d84d9e8e-36f3-48e9-cde2-08eeb3c26709"
      },
      "source": [
        "tf = raw_input()\n",
        "tc = 5.0/9.0*(tf-32)"
      ],
      "execution_count": null,
      "outputs": [
        {
          "output_type": "error",
          "ename": "NameError",
          "evalue": "name 'raw_input' is not defined",
          "traceback": [
            "\u001b[0;31m---------------------------------------------------------------------------\u001b[0m",
            "\u001b[0;31mNameError\u001b[0m                                 Traceback (most recent call last)",
            "\u001b[0;32m<ipython-input-11-70a300379f66>\u001b[0m in \u001b[0;36m<module>\u001b[0;34m\u001b[0m\n\u001b[0;32m----> 1\u001b[0;31m \u001b[0mtf\u001b[0m \u001b[0;34m=\u001b[0m \u001b[0mraw_input\u001b[0m\u001b[0;34m(\u001b[0m\u001b[0;34m)\u001b[0m\u001b[0;34m\u001b[0m\u001b[0;34m\u001b[0m\u001b[0m\n\u001b[0m\u001b[1;32m      2\u001b[0m \u001b[0mtc\u001b[0m \u001b[0;34m=\u001b[0m \u001b[0;36m5.0\u001b[0m\u001b[0;34m/\u001b[0m\u001b[0;36m9.0\u001b[0m\u001b[0;34m*\u001b[0m\u001b[0;34m(\u001b[0m\u001b[0mtf\u001b[0m\u001b[0;34m-\u001b[0m\u001b[0;36m32\u001b[0m\u001b[0;34m)\u001b[0m\u001b[0;34m\u001b[0m\u001b[0;34m\u001b[0m\u001b[0m\n",
            "\u001b[0;31mNameError\u001b[0m: name 'raw_input' is not defined"
          ]
        }
      ]
    },
    {
      "cell_type": "markdown",
      "metadata": {
        "id": "Pru8jqKbjNxO"
      },
      "source": [
        "# AS01_3: Swapping values of two variables\n",
        "\n",
        "Python有一個非常方便的地方是他可以同時Assign兩個Variables。<br>\n",
        "例如我若要把兩個variables所儲存的values調換的話，我可以像下面這麼做。\n",
        "```\n",
        "a, b = 1, 3\n",
        "print(a, b)\n",
        "a, b = b, a\n",
        "print(a, b)\n",
        "```\n",
        "這個動作稱為**SWAP**，所得到的結果如下。\n",
        "```\n",
        "1 3\n",
        "3 1\n",
        "```\n",
        "但我現在希望，Assign符號左側只能有一個variable，請問這樣要如何**SWAP**以下`a`與`b`的變數內容。<br>\n",
        "提示：你可能需要另一個變數來暫存`a`或`b`的值。"
      ]
    },
    {
      "cell_type": "code",
      "metadata": {
        "id": "CkKMAig5jNxO",
        "outputId": "e2a704c0-bd36-4ab9-e99b-b37466f0e248"
      },
      "source": [
        "\n",
        "a = 10\n",
        "b = 30\n",
        "print(a, b)\n",
        "# your code should be here\n",
        "\n",
        "\n",
        "print(a, b)"
      ],
      "execution_count": null,
      "outputs": [
        {
          "output_type": "stream",
          "text": [
            "10 30\n",
            "30 10\n"
          ],
          "name": "stdout"
        }
      ]
    },
    {
      "cell_type": "markdown",
      "metadata": {
        "id": "_5hUG1KWjNxP"
      },
      "source": [
        "# AS01_4 Accessing AQI data\n",
        "\n",
        "以下為存取環保署開放資料平台空品資料的API連結與方法，請仿照Trace Youbike data的方法依序回答以下兩個問題。"
      ]
    },
    {
      "cell_type": "code",
      "metadata": {
        "id": "33uZu8hLjNxP"
      },
      "source": [
        "import requests\n",
        "import json\n",
        "url = \" https://opendata.epa.gov.tw/api/v1/AQI?%24skip=0&%24top=1000&%24format=json\"\n",
        "response = requests.get(url)\n",
        "aqdata = json.loads(response.text)\n",
        "print(type(aqdata))"
      ],
      "execution_count": null,
      "outputs": []
    },
    {
      "cell_type": "markdown",
      "metadata": {
        "id": "8L04auL5jnqa"
      },
      "source": [
        "\n",
        "## AS01_4_1: Accessing list\n",
        "請Access該筆資料列印出第一個站台的站台名稱為何？"
      ]
    },
    {
      "cell_type": "code",
      "metadata": {
        "id": "wAb1Cgs5jm2g"
      },
      "source": [
        ""
      ],
      "execution_count": null,
      "outputs": []
    },
    {
      "cell_type": "markdown",
      "metadata": {
        "id": "pL9oa-T3jNxP"
      },
      "source": [
        "##  AS01_4_2: Checking data type\n",
        "\n",
        "請Access空品資料的任一筆資料，觀察資料內容，用程式列印出AQI的Data type為何？"
      ]
    },
    {
      "cell_type": "code",
      "metadata": {
        "id": "Lle4rCIBjNxP"
      },
      "source": [
        ""
      ],
      "execution_count": null,
      "outputs": []
    },
    {
      "cell_type": "markdown",
      "metadata": {
        "id": "w8YUsWRuj9B8"
      },
      "source": [
        "## AS01_4_3: playing markdown format\n",
        "* 新增一個Code Cell並印出測站「三重」的AQI\n",
        "* 新增一個markdown cell嘗試說明，你認為若要從上述資料存取方法方不方便？你覺得就dictionary或list的結構來說，要怎樣才會比較方便？"
      ]
    }
  ]
}