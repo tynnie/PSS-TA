{
 "cells": [
  {
   "cell_type": "markdown",
   "metadata": {
    "colab_type": "text",
    "id": "view-in-github"
   },
   "source": [
    "<a href=\"https://colab.research.google.com/github/tynnie/PSS-TA/blob/patch-1/AS/AS01_basic_solution.ipynb\" target=\"_parent\"><img src=\"https://colab.research.google.com/assets/colab-badge.svg\" alt=\"Open In Colab\"/></a>"
   ]
  },
  {
   "cell_type": "markdown",
   "metadata": {
    "id": "sQQyD_YkjNxI"
   },
   "source": [
    "# Q1_1: Converting Fahrenheit to Celsius temperature degree\n",
    "\n",
    "課程`P02_basic.ipynb`中以華氏溫度轉攝氏溫度為例子示範加減乘除。<br>請你寫出轉換攝氏溫度為華氏溫度的Code。並輸出為以下型態（攝氏`tc`溫度等於華氏`tf`溫度減`32`後乘以`5/9`，那反過來呢？）。\n",
    "```\n",
    "Sample output: \n",
    "    tc:  10 \ttf:  50.0\n",
    "```"
   ]
  },
  {
   "cell_type": "code",
   "execution_count": 15,
   "metadata": {
    "ExecuteTime": {
     "end_time": "2020-03-17T03:19:33.590969Z",
     "start_time": "2020-03-17T03:19:33.588177Z"
    },
    "id": "b0worFEpjNxM",
    "outputId": "8df0b1e4-4340-4a55-928d-9297db9fad89"
   },
   "outputs": [
    {
     "name": "stdout",
     "output_type": "stream",
     "text": [
      "tc:  10 \ttf:  50.0\n"
     ]
    }
   ],
   "source": [
    "tc = 10\n",
    "tf = tc*9/5 + 32\n",
    "print('tc:  {} \\ttf:  {}'.format(tc, tf))\n",
    "\n"
   ]
  },
  {
   "cell_type": "markdown",
   "metadata": {
    "id": "L7uDk1mojNxN"
   },
   "source": [
    "# Q1_2: Using raw_input() to aceept keyboard input\n",
    "\n",
    "本題中請你用`raw_input()`讀取鍵盤輸入，程式碼如下。<br>\n",
    "僅是把課程範例中華氏轉攝氏氣溫的程式碼修改為鍵盤輸入。<br>\n",
    "但這樣的程式碼可能會連續遇到兩個錯誤，請修正之。<br>\n",
    "並以input 50為測試資料，將答案輸出為以下格式。<br>\n",
    "注意，必須要完全與下述字串相同（`10.0`和`10`是不同的)<br>\n",
    "```\n",
    "tf input is 50, and tc output is 10\n",
    "```\n",
    "\n",
    "**參考資料：**可以參考這篇[PyFormat](https://pyformat.info/)來了解`%d`和`.format()`另外一種print formatting的寫法。<br>\n",
    "也可參考以下網址的內容：https://docs.python.org/3/tutorial/inputout"
   ]
  },
  {
   "cell_type": "code",
   "execution_count": 4,
   "metadata": {
    "ExecuteTime": {
     "end_time": "2020-03-17T03:21:27.897409Z",
     "start_time": "2020-03-17T03:21:25.084299Z"
    },
    "id": "7TMhB68IjNxO",
    "outputId": "d84d9e8e-36f3-48e9-cde2-08eeb3c26709"
   },
   "outputs": [
    {
     "name": "stdout",
     "output_type": "stream",
     "text": [
      "tf input is  50 , and tc output is  10\n"
     ]
    }
   ],
   "source": [
    "# 1\n",
    "def raw_input():\n",
    "    item = int(input())\n",
    "    return item\n",
    "\n",
    "tf = raw_input()\n",
    "tc = int(5.0/9.0*(tf - 32))\n",
    "print('tf input is  {} , and tc output is  {}'.format(tf, tc))"
   ]
  },
  {
   "cell_type": "code",
   "execution_count": 11,
   "metadata": {},
   "outputs": [
    {
     "name": "stdout",
     "output_type": "stream",
     "text": [
      "tf input is  50 , and tc output is  10\n"
     ]
    }
   ],
   "source": [
    "# 2\n",
    "tf = int(input())\n",
    "tc = int(5.0/9.0*(tf - 32))\n",
    "print('tf input is  {} , and tc output is  {}'.format(tf, tc))"
   ]
  },
  {
   "cell_type": "markdown",
   "metadata": {
    "id": "Pru8jqKbjNxO"
   },
   "source": [
    "# Q2: Swapping values of two variables\n",
    "\n",
    "Python有一個非常方便的地方是他可以同時Assign兩個Variables。<br>\n",
    "例如我若要把兩個variables所儲存的values調換的話，我可以像下面這麼做。\n",
    "```\n",
    "a, b = 1, 3\n",
    "print(a, b)\n",
    "a, b = b, a\n",
    "print(a, b)\n",
    "```\n",
    "這個動作稱為**SWAP**，所得到的結果如下。\n",
    "```\n",
    "1 3     # Before swapping\n",
    "3 1     # After swapping\n",
    "```\n",
    "但我現在希望，Assign符號左側只能有一個variable，請問這樣要如何**SWAP**以下`a`與`b`的變數內容。提示：你可能需要另一個變數來暫存`a`或`b`的值。"
   ]
  },
  {
   "cell_type": "code",
   "execution_count": 12,
   "metadata": {
    "id": "CkKMAig5jNxO",
    "outputId": "e2a704c0-bd36-4ab9-e99b-b37466f0e248"
   },
   "outputs": [
    {
     "name": "stdout",
     "output_type": "stream",
     "text": [
      "10 30\n",
      "30 10\n"
     ]
    }
   ],
   "source": [
    "\n",
    "a = 10\n",
    "b = 30\n",
    "print(a, b)\n",
    "# your code should be here\n",
    "c = a\n",
    "a = b\n",
    "b = c\n",
    "\n",
    "print(a, b)"
   ]
  },
  {
   "cell_type": "markdown",
   "metadata": {
    "id": "_5hUG1KWjNxP"
   },
   "source": [
    "# Q3: Accessing Taipei Bus real time data\n",
    "\n",
    "以下是台北市公車某線的即時資料。請觀察該資料並回答以下問題。"
   ]
  },
  {
   "cell_type": "code",
   "execution_count": 47,
   "metadata": {
    "id": "33uZu8hLjNxP"
   },
   "outputs": [
    {
     "name": "stdout",
     "output_type": "stream",
     "text": [
      "<class 'dict'>\n"
     ]
    }
   ],
   "source": [
    "import requests\n",
    "import json\n",
    "url = \"https://pda.5284.gov.taipei/MQS/RouteDyna?routeid=11763&nocache=1633009377839\"\n",
    "response = requests.get(url)\n",
    "route = json.loads(response.text)\n",
    "print(type(route))"
   ]
  },
  {
   "cell_type": "markdown",
   "metadata": {},
   "source": [
    "## Q3_1 Accessing data\n",
    "請列印出你所抓到的資料時間。\n",
    "```\n",
    "Output sample: \n",
    "    2021-09-30 21:48:56\n",
    "```"
   ]
  },
  {
   "cell_type": "code",
   "execution_count": 48,
   "metadata": {},
   "outputs": [
    {
     "name": "stdout",
     "output_type": "stream",
     "text": [
      "2021-10-23 22:21:19\n"
     ]
    }
   ],
   "source": [
    "print(route['UpdateTime'])"
   ]
  },
  {
   "cell_type": "markdown",
   "metadata": {
    "id": "8L04auL5jnqa"
   },
   "source": [
    "## Q3_2: Number of bus\n",
    "請問在你所抓的時間點共有幾台公車？\n",
    "```\n",
    "Output sample: \n",
    "    2021-09-30 21:48:56 There are  4 buses\n",
    "```"
   ]
  },
  {
   "cell_type": "code",
   "execution_count": 49,
   "metadata": {
    "id": "wAb1Cgs5jm2g"
   },
   "outputs": [
    {
     "name": "stdout",
     "output_type": "stream",
     "text": [
      "2021-10-23 22:21:19 There are  5 buses\n"
     ]
    }
   ],
   "source": [
    "bus = len(route['Bus'])\n",
    "print('{} There are  {} buses'.format(route['UpdateTime'], bus))"
   ]
  },
  {
   "cell_type": "markdown",
   "metadata": {},
   "source": [
    "## Q3_3: 該線公車在該時間點共有幾個停靠站？\n",
    "```\n",
    "Output Sample: \n",
    "    Number of stop:  85\n",
    "```"
   ]
  },
  {
   "cell_type": "code",
   "execution_count": 50,
   "metadata": {},
   "outputs": [
    {
     "name": "stdout",
     "output_type": "stream",
     "text": [
      "Number of stop:  85\n"
     ]
    }
   ],
   "source": [
    "stop = len(route['Stop'])\n",
    "print('Number of stop:  {}'.format(stop))"
   ]
  },
  {
   "cell_type": "markdown",
   "metadata": {
    "id": "pL9oa-T3jNxP"
   },
   "source": [
    "##  Q3_4: Print out bus id\n",
    "\n",
    "印出資料抓取時間點的所有公車車牌號碼。\n",
    "```\n",
    "Output sample: \n",
    "    563-FZ\n",
    "    EAL-0102\n",
    "    380-U8\n",
    "    KKA-0668\n",
    "```"
   ]
  },
  {
   "cell_type": "code",
   "execution_count": 51,
   "metadata": {
    "id": "Lle4rCIBjNxP"
   },
   "outputs": [
    {
     "name": "stdout",
     "output_type": "stream",
     "text": [
      "EAL-0103\n",
      "590-FZ\n",
      "EAL-0106\n",
      "589-FZ\n",
      "EAL-0039\n"
     ]
    }
   ],
   "source": [
    "for bus in route['Bus']:\n",
    "    print(bus['num'])"
   ]
  },
  {
   "cell_type": "markdown",
   "metadata": {},
   "source": [
    "# Q4: String as list\n",
    "在Python中，string字串也可以用list的方式來存取。如"
   ]
  },
  {
   "cell_type": "code",
   "execution_count": 52,
   "metadata": {},
   "outputs": [
    {
     "name": "stdout",
     "output_type": "stream",
     "text": [
      "u\n"
     ]
    }
   ],
   "source": [
    "word = \"Pneumonoultramicroscopicsilicovolcanoconiosis\" # 實際上存在的單字\n",
    "print(word[3])"
   ]
  },
  {
   "cell_type": "markdown",
   "metadata": {},
   "source": [
    "## Q4_1 Character frequency counting\n",
    "請用dictionary計算該字串中每個字元出現過幾次。\n",
    "```\n",
    "Output: \n",
    "    {'P': 1, 'n': 4, 'e': 1, 'u': 2, 'm': 2, 'o': 9, 'l': 3, 't': 1, 'r': 2, 'a': 2, 'i': 6, 'c': 6, 's': 4, 'p': 1, 'v': 1}\n",
    "```"
   ]
  },
  {
   "cell_type": "code",
   "execution_count": 53,
   "metadata": {},
   "outputs": [
    {
     "name": "stdout",
     "output_type": "stream",
     "text": [
      "{'P': 1, 'n': 4, 'e': 1, 'u': 2, 'm': 2, 'o': 9, 'l': 3, 't': 1, 'r': 2, 'a': 2, 'i': 6, 'c': 6, 's': 4, 'p': 1, 'v': 1}\n"
     ]
    }
   ],
   "source": [
    "# 1\n",
    "word = \"Pneumonoultramicroscopicsilicovolcanoconiosis\"\n",
    "cdict = dict()\n",
    "for i in word:\n",
    "    if i not in cdict:\n",
    "        cdict[i] = 0\n",
    "    cdict[i] += 1\n",
    "\n",
    "print(cdict)"
   ]
  },
  {
   "cell_type": "code",
   "execution_count": 54,
   "metadata": {},
   "outputs": [
    {
     "name": "stdout",
     "output_type": "stream",
     "text": [
      "{'P': 1, 'n': 4, 'e': 1, 'u': 2, 'm': 2, 'o': 9, 'l': 3, 't': 1, 'r': 2, 'a': 2, 'i': 6, 'c': 6, 's': 4, 'p': 1, 'v': 1}\n"
     ]
    }
   ],
   "source": [
    "# 2\n",
    "word = \"Pneumonoultramicroscopicsilicovolcanoconiosis\"\n",
    "cdict = dict()\n",
    "for i in word:\n",
    "    if i not in cdict:\n",
    "        cdict[i] = 1\n",
    "    else:\n",
    "        cdict[i] += 1\n",
    "\n",
    "print(cdict)"
   ]
  },
  {
   "cell_type": "markdown",
   "metadata": {},
   "source": [
    "## Q4_2 Print out top 3 characters\n",
    "觀察`P01_countting`的sorting程式碼，列印出出現次數最高的三個字。\n",
    "```\n",
    "Output sample: \n",
    "    ('o', 9)\n",
    "    ('i', 6)\n",
    "    ('c', 6)\n",
    "```"
   ]
  },
  {
   "cell_type": "code",
   "execution_count": 55,
   "metadata": {},
   "outputs": [
    {
     "name": "stdout",
     "output_type": "stream",
     "text": [
      "('o', 9)\n",
      "('i', 6)\n",
      "('c', 6)\n"
     ]
    }
   ],
   "source": [
    "# 1\n",
    "sorted_cdict = sorted(cdict.items(),\n",
    "                      key=lambda item: item[1],\n",
    "                      reverse=True)\n",
    "for i in sorted_cdict[:3]:\n",
    "    print(i)\n"
   ]
  },
  {
   "cell_type": "code",
   "execution_count": 56,
   "metadata": {},
   "outputs": [
    {
     "name": "stdout",
     "output_type": "stream",
     "text": [
      "('o', 9)\n",
      "('i', 6)\n",
      "('c', 6)\n"
     ]
    }
   ],
   "source": [
    "# 2\n",
    "import operator\n",
    "\n",
    "sorted_cdict = sorted(cdict.items(),\n",
    "                      key=operator.itemgetter(1),\n",
    "                      reverse=True)\n",
    "for i in sorted_cdict[:3]:\n",
    "    print(i)\n"
   ]
  },
  {
   "cell_type": "code",
   "execution_count": 57,
   "metadata": {},
   "outputs": [
    {
     "name": "stdout",
     "output_type": "stream",
     "text": [
      "('o', 9)\n",
      "('i', 6)\n",
      "('c', 6)\n"
     ]
    }
   ],
   "source": [
    "# 3\n",
    "from collections import Counter\n",
    "\n",
    "x = Counter(cdict)\n",
    "for i in x.most_common(3):\n",
    "    print(i)"
   ]
  }
 ],
 "metadata": {
  "colab": {
   "include_colab_link": true,
   "name": "AS01_basic.ipynb",
   "provenance": []
  },
  "interpreter": {
   "hash": "0adcc2737ebf6a4a119f135174df96668767fca1ef1112612db5ecadf2b6d608"
  },
  "kernelspec": {
   "display_name": "Python 3.8.3 64-bit",
   "name": "python3"
  },
  "language_info": {
   "codemirror_mode": {
    "name": "ipython",
    "version": 3
   },
   "file_extension": ".py",
   "mimetype": "text/x-python",
   "name": "python",
   "nbconvert_exporter": "python",
   "pygments_lexer": "ipython3",
   "version": "3.8.3"
  },
  "toc": {
   "base_numbering": 1,
   "nav_menu": {},
   "number_sections": true,
   "sideBar": true,
   "skip_h1_title": false,
   "title_cell": "Table of Contents",
   "title_sidebar": "Contents",
   "toc_cell": false,
   "toc_position": {},
   "toc_section_display": true,
   "toc_window_display": true
  },
  "varInspector": {
   "cols": {
    "lenName": 16,
    "lenType": 16,
    "lenVar": 40
   },
   "kernels_config": {
    "python": {
     "delete_cmd_postfix": "",
     "delete_cmd_prefix": "del ",
     "library": "var_list.py",
     "varRefreshCmd": "print(var_dic_list())"
    },
    "r": {
     "delete_cmd_postfix": ") ",
     "delete_cmd_prefix": "rm(",
     "library": "var_list.r",
     "varRefreshCmd": "cat(var_dic_list()) "
    }
   },
   "types_to_exclude": [
    "module",
    "function",
    "builtin_function_or_method",
    "instance",
    "_Feature"
   ],
   "window_display": false
  }
 },
 "nbformat": 4,
 "nbformat_minor": 4
}
