{
 "cells": [
  {
   "cell_type": "markdown",
   "metadata": {},
   "source": [
    "# Crawler 01: DCard\n",
    "- 設計爬蟲去爬取DCard任一版的文章，可以爬取熱門文章或最新文章均可。\n",
    "- 目標是爬取100則不重複的貼文\n",
    "- 必須用for-loop迴圈爬取，不得分開爬取多個不同的網址。\n",
    "- 重要提示: DCard的資料網址並沒有頁碼可以參考，但每一頁最後一筆資料的id，均為下一頁資料的網址的一部分。所以這題的for-loop並不是要算頁碼用的，單純只是讓程式多跑幾遍，每次都去取當頁資料的最後一筆id，來剪貼成下一頁資料的網址。"
   ]
  },
  {
   "cell_type": "code",
   "execution_count": 27,
   "metadata": {},
   "outputs": [],
   "source": [
    "# Your code should be here\n",
    "# You can add more code cells below this\n",
    "\n",
    "\n",
    "\n",
    "\n",
    "\n",
    "\n"
   ]
  },
  {
   "cell_type": "markdown",
   "metadata": {},
   "source": [
    "## Output verification"
   ]
  },
  {
   "cell_type": "markdown",
   "metadata": {},
   "source": [
    "### 1. Convert your list of dicts into a pandas DataFrame\n",
    "**MUST** using `df_dcard` as variable name of the pandas Dataframe"
   ]
  },
  {
   "cell_type": "code",
   "execution_count": null,
   "metadata": {},
   "outputs": [],
   "source": [
    "## your code should be here\n",
    "\n",
    "# df_dcard =\n",
    "\n",
    "## your code should be here\n"
   ]
  },
  {
   "cell_type": "markdown",
   "metadata": {},
   "source": [
    "### 2. Print `df_dcard.shape`"
   ]
  },
  {
   "cell_type": "code",
   "execution_count": null,
   "metadata": {},
   "outputs": [],
   "source": [
    "df_dcard.shape"
   ]
  },
  {
   "cell_type": "markdown",
   "metadata": {},
   "source": [
    "### 3. Print the number of unique id\n",
    "unique id的數量必須要100以上（包含100）"
   ]
  },
  {
   "cell_type": "code",
   "execution_count": null,
   "metadata": {},
   "outputs": [],
   "source": [
    "print(len(set(df_dcard.id)))"
   ]
  },
  {
   "cell_type": "code",
   "execution_count": null,
   "metadata": {},
   "outputs": [],
   "source": [
    "%whos"
   ]
  },
  {
   "cell_type": "markdown",
   "metadata": {},
   "source": [
    "# Crawler 02: cnyer\n",
    "- 設計爬蟲去爬取鉅亨網的新聞（https://news.cnyes.com/news/cat/headline?exp=a）。\n",
    "- 目標是爬取100則不重複的新聞\n",
    "- 必須用for-loop迴圈爬取，不得分開爬取多個不同的網址。"
   ]
  },
  {
   "cell_type": "markdown",
   "metadata": {},
   "source": [
    "## Output Verification"
   ]
  },
  {
   "cell_type": "markdown",
   "metadata": {},
   "source": [
    "### 1. Convert your list of dicts into a pandas DataFrame\n",
    "**MUST** using `df_cnyes` as variable name of the pandas Dataframe"
   ]
  },
  {
   "cell_type": "code",
   "execution_count": 30,
   "metadata": {},
   "outputs": [],
   "source": [
    "# code should be here\n",
    "\n",
    "# df_cnyes=\n",
    "\n",
    "# code should be here"
   ]
  },
  {
   "cell_type": "markdown",
   "metadata": {},
   "source": [
    "### 2. Print `df_cnyes.shape()`"
   ]
  },
  {
   "cell_type": "code",
   "execution_count": null,
   "metadata": {},
   "outputs": [],
   "source": [
    "df_cnyes.shape"
   ]
  },
  {
   "cell_type": "markdown",
   "metadata": {},
   "source": [
    "### 3. Print the number of unique id\n",
    "unique newsId的數量必須要100以上（包含100）"
   ]
  },
  {
   "cell_type": "code",
   "execution_count": null,
   "metadata": {},
   "outputs": [],
   "source": [
    "print(len(set(df_cnyes.newsId)))"
   ]
  }
 ],
 "metadata": {
  "kernelspec": {
   "display_name": "Python 3",
   "language": "python",
   "name": "python3"
  },
  "language_info": {
   "codemirror_mode": {
    "name": "ipython",
    "version": 3
   },
   "file_extension": ".py",
   "mimetype": "text/x-python",
   "name": "python",
   "nbconvert_exporter": "python",
   "pygments_lexer": "ipython3",
   "version": "3.7.6"
  }
 },
 "nbformat": 4,
 "nbformat_minor": 4
}
