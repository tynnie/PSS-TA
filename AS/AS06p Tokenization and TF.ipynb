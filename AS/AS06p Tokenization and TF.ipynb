{
 "cells": [
  {
   "cell_type": "markdown",
   "metadata": {
    "id": "Q52Z_woh2u5c"
   },
   "source": [
    "# AS6.1 YT Comment Analysis\n",
    "Top n關鍵字通常是我們用來描述一個文本最簡單方法。他代表了這個文本的特徵。但往往我們為了突顯文本的特徵，會需要篩除掉一些與其他文本共通的關鍵字。但如果過度篩除關鍵字，只保留這個文本所獨有的關鍵字，又會使得這個文本無法和其他文本比較。\n",
    "\n",
    "在下面這個練習中，你會拿到一份政論頻道中，跟香港反送中相關的影片底下的留言。想請你找出這群文本的重要關鍵字。請讀取香港antiELAB相關的政論節目影片留言並找出這些留言中最重要的30個關鍵字。找出來的前30大關鍵字應符合以下條件：\n",
    "1. 不應直接篩除長度為1的關鍵字，長度為1的關鍵字仍須保留。\n",
    "2. 寫一函式去除中文stopWords：`removeChiStopWords()`\n",
    "3. 寫一函式去除所有英文與數字：`removeAlphaNum()`\n",
    "4. 寫一函式去除全半形標點符號或空白：`removalPuncSpace()`\n"
   ]
  },
  {
   "cell_type": "markdown",
   "metadata": {
    "id": "rXCHRhYCmhVP"
   },
   "source": [
    "## YT01 Loading .xlsx by pandas\n",
    "Using `pd.read_excel()` function"
   ]
  },
  {
   "cell_type": "code",
   "execution_count": 1,
   "metadata": {
    "colab": {
     "base_uri": "https://localhost:8080/"
    },
    "executionInfo": {
     "elapsed": 3001,
     "status": "ok",
     "timestamp": 1619961324362,
     "user": {
      "displayName": "JILUNG",
      "photoUrl": "https://lh3.googleusercontent.com/a-/AOh14Gg6zj7prBu9I41dXrwQwaD6D0pMAipXePNpoU-MZ30=s64",
      "userId": "08765716966079614016"
     },
     "user_tz": -480
    },
    "id": "p8ghyeQ92t44",
    "outputId": "04554262-9177-450b-9220-228da3d585a4"
   },
   "outputs": [
    {
     "name": "stdout",
     "output_type": "stream",
     "text": [
      "--2021-05-02 13:15:22--  https://github.com/P4CSS/PSS/blob/master/data/yt-comment-antiELAB.xlsx?raw=true\n",
      "Resolving github.com (github.com)... 13.114.40.48\n",
      "Connecting to github.com (github.com)|13.114.40.48|:443... connected.\n",
      "HTTP request sent, awaiting response... 302 Found\n",
      "Location: https://github.com/P4CSS/PSS/raw/master/data/yt-comment-antiELAB.xlsx [following]\n",
      "--2021-05-02 13:15:22--  https://github.com/P4CSS/PSS/raw/master/data/yt-comment-antiELAB.xlsx\n",
      "Reusing existing connection to github.com:443.\n",
      "HTTP request sent, awaiting response... 302 Found\n",
      "Location: https://raw.githubusercontent.com/P4CSS/PSS/master/data/yt-comment-antiELAB.xlsx [following]\n",
      "--2021-05-02 13:15:23--  https://raw.githubusercontent.com/P4CSS/PSS/master/data/yt-comment-antiELAB.xlsx\n",
      "Resolving raw.githubusercontent.com (raw.githubusercontent.com)... 185.199.111.133, 185.199.109.133, 185.199.108.133, ...\n",
      "Connecting to raw.githubusercontent.com (raw.githubusercontent.com)|185.199.111.133|:443... connected.\n",
      "HTTP request sent, awaiting response... 200 OK\n",
      "Length: 644405 (629K) [application/octet-stream]\n",
      "Saving to: ‘antiELAB.xlsx’\n",
      "\n",
      "antiELAB.xlsx       100%[===================>] 629.30K  --.-KB/s    in 0.05s   \n",
      "\n",
      "2021-05-02 13:15:23 (11.3 MB/s) - ‘antiELAB.xlsx’ saved [644405/644405]\n",
      "\n",
      "antiELAB.xlsx  sample_data\n"
     ]
    }
   ],
   "source": [
    "!wget https://github.com/P4CSS/PSS/blob/master/data/yt-comment-antiELAB.xlsx?raw=true -O antiELAB.xlsx\n",
    "!ls"
   ]
  },
  {
   "cell_type": "code",
   "execution_count": 2,
   "metadata": {
    "colab": {
     "base_uri": "https://localhost:8080/",
     "height": 419
    },
    "executionInfo": {
     "elapsed": 4370,
     "status": "ok",
     "timestamp": 1619961325741,
     "user": {
      "displayName": "JILUNG",
      "photoUrl": "https://lh3.googleusercontent.com/a-/AOh14Gg6zj7prBu9I41dXrwQwaD6D0pMAipXePNpoU-MZ30=s64",
      "userId": "08765716966079614016"
     },
     "user_tz": -480
    },
    "id": "GvlbE2bW1wu4",
    "outputId": "12391799-fc3d-4354-d0ea-f1c1b4e83a4e"
   },
   "outputs": [
    {
     "data": {
      "text/html": [
       "<div>\n",
       "<style scoped>\n",
       "    .dataframe tbody tr th:only-of-type {\n",
       "        vertical-align: middle;\n",
       "    }\n",
       "\n",
       "    .dataframe tbody tr th {\n",
       "        vertical-align: top;\n",
       "    }\n",
       "\n",
       "    .dataframe thead th {\n",
       "        text-align: right;\n",
       "    }\n",
       "</style>\n",
       "<table border=\"1\" class=\"dataframe\">\n",
       "  <thead>\n",
       "    <tr style=\"text-align: right;\">\n",
       "      <th></th>\n",
       "      <th>videoId</th>\n",
       "      <th>commentId</th>\n",
       "      <th>parentId</th>\n",
       "      <th>authorDisplayName</th>\n",
       "      <th>textOriginal</th>\n",
       "      <th>likeCount</th>\n",
       "      <th>publishedAt</th>\n",
       "      <th>updatedAt</th>\n",
       "    </tr>\n",
       "  </thead>\n",
       "  <tbody>\n",
       "    <tr>\n",
       "      <th>0</th>\n",
       "      <td>2_tXjqhbe5E</td>\n",
       "      <td>UgwQIF9qNqGydjE2NkN4AaABAg</td>\n",
       "      <td>NaN</td>\n",
       "      <td>CHI-HAU CHEN</td>\n",
       "      <td>鄭大哥和吉雷米的互動很可愛，歡迎加入台灣這個溫馨的家庭喔~~~~</td>\n",
       "      <td>19</td>\n",
       "      <td>2020-04-02T01:40:29Z</td>\n",
       "      <td>2020-04-02T01:40:29Z</td>\n",
       "    </tr>\n",
       "    <tr>\n",
       "      <th>1</th>\n",
       "      <td>2_tXjqhbe5E</td>\n",
       "      <td>UgwuP0Jva-U69xTMaEF4AaABAg</td>\n",
       "      <td>NaN</td>\n",
       "      <td>Funky Duck</td>\n",
       "      <td>牛嘴掩.....\\n這高雄老外的台語能力應該比台北人好</td>\n",
       "      <td>1</td>\n",
       "      <td>2020-04-07T04:36:37Z</td>\n",
       "      <td>2020-04-07T04:36:37Z</td>\n",
       "    </tr>\n",
       "    <tr>\n",
       "      <th>2</th>\n",
       "      <td>2_tXjqhbe5E</td>\n",
       "      <td>UgyVlhx36V2XWLOM9MZ4AaABAg</td>\n",
       "      <td>NaN</td>\n",
       "      <td>Ally</td>\n",
       "      <td>Zoom把客戶資料洩給中國，現在紐約市已不讓學生用這系統視訊上課了!</td>\n",
       "      <td>0</td>\n",
       "      <td>2020-04-06T19:54:04Z</td>\n",
       "      <td>2020-04-06T19:54:04Z</td>\n",
       "    </tr>\n",
       "    <tr>\n",
       "      <th>3</th>\n",
       "      <td>2_tXjqhbe5E</td>\n",
       "      <td>Ugz4v7OudQxaDXYyegZ4AaABAg</td>\n",
       "      <td>NaN</td>\n",
       "      <td>Ally</td>\n",
       "      <td>法國人執行居家避疫比起美國比較確實，外出還要有通行證</td>\n",
       "      <td>0</td>\n",
       "      <td>2020-04-06T19:18:24Z</td>\n",
       "      <td>2020-04-06T19:18:24Z</td>\n",
       "    </tr>\n",
       "    <tr>\n",
       "      <th>4</th>\n",
       "      <td>2_tXjqhbe5E</td>\n",
       "      <td>Ugyb-ogACbZWVewnU-94AaABAg</td>\n",
       "      <td>NaN</td>\n",
       "      <td>Kitty Wong</td>\n",
       "      <td>仆街鄭</td>\n",
       "      <td>0</td>\n",
       "      <td>2020-04-06T15:20:34Z</td>\n",
       "      <td>2020-04-06T15:20:34Z</td>\n",
       "    </tr>\n",
       "    <tr>\n",
       "      <th>...</th>\n",
       "      <td>...</td>\n",
       "      <td>...</td>\n",
       "      <td>...</td>\n",
       "      <td>...</td>\n",
       "      <td>...</td>\n",
       "      <td>...</td>\n",
       "      <td>...</td>\n",
       "      <td>...</td>\n",
       "    </tr>\n",
       "    <tr>\n",
       "      <th>7995</th>\n",
       "      <td>ySMAcMAL6rY</td>\n",
       "      <td>UgzU9oD5I6q1qHLzx_B4AaABAg</td>\n",
       "      <td>NaN</td>\n",
       "      <td>nova lee</td>\n",
       "      <td>自己不是會算嗎</td>\n",
       "      <td>1</td>\n",
       "      <td>2019-08-22T04:00:31Z</td>\n",
       "      <td>2019-08-22T04:00:31Z</td>\n",
       "    </tr>\n",
       "    <tr>\n",
       "      <th>7996</th>\n",
       "      <td>zHlhQoT9OF0</td>\n",
       "      <td>Ugz2ff-Be0yCoEUY-Rd4AaABAg</td>\n",
       "      <td>NaN</td>\n",
       "      <td>the world Rock</td>\n",
       "      <td>常德說的真好</td>\n",
       "      <td>3</td>\n",
       "      <td>2020-04-10T03:21:34Z</td>\n",
       "      <td>2020-04-10T03:21:34Z</td>\n",
       "    </tr>\n",
       "    <tr>\n",
       "      <th>7997</th>\n",
       "      <td>zQWzh4yj_g8</td>\n",
       "      <td>Ugwex9I2lZWa-DgeWrx4AaABAg</td>\n",
       "      <td>NaN</td>\n",
       "      <td>Zoe Su</td>\n",
       "      <td>自私的人多的是，水準就和中國人一樣</td>\n",
       "      <td>1</td>\n",
       "      <td>2020-02-12T22:13:24Z</td>\n",
       "      <td>2020-02-12T22:13:24Z</td>\n",
       "    </tr>\n",
       "    <tr>\n",
       "      <th>7998</th>\n",
       "      <td>zQWzh4yj_g8</td>\n",
       "      <td>UgxpokMr9hHK0Ugcvl94AaABAg</td>\n",
       "      <td>NaN</td>\n",
       "      <td>非也非也</td>\n",
       "      <td>人都自私自利的，適者生存，不適者自己想辦法，沒有人會幫的，靠自己最實在</td>\n",
       "      <td>0</td>\n",
       "      <td>2020-02-12T04:53:28Z</td>\n",
       "      <td>2020-02-12T04:53:28Z</td>\n",
       "    </tr>\n",
       "    <tr>\n",
       "      <th>7999</th>\n",
       "      <td>zQWzh4yj_g8</td>\n",
       "      <td>Ugwhiijo6yStMhOZqVB4AaABAg</td>\n",
       "      <td>NaN</td>\n",
       "      <td>你们是愚民</td>\n",
       "      <td>鑽石公主號我們的同胞22人以及留在大陸我們的同胞救回來了沒有，菜英文民進黨更無情，更自私吧！...</td>\n",
       "      <td>0</td>\n",
       "      <td>2020-02-12T04:25:58Z</td>\n",
       "      <td>2020-02-12T04:25:58Z</td>\n",
       "    </tr>\n",
       "  </tbody>\n",
       "</table>\n",
       "<p>8000 rows × 8 columns</p>\n",
       "</div>"
      ],
      "text/plain": [
       "          videoId  ...             updatedAt\n",
       "0     2_tXjqhbe5E  ...  2020-04-02T01:40:29Z\n",
       "1     2_tXjqhbe5E  ...  2020-04-07T04:36:37Z\n",
       "2     2_tXjqhbe5E  ...  2020-04-06T19:54:04Z\n",
       "3     2_tXjqhbe5E  ...  2020-04-06T19:18:24Z\n",
       "4     2_tXjqhbe5E  ...  2020-04-06T15:20:34Z\n",
       "...           ...  ...                   ...\n",
       "7995  ySMAcMAL6rY  ...  2019-08-22T04:00:31Z\n",
       "7996  zHlhQoT9OF0  ...  2020-04-10T03:21:34Z\n",
       "7997  zQWzh4yj_g8  ...  2020-02-12T22:13:24Z\n",
       "7998  zQWzh4yj_g8  ...  2020-02-12T04:53:28Z\n",
       "7999  zQWzh4yj_g8  ...  2020-02-12T04:25:58Z\n",
       "\n",
       "[8000 rows x 8 columns]"
      ]
     },
     "execution_count": 2,
     "metadata": {
      "tags": []
     },
     "output_type": "execute_result"
    }
   ],
   "source": [
    "import pandas as pd\n",
    "df = pd.read_excel('antiELAB.xlsx') \n",
    "df"
   ]
  },
  {
   "cell_type": "markdown",
   "metadata": {
    "id": "tpspxKYxmwdM"
   },
   "source": [
    "## (Optional) YT02 Subsetting\n",
    "每一則Comments都屬於某一個video，在這邊只需要做Comments數為Top 3的video就好。請從原本的df中篩選出Top3 videos的留言。"
   ]
  },
  {
   "cell_type": "markdown",
   "metadata": {
    "id": "dGoYYQevn92_"
   },
   "source": [
    "### YT02.1 Count and create topVideo list\n",
    "Generate a list, named `topVideos` to contain top video ID(s)"
   ]
  },
  {
   "cell_type": "code",
   "execution_count": 3,
   "metadata": {
    "colab": {
     "base_uri": "https://localhost:8080/"
    },
    "executionInfo": {
     "elapsed": 4362,
     "status": "ok",
     "timestamp": 1619961325742,
     "user": {
      "displayName": "JILUNG",
      "photoUrl": "https://lh3.googleusercontent.com/a-/AOh14Gg6zj7prBu9I41dXrwQwaD6D0pMAipXePNpoU-MZ30=s64",
      "userId": "08765716966079614016"
     },
     "user_tz": -480
    },
    "id": "8EXrK7DEii7N",
    "outputId": "8cf8b808-072f-4789-f0be-4c2fa602c211"
   },
   "outputs": [
    {
     "data": {
      "text/plain": [
       "['Kd5m9ZWwlwU', 'l1P919VG8_M', 'u4fxN9bMTKA']"
      ]
     },
     "execution_count": 3,
     "metadata": {
      "tags": []
     },
     "output_type": "execute_result"
    }
   ],
   "source": [
    "from collections import Counter\n",
    "df.columns\n",
    "topVideos = [a for a, b in Counter(df[\"videoId\"]).most_common()[:3]]\n",
    "\n",
    "# top 3 as an example\n",
    "topVideos"
   ]
  },
  {
   "cell_type": "markdown",
   "metadata": {
    "id": "bY4Beut7n35e"
   },
   "source": [
    "### YT02.2 Filter comments corresponding to topVideos"
   ]
  },
  {
   "cell_type": "code",
   "execution_count": 4,
   "metadata": {
    "colab": {
     "base_uri": "https://localhost:8080/"
    },
    "executionInfo": {
     "elapsed": 4356,
     "status": "ok",
     "timestamp": 1619961325742,
     "user": {
      "displayName": "JILUNG",
      "photoUrl": "https://lh3.googleusercontent.com/a-/AOh14Gg6zj7prBu9I41dXrwQwaD6D0pMAipXePNpoU-MZ30=s64",
      "userId": "08765716966079614016"
     },
     "user_tz": -480
    },
    "id": "f9QfNuUokiLq",
    "outputId": "45eb93ef-1d83-40d7-f59d-f257f99dd8e1"
   },
   "outputs": [
    {
     "data": {
      "text/plain": [
       "(3758, 8)"
      ]
     },
     "execution_count": 4,
     "metadata": {
      "tags": []
     },
     "output_type": "execute_result"
    }
   ],
   "source": [
    "df1 = df.loc[df['videoId'].isin(topVideos)]\n",
    "\n",
    "# print out the df shape for verification\n",
    "df1.shape"
   ]
  },
  {
   "cell_type": "markdown",
   "metadata": {
    "id": "MiXixwLZosQa"
   },
   "source": [
    "## YT03 Tokenization by jeiba\n",
    "Generate a new column \"tokenized\" to the df"
   ]
  },
  {
   "cell_type": "code",
   "execution_count": 5,
   "metadata": {
    "colab": {
     "base_uri": "https://localhost:8080/"
    },
    "executionInfo": {
     "elapsed": 9326,
     "status": "ok",
     "timestamp": 1619961330719,
     "user": {
      "displayName": "JILUNG",
      "photoUrl": "https://lh3.googleusercontent.com/a-/AOh14Gg6zj7prBu9I41dXrwQwaD6D0pMAipXePNpoU-MZ30=s64",
      "userId": "08765716966079614016"
     },
     "user_tz": -480
    },
    "id": "25P_ToymCk0G",
    "outputId": "f5a50aea-b000-442a-cf2e-ea31cde9a4d7"
   },
   "outputs": [
    {
     "name": "stdout",
     "output_type": "stream",
     "text": [
      "Collecting hanziconv\n",
      "\u001b[?25l  Downloading https://files.pythonhosted.org/packages/63/71/b89cb63077fd807fe31cf7c016a06e7e579a289d8a37aa24a30282d02dd2/hanziconv-0.3.2.tar.gz (276kB)\n",
      "\u001b[K     |████████████████████████████████| 286kB 5.5MB/s eta 0:00:01\n",
      "\u001b[?25hBuilding wheels for collected packages: hanziconv\n",
      "  Building wheel for hanziconv (setup.py) ... \u001b[?25l\u001b[?25hdone\n",
      "  Created wheel for hanziconv: filename=hanziconv-0.3.2-py2.py3-none-any.whl size=23215 sha256=99d3e237ea40904eb5eabd5fb230e5483108254095bdb4be5d1c03e82c45f8c0\n",
      "  Stored in directory: /root/.cache/pip/wheels/03/d8/3c/c39898fa9c9ce6e34b0ab4c6604892462d440c743715c94054\n",
      "Successfully built hanziconv\n",
      "Installing collected packages: hanziconv\n",
      "Successfully installed hanziconv-0.3.2\n"
     ]
    }
   ],
   "source": [
    "!pip install hanziconv\n",
    "from hanziconv import HanziConv"
   ]
  },
  {
   "cell_type": "code",
   "execution_count": 6,
   "metadata": {
    "colab": {
     "base_uri": "https://localhost:8080/",
     "height": 657
    },
    "executionInfo": {
     "elapsed": 5028,
     "status": "ok",
     "timestamp": 1619961341385,
     "user": {
      "displayName": "JILUNG",
      "photoUrl": "https://lh3.googleusercontent.com/a-/AOh14Gg6zj7prBu9I41dXrwQwaD6D0pMAipXePNpoU-MZ30=s64",
      "userId": "08765716966079614016"
     },
     "user_tz": -480
    },
    "id": "ylXbkG32GZoW",
    "outputId": "b0a454ac-ccd8-44f2-aae0-1f9d7f832d4a"
   },
   "outputs": [
    {
     "name": "stderr",
     "output_type": "stream",
     "text": [
      "Building prefix dict from the default dictionary ...\n",
      "Dumping model to file cache /tmp/jieba.cache\n",
      "Loading model cost 1.037 seconds.\n",
      "Prefix dict has been built successfully.\n"
     ]
    },
    {
     "data": {
      "text/html": [
       "<div>\n",
       "<style scoped>\n",
       "    .dataframe tbody tr th:only-of-type {\n",
       "        vertical-align: middle;\n",
       "    }\n",
       "\n",
       "    .dataframe tbody tr th {\n",
       "        vertical-align: top;\n",
       "    }\n",
       "\n",
       "    .dataframe thead th {\n",
       "        text-align: right;\n",
       "    }\n",
       "</style>\n",
       "<table border=\"1\" class=\"dataframe\">\n",
       "  <thead>\n",
       "    <tr style=\"text-align: right;\">\n",
       "      <th></th>\n",
       "      <th>videoId</th>\n",
       "      <th>commentId</th>\n",
       "      <th>parentId</th>\n",
       "      <th>authorDisplayName</th>\n",
       "      <th>textOriginal</th>\n",
       "      <th>likeCount</th>\n",
       "      <th>publishedAt</th>\n",
       "      <th>updatedAt</th>\n",
       "      <th>tokenized</th>\n",
       "    </tr>\n",
       "  </thead>\n",
       "  <tbody>\n",
       "    <tr>\n",
       "      <th>0</th>\n",
       "      <td>2_tXjqhbe5E</td>\n",
       "      <td>UgwQIF9qNqGydjE2NkN4AaABAg</td>\n",
       "      <td>NaN</td>\n",
       "      <td>CHI-HAU CHEN</td>\n",
       "      <td>鄭大哥和吉雷米的互動很可愛，歡迎加入台灣這個溫馨的家庭喔~~~~</td>\n",
       "      <td>19</td>\n",
       "      <td>2020-04-02T01:40:29Z</td>\n",
       "      <td>2020-04-02T01:40:29Z</td>\n",
       "      <td>[郑, 大哥, 和, 吉雷米, 的, 互动, 很, 可爱, ，, 欢迎, 加入, 台湾, 这...</td>\n",
       "    </tr>\n",
       "    <tr>\n",
       "      <th>1</th>\n",
       "      <td>2_tXjqhbe5E</td>\n",
       "      <td>UgwuP0Jva-U69xTMaEF4AaABAg</td>\n",
       "      <td>NaN</td>\n",
       "      <td>Funky Duck</td>\n",
       "      <td>牛嘴掩.....\\n這高雄老外的台語能力應該比台北人好</td>\n",
       "      <td>1</td>\n",
       "      <td>2020-04-07T04:36:37Z</td>\n",
       "      <td>2020-04-07T04:36:37Z</td>\n",
       "      <td>[牛嘴, 掩, ....., \\n, 这高雄, 老外, 的, 台语, 能力, 应该, 比, ...</td>\n",
       "    </tr>\n",
       "    <tr>\n",
       "      <th>2</th>\n",
       "      <td>2_tXjqhbe5E</td>\n",
       "      <td>UgyVlhx36V2XWLOM9MZ4AaABAg</td>\n",
       "      <td>NaN</td>\n",
       "      <td>Ally</td>\n",
       "      <td>Zoom把客戶資料洩給中國，現在紐約市已不讓學生用這系統視訊上課了!</td>\n",
       "      <td>0</td>\n",
       "      <td>2020-04-06T19:54:04Z</td>\n",
       "      <td>2020-04-06T19:54:04Z</td>\n",
       "      <td>[Zoom, 把, 客户资料, 洩, 给, 中国, ，, 现在, 纽约市, 已, 不让, 学...</td>\n",
       "    </tr>\n",
       "    <tr>\n",
       "      <th>3</th>\n",
       "      <td>2_tXjqhbe5E</td>\n",
       "      <td>Ugz4v7OudQxaDXYyegZ4AaABAg</td>\n",
       "      <td>NaN</td>\n",
       "      <td>Ally</td>\n",
       "      <td>法國人執行居家避疫比起美國比較確實，外出還要有通行證</td>\n",
       "      <td>0</td>\n",
       "      <td>2020-04-06T19:18:24Z</td>\n",
       "      <td>2020-04-06T19:18:24Z</td>\n",
       "      <td>[法国人, 执行, 居家, 避疫, 比起, 美国, 比较, 确实, ，, 外出, 还要, 有...</td>\n",
       "    </tr>\n",
       "    <tr>\n",
       "      <th>4</th>\n",
       "      <td>2_tXjqhbe5E</td>\n",
       "      <td>Ugyb-ogACbZWVewnU-94AaABAg</td>\n",
       "      <td>NaN</td>\n",
       "      <td>Kitty Wong</td>\n",
       "      <td>仆街鄭</td>\n",
       "      <td>0</td>\n",
       "      <td>2020-04-06T15:20:34Z</td>\n",
       "      <td>2020-04-06T15:20:34Z</td>\n",
       "      <td>[仆街, 郑]</td>\n",
       "    </tr>\n",
       "    <tr>\n",
       "      <th>...</th>\n",
       "      <td>...</td>\n",
       "      <td>...</td>\n",
       "      <td>...</td>\n",
       "      <td>...</td>\n",
       "      <td>...</td>\n",
       "      <td>...</td>\n",
       "      <td>...</td>\n",
       "      <td>...</td>\n",
       "      <td>...</td>\n",
       "    </tr>\n",
       "    <tr>\n",
       "      <th>7995</th>\n",
       "      <td>ySMAcMAL6rY</td>\n",
       "      <td>UgzU9oD5I6q1qHLzx_B4AaABAg</td>\n",
       "      <td>NaN</td>\n",
       "      <td>nova lee</td>\n",
       "      <td>自己不是會算嗎</td>\n",
       "      <td>1</td>\n",
       "      <td>2019-08-22T04:00:31Z</td>\n",
       "      <td>2019-08-22T04:00:31Z</td>\n",
       "      <td>[自己, 不是, 会算, 吗]</td>\n",
       "    </tr>\n",
       "    <tr>\n",
       "      <th>7996</th>\n",
       "      <td>zHlhQoT9OF0</td>\n",
       "      <td>Ugz2ff-Be0yCoEUY-Rd4AaABAg</td>\n",
       "      <td>NaN</td>\n",
       "      <td>the world Rock</td>\n",
       "      <td>常德說的真好</td>\n",
       "      <td>3</td>\n",
       "      <td>2020-04-10T03:21:34Z</td>\n",
       "      <td>2020-04-10T03:21:34Z</td>\n",
       "      <td>[常德, 说, 的, 真, 好]</td>\n",
       "    </tr>\n",
       "    <tr>\n",
       "      <th>7997</th>\n",
       "      <td>zQWzh4yj_g8</td>\n",
       "      <td>Ugwex9I2lZWa-DgeWrx4AaABAg</td>\n",
       "      <td>NaN</td>\n",
       "      <td>Zoe Su</td>\n",
       "      <td>自私的人多的是，水準就和中國人一樣</td>\n",
       "      <td>1</td>\n",
       "      <td>2020-02-12T22:13:24Z</td>\n",
       "      <td>2020-02-12T22:13:24Z</td>\n",
       "      <td>[自私, 的, 人, 多, 的, 是, ，, 水准, 就, 和, 中国, 人, 一样]</td>\n",
       "    </tr>\n",
       "    <tr>\n",
       "      <th>7998</th>\n",
       "      <td>zQWzh4yj_g8</td>\n",
       "      <td>UgxpokMr9hHK0Ugcvl94AaABAg</td>\n",
       "      <td>NaN</td>\n",
       "      <td>非也非也</td>\n",
       "      <td>人都自私自利的，適者生存，不適者自己想辦法，沒有人會幫的，靠自己最實在</td>\n",
       "      <td>0</td>\n",
       "      <td>2020-02-12T04:53:28Z</td>\n",
       "      <td>2020-02-12T04:53:28Z</td>\n",
       "      <td>[人, 都, 自私自利, 的, ，, 适者生存, ，, 不适, 者, 自己, 想, 办法, ...</td>\n",
       "    </tr>\n",
       "    <tr>\n",
       "      <th>7999</th>\n",
       "      <td>zQWzh4yj_g8</td>\n",
       "      <td>Ugwhiijo6yStMhOZqVB4AaABAg</td>\n",
       "      <td>NaN</td>\n",
       "      <td>你们是愚民</td>\n",
       "      <td>鑽石公主號我們的同胞22人以及留在大陸我們的同胞救回來了沒有，菜英文民進黨更無情，更自私吧！...</td>\n",
       "      <td>0</td>\n",
       "      <td>2020-02-12T04:25:58Z</td>\n",
       "      <td>2020-02-12T04:25:58Z</td>\n",
       "      <td>[钻石, 公主, 号, 我们, 的, 同胞, 22, 人, 以及, 留在, 大陆, 我们, ...</td>\n",
       "    </tr>\n",
       "  </tbody>\n",
       "</table>\n",
       "<p>8000 rows × 9 columns</p>\n",
       "</div>"
      ],
      "text/plain": [
       "          videoId  ...                                          tokenized\n",
       "0     2_tXjqhbe5E  ...  [郑, 大哥, 和, 吉雷米, 的, 互动, 很, 可爱, ，, 欢迎, 加入, 台湾, 这...\n",
       "1     2_tXjqhbe5E  ...  [牛嘴, 掩, ....., \\n, 这高雄, 老外, 的, 台语, 能力, 应该, 比, ...\n",
       "2     2_tXjqhbe5E  ...  [Zoom, 把, 客户资料, 洩, 给, 中国, ，, 现在, 纽约市, 已, 不让, 学...\n",
       "3     2_tXjqhbe5E  ...  [法国人, 执行, 居家, 避疫, 比起, 美国, 比较, 确实, ，, 外出, 还要, 有...\n",
       "4     2_tXjqhbe5E  ...                                            [仆街, 郑]\n",
       "...           ...  ...                                                ...\n",
       "7995  ySMAcMAL6rY  ...                                    [自己, 不是, 会算, 吗]\n",
       "7996  zHlhQoT9OF0  ...                                   [常德, 说, 的, 真, 好]\n",
       "7997  zQWzh4yj_g8  ...        [自私, 的, 人, 多, 的, 是, ，, 水准, 就, 和, 中国, 人, 一样]\n",
       "7998  zQWzh4yj_g8  ...  [人, 都, 自私自利, 的, ，, 适者生存, ，, 不适, 者, 自己, 想, 办法, ...\n",
       "7999  zQWzh4yj_g8  ...  [钻石, 公主, 号, 我们, 的, 同胞, 22, 人, 以及, 留在, 大陆, 我们, ...\n",
       "\n",
       "[8000 rows x 9 columns]"
      ]
     },
     "execution_count": 6,
     "metadata": {
      "tags": []
     },
     "output_type": "execute_result"
    }
   ],
   "source": [
    "import jieba\n",
    "# YOUR CODE SHOULD BE HERE\n",
    "\n",
    "df"
   ]
  },
  {
   "cell_type": "markdown",
   "metadata": {
    "id": "8u7Eafe4pCaz"
   },
   "source": [
    "## (Optional) YT04 Cleaning text by replacement\n",
    "Using `.str.replace()` to clean message content\n"
   ]
  },
  {
   "cell_type": "code",
   "execution_count": null,
   "metadata": {
    "colab": {
     "base_uri": "https://localhost:8080/",
     "height": 589
    },
    "executionInfo": {
     "elapsed": 938,
     "status": "ok",
     "timestamp": 1619958380879,
     "user": {
      "displayName": "JILUNG",
      "photoUrl": "https://lh3.googleusercontent.com/a-/AOh14Gg6zj7prBu9I41dXrwQwaD6D0pMAipXePNpoU-MZ30=s64",
      "userId": "08765716966079614016"
     },
     "user_tz": -480
    },
    "id": "7NKvE5035NW8",
    "outputId": "44e7c58d-b5ad-4acc-cdd7-bd5df5fb6163"
   },
   "outputs": [
    {
     "data": {
      "text/html": [
       "<div>\n",
       "<style scoped>\n",
       "    .dataframe tbody tr th:only-of-type {\n",
       "        vertical-align: middle;\n",
       "    }\n",
       "\n",
       "    .dataframe tbody tr th {\n",
       "        vertical-align: top;\n",
       "    }\n",
       "\n",
       "    .dataframe thead th {\n",
       "        text-align: right;\n",
       "    }\n",
       "</style>\n",
       "<table border=\"1\" class=\"dataframe\">\n",
       "  <thead>\n",
       "    <tr style=\"text-align: right;\">\n",
       "      <th></th>\n",
       "      <th>videoId</th>\n",
       "      <th>commentId</th>\n",
       "      <th>parentId</th>\n",
       "      <th>authorDisplayName</th>\n",
       "      <th>textOriginal</th>\n",
       "      <th>likeCount</th>\n",
       "      <th>publishedAt</th>\n",
       "      <th>updatedAt</th>\n",
       "      <th>tokenized</th>\n",
       "    </tr>\n",
       "  </thead>\n",
       "  <tbody>\n",
       "    <tr>\n",
       "      <th>0</th>\n",
       "      <td>2_tXjqhbe5E</td>\n",
       "      <td>UgwQIF9qNqGydjE2NkN4AaABAg</td>\n",
       "      <td>NaN</td>\n",
       "      <td>CHI-HAU CHEN</td>\n",
       "      <td>鄭大哥和吉雷米的互動很可愛，歡迎加入台灣這個溫馨的家庭喔~~~~</td>\n",
       "      <td>19</td>\n",
       "      <td>2020-04-02T01:40:29Z</td>\n",
       "      <td>2020-04-02T01:40:29Z</td>\n",
       "      <td>[郑, 大哥, 和, 吉雷米, 的, 互动, 很, 可爱, ，, 欢迎, 加入, 台湾, 这...</td>\n",
       "    </tr>\n",
       "    <tr>\n",
       "      <th>1</th>\n",
       "      <td>2_tXjqhbe5E</td>\n",
       "      <td>UgwuP0Jva-U69xTMaEF4AaABAg</td>\n",
       "      <td>NaN</td>\n",
       "      <td>Funky Duck</td>\n",
       "      <td>牛嘴掩.....這高雄老外的台語能力應該比台北人好</td>\n",
       "      <td>1</td>\n",
       "      <td>2020-04-07T04:36:37Z</td>\n",
       "      <td>2020-04-07T04:36:37Z</td>\n",
       "      <td>[牛嘴, 掩, ....., 这高雄, 老外, 的, 台语, 能力, 应该, 比, 台北人, 好]</td>\n",
       "    </tr>\n",
       "    <tr>\n",
       "      <th>2</th>\n",
       "      <td>2_tXjqhbe5E</td>\n",
       "      <td>UgyVlhx36V2XWLOM9MZ4AaABAg</td>\n",
       "      <td>NaN</td>\n",
       "      <td>Ally</td>\n",
       "      <td>Zoom把客戶資料洩給中國，現在紐約市已不讓學生用這系統視訊上課了!</td>\n",
       "      <td>0</td>\n",
       "      <td>2020-04-06T19:54:04Z</td>\n",
       "      <td>2020-04-06T19:54:04Z</td>\n",
       "      <td>[Zoom, 把, 客户资料, 洩, 给, 中国, ，, 现在, 纽约市, 已, 不让, 学...</td>\n",
       "    </tr>\n",
       "    <tr>\n",
       "      <th>3</th>\n",
       "      <td>2_tXjqhbe5E</td>\n",
       "      <td>Ugz4v7OudQxaDXYyegZ4AaABAg</td>\n",
       "      <td>NaN</td>\n",
       "      <td>Ally</td>\n",
       "      <td>法國人執行居家避疫比起美國比較確實，外出還要有通行證</td>\n",
       "      <td>0</td>\n",
       "      <td>2020-04-06T19:18:24Z</td>\n",
       "      <td>2020-04-06T19:18:24Z</td>\n",
       "      <td>[法国人, 执行, 居家, 避疫, 比起, 美国, 比较, 确实, ，, 外出, 还要, 有...</td>\n",
       "    </tr>\n",
       "    <tr>\n",
       "      <th>4</th>\n",
       "      <td>2_tXjqhbe5E</td>\n",
       "      <td>Ugyb-ogACbZWVewnU-94AaABAg</td>\n",
       "      <td>NaN</td>\n",
       "      <td>Kitty Wong</td>\n",
       "      <td>仆街鄭</td>\n",
       "      <td>0</td>\n",
       "      <td>2020-04-06T15:20:34Z</td>\n",
       "      <td>2020-04-06T15:20:34Z</td>\n",
       "      <td>[仆街, 郑]</td>\n",
       "    </tr>\n",
       "    <tr>\n",
       "      <th>...</th>\n",
       "      <td>...</td>\n",
       "      <td>...</td>\n",
       "      <td>...</td>\n",
       "      <td>...</td>\n",
       "      <td>...</td>\n",
       "      <td>...</td>\n",
       "      <td>...</td>\n",
       "      <td>...</td>\n",
       "      <td>...</td>\n",
       "    </tr>\n",
       "    <tr>\n",
       "      <th>7995</th>\n",
       "      <td>ySMAcMAL6rY</td>\n",
       "      <td>UgzU9oD5I6q1qHLzx_B4AaABAg</td>\n",
       "      <td>NaN</td>\n",
       "      <td>nova lee</td>\n",
       "      <td>自己不是會算嗎</td>\n",
       "      <td>1</td>\n",
       "      <td>2019-08-22T04:00:31Z</td>\n",
       "      <td>2019-08-22T04:00:31Z</td>\n",
       "      <td>[自己, 不是, 会算, 吗]</td>\n",
       "    </tr>\n",
       "    <tr>\n",
       "      <th>7996</th>\n",
       "      <td>zHlhQoT9OF0</td>\n",
       "      <td>Ugz2ff-Be0yCoEUY-Rd4AaABAg</td>\n",
       "      <td>NaN</td>\n",
       "      <td>the world Rock</td>\n",
       "      <td>常德說的真好</td>\n",
       "      <td>3</td>\n",
       "      <td>2020-04-10T03:21:34Z</td>\n",
       "      <td>2020-04-10T03:21:34Z</td>\n",
       "      <td>[常德, 说, 的, 真, 好]</td>\n",
       "    </tr>\n",
       "    <tr>\n",
       "      <th>7997</th>\n",
       "      <td>zQWzh4yj_g8</td>\n",
       "      <td>Ugwex9I2lZWa-DgeWrx4AaABAg</td>\n",
       "      <td>NaN</td>\n",
       "      <td>Zoe Su</td>\n",
       "      <td>自私的人多的是，水準就和中國人一樣</td>\n",
       "      <td>1</td>\n",
       "      <td>2020-02-12T22:13:24Z</td>\n",
       "      <td>2020-02-12T22:13:24Z</td>\n",
       "      <td>[自私, 的, 人, 多, 的, 是, ，, 水准, 就, 和, 中国, 人, 一样]</td>\n",
       "    </tr>\n",
       "    <tr>\n",
       "      <th>7998</th>\n",
       "      <td>zQWzh4yj_g8</td>\n",
       "      <td>UgxpokMr9hHK0Ugcvl94AaABAg</td>\n",
       "      <td>NaN</td>\n",
       "      <td>非也非也</td>\n",
       "      <td>人都自私自利的，適者生存，不適者自己想辦法，沒有人會幫的，靠自己最實在</td>\n",
       "      <td>0</td>\n",
       "      <td>2020-02-12T04:53:28Z</td>\n",
       "      <td>2020-02-12T04:53:28Z</td>\n",
       "      <td>[人, 都, 自私自利, 的, ，, 适者生存, ，, 不适, 者, 自己, 想, 办法, ...</td>\n",
       "    </tr>\n",
       "    <tr>\n",
       "      <th>7999</th>\n",
       "      <td>zQWzh4yj_g8</td>\n",
       "      <td>Ugwhiijo6yStMhOZqVB4AaABAg</td>\n",
       "      <td>NaN</td>\n",
       "      <td>你们是愚民</td>\n",
       "      <td>鑽石公主號我們的同胞22人以及留在大陸我們的同胞救回來了沒有，菜英文民進黨更無情，更自私吧！...</td>\n",
       "      <td>0</td>\n",
       "      <td>2020-02-12T04:25:58Z</td>\n",
       "      <td>2020-02-12T04:25:58Z</td>\n",
       "      <td>[钻石, 公主, 号, 我们, 的, 同胞, 22, 人, 以及, 留在, 大陆, 我们, ...</td>\n",
       "    </tr>\n",
       "  </tbody>\n",
       "</table>\n",
       "<p>8000 rows × 9 columns</p>\n",
       "</div>"
      ],
      "text/plain": [
       "          videoId  ...                                          tokenized\n",
       "0     2_tXjqhbe5E  ...  [郑, 大哥, 和, 吉雷米, 的, 互动, 很, 可爱, ，, 欢迎, 加入, 台湾, 这...\n",
       "1     2_tXjqhbe5E  ...  [牛嘴, 掩, ....., 这高雄, 老外, 的, 台语, 能力, 应该, 比, 台北人, 好]\n",
       "2     2_tXjqhbe5E  ...  [Zoom, 把, 客户资料, 洩, 给, 中国, ，, 现在, 纽约市, 已, 不让, 学...\n",
       "3     2_tXjqhbe5E  ...  [法国人, 执行, 居家, 避疫, 比起, 美国, 比较, 确实, ，, 外出, 还要, 有...\n",
       "4     2_tXjqhbe5E  ...                                            [仆街, 郑]\n",
       "...           ...  ...                                                ...\n",
       "7995  ySMAcMAL6rY  ...                                    [自己, 不是, 会算, 吗]\n",
       "7996  zHlhQoT9OF0  ...                                   [常德, 说, 的, 真, 好]\n",
       "7997  zQWzh4yj_g8  ...        [自私, 的, 人, 多, 的, 是, ，, 水准, 就, 和, 中国, 人, 一样]\n",
       "7998  zQWzh4yj_g8  ...  [人, 都, 自私自利, 的, ，, 适者生存, ，, 不适, 者, 自己, 想, 办法, ...\n",
       "7999  zQWzh4yj_g8  ...  [钻石, 公主, 号, 我们, 的, 同胞, 22, 人, 以及, 留在, 大陆, 我们, ...\n",
       "\n",
       "[8000 rows x 9 columns]"
      ]
     },
     "execution_count": 30,
     "metadata": {
      "tags": []
     },
     "output_type": "execute_result"
    }
   ],
   "source": [
    "import re\n",
    "df['textOriginal'] = df.textOriginal.str.replace(r'\\n', \"\").str.replace(r'(www|http:|https:)+[^\\s]+[\\w]', '')\n",
    "df"
   ]
  },
  {
   "cell_type": "markdown",
   "metadata": {
    "id": "3pAQ37Gxpk51"
   },
   "source": [
    "## YT05 Calculating the most common word (top 30 and their term frequencies)"
   ]
  },
  {
   "cell_type": "code",
   "execution_count": null,
   "metadata": {
    "colab": {
     "base_uri": "https://localhost:8080/"
    },
    "executionInfo": {
     "elapsed": 991,
     "status": "ok",
     "timestamp": 1619958982015,
     "user": {
      "displayName": "JILUNG",
      "photoUrl": "https://lh3.googleusercontent.com/a-/AOh14Gg6zj7prBu9I41dXrwQwaD6D0pMAipXePNpoU-MZ30=s64",
      "userId": "08765716966079614016"
     },
     "user_tz": -480
    },
    "id": "OrSYaLMJtK5N",
    "outputId": "8a249fb6-ab9a-4963-808e-a3bcd9652794"
   },
   "outputs": [
    {
     "data": {
      "text/plain": [
       "[('，', 11819),\n",
       " (' ', 10596),\n",
       " ('的', 8794),\n",
       " ('。', 4380),\n",
       " ('是', 3688),\n",
       " ('瞭', 2701),\n",
       " ('你', 2480),\n",
       " ('！', 2374),\n",
       " ('？', 2290),\n",
       " ('人', 2069),\n",
       " ('都', 1887),\n",
       " ('香港', 1829),\n",
       " ('有', 1734),\n",
       " ('我', 1648),\n",
       " ('不', 1609),\n",
       " ('在', 1569),\n",
       " ('也', 1477),\n",
       " ('就', 1397),\n",
       " ('颱灣', 1298),\n",
       " ('自己', 1064),\n",
       " ('要', 1047),\n",
       " ('嗎', 1033),\n",
       " ('說', 1017),\n",
       " (',', 978),\n",
       " ('很', 862),\n",
       " ('好', 780),\n",
       " ('!', 753),\n",
       " ('會', 753),\n",
       " ('@', 750),\n",
       " ('中國', 730)]"
      ]
     },
     "execution_count": 32,
     "metadata": {
      "tags": []
     },
     "output_type": "execute_result"
    }
   ],
   "source": [
    "# YOUR CODE SHOULD BE HERE\n",
    "# You can change the variable name \n",
    "\n",
    "\n",
    "\n",
    "\n",
    "\n",
    "tf.most_common(30)"
   ]
  },
  {
   "cell_type": "markdown",
   "metadata": {
    "id": "_bcXhHF-qYn1"
   },
   "source": [
    "## YT06 Filter words\n",
    "本練習的目標在於獲得這些Comments的重要關鍵字，所以請濾除不必要的文字，包含\n",
    "1. 疑問詞\n",
    "2. 標點符號\n",
    "3. 空白\n",
    "4. 單詞（長度為1的字詞）\n",
    "去除標點符號的方法可參見https://www.twblogs.net/a/5b8e6cc92b71771883451226"
   ]
  },
  {
   "cell_type": "code",
   "execution_count": null,
   "metadata": {
    "colab": {
     "base_uri": "https://localhost:8080/"
    },
    "executionInfo": {
     "elapsed": 2834,
     "status": "ok",
     "timestamp": 1619958990924,
     "user": {
      "displayName": "JILUNG",
      "photoUrl": "https://lh3.googleusercontent.com/a-/AOh14Gg6zj7prBu9I41dXrwQwaD6D0pMAipXePNpoU-MZ30=s64",
      "userId": "08765716966079614016"
     },
     "user_tz": -480
    },
    "id": "a-tL4ndDuQJ4",
    "outputId": "8f2d12f4-afd9-4d9e-8b5a-cd07f4aa7192"
   },
   "outputs": [
    {
     "name": "stdout",
     "output_type": "stream",
     "text": [
      "Requirement already satisfied: zhon in /usr/local/lib/python3.7/dist-packages (1.1.5)\n"
     ]
    }
   ],
   "source": [
    "!pip install zhon\n",
    "from zhon.hanzi import punctuation\n",
    "from zhon.hanzi import non_stops\n",
    "from zhon.hanzi import stops\n"
   ]
  },
  {
   "cell_type": "code",
   "execution_count": null,
   "metadata": {
    "colab": {
     "base_uri": "https://localhost:8080/"
    },
    "executionInfo": {
     "elapsed": 450,
     "status": "ok",
     "timestamp": 1619958991820,
     "user": {
      "displayName": "JILUNG",
      "photoUrl": "https://lh3.googleusercontent.com/a-/AOh14Gg6zj7prBu9I41dXrwQwaD6D0pMAipXePNpoU-MZ30=s64",
      "userId": "08765716966079614016"
     },
     "user_tz": -480
    },
    "id": "Z2977Qt1uizW",
    "outputId": "c40620b4-b6f3-42a1-bcf5-4a10f1a1bb22"
   },
   "outputs": [
    {
     "name": "stdout",
     "output_type": "stream",
     "text": [
      "＂＃＄％＆＇（）＊＋，－／：；＜＝＞＠［＼］＾＿｀｛｜｝～｟｠｢｣､　、〃〈〉《》「」『』【】〔〕〖〗〘〙〚〛〜〝〞〟〰〾〿–—‘’‛“”„‟…‧﹏﹑﹔·！？｡。\n",
      "＂＃＄％＆＇（）＊＋，－／：；＜＝＞＠［＼］＾＿｀｛｜｝～｟｠｢｣､　、〃〈〉《》「」『』【】〔〕〖〗〘〙〚〛〜〝〞〟〰〾〿–—‘’‛“”„‟…‧﹏﹑﹔·\n",
      "！？｡。\n"
     ]
    }
   ],
   "source": [
    "print(punctuation)\n",
    "print(non_stops)\n",
    "print(stops)"
   ]
  },
  {
   "cell_type": "code",
   "execution_count": null,
   "metadata": {
    "colab": {
     "base_uri": "https://localhost:8080/"
    },
    "executionInfo": {
     "elapsed": 964,
     "status": "ok",
     "timestamp": 1619957607960,
     "user": {
      "displayName": "JILUNG",
      "photoUrl": "https://lh3.googleusercontent.com/a-/AOh14Gg6zj7prBu9I41dXrwQwaD6D0pMAipXePNpoU-MZ30=s64",
      "userId": "08765716966079614016"
     },
     "user_tz": -480
    },
    "id": "RJxBBr5avgRh",
    "outputId": "e3be6346-a9bb-4ce7-c352-0e7b35e4cf16"
   },
   "outputs": [
    {
     "name": "stdout",
     "output_type": "stream",
     "text": [
      "--2021-05-02 12:13:27--  https://raw.githubusercontent.com/P4CSS/PSS/master/data/stopwords_zh-tw.txt\n",
      "Resolving raw.githubusercontent.com (raw.githubusercontent.com)... 185.199.108.133, 185.199.109.133, 185.199.110.133, ...\n",
      "Connecting to raw.githubusercontent.com (raw.githubusercontent.com)|185.199.108.133|:443... connected.\n",
      "HTTP request sent, awaiting response... 200 OK\n",
      "Length: 8125 (7.9K) [text/plain]\n",
      "Saving to: ‘stopwords_zh-tw.txt’\n",
      "\n",
      "stopwords_zh-tw.txt 100%[===================>]   7.93K  --.-KB/s    in 0s      \n",
      "\n",
      "Last-modified header missing -- time-stamps turned off.\n",
      "2021-05-02 12:13:27 (89.3 MB/s) - ‘stopwords_zh-tw.txt’ saved [8125/8125]\n",
      "\n"
     ]
    }
   ],
   "source": [
    "!wget -N https://raw.githubusercontent.com/P4CSS/PSS/master/data/stopwords_zh-tw.txt\n",
    "with open(\"stopwords_zh-tw.txt\", encoding=\"utf-8\") as fin:\n",
    "    stopwords = fin.read().split(\"\\n\")[1:]"
   ]
  },
  {
   "cell_type": "code",
   "execution_count": null,
   "metadata": {
    "id": "Je6YqyajxEDC"
   },
   "outputs": [],
   "source": [
    "stopwords"
   ]
  },
  {
   "cell_type": "code",
   "execution_count": null,
   "metadata": {
    "id": "DobRxi2dOs63"
   },
   "outputs": [],
   "source": []
  },
  {
   "cell_type": "markdown",
   "metadata": {
    "id": "_4Ox6SXqOtzv"
   },
   "source": [
    "### Filter out irrelevant words here"
   ]
  },
  {
   "cell_type": "code",
   "execution_count": null,
   "metadata": {
    "id": "tuby4BRZqXyz"
   },
   "outputs": [],
   "source": [
    "filtered = {}\n",
    "# YOUR CODE SHOULD BE HERE\n",
    "# YOU CAN CHANGE THE VARIABLE NAME\n"
   ]
  },
  {
   "cell_type": "markdown",
   "metadata": {
    "id": "tT9bHLOBLRhH"
   },
   "source": [
    "#YT07 Print most common words\n",
    "請列印出你所跑出來的前30大關鍵字，你跑出來的結果應該會跟以下不同，但不應該會和以下一樣，會有「颱灣」的字樣，這是因為這個範例程式先把文字轉簡體後用jeiba斷詞，再轉回繁體後，把「台」全部翻為「颱」之故。完成條件：\n",
    "1. 不應直接篩除長度為1的關鍵字，長度為1的關鍵字仍須保留。\n",
    "2. 沒有停用詞\n",
    "3. 沒有不應該斷開的字，例如蔡英文被斷為`['蔡', '英文']`\n",
    "4. 沒有空白或全半形標點符號。"
   ]
  },
  {
   "cell_type": "code",
   "execution_count": null,
   "metadata": {
    "colab": {
     "base_uri": "https://localhost:8080/"
    },
    "executionInfo": {
     "elapsed": 735,
     "status": "ok",
     "timestamp": 1619960799013,
     "user": {
      "displayName": "JILUNG",
      "photoUrl": "https://lh3.googleusercontent.com/a-/AOh14Gg6zj7prBu9I41dXrwQwaD6D0pMAipXePNpoU-MZ30=s64",
      "userId": "08765716966079614016"
     },
     "user_tz": -480
    },
    "id": "BY892CxEqXDK",
    "outputId": "ec7d33bc-2f7a-4505-8b7e-a9a6274a350f"
   },
   "outputs": [
    {
     "data": {
      "text/plain": [
       "[('瞭', 2701),\n",
       " ('人', 2069),\n",
       " ('香港', 1829),\n",
       " ('颱灣', 1298),\n",
       " ('說', 1017),\n",
       " ('好', 780),\n",
       " ('中國', 730),\n",
       " ('知道', 501),\n",
       " ('真的', 500),\n",
       " ('一個', 500),\n",
       " ('大陸', 467),\n",
       " ('節目', 454),\n",
       " ('纔', 438),\n",
       " ('現在', 415),\n",
       " ('做', 409),\n",
       " ('講', 326),\n",
       " ('颱灣人', 315),\n",
       " ('想', 305),\n",
       " ('問題', 301),\n",
       " ('應該', 297),\n",
       " ('覺得', 294),\n",
       " ('一直', 276),\n",
       " ('醫師', 271),\n",
       " ('太', 262),\n",
       " ('再', 253),\n",
       " ('彆人', 243),\n",
       " ('警察', 243),\n",
       " ('美國', 234),\n",
       " ('這種', 226),\n",
       " ('中共', 222)]"
      ]
     },
     "execution_count": 52,
     "metadata": {
      "tags": []
     },
     "output_type": "execute_result"
    }
   ],
   "source": [
    "Counter(filtered).most_common(30)"
   ]
  },
  {
   "cell_type": "markdown",
   "metadata": {
    "id": "c3tSh02zFxtd"
   },
   "source": [
    "# AS#6.2 CKIP-transformer\n",
    "\n",
    "一般程式學習者在做斷詞測試時，通常會使用jieba來斷詞段字，因為快非常多，但卻不見得準確，又有中文和英文的問題。請用前一題的文本，抽取回文第六多的影片之回文（有334則回文，程式碼已經寫好了）。你要做的事情是，用jeiba斷詞來斷開這334則回文，比較jieba斷詞的前30大關鍵字和CKIP Transformer斷詞的前30大關鍵字有何不同（列印出來比較即可，但你應該嘗試用markdown文字說明比較的結果）\n",
    "\n",
    "- https://github.com/ckiplab/ckiptagger\n",
    "- https://github.com/ckiplab/ckip-transformers\n",
    "- https://medium.com/@lpcheung/%E6%9C%80%E5%BC%B7%E4%B8%AD%E6%96%87%E8%87%AA%E7%84%B6%E8%AA%9E%E8%A8%80%E8%99%95%E7%90%86%E5%B7%A5%E5%85%B7ckiptagger-b98f0b3bcd"
   ]
  },
  {
   "cell_type": "markdown",
   "metadata": {
    "id": "VWyUhyYcMbmw"
   },
   "source": [
    "## Tokenization with CKIP transforer"
   ]
  },
  {
   "cell_type": "code",
   "execution_count": null,
   "metadata": {
    "colab": {
     "base_uri": "https://localhost:8080/"
    },
    "executionInfo": {
     "elapsed": 5915,
     "status": "ok",
     "timestamp": 1619959745295,
     "user": {
      "displayName": "JILUNG",
      "photoUrl": "https://lh3.googleusercontent.com/a-/AOh14Gg6zj7prBu9I41dXrwQwaD6D0pMAipXePNpoU-MZ30=s64",
      "userId": "08765716966079614016"
     },
     "user_tz": -480
    },
    "id": "Jh9EQQO5H-Z-",
    "outputId": "f79f53aa-6b90-4ecb-87c1-19814b32065c"
   },
   "outputs": [
    {
     "name": "stdout",
     "output_type": "stream",
     "text": [
      "Collecting ckip-transformers\n",
      "  Downloading https://files.pythonhosted.org/packages/ed/94/ae6a7d7b7e0785ee47663e879982ecff1906b2614a5bc441e73857b94145/ckip_transformers-0.2.3-py3-none-any.whl\n",
      "Requirement already satisfied, skipping upgrade: tqdm>=4.27 in /usr/local/lib/python3.7/dist-packages (from ckip-transformers) (4.41.1)\n",
      "Requirement already satisfied, skipping upgrade: torch>=1.5.0 in /usr/local/lib/python3.7/dist-packages (from ckip-transformers) (1.8.1+cu101)\n",
      "Collecting transformers>=3.5.0\n",
      "\u001b[?25l  Downloading https://files.pythonhosted.org/packages/d8/b2/57495b5309f09fa501866e225c84532d1fd89536ea62406b2181933fb418/transformers-4.5.1-py3-none-any.whl (2.1MB)\n",
      "\u001b[K     |████████████████████████████████| 2.1MB 19.8MB/s \n",
      "\u001b[?25hRequirement already satisfied, skipping upgrade: numpy in /usr/local/lib/python3.7/dist-packages (from torch>=1.5.0->ckip-transformers) (1.19.5)\n",
      "Requirement already satisfied, skipping upgrade: typing-extensions in /usr/local/lib/python3.7/dist-packages (from torch>=1.5.0->ckip-transformers) (3.7.4.3)\n",
      "Collecting sacremoses\n",
      "\u001b[?25l  Downloading https://files.pythonhosted.org/packages/75/ee/67241dc87f266093c533a2d4d3d69438e57d7a90abb216fa076e7d475d4a/sacremoses-0.0.45-py3-none-any.whl (895kB)\n",
      "\u001b[K     |████████████████████████████████| 901kB 56.0MB/s \n",
      "\u001b[?25hCollecting tokenizers<0.11,>=0.10.1\n",
      "\u001b[?25l  Downloading https://files.pythonhosted.org/packages/ae/04/5b870f26a858552025a62f1649c20d29d2672c02ff3c3fb4c688ca46467a/tokenizers-0.10.2-cp37-cp37m-manylinux2010_x86_64.whl (3.3MB)\n",
      "\u001b[K     |████████████████████████████████| 3.3MB 44.0MB/s \n",
      "\u001b[?25hRequirement already satisfied, skipping upgrade: packaging in /usr/local/lib/python3.7/dist-packages (from transformers>=3.5.0->ckip-transformers) (20.9)\n",
      "Requirement already satisfied, skipping upgrade: requests in /usr/local/lib/python3.7/dist-packages (from transformers>=3.5.0->ckip-transformers) (2.23.0)\n",
      "Requirement already satisfied, skipping upgrade: filelock in /usr/local/lib/python3.7/dist-packages (from transformers>=3.5.0->ckip-transformers) (3.0.12)\n",
      "Requirement already satisfied, skipping upgrade: regex!=2019.12.17 in /usr/local/lib/python3.7/dist-packages (from transformers>=3.5.0->ckip-transformers) (2019.12.20)\n",
      "Requirement already satisfied, skipping upgrade: importlib-metadata; python_version < \"3.8\" in /usr/local/lib/python3.7/dist-packages (from transformers>=3.5.0->ckip-transformers) (3.10.1)\n",
      "Requirement already satisfied, skipping upgrade: click in /usr/local/lib/python3.7/dist-packages (from sacremoses->transformers>=3.5.0->ckip-transformers) (7.1.2)\n",
      "Requirement already satisfied, skipping upgrade: joblib in /usr/local/lib/python3.7/dist-packages (from sacremoses->transformers>=3.5.0->ckip-transformers) (1.0.1)\n",
      "Requirement already satisfied, skipping upgrade: six in /usr/local/lib/python3.7/dist-packages (from sacremoses->transformers>=3.5.0->ckip-transformers) (1.15.0)\n",
      "Requirement already satisfied, skipping upgrade: pyparsing>=2.0.2 in /usr/local/lib/python3.7/dist-packages (from packaging->transformers>=3.5.0->ckip-transformers) (2.4.7)\n",
      "Requirement already satisfied, skipping upgrade: idna<3,>=2.5 in /usr/local/lib/python3.7/dist-packages (from requests->transformers>=3.5.0->ckip-transformers) (2.10)\n",
      "Requirement already satisfied, skipping upgrade: certifi>=2017.4.17 in /usr/local/lib/python3.7/dist-packages (from requests->transformers>=3.5.0->ckip-transformers) (2020.12.5)\n",
      "Requirement already satisfied, skipping upgrade: urllib3!=1.25.0,!=1.25.1,<1.26,>=1.21.1 in /usr/local/lib/python3.7/dist-packages (from requests->transformers>=3.5.0->ckip-transformers) (1.24.3)\n",
      "Requirement already satisfied, skipping upgrade: chardet<4,>=3.0.2 in /usr/local/lib/python3.7/dist-packages (from requests->transformers>=3.5.0->ckip-transformers) (3.0.4)\n",
      "Requirement already satisfied, skipping upgrade: zipp>=0.5 in /usr/local/lib/python3.7/dist-packages (from importlib-metadata; python_version < \"3.8\"->transformers>=3.5.0->ckip-transformers) (3.4.1)\n",
      "Installing collected packages: sacremoses, tokenizers, transformers, ckip-transformers\n",
      "Successfully installed ckip-transformers-0.2.3 sacremoses-0.0.45 tokenizers-0.10.2 transformers-4.5.1\n"
     ]
    }
   ],
   "source": [
    "!pip install -U ckip-transformers"
   ]
  },
  {
   "cell_type": "code",
   "execution_count": null,
   "metadata": {
    "colab": {
     "base_uri": "https://localhost:8080/",
     "height": 752,
     "referenced_widgets": [
      "b33055ca6cd446e2ab28465ddc453eb2",
      "74ec4bae319840bd91f789e7e8e8295f",
      "fa92f0738841488ea49e39805a571b73",
      "c00d4d77a6924a879baf26a7023ebe5f",
      "6efa6b26abfd4ff59bd15d55f9fadd51",
      "3132e952c9cb491fb68b4fdd959b155c",
      "f90752a7dc39495cb8a170e141e82c7a",
      "86dfebab45c845ce9f81e32d1a562b88",
      "0e9d49718e554b9690ae7da46b2f3aa1",
      "fe60b3427d8b416eb3ca2559ed31e5d1",
      "e689704c6311463d82020e1f9f0360fe",
      "a258385aab3d478b88195a9324a39f47",
      "4326d942caec42ab8c4dc441cc31a864",
      "f5bcef3b6fad42778d2226bd744d1739",
      "bacf49905c7841209184de03ccf74ded",
      "96f77fd8e5aa43dfae6b9a86ba181a5c",
      "3741895e54c744d19c9447aedcbeddaf",
      "bb9dc76cf4fd481aa62a5dea615a8d34",
      "1f55d3f141f1428e89ffadcee0f13375",
      "74edcf37ffb74200a9bdd1ef37e32113",
      "57ebdecbecad493ea70109d9b1ef8b27",
      "e863813f41e743308edac32e1d6710a6",
      "4112bbcd54ec4a1a89296ba8cd71ef4c",
      "ebe0eaa2e8f4469089c3b01438db2789",
      "9a69e513d4d748cabc7ba55a4cfb75c7",
      "2fc42391fa6149fbacc15ea37fd90b3b",
      "f148da1a6ab3439ba571616a1482465e",
      "66877b55b98d4755908c0193c0d6c7a0",
      "ca5930c21f57499a8378d6cab1fdd72c",
      "10e388efc419464e8fda370a06de5892",
      "b2ce446e9dfc4eb1b7ac14519f528d5d",
      "51f99501eeec4526a9508ae721681295",
      "b3a813d36f39413db4c872ba83457b1d",
      "18dfe103bf754fe28edb4c4b6401e2fa",
      "8fb17c6bb0aa45cbad76ea30d2bcea8f",
      "3b14d7e03f824770b4690358eeee336c",
      "165a292d25364dc89f7b80c3361d9796",
      "3db400edccf14dcfa7e41513e77cf571",
      "4add1fb330d940b3814f312256d75779",
      "9051e1ac5fe045e5841fe525ab46967f",
      "0a5abc19a6444127af2299c8ace2b78a",
      "63535d2b15c440b4a0790f836faa8282",
      "41bf3d3a8eeb4f6289b1dbc48dcdd941",
      "c1752ee0c2a444b3b18c3066db880ac8",
      "0ac381ed998d43038edc309114b76f0c",
      "c5358dd0e1084ba09e610720ce45b667",
      "4d01daf666e24990a6597ad99444f4bc",
      "72d3ce1ab5e34724a160582b88089c2b",
      "8e23182519864f05b1687c804c92459a",
      "b14449f4d9ac4de89a9239a30d8d2bf1",
      "241d960f410e44c4a9c099d22e1c9a5b",
      "39439a13b59c408b8490d7e6d4435aed",
      "f47d666b751345ed8121a2028b0446a2",
      "c908dddb925a4d5bbf695e1ffffefae4",
      "df39b2195d074e6aa9b529c5a985673e",
      "c1c91f665af14617819e82106dc9edf5",
      "ee3925ffb6b34549b47e1bd8542e342a",
      "2cf4e0a3b32241079ab41ab37995b8cf",
      "e7bd39ce3bd74d1098d24285ef4a1a9d",
      "de4ed6e772e746f1b841942055242125",
      "d622614836fe48d49b86617c85dffe32",
      "75a410a5ebe5497e8434f522218ef08c",
      "e73faa5492584ebea35879274018184d",
      "932dcb36598446d79ff01310f3eff4f6",
      "618ba76a415840bf872373ca009e7b9d",
      "29df1615dc314e7cbfcd2ac15c560a94",
      "d160e2e85b264756b55af3cfb9ddbd57",
      "f341e2c4ccb7417aad9e68a9bba8e510",
      "47e9b872abb249b8a549bb93637f9229",
      "191a4864b94d44b286a12e20d3e1a08d",
      "21a7541cf70b48078e4081fe31c78e09",
      "1e23197ed9af47e684f693ac682f9930",
      "6031a1d780564e52919f9b9250f92161",
      "4e137b1760fb47be8ed6904c48687096",
      "344e433d287a4ebc865397f7c04b0abf",
      "d8737f74859a43958b2fa72404a942e6",
      "bfa0d7cef8db4ebeb571f3a312e872ba",
      "70cd97bf222e4887a4de751926464b28",
      "e4ec5f05b9344392938645357a7d416f",
      "cfddc55a6072485397e14535abecb784",
      "c7b0c882e90443a5b2e14bc0c800fc61",
      "0ea1d9909c024ef296037191d62f3015",
      "45afd409af3d45ecab65ec9e339f6283",
      "591b59e600f844c7905e62890be0d187",
      "efbbfa305c064523969c9f31070d32b8",
      "17eb0a7fa4044dd49d9496e6237f2999",
      "73f746f002cd4a53b8a4a2c17f81e4ae",
      "1c92824feb214c6da2761bf24d931372",
      "a71a96ba9f4e4e148a7756377c4db5bb",
      "e2810fa8bb044f3d80d4ad94778ee17b",
      "319b5e409cce48ebbfb83cc418db5206",
      "b8cb0b9d9d2940eb95af3a961c8dd8ad",
      "2179150c3d364461ace5cc6d30a14ed5",
      "35d29ebd9b3443f48b9d419cfbe86982",
      "93d015d8e9524275aa825c1f8a0422c0",
      "5190a3f7744e4fa29aa3632e77790f62",
      "f6f500074829417ba0205244ab7a1480",
      "61e267a9ec734891afad3d85ec2b777f",
      "4507c13f62ab439885b7d88446b34ab3",
      "4c448335076c41b4b933882e6a91b291",
      "163c9bd81eaf4f748788f86cb1b0d020",
      "9d8613fbd1e24a2d8ea0e6de21811447",
      "17828252b76b4ec69a6982360a42633a",
      "20927fb2af824e41af42456fb3dd578e",
      "8d700582af014cb7bf8ec06ca10bef56",
      "57948f042d264f179f78017aec687394",
      "2ea2b0de6f55426dbcf77681797451dc",
      "42ad6eda8c864fb488a2451d0db412d2",
      "93c57fc79f8c4cb7b3677ce94d3c8fea",
      "3eadabd3889a49c7bfc8c7a977006053",
      "e558494847414c9fb580c729fdef76a0",
      "ab7c465c03b64d3ea7f7a1b2e99d99b6",
      "b5b45e3c48e440f38beb8943d4a0e61d",
      "b4ceaa06ab29455a833b4ba911df7be4",
      "cdf535bacdb64378a6f89cae505c80d2",
      "2c90e752d57049c28569acbe44ce8195",
      "db9672ef692942e89748af5b6f560fff",
      "b6a1807fd2824cbba4b998763c1f900d",
      "b20dd40311f74c5f8360d501cb1d6f1f",
      "638c02116e6e45b9b6adcae6ad0bd289"
     ]
    },
    "executionInfo": {
     "elapsed": 4056,
     "status": "ok",
     "timestamp": 1619959823098,
     "user": {
      "displayName": "JILUNG",
      "photoUrl": "https://lh3.googleusercontent.com/a-/AOh14Gg6zj7prBu9I41dXrwQwaD6D0pMAipXePNpoU-MZ30=s64",
      "userId": "08765716966079614016"
     },
     "user_tz": -480
    },
    "id": "xosH68rQFw5d",
    "outputId": "547db408-d061-4b7a-f779-8926d784bf93"
   },
   "outputs": [
    {
     "data": {
      "application/vnd.jupyter.widget-view+json": {
       "model_id": "b33055ca6cd446e2ab28465ddc453eb2",
       "version_major": 2,
       "version_minor": 0
      },
      "text/plain": [
       "HBox(children=(FloatProgress(value=0.0, description='Downloading', max=832.0, style=ProgressStyle(description_…"
      ]
     },
     "metadata": {
      "tags": []
     },
     "output_type": "display_data"
    },
    {
     "name": "stdout",
     "output_type": "stream",
     "text": [
      "\n"
     ]
    },
    {
     "data": {
      "application/vnd.jupyter.widget-view+json": {
       "model_id": "0e9d49718e554b9690ae7da46b2f3aa1",
       "version_major": 2,
       "version_minor": 0
      },
      "text/plain": [
       "HBox(children=(FloatProgress(value=0.0, description='Downloading', max=15949017.0, style=ProgressStyle(descrip…"
      ]
     },
     "metadata": {
      "tags": []
     },
     "output_type": "display_data"
    },
    {
     "name": "stdout",
     "output_type": "stream",
     "text": [
      "\n"
     ]
    },
    {
     "data": {
      "application/vnd.jupyter.widget-view+json": {
       "model_id": "3741895e54c744d19c9447aedcbeddaf",
       "version_major": 2,
       "version_minor": 0
      },
      "text/plain": [
       "HBox(children=(FloatProgress(value=0.0, description='Downloading', max=109540.0, style=ProgressStyle(descripti…"
      ]
     },
     "metadata": {
      "tags": []
     },
     "output_type": "display_data"
    },
    {
     "name": "stdout",
     "output_type": "stream",
     "text": [
      "\n"
     ]
    },
    {
     "data": {
      "application/vnd.jupyter.widget-view+json": {
       "model_id": "9a69e513d4d748cabc7ba55a4cfb75c7",
       "version_major": 2,
       "version_minor": 0
      },
      "text/plain": [
       "HBox(children=(FloatProgress(value=0.0, description='Downloading', max=112.0, style=ProgressStyle(description_…"
      ]
     },
     "metadata": {
      "tags": []
     },
     "output_type": "display_data"
    },
    {
     "name": "stdout",
     "output_type": "stream",
     "text": [
      "\n"
     ]
    },
    {
     "data": {
      "application/vnd.jupyter.widget-view+json": {
       "model_id": "b3a813d36f39413db4c872ba83457b1d",
       "version_major": 2,
       "version_minor": 0
      },
      "text/plain": [
       "HBox(children=(FloatProgress(value=0.0, description='Downloading', max=301.0, style=ProgressStyle(description_…"
      ]
     },
     "metadata": {
      "tags": []
     },
     "output_type": "display_data"
    },
    {
     "name": "stdout",
     "output_type": "stream",
     "text": [
      "\n"
     ]
    },
    {
     "data": {
      "application/vnd.jupyter.widget-view+json": {
       "model_id": "0a5abc19a6444127af2299c8ace2b78a",
       "version_major": 2,
       "version_minor": 0
      },
      "text/plain": [
       "HBox(children=(FloatProgress(value=0.0, description='Downloading', max=2888.0, style=ProgressStyle(description…"
      ]
     },
     "metadata": {
      "tags": []
     },
     "output_type": "display_data"
    },
    {
     "name": "stdout",
     "output_type": "stream",
     "text": [
      "\n"
     ]
    },
    {
     "data": {
      "application/vnd.jupyter.widget-view+json": {
       "model_id": "8e23182519864f05b1687c804c92459a",
       "version_major": 2,
       "version_minor": 0
      },
      "text/plain": [
       "HBox(children=(FloatProgress(value=0.0, description='Downloading', max=16021593.0, style=ProgressStyle(descrip…"
      ]
     },
     "metadata": {
      "tags": []
     },
     "output_type": "display_data"
    },
    {
     "name": "stdout",
     "output_type": "stream",
     "text": [
      "\n"
     ]
    },
    {
     "data": {
      "application/vnd.jupyter.widget-view+json": {
       "model_id": "ee3925ffb6b34549b47e1bd8542e342a",
       "version_major": 2,
       "version_minor": 0
      },
      "text/plain": [
       "HBox(children=(FloatProgress(value=0.0, description='Downloading', max=109540.0, style=ProgressStyle(descripti…"
      ]
     },
     "metadata": {
      "tags": []
     },
     "output_type": "display_data"
    },
    {
     "name": "stdout",
     "output_type": "stream",
     "text": [
      "\n"
     ]
    },
    {
     "data": {
      "application/vnd.jupyter.widget-view+json": {
       "model_id": "618ba76a415840bf872373ca009e7b9d",
       "version_major": 2,
       "version_minor": 0
      },
      "text/plain": [
       "HBox(children=(FloatProgress(value=0.0, description='Downloading', max=112.0, style=ProgressStyle(description_…"
      ]
     },
     "metadata": {
      "tags": []
     },
     "output_type": "display_data"
    },
    {
     "name": "stdout",
     "output_type": "stream",
     "text": [
      "\n"
     ]
    },
    {
     "data": {
      "application/vnd.jupyter.widget-view+json": {
       "model_id": "6031a1d780564e52919f9b9250f92161",
       "version_major": 2,
       "version_minor": 0
      },
      "text/plain": [
       "HBox(children=(FloatProgress(value=0.0, description='Downloading', max=301.0, style=ProgressStyle(description_…"
      ]
     },
     "metadata": {
      "tags": []
     },
     "output_type": "display_data"
    },
    {
     "name": "stdout",
     "output_type": "stream",
     "text": [
      "\n"
     ]
    },
    {
     "data": {
      "application/vnd.jupyter.widget-view+json": {
       "model_id": "c7b0c882e90443a5b2e14bc0c800fc61",
       "version_major": 2,
       "version_minor": 0
      },
      "text/plain": [
       "HBox(children=(FloatProgress(value=0.0, description='Downloading', max=3740.0, style=ProgressStyle(description…"
      ]
     },
     "metadata": {
      "tags": []
     },
     "output_type": "display_data"
    },
    {
     "name": "stdout",
     "output_type": "stream",
     "text": [
      "\n"
     ]
    },
    {
     "data": {
      "application/vnd.jupyter.widget-view+json": {
       "model_id": "a71a96ba9f4e4e148a7756377c4db5bb",
       "version_major": 2,
       "version_minor": 0
      },
      "text/plain": [
       "HBox(children=(FloatProgress(value=0.0, description='Downloading', max=16037849.0, style=ProgressStyle(descrip…"
      ]
     },
     "metadata": {
      "tags": []
     },
     "output_type": "display_data"
    },
    {
     "name": "stdout",
     "output_type": "stream",
     "text": [
      "\n"
     ]
    },
    {
     "data": {
      "application/vnd.jupyter.widget-view+json": {
       "model_id": "f6f500074829417ba0205244ab7a1480",
       "version_major": 2,
       "version_minor": 0
      },
      "text/plain": [
       "HBox(children=(FloatProgress(value=0.0, description='Downloading', max=109540.0, style=ProgressStyle(descripti…"
      ]
     },
     "metadata": {
      "tags": []
     },
     "output_type": "display_data"
    },
    {
     "name": "stdout",
     "output_type": "stream",
     "text": [
      "\n"
     ]
    },
    {
     "data": {
      "application/vnd.jupyter.widget-view+json": {
       "model_id": "8d700582af014cb7bf8ec06ca10bef56",
       "version_major": 2,
       "version_minor": 0
      },
      "text/plain": [
       "HBox(children=(FloatProgress(value=0.0, description='Downloading', max=112.0, style=ProgressStyle(description_…"
      ]
     },
     "metadata": {
      "tags": []
     },
     "output_type": "display_data"
    },
    {
     "name": "stdout",
     "output_type": "stream",
     "text": [
      "\n"
     ]
    },
    {
     "data": {
      "application/vnd.jupyter.widget-view+json": {
       "model_id": "b5b45e3c48e440f38beb8943d4a0e61d",
       "version_major": 2,
       "version_minor": 0
      },
      "text/plain": [
       "HBox(children=(FloatProgress(value=0.0, description='Downloading', max=301.0, style=ProgressStyle(description_…"
      ]
     },
     "metadata": {
      "tags": []
     },
     "output_type": "display_data"
    },
    {
     "name": "stdout",
     "output_type": "stream",
     "text": [
      "\n"
     ]
    }
   ],
   "source": [
    "from ckip_transformers.nlp import CkipWordSegmenter, CkipPosTagger, CkipNerChunker\n",
    "ws_driver  = CkipWordSegmenter(level=1)\n",
    "pos_driver = CkipPosTagger(level=1)\n",
    "ner_driver = CkipNerChunker(level=1)"
   ]
  },
  {
   "cell_type": "code",
   "execution_count": null,
   "metadata": {
    "colab": {
     "base_uri": "https://localhost:8080/"
    },
    "executionInfo": {
     "elapsed": 610,
     "status": "ok",
     "timestamp": 1619959923980,
     "user": {
      "displayName": "JILUNG",
      "photoUrl": "https://lh3.googleusercontent.com/a-/AOh14Gg6zj7prBu9I41dXrwQwaD6D0pMAipXePNpoU-MZ30=s64",
      "userId": "08765716966079614016"
     },
     "user_tz": -480
    },
    "id": "BvTpLr-SIPNX",
    "outputId": "c8343ef6-9a1e-4728-b4ae-d884ee8cab64"
   },
   "outputs": [
    {
     "data": {
      "text/plain": [
       "['loMM6NUXvMY']"
      ]
     },
     "execution_count": 44,
     "metadata": {
      "tags": []
     },
     "output_type": "execute_result"
    }
   ],
   "source": [
    "from collections import Counter\n",
    "df.columns\n",
    "topVideos = [a for a, b in Counter(df[\"videoId\"]).most_common()[5:6]]\n",
    "\n",
    "# top 3 as an example\n",
    "topVideos"
   ]
  },
  {
   "cell_type": "code",
   "execution_count": null,
   "metadata": {
    "colab": {
     "base_uri": "https://localhost:8080/"
    },
    "executionInfo": {
     "elapsed": 765,
     "status": "ok",
     "timestamp": 1619959942851,
     "user": {
      "displayName": "JILUNG",
      "photoUrl": "https://lh3.googleusercontent.com/a-/AOh14Gg6zj7prBu9I41dXrwQwaD6D0pMAipXePNpoU-MZ30=s64",
      "userId": "08765716966079614016"
     },
     "user_tz": -480
    },
    "id": "fxLdUZO9IsJw",
    "outputId": "1d9019f2-5b9d-4f61-dd67-7153d78168ab"
   },
   "outputs": [
    {
     "data": {
      "text/plain": [
       "(334, 9)"
      ]
     },
     "execution_count": 46,
     "metadata": {
      "tags": []
     },
     "output_type": "execute_result"
    }
   ],
   "source": [
    "df1 = df.loc[df['videoId'].isin(topVideos)]\n",
    "\n",
    "# print out the df shape for verification\n",
    "df1.shape"
   ]
  },
  {
   "cell_type": "code",
   "execution_count": null,
   "metadata": {
    "id": "3TQNBwsbIwuJ"
   },
   "outputs": [],
   "source": [
    "df1"
   ]
  },
  {
   "cell_type": "code",
   "execution_count": null,
   "metadata": {
    "colab": {
     "base_uri": "https://localhost:8080/"
    },
    "executionInfo": {
     "elapsed": 24782,
     "status": "ok",
     "timestamp": 1619960108273,
     "user": {
      "displayName": "JILUNG",
      "photoUrl": "https://lh3.googleusercontent.com/a-/AOh14Gg6zj7prBu9I41dXrwQwaD6D0pMAipXePNpoU-MZ30=s64",
      "userId": "08765716966079614016"
     },
     "user_tz": -480
    },
    "id": "uBypD_B_Izuk",
    "outputId": "c1ad68e9-3624-480b-f5f1-c1a3c11bf486"
   },
   "outputs": [
    {
     "name": "stderr",
     "output_type": "stream",
     "text": [
      "Tokenization: 100%|██████████| 334/334 [00:00<00:00, 17927.59it/s]\n",
      "Inference: 100%|██████████| 2/2 [00:24<00:00, 12.12s/it]\n",
      "/usr/local/lib/python3.7/dist-packages/ipykernel_launcher.py:1: SettingWithCopyWarning: \n",
      "A value is trying to be set on a copy of a slice from a DataFrame.\n",
      "Try using .loc[row_indexer,col_indexer] = value instead\n",
      "\n",
      "See the caveats in the documentation: https://pandas.pydata.org/pandas-docs/stable/user_guide/indexing.html#returning-a-view-versus-a-copy\n",
      "  \"\"\"Entry point for launching an IPython kernel.\n"
     ]
    }
   ],
   "source": [
    "df1['tokenized'] = ws_driver(df1['textOriginal'])"
   ]
  },
  {
   "cell_type": "code",
   "execution_count": null,
   "metadata": {
    "colab": {
     "base_uri": "https://localhost:8080/",
     "height": 793
    },
    "executionInfo": {
     "elapsed": 723,
     "status": "ok",
     "timestamp": 1619960115893,
     "user": {
      "displayName": "JILUNG",
      "photoUrl": "https://lh3.googleusercontent.com/a-/AOh14Gg6zj7prBu9I41dXrwQwaD6D0pMAipXePNpoU-MZ30=s64",
      "userId": "08765716966079614016"
     },
     "user_tz": -480
    },
    "id": "r8YJY6ICJKAm",
    "outputId": "c84284a3-d548-4999-eafc-7583ef19fed3"
   },
   "outputs": [
    {
     "data": {
      "text/html": [
       "<div>\n",
       "<style scoped>\n",
       "    .dataframe tbody tr th:only-of-type {\n",
       "        vertical-align: middle;\n",
       "    }\n",
       "\n",
       "    .dataframe tbody tr th {\n",
       "        vertical-align: top;\n",
       "    }\n",
       "\n",
       "    .dataframe thead th {\n",
       "        text-align: right;\n",
       "    }\n",
       "</style>\n",
       "<table border=\"1\" class=\"dataframe\">\n",
       "  <thead>\n",
       "    <tr style=\"text-align: right;\">\n",
       "      <th></th>\n",
       "      <th>videoId</th>\n",
       "      <th>commentId</th>\n",
       "      <th>parentId</th>\n",
       "      <th>authorDisplayName</th>\n",
       "      <th>textOriginal</th>\n",
       "      <th>likeCount</th>\n",
       "      <th>publishedAt</th>\n",
       "      <th>updatedAt</th>\n",
       "      <th>tokenized</th>\n",
       "    </tr>\n",
       "  </thead>\n",
       "  <tbody>\n",
       "    <tr>\n",
       "      <th>5686</th>\n",
       "      <td>loMM6NUXvMY</td>\n",
       "      <td>UgzX42Equ1G9EmhziYJ4AaABAg</td>\n",
       "      <td>NaN</td>\n",
       "      <td>168aloha</td>\n",
       "      <td>這個名嘴自己也是猜測的真不專業</td>\n",
       "      <td>0</td>\n",
       "      <td>2020-03-31T18:02:46Z</td>\n",
       "      <td>2020-03-31T18:02:46Z</td>\n",
       "      <td>[這, 個, 名嘴, 自己, 也, 是, 猜測, 的, 真, 不, 專業]</td>\n",
       "    </tr>\n",
       "    <tr>\n",
       "      <th>5687</th>\n",
       "      <td>loMM6NUXvMY</td>\n",
       "      <td>UgyX8DdDvDAMOTjtlgJ4AaABAg</td>\n",
       "      <td>NaN</td>\n",
       "      <td>Wong Meilin</td>\n",
       "      <td>为什么还在笑 你们沒良心</td>\n",
       "      <td>1</td>\n",
       "      <td>2020-03-07T05:00:12Z</td>\n",
       "      <td>2020-03-07T05:00:12Z</td>\n",
       "      <td>[为, 什么, 还, 在, 笑,  , 你, 们, 沒良心]</td>\n",
       "    </tr>\n",
       "    <tr>\n",
       "      <th>5688</th>\n",
       "      <td>loMM6NUXvMY</td>\n",
       "      <td>UgzFJwUTYx5l3-tWmLF4AaABAg</td>\n",
       "      <td>NaN</td>\n",
       "      <td>Phillip Li</td>\n",
       "      <td>我們一同發出愛的心念 祝福 劉真 健康 輕鬆 喜悅 自在 把愛傳出去 讓美麗的世界 越來越圓滿</td>\n",
       "      <td>0</td>\n",
       "      <td>2020-03-06T10:56:12Z</td>\n",
       "      <td>2020-03-06T10:56:12Z</td>\n",
       "      <td>[我們, 一同, 發出, 愛, 的, 心念,  , 祝福,  , 劉真,  , 健康,  ,...</td>\n",
       "    </tr>\n",
       "    <tr>\n",
       "      <th>5689</th>\n",
       "      <td>loMM6NUXvMY</td>\n",
       "      <td>Ugxj7ih4Esm3T7iR0Hp4AaABAg</td>\n",
       "      <td>NaN</td>\n",
       "      <td>陳韋任</td>\n",
       "      <td>唵嘛呢叭咪吽  助唸祈福迴向劉真老師 平安康復</td>\n",
       "      <td>4</td>\n",
       "      <td>2020-03-05T21:48:29Z</td>\n",
       "      <td>2020-03-05T21:48:29Z</td>\n",
       "      <td>[唵, 嘛呢叭咪吽,  ,  , 助唸, 祈福, 迴向, 劉真, 老師,  , 平安康復]</td>\n",
       "    </tr>\n",
       "    <tr>\n",
       "      <th>5690</th>\n",
       "      <td>loMM6NUXvMY</td>\n",
       "      <td>Ugxwt9fLRrjma7WW9IF4AaABAg</td>\n",
       "      <td>NaN</td>\n",
       "      <td>阿玄</td>\n",
       "      <td>加油</td>\n",
       "      <td>0</td>\n",
       "      <td>2020-03-05T18:20:16Z</td>\n",
       "      <td>2020-03-05T18:20:16Z</td>\n",
       "      <td>[加油]</td>\n",
       "    </tr>\n",
       "    <tr>\n",
       "      <th>...</th>\n",
       "      <td>...</td>\n",
       "      <td>...</td>\n",
       "      <td>...</td>\n",
       "      <td>...</td>\n",
       "      <td>...</td>\n",
       "      <td>...</td>\n",
       "      <td>...</td>\n",
       "      <td>...</td>\n",
       "      <td>...</td>\n",
       "    </tr>\n",
       "    <tr>\n",
       "      <th>6015</th>\n",
       "      <td>loMM6NUXvMY</td>\n",
       "      <td>Ugzohyk_0HIpQX8iOkd4AaABAg</td>\n",
       "      <td>NaN</td>\n",
       "      <td>NaNa Mar</td>\n",
       "      <td>醫生永遠不會是手術失敗！ 只有手術風險！</td>\n",
       "      <td>12</td>\n",
       "      <td>2020-02-25T03:13:09Z</td>\n",
       "      <td>2020-02-25T03:13:09Z</td>\n",
       "      <td>[醫生, 永遠, 不會, 是, 手術, 失敗, ！,  , 只有, 手術, 風險, ！]</td>\n",
       "    </tr>\n",
       "    <tr>\n",
       "      <th>6016</th>\n",
       "      <td>loMM6NUXvMY</td>\n",
       "      <td>Ugzohyk_0HIpQX8iOkd4AaABAg.95RrnImCX1h95Y_hwShSAZ</td>\n",
       "      <td>Ugzohyk_0HIpQX8iOkd4AaABAg</td>\n",
       "      <td>ChiaYing Huang</td>\n",
       "      <td>小時候看過還有手術剪刀放肚子的新聞，是真的醫療疏失大失敗，不要覺得完全沒有失敗這件事。</td>\n",
       "      <td>0</td>\n",
       "      <td>2020-02-27T17:49:48Z</td>\n",
       "      <td>2020-02-27T17:49:48Z</td>\n",
       "      <td>[小時候, 看過, 還, 有, 手術, 剪刀, 放肚子, 的, 新聞, ，, 是, 真的, ...</td>\n",
       "    </tr>\n",
       "    <tr>\n",
       "      <th>6017</th>\n",
       "      <td>loMM6NUXvMY</td>\n",
       "      <td>Ugzohyk_0HIpQX8iOkd4AaABAg.95RrnImCX1h95S54TMSC6F</td>\n",
       "      <td>Ugzohyk_0HIpQX8iOkd4AaABAg</td>\n",
       "      <td>Benjamin Lin</td>\n",
       "      <td>Bon-Gen Lee 謝謝您的回覆，讓更多人認識國人醫療知識水平。</td>\n",
       "      <td>3</td>\n",
       "      <td>2020-02-25T05:17:57Z</td>\n",
       "      <td>2020-02-25T05:17:57Z</td>\n",
       "      <td>[Bon-Gen,  Lee,  , 謝謝, 您, 的, 回覆, ，, 讓, 更多, 人, ...</td>\n",
       "    </tr>\n",
       "    <tr>\n",
       "      <th>6018</th>\n",
       "      <td>loMM6NUXvMY</td>\n",
       "      <td>Ugzohyk_0HIpQX8iOkd4AaABAg.95RrnImCX1h95S-BKZjpzd</td>\n",
       "      <td>Ugzohyk_0HIpQX8iOkd4AaABAg</td>\n",
       "      <td>Bon-Gen Lee</td>\n",
       "      <td>@Benjamin Lin 在說文解字嗎？，本來心臟手術就是風險，不要做文章了。</td>\n",
       "      <td>4</td>\n",
       "      <td>2020-02-25T04:26:28Z</td>\n",
       "      <td>2020-02-25T04:26:28Z</td>\n",
       "      <td>[@Benjamin,  , Lin,  , 在, 說, 文, 解字, 嗎, ？, ，, 本...</td>\n",
       "    </tr>\n",
       "    <tr>\n",
       "      <th>6019</th>\n",
       "      <td>loMM6NUXvMY</td>\n",
       "      <td>Ugzohyk_0HIpQX8iOkd4AaABAg.95RrnImCX1h95RvwE551Fs</td>\n",
       "      <td>Ugzohyk_0HIpQX8iOkd4AaABAg</td>\n",
       "      <td>Benjamin Lin</td>\n",
       "      <td>風險是風險，失敗是失敗，兩回事。在手術前規劃範圍內的死亡或後遺症叫做風險，不在手術前評估範圍...</td>\n",
       "      <td>5</td>\n",
       "      <td>2020-02-25T03:49:19Z</td>\n",
       "      <td>2020-02-25T03:49:19Z</td>\n",
       "      <td>[風險, 是, 風險, ，, 失敗, 是, 失敗, ，, 兩, 回事, 。, 在, 手術, ...</td>\n",
       "    </tr>\n",
       "  </tbody>\n",
       "</table>\n",
       "<p>334 rows × 9 columns</p>\n",
       "</div>"
      ],
      "text/plain": [
       "          videoId  ...                                          tokenized\n",
       "5686  loMM6NUXvMY  ...              [這, 個, 名嘴, 自己, 也, 是, 猜測, 的, 真, 不, 專業]\n",
       "5687  loMM6NUXvMY  ...                     [为, 什么, 还, 在, 笑,  , 你, 们, 沒良心]\n",
       "5688  loMM6NUXvMY  ...  [我們, 一同, 發出, 愛, 的, 心念,  , 祝福,  , 劉真,  , 健康,  ,...\n",
       "5689  loMM6NUXvMY  ...      [唵, 嘛呢叭咪吽,  ,  , 助唸, 祈福, 迴向, 劉真, 老師,  , 平安康復]\n",
       "5690  loMM6NUXvMY  ...                                               [加油]\n",
       "...           ...  ...                                                ...\n",
       "6015  loMM6NUXvMY  ...       [醫生, 永遠, 不會, 是, 手術, 失敗, ！,  , 只有, 手術, 風險, ！]\n",
       "6016  loMM6NUXvMY  ...  [小時候, 看過, 還, 有, 手術, 剪刀, 放肚子, 的, 新聞, ，, 是, 真的, ...\n",
       "6017  loMM6NUXvMY  ...  [Bon-Gen,  Lee,  , 謝謝, 您, 的, 回覆, ，, 讓, 更多, 人, ...\n",
       "6018  loMM6NUXvMY  ...  [@Benjamin,  , Lin,  , 在, 說, 文, 解字, 嗎, ？, ，, 本...\n",
       "6019  loMM6NUXvMY  ...  [風險, 是, 風險, ，, 失敗, 是, 失敗, ，, 兩, 回事, 。, 在, 手術, ...\n",
       "\n",
       "[334 rows x 9 columns]"
      ]
     },
     "execution_count": 51,
     "metadata": {
      "tags": []
     },
     "output_type": "execute_result"
    }
   ],
   "source": [
    "df1"
   ]
  },
  {
   "cell_type": "markdown",
   "metadata": {
    "id": "HsFBL2OOMhmO"
   },
   "source": [
    "## Tokenization with jieba"
   ]
  },
  {
   "cell_type": "code",
   "execution_count": null,
   "metadata": {
    "id": "S66h8gdLMhUg"
   },
   "outputs": [],
   "source": []
  },
  {
   "cell_type": "markdown",
   "metadata": {
    "id": "r8jWiVHIMund"
   },
   "source": [
    "## Print out top 30 keywords by jieba and CKIP transformer"
   ]
  },
  {
   "cell_type": "markdown",
   "metadata": {
    "id": "9qcEWzXiM0UR"
   },
   "source": [
    "### CKIP"
   ]
  },
  {
   "cell_type": "code",
   "execution_count": null,
   "metadata": {
    "id": "R-GyOH6YMzyQ"
   },
   "outputs": [],
   "source": []
  },
  {
   "cell_type": "markdown",
   "metadata": {
    "id": "Zq00So0VM3E9"
   },
   "source": [
    "### jieba"
   ]
  },
  {
   "cell_type": "code",
   "execution_count": null,
   "metadata": {
    "id": "wEQLaUi-MkkT"
   },
   "outputs": [],
   "source": []
  },
  {
   "cell_type": "markdown",
   "metadata": {
    "id": "xexMVRBoMlYN"
   },
   "source": [
    "## Explaining your results HERE"
   ]
  }
 ],
 "metadata": {
  "accelerator": "GPU",
  "colab": {
   "authorship_tag": "ABX9TyMosaXJuH6+dYPQRgVjdtGL",
   "collapsed_sections": [
    "tpspxKYxmwdM"
   ],
   "name": "AS06p Tokenization and TF.ipynb",
   "provenance": [
    {
     "file_id": "1rpiNiO59a2sRela7M42rOortMLwDxHAn",
     "timestamp": 1619961041978
    },
    {
     "file_id": "1s8ptPjRgGTMsQrx4jx5_48KrQb1vJJOr",
     "timestamp": 1619950981723
    }
   ],
   "toc_visible": true
  },
  "kernelspec": {
   "display_name": "Python 3",
   "language": "python",
   "name": "python3"
  },
  "language_info": {
   "codemirror_mode": {
    "name": "ipython",
    "version": 3
   },
   "file_extension": ".py",
   "mimetype": "text/x-python",
   "name": "python",
   "nbconvert_exporter": "python",
   "pygments_lexer": "ipython3",
   "version": "3.7.6"
  },
  "widgets": {
   "application/vnd.jupyter.widget-state+json": {
    "0a5abc19a6444127af2299c8ace2b78a": {
     "model_module": "@jupyter-widgets/controls",
     "model_name": "HBoxModel",
     "state": {
      "_dom_classes": [],
      "_model_module": "@jupyter-widgets/controls",
      "_model_module_version": "1.5.0",
      "_model_name": "HBoxModel",
      "_view_count": null,
      "_view_module": "@jupyter-widgets/controls",
      "_view_module_version": "1.5.0",
      "_view_name": "HBoxView",
      "box_style": "",
      "children": [
       "IPY_MODEL_41bf3d3a8eeb4f6289b1dbc48dcdd941",
       "IPY_MODEL_c1752ee0c2a444b3b18c3066db880ac8"
      ],
      "layout": "IPY_MODEL_63535d2b15c440b4a0790f836faa8282"
     }
    },
    "0ac381ed998d43038edc309114b76f0c": {
     "model_module": "@jupyter-widgets/controls",
     "model_name": "ProgressStyleModel",
     "state": {
      "_model_module": "@jupyter-widgets/controls",
      "_model_module_version": "1.5.0",
      "_model_name": "ProgressStyleModel",
      "_view_count": null,
      "_view_module": "@jupyter-widgets/base",
      "_view_module_version": "1.2.0",
      "_view_name": "StyleView",
      "bar_color": null,
      "description_width": "initial"
     }
    },
    "0e9d49718e554b9690ae7da46b2f3aa1": {
     "model_module": "@jupyter-widgets/controls",
     "model_name": "HBoxModel",
     "state": {
      "_dom_classes": [],
      "_model_module": "@jupyter-widgets/controls",
      "_model_module_version": "1.5.0",
      "_model_name": "HBoxModel",
      "_view_count": null,
      "_view_module": "@jupyter-widgets/controls",
      "_view_module_version": "1.5.0",
      "_view_name": "HBoxView",
      "box_style": "",
      "children": [
       "IPY_MODEL_e689704c6311463d82020e1f9f0360fe",
       "IPY_MODEL_a258385aab3d478b88195a9324a39f47"
      ],
      "layout": "IPY_MODEL_fe60b3427d8b416eb3ca2559ed31e5d1"
     }
    },
    "0ea1d9909c024ef296037191d62f3015": {
     "model_module": "@jupyter-widgets/base",
     "model_name": "LayoutModel",
     "state": {
      "_model_module": "@jupyter-widgets/base",
      "_model_module_version": "1.2.0",
      "_model_name": "LayoutModel",
      "_view_count": null,
      "_view_module": "@jupyter-widgets/base",
      "_view_module_version": "1.2.0",
      "_view_name": "LayoutView",
      "align_content": null,
      "align_items": null,
      "align_self": null,
      "border": null,
      "bottom": null,
      "display": null,
      "flex": null,
      "flex_flow": null,
      "grid_area": null,
      "grid_auto_columns": null,
      "grid_auto_flow": null,
      "grid_auto_rows": null,
      "grid_column": null,
      "grid_gap": null,
      "grid_row": null,
      "grid_template_areas": null,
      "grid_template_columns": null,
      "grid_template_rows": null,
      "height": null,
      "justify_content": null,
      "justify_items": null,
      "left": null,
      "margin": null,
      "max_height": null,
      "max_width": null,
      "min_height": null,
      "min_width": null,
      "object_fit": null,
      "object_position": null,
      "order": null,
      "overflow": null,
      "overflow_x": null,
      "overflow_y": null,
      "padding": null,
      "right": null,
      "top": null,
      "visibility": null,
      "width": null
     }
    },
    "10e388efc419464e8fda370a06de5892": {
     "model_module": "@jupyter-widgets/base",
     "model_name": "LayoutModel",
     "state": {
      "_model_module": "@jupyter-widgets/base",
      "_model_module_version": "1.2.0",
      "_model_name": "LayoutModel",
      "_view_count": null,
      "_view_module": "@jupyter-widgets/base",
      "_view_module_version": "1.2.0",
      "_view_name": "LayoutView",
      "align_content": null,
      "align_items": null,
      "align_self": null,
      "border": null,
      "bottom": null,
      "display": null,
      "flex": null,
      "flex_flow": null,
      "grid_area": null,
      "grid_auto_columns": null,
      "grid_auto_flow": null,
      "grid_auto_rows": null,
      "grid_column": null,
      "grid_gap": null,
      "grid_row": null,
      "grid_template_areas": null,
      "grid_template_columns": null,
      "grid_template_rows": null,
      "height": null,
      "justify_content": null,
      "justify_items": null,
      "left": null,
      "margin": null,
      "max_height": null,
      "max_width": null,
      "min_height": null,
      "min_width": null,
      "object_fit": null,
      "object_position": null,
      "order": null,
      "overflow": null,
      "overflow_x": null,
      "overflow_y": null,
      "padding": null,
      "right": null,
      "top": null,
      "visibility": null,
      "width": null
     }
    },
    "163c9bd81eaf4f748788f86cb1b0d020": {
     "model_module": "@jupyter-widgets/controls",
     "model_name": "ProgressStyleModel",
     "state": {
      "_model_module": "@jupyter-widgets/controls",
      "_model_module_version": "1.5.0",
      "_model_name": "ProgressStyleModel",
      "_view_count": null,
      "_view_module": "@jupyter-widgets/base",
      "_view_module_version": "1.2.0",
      "_view_name": "StyleView",
      "bar_color": null,
      "description_width": "initial"
     }
    },
    "165a292d25364dc89f7b80c3361d9796": {
     "model_module": "@jupyter-widgets/controls",
     "model_name": "ProgressStyleModel",
     "state": {
      "_model_module": "@jupyter-widgets/controls",
      "_model_module_version": "1.5.0",
      "_model_name": "ProgressStyleModel",
      "_view_count": null,
      "_view_module": "@jupyter-widgets/base",
      "_view_module_version": "1.2.0",
      "_view_name": "StyleView",
      "bar_color": null,
      "description_width": "initial"
     }
    },
    "17828252b76b4ec69a6982360a42633a": {
     "model_module": "@jupyter-widgets/controls",
     "model_name": "DescriptionStyleModel",
     "state": {
      "_model_module": "@jupyter-widgets/controls",
      "_model_module_version": "1.5.0",
      "_model_name": "DescriptionStyleModel",
      "_view_count": null,
      "_view_module": "@jupyter-widgets/base",
      "_view_module_version": "1.2.0",
      "_view_name": "StyleView",
      "description_width": ""
     }
    },
    "17eb0a7fa4044dd49d9496e6237f2999": {
     "model_module": "@jupyter-widgets/base",
     "model_name": "LayoutModel",
     "state": {
      "_model_module": "@jupyter-widgets/base",
      "_model_module_version": "1.2.0",
      "_model_name": "LayoutModel",
      "_view_count": null,
      "_view_module": "@jupyter-widgets/base",
      "_view_module_version": "1.2.0",
      "_view_name": "LayoutView",
      "align_content": null,
      "align_items": null,
      "align_self": null,
      "border": null,
      "bottom": null,
      "display": null,
      "flex": null,
      "flex_flow": null,
      "grid_area": null,
      "grid_auto_columns": null,
      "grid_auto_flow": null,
      "grid_auto_rows": null,
      "grid_column": null,
      "grid_gap": null,
      "grid_row": null,
      "grid_template_areas": null,
      "grid_template_columns": null,
      "grid_template_rows": null,
      "height": null,
      "justify_content": null,
      "justify_items": null,
      "left": null,
      "margin": null,
      "max_height": null,
      "max_width": null,
      "min_height": null,
      "min_width": null,
      "object_fit": null,
      "object_position": null,
      "order": null,
      "overflow": null,
      "overflow_x": null,
      "overflow_y": null,
      "padding": null,
      "right": null,
      "top": null,
      "visibility": null,
      "width": null
     }
    },
    "18dfe103bf754fe28edb4c4b6401e2fa": {
     "model_module": "@jupyter-widgets/base",
     "model_name": "LayoutModel",
     "state": {
      "_model_module": "@jupyter-widgets/base",
      "_model_module_version": "1.2.0",
      "_model_name": "LayoutModel",
      "_view_count": null,
      "_view_module": "@jupyter-widgets/base",
      "_view_module_version": "1.2.0",
      "_view_name": "LayoutView",
      "align_content": null,
      "align_items": null,
      "align_self": null,
      "border": null,
      "bottom": null,
      "display": null,
      "flex": null,
      "flex_flow": null,
      "grid_area": null,
      "grid_auto_columns": null,
      "grid_auto_flow": null,
      "grid_auto_rows": null,
      "grid_column": null,
      "grid_gap": null,
      "grid_row": null,
      "grid_template_areas": null,
      "grid_template_columns": null,
      "grid_template_rows": null,
      "height": null,
      "justify_content": null,
      "justify_items": null,
      "left": null,
      "margin": null,
      "max_height": null,
      "max_width": null,
      "min_height": null,
      "min_width": null,
      "object_fit": null,
      "object_position": null,
      "order": null,
      "overflow": null,
      "overflow_x": null,
      "overflow_y": null,
      "padding": null,
      "right": null,
      "top": null,
      "visibility": null,
      "width": null
     }
    },
    "191a4864b94d44b286a12e20d3e1a08d": {
     "model_module": "@jupyter-widgets/base",
     "model_name": "LayoutModel",
     "state": {
      "_model_module": "@jupyter-widgets/base",
      "_model_module_version": "1.2.0",
      "_model_name": "LayoutModel",
      "_view_count": null,
      "_view_module": "@jupyter-widgets/base",
      "_view_module_version": "1.2.0",
      "_view_name": "LayoutView",
      "align_content": null,
      "align_items": null,
      "align_self": null,
      "border": null,
      "bottom": null,
      "display": null,
      "flex": null,
      "flex_flow": null,
      "grid_area": null,
      "grid_auto_columns": null,
      "grid_auto_flow": null,
      "grid_auto_rows": null,
      "grid_column": null,
      "grid_gap": null,
      "grid_row": null,
      "grid_template_areas": null,
      "grid_template_columns": null,
      "grid_template_rows": null,
      "height": null,
      "justify_content": null,
      "justify_items": null,
      "left": null,
      "margin": null,
      "max_height": null,
      "max_width": null,
      "min_height": null,
      "min_width": null,
      "object_fit": null,
      "object_position": null,
      "order": null,
      "overflow": null,
      "overflow_x": null,
      "overflow_y": null,
      "padding": null,
      "right": null,
      "top": null,
      "visibility": null,
      "width": null
     }
    },
    "1c92824feb214c6da2761bf24d931372": {
     "model_module": "@jupyter-widgets/base",
     "model_name": "LayoutModel",
     "state": {
      "_model_module": "@jupyter-widgets/base",
      "_model_module_version": "1.2.0",
      "_model_name": "LayoutModel",
      "_view_count": null,
      "_view_module": "@jupyter-widgets/base",
      "_view_module_version": "1.2.0",
      "_view_name": "LayoutView",
      "align_content": null,
      "align_items": null,
      "align_self": null,
      "border": null,
      "bottom": null,
      "display": null,
      "flex": null,
      "flex_flow": null,
      "grid_area": null,
      "grid_auto_columns": null,
      "grid_auto_flow": null,
      "grid_auto_rows": null,
      "grid_column": null,
      "grid_gap": null,
      "grid_row": null,
      "grid_template_areas": null,
      "grid_template_columns": null,
      "grid_template_rows": null,
      "height": null,
      "justify_content": null,
      "justify_items": null,
      "left": null,
      "margin": null,
      "max_height": null,
      "max_width": null,
      "min_height": null,
      "min_width": null,
      "object_fit": null,
      "object_position": null,
      "order": null,
      "overflow": null,
      "overflow_x": null,
      "overflow_y": null,
      "padding": null,
      "right": null,
      "top": null,
      "visibility": null,
      "width": null
     }
    },
    "1e23197ed9af47e684f693ac682f9930": {
     "model_module": "@jupyter-widgets/base",
     "model_name": "LayoutModel",
     "state": {
      "_model_module": "@jupyter-widgets/base",
      "_model_module_version": "1.2.0",
      "_model_name": "LayoutModel",
      "_view_count": null,
      "_view_module": "@jupyter-widgets/base",
      "_view_module_version": "1.2.0",
      "_view_name": "LayoutView",
      "align_content": null,
      "align_items": null,
      "align_self": null,
      "border": null,
      "bottom": null,
      "display": null,
      "flex": null,
      "flex_flow": null,
      "grid_area": null,
      "grid_auto_columns": null,
      "grid_auto_flow": null,
      "grid_auto_rows": null,
      "grid_column": null,
      "grid_gap": null,
      "grid_row": null,
      "grid_template_areas": null,
      "grid_template_columns": null,
      "grid_template_rows": null,
      "height": null,
      "justify_content": null,
      "justify_items": null,
      "left": null,
      "margin": null,
      "max_height": null,
      "max_width": null,
      "min_height": null,
      "min_width": null,
      "object_fit": null,
      "object_position": null,
      "order": null,
      "overflow": null,
      "overflow_x": null,
      "overflow_y": null,
      "padding": null,
      "right": null,
      "top": null,
      "visibility": null,
      "width": null
     }
    },
    "1f55d3f141f1428e89ffadcee0f13375": {
     "model_module": "@jupyter-widgets/controls",
     "model_name": "FloatProgressModel",
     "state": {
      "_dom_classes": [],
      "_model_module": "@jupyter-widgets/controls",
      "_model_module_version": "1.5.0",
      "_model_name": "FloatProgressModel",
      "_view_count": null,
      "_view_module": "@jupyter-widgets/controls",
      "_view_module_version": "1.5.0",
      "_view_name": "ProgressView",
      "bar_style": "success",
      "description": "Downloading: 100%",
      "description_tooltip": null,
      "layout": "IPY_MODEL_e863813f41e743308edac32e1d6710a6",
      "max": 109540,
      "min": 0,
      "orientation": "horizontal",
      "style": "IPY_MODEL_57ebdecbecad493ea70109d9b1ef8b27",
      "value": 109540
     }
    },
    "20927fb2af824e41af42456fb3dd578e": {
     "model_module": "@jupyter-widgets/base",
     "model_name": "LayoutModel",
     "state": {
      "_model_module": "@jupyter-widgets/base",
      "_model_module_version": "1.2.0",
      "_model_name": "LayoutModel",
      "_view_count": null,
      "_view_module": "@jupyter-widgets/base",
      "_view_module_version": "1.2.0",
      "_view_name": "LayoutView",
      "align_content": null,
      "align_items": null,
      "align_self": null,
      "border": null,
      "bottom": null,
      "display": null,
      "flex": null,
      "flex_flow": null,
      "grid_area": null,
      "grid_auto_columns": null,
      "grid_auto_flow": null,
      "grid_auto_rows": null,
      "grid_column": null,
      "grid_gap": null,
      "grid_row": null,
      "grid_template_areas": null,
      "grid_template_columns": null,
      "grid_template_rows": null,
      "height": null,
      "justify_content": null,
      "justify_items": null,
      "left": null,
      "margin": null,
      "max_height": null,
      "max_width": null,
      "min_height": null,
      "min_width": null,
      "object_fit": null,
      "object_position": null,
      "order": null,
      "overflow": null,
      "overflow_x": null,
      "overflow_y": null,
      "padding": null,
      "right": null,
      "top": null,
      "visibility": null,
      "width": null
     }
    },
    "2179150c3d364461ace5cc6d30a14ed5": {
     "model_module": "@jupyter-widgets/controls",
     "model_name": "ProgressStyleModel",
     "state": {
      "_model_module": "@jupyter-widgets/controls",
      "_model_module_version": "1.5.0",
      "_model_name": "ProgressStyleModel",
      "_view_count": null,
      "_view_module": "@jupyter-widgets/base",
      "_view_module_version": "1.2.0",
      "_view_name": "StyleView",
      "bar_color": null,
      "description_width": "initial"
     }
    },
    "21a7541cf70b48078e4081fe31c78e09": {
     "model_module": "@jupyter-widgets/controls",
     "model_name": "DescriptionStyleModel",
     "state": {
      "_model_module": "@jupyter-widgets/controls",
      "_model_module_version": "1.5.0",
      "_model_name": "DescriptionStyleModel",
      "_view_count": null,
      "_view_module": "@jupyter-widgets/base",
      "_view_module_version": "1.2.0",
      "_view_name": "StyleView",
      "description_width": ""
     }
    },
    "241d960f410e44c4a9c099d22e1c9a5b": {
     "model_module": "@jupyter-widgets/controls",
     "model_name": "FloatProgressModel",
     "state": {
      "_dom_classes": [],
      "_model_module": "@jupyter-widgets/controls",
      "_model_module_version": "1.5.0",
      "_model_name": "FloatProgressModel",
      "_view_count": null,
      "_view_module": "@jupyter-widgets/controls",
      "_view_module_version": "1.5.0",
      "_view_name": "ProgressView",
      "bar_style": "success",
      "description": "Downloading: 100%",
      "description_tooltip": null,
      "layout": "IPY_MODEL_c908dddb925a4d5bbf695e1ffffefae4",
      "max": 16021593,
      "min": 0,
      "orientation": "horizontal",
      "style": "IPY_MODEL_f47d666b751345ed8121a2028b0446a2",
      "value": 16021593
     }
    },
    "29df1615dc314e7cbfcd2ac15c560a94": {
     "model_module": "@jupyter-widgets/base",
     "model_name": "LayoutModel",
     "state": {
      "_model_module": "@jupyter-widgets/base",
      "_model_module_version": "1.2.0",
      "_model_name": "LayoutModel",
      "_view_count": null,
      "_view_module": "@jupyter-widgets/base",
      "_view_module_version": "1.2.0",
      "_view_name": "LayoutView",
      "align_content": null,
      "align_items": null,
      "align_self": null,
      "border": null,
      "bottom": null,
      "display": null,
      "flex": null,
      "flex_flow": null,
      "grid_area": null,
      "grid_auto_columns": null,
      "grid_auto_flow": null,
      "grid_auto_rows": null,
      "grid_column": null,
      "grid_gap": null,
      "grid_row": null,
      "grid_template_areas": null,
      "grid_template_columns": null,
      "grid_template_rows": null,
      "height": null,
      "justify_content": null,
      "justify_items": null,
      "left": null,
      "margin": null,
      "max_height": null,
      "max_width": null,
      "min_height": null,
      "min_width": null,
      "object_fit": null,
      "object_position": null,
      "order": null,
      "overflow": null,
      "overflow_x": null,
      "overflow_y": null,
      "padding": null,
      "right": null,
      "top": null,
      "visibility": null,
      "width": null
     }
    },
    "2c90e752d57049c28569acbe44ce8195": {
     "model_module": "@jupyter-widgets/controls",
     "model_name": "HTMLModel",
     "state": {
      "_dom_classes": [],
      "_model_module": "@jupyter-widgets/controls",
      "_model_module_version": "1.5.0",
      "_model_name": "HTMLModel",
      "_view_count": null,
      "_view_module": "@jupyter-widgets/controls",
      "_view_module_version": "1.5.0",
      "_view_name": "HTMLView",
      "description": "",
      "description_tooltip": null,
      "layout": "IPY_MODEL_638c02116e6e45b9b6adcae6ad0bd289",
      "placeholder": "​",
      "style": "IPY_MODEL_b20dd40311f74c5f8360d501cb1d6f1f",
      "value": " 301/301 [00:00&lt;00:00, 5.27kB/s]"
     }
    },
    "2cf4e0a3b32241079ab41ab37995b8cf": {
     "model_module": "@jupyter-widgets/base",
     "model_name": "LayoutModel",
     "state": {
      "_model_module": "@jupyter-widgets/base",
      "_model_module_version": "1.2.0",
      "_model_name": "LayoutModel",
      "_view_count": null,
      "_view_module": "@jupyter-widgets/base",
      "_view_module_version": "1.2.0",
      "_view_name": "LayoutView",
      "align_content": null,
      "align_items": null,
      "align_self": null,
      "border": null,
      "bottom": null,
      "display": null,
      "flex": null,
      "flex_flow": null,
      "grid_area": null,
      "grid_auto_columns": null,
      "grid_auto_flow": null,
      "grid_auto_rows": null,
      "grid_column": null,
      "grid_gap": null,
      "grid_row": null,
      "grid_template_areas": null,
      "grid_template_columns": null,
      "grid_template_rows": null,
      "height": null,
      "justify_content": null,
      "justify_items": null,
      "left": null,
      "margin": null,
      "max_height": null,
      "max_width": null,
      "min_height": null,
      "min_width": null,
      "object_fit": null,
      "object_position": null,
      "order": null,
      "overflow": null,
      "overflow_x": null,
      "overflow_y": null,
      "padding": null,
      "right": null,
      "top": null,
      "visibility": null,
      "width": null
     }
    },
    "2ea2b0de6f55426dbcf77681797451dc": {
     "model_module": "@jupyter-widgets/controls",
     "model_name": "FloatProgressModel",
     "state": {
      "_dom_classes": [],
      "_model_module": "@jupyter-widgets/controls",
      "_model_module_version": "1.5.0",
      "_model_name": "FloatProgressModel",
      "_view_count": null,
      "_view_module": "@jupyter-widgets/controls",
      "_view_module_version": "1.5.0",
      "_view_name": "ProgressView",
      "bar_style": "success",
      "description": "Downloading: 100%",
      "description_tooltip": null,
      "layout": "IPY_MODEL_3eadabd3889a49c7bfc8c7a977006053",
      "max": 112,
      "min": 0,
      "orientation": "horizontal",
      "style": "IPY_MODEL_93c57fc79f8c4cb7b3677ce94d3c8fea",
      "value": 112
     }
    },
    "2fc42391fa6149fbacc15ea37fd90b3b": {
     "model_module": "@jupyter-widgets/base",
     "model_name": "LayoutModel",
     "state": {
      "_model_module": "@jupyter-widgets/base",
      "_model_module_version": "1.2.0",
      "_model_name": "LayoutModel",
      "_view_count": null,
      "_view_module": "@jupyter-widgets/base",
      "_view_module_version": "1.2.0",
      "_view_name": "LayoutView",
      "align_content": null,
      "align_items": null,
      "align_self": null,
      "border": null,
      "bottom": null,
      "display": null,
      "flex": null,
      "flex_flow": null,
      "grid_area": null,
      "grid_auto_columns": null,
      "grid_auto_flow": null,
      "grid_auto_rows": null,
      "grid_column": null,
      "grid_gap": null,
      "grid_row": null,
      "grid_template_areas": null,
      "grid_template_columns": null,
      "grid_template_rows": null,
      "height": null,
      "justify_content": null,
      "justify_items": null,
      "left": null,
      "margin": null,
      "max_height": null,
      "max_width": null,
      "min_height": null,
      "min_width": null,
      "object_fit": null,
      "object_position": null,
      "order": null,
      "overflow": null,
      "overflow_x": null,
      "overflow_y": null,
      "padding": null,
      "right": null,
      "top": null,
      "visibility": null,
      "width": null
     }
    },
    "3132e952c9cb491fb68b4fdd959b155c": {
     "model_module": "@jupyter-widgets/base",
     "model_name": "LayoutModel",
     "state": {
      "_model_module": "@jupyter-widgets/base",
      "_model_module_version": "1.2.0",
      "_model_name": "LayoutModel",
      "_view_count": null,
      "_view_module": "@jupyter-widgets/base",
      "_view_module_version": "1.2.0",
      "_view_name": "LayoutView",
      "align_content": null,
      "align_items": null,
      "align_self": null,
      "border": null,
      "bottom": null,
      "display": null,
      "flex": null,
      "flex_flow": null,
      "grid_area": null,
      "grid_auto_columns": null,
      "grid_auto_flow": null,
      "grid_auto_rows": null,
      "grid_column": null,
      "grid_gap": null,
      "grid_row": null,
      "grid_template_areas": null,
      "grid_template_columns": null,
      "grid_template_rows": null,
      "height": null,
      "justify_content": null,
      "justify_items": null,
      "left": null,
      "margin": null,
      "max_height": null,
      "max_width": null,
      "min_height": null,
      "min_width": null,
      "object_fit": null,
      "object_position": null,
      "order": null,
      "overflow": null,
      "overflow_x": null,
      "overflow_y": null,
      "padding": null,
      "right": null,
      "top": null,
      "visibility": null,
      "width": null
     }
    },
    "319b5e409cce48ebbfb83cc418db5206": {
     "model_module": "@jupyter-widgets/controls",
     "model_name": "FloatProgressModel",
     "state": {
      "_dom_classes": [],
      "_model_module": "@jupyter-widgets/controls",
      "_model_module_version": "1.5.0",
      "_model_name": "FloatProgressModel",
      "_view_count": null,
      "_view_module": "@jupyter-widgets/controls",
      "_view_module_version": "1.5.0",
      "_view_name": "ProgressView",
      "bar_style": "success",
      "description": "Downloading: 100%",
      "description_tooltip": null,
      "layout": "IPY_MODEL_35d29ebd9b3443f48b9d419cfbe86982",
      "max": 16037849,
      "min": 0,
      "orientation": "horizontal",
      "style": "IPY_MODEL_2179150c3d364461ace5cc6d30a14ed5",
      "value": 16037849
     }
    },
    "344e433d287a4ebc865397f7c04b0abf": {
     "model_module": "@jupyter-widgets/controls",
     "model_name": "FloatProgressModel",
     "state": {
      "_dom_classes": [],
      "_model_module": "@jupyter-widgets/controls",
      "_model_module_version": "1.5.0",
      "_model_name": "FloatProgressModel",
      "_view_count": null,
      "_view_module": "@jupyter-widgets/controls",
      "_view_module_version": "1.5.0",
      "_view_name": "ProgressView",
      "bar_style": "success",
      "description": "Downloading: 100%",
      "description_tooltip": null,
      "layout": "IPY_MODEL_70cd97bf222e4887a4de751926464b28",
      "max": 301,
      "min": 0,
      "orientation": "horizontal",
      "style": "IPY_MODEL_bfa0d7cef8db4ebeb571f3a312e872ba",
      "value": 301
     }
    },
    "35d29ebd9b3443f48b9d419cfbe86982": {
     "model_module": "@jupyter-widgets/base",
     "model_name": "LayoutModel",
     "state": {
      "_model_module": "@jupyter-widgets/base",
      "_model_module_version": "1.2.0",
      "_model_name": "LayoutModel",
      "_view_count": null,
      "_view_module": "@jupyter-widgets/base",
      "_view_module_version": "1.2.0",
      "_view_name": "LayoutView",
      "align_content": null,
      "align_items": null,
      "align_self": null,
      "border": null,
      "bottom": null,
      "display": null,
      "flex": null,
      "flex_flow": null,
      "grid_area": null,
      "grid_auto_columns": null,
      "grid_auto_flow": null,
      "grid_auto_rows": null,
      "grid_column": null,
      "grid_gap": null,
      "grid_row": null,
      "grid_template_areas": null,
      "grid_template_columns": null,
      "grid_template_rows": null,
      "height": null,
      "justify_content": null,
      "justify_items": null,
      "left": null,
      "margin": null,
      "max_height": null,
      "max_width": null,
      "min_height": null,
      "min_width": null,
      "object_fit": null,
      "object_position": null,
      "order": null,
      "overflow": null,
      "overflow_x": null,
      "overflow_y": null,
      "padding": null,
      "right": null,
      "top": null,
      "visibility": null,
      "width": null
     }
    },
    "3741895e54c744d19c9447aedcbeddaf": {
     "model_module": "@jupyter-widgets/controls",
     "model_name": "HBoxModel",
     "state": {
      "_dom_classes": [],
      "_model_module": "@jupyter-widgets/controls",
      "_model_module_version": "1.5.0",
      "_model_name": "HBoxModel",
      "_view_count": null,
      "_view_module": "@jupyter-widgets/controls",
      "_view_module_version": "1.5.0",
      "_view_name": "HBoxView",
      "box_style": "",
      "children": [
       "IPY_MODEL_1f55d3f141f1428e89ffadcee0f13375",
       "IPY_MODEL_74edcf37ffb74200a9bdd1ef37e32113"
      ],
      "layout": "IPY_MODEL_bb9dc76cf4fd481aa62a5dea615a8d34"
     }
    },
    "39439a13b59c408b8490d7e6d4435aed": {
     "model_module": "@jupyter-widgets/controls",
     "model_name": "HTMLModel",
     "state": {
      "_dom_classes": [],
      "_model_module": "@jupyter-widgets/controls",
      "_model_module_version": "1.5.0",
      "_model_name": "HTMLModel",
      "_view_count": null,
      "_view_module": "@jupyter-widgets/controls",
      "_view_module_version": "1.5.0",
      "_view_name": "HTMLView",
      "description": "",
      "description_tooltip": null,
      "layout": "IPY_MODEL_c1c91f665af14617819e82106dc9edf5",
      "placeholder": "​",
      "style": "IPY_MODEL_df39b2195d074e6aa9b529c5a985673e",
      "value": " 16.0M/16.0M [00:00&lt;00:00, 20.6MB/s]"
     }
    },
    "3b14d7e03f824770b4690358eeee336c": {
     "model_module": "@jupyter-widgets/controls",
     "model_name": "HTMLModel",
     "state": {
      "_dom_classes": [],
      "_model_module": "@jupyter-widgets/controls",
      "_model_module_version": "1.5.0",
      "_model_name": "HTMLModel",
      "_view_count": null,
      "_view_module": "@jupyter-widgets/controls",
      "_view_module_version": "1.5.0",
      "_view_name": "HTMLView",
      "description": "",
      "description_tooltip": null,
      "layout": "IPY_MODEL_9051e1ac5fe045e5841fe525ab46967f",
      "placeholder": "​",
      "style": "IPY_MODEL_4add1fb330d940b3814f312256d75779",
      "value": " 301/301 [00:00&lt;00:00, 4.34kB/s]"
     }
    },
    "3db400edccf14dcfa7e41513e77cf571": {
     "model_module": "@jupyter-widgets/base",
     "model_name": "LayoutModel",
     "state": {
      "_model_module": "@jupyter-widgets/base",
      "_model_module_version": "1.2.0",
      "_model_name": "LayoutModel",
      "_view_count": null,
      "_view_module": "@jupyter-widgets/base",
      "_view_module_version": "1.2.0",
      "_view_name": "LayoutView",
      "align_content": null,
      "align_items": null,
      "align_self": null,
      "border": null,
      "bottom": null,
      "display": null,
      "flex": null,
      "flex_flow": null,
      "grid_area": null,
      "grid_auto_columns": null,
      "grid_auto_flow": null,
      "grid_auto_rows": null,
      "grid_column": null,
      "grid_gap": null,
      "grid_row": null,
      "grid_template_areas": null,
      "grid_template_columns": null,
      "grid_template_rows": null,
      "height": null,
      "justify_content": null,
      "justify_items": null,
      "left": null,
      "margin": null,
      "max_height": null,
      "max_width": null,
      "min_height": null,
      "min_width": null,
      "object_fit": null,
      "object_position": null,
      "order": null,
      "overflow": null,
      "overflow_x": null,
      "overflow_y": null,
      "padding": null,
      "right": null,
      "top": null,
      "visibility": null,
      "width": null
     }
    },
    "3eadabd3889a49c7bfc8c7a977006053": {
     "model_module": "@jupyter-widgets/base",
     "model_name": "LayoutModel",
     "state": {
      "_model_module": "@jupyter-widgets/base",
      "_model_module_version": "1.2.0",
      "_model_name": "LayoutModel",
      "_view_count": null,
      "_view_module": "@jupyter-widgets/base",
      "_view_module_version": "1.2.0",
      "_view_name": "LayoutView",
      "align_content": null,
      "align_items": null,
      "align_self": null,
      "border": null,
      "bottom": null,
      "display": null,
      "flex": null,
      "flex_flow": null,
      "grid_area": null,
      "grid_auto_columns": null,
      "grid_auto_flow": null,
      "grid_auto_rows": null,
      "grid_column": null,
      "grid_gap": null,
      "grid_row": null,
      "grid_template_areas": null,
      "grid_template_columns": null,
      "grid_template_rows": null,
      "height": null,
      "justify_content": null,
      "justify_items": null,
      "left": null,
      "margin": null,
      "max_height": null,
      "max_width": null,
      "min_height": null,
      "min_width": null,
      "object_fit": null,
      "object_position": null,
      "order": null,
      "overflow": null,
      "overflow_x": null,
      "overflow_y": null,
      "padding": null,
      "right": null,
      "top": null,
      "visibility": null,
      "width": null
     }
    },
    "4112bbcd54ec4a1a89296ba8cd71ef4c": {
     "model_module": "@jupyter-widgets/controls",
     "model_name": "DescriptionStyleModel",
     "state": {
      "_model_module": "@jupyter-widgets/controls",
      "_model_module_version": "1.5.0",
      "_model_name": "DescriptionStyleModel",
      "_view_count": null,
      "_view_module": "@jupyter-widgets/base",
      "_view_module_version": "1.2.0",
      "_view_name": "StyleView",
      "description_width": ""
     }
    },
    "41bf3d3a8eeb4f6289b1dbc48dcdd941": {
     "model_module": "@jupyter-widgets/controls",
     "model_name": "FloatProgressModel",
     "state": {
      "_dom_classes": [],
      "_model_module": "@jupyter-widgets/controls",
      "_model_module_version": "1.5.0",
      "_model_name": "FloatProgressModel",
      "_view_count": null,
      "_view_module": "@jupyter-widgets/controls",
      "_view_module_version": "1.5.0",
      "_view_name": "ProgressView",
      "bar_style": "success",
      "description": "Downloading: 100%",
      "description_tooltip": null,
      "layout": "IPY_MODEL_c5358dd0e1084ba09e610720ce45b667",
      "max": 2888,
      "min": 0,
      "orientation": "horizontal",
      "style": "IPY_MODEL_0ac381ed998d43038edc309114b76f0c",
      "value": 2888
     }
    },
    "42ad6eda8c864fb488a2451d0db412d2": {
     "model_module": "@jupyter-widgets/controls",
     "model_name": "HTMLModel",
     "state": {
      "_dom_classes": [],
      "_model_module": "@jupyter-widgets/controls",
      "_model_module_version": "1.5.0",
      "_model_name": "HTMLModel",
      "_view_count": null,
      "_view_module": "@jupyter-widgets/controls",
      "_view_module_version": "1.5.0",
      "_view_name": "HTMLView",
      "description": "",
      "description_tooltip": null,
      "layout": "IPY_MODEL_ab7c465c03b64d3ea7f7a1b2e99d99b6",
      "placeholder": "​",
      "style": "IPY_MODEL_e558494847414c9fb580c729fdef76a0",
      "value": " 112/112 [00:00&lt;00:00, 762B/s]"
     }
    },
    "4326d942caec42ab8c4dc441cc31a864": {
     "model_module": "@jupyter-widgets/controls",
     "model_name": "ProgressStyleModel",
     "state": {
      "_model_module": "@jupyter-widgets/controls",
      "_model_module_version": "1.5.0",
      "_model_name": "ProgressStyleModel",
      "_view_count": null,
      "_view_module": "@jupyter-widgets/base",
      "_view_module_version": "1.2.0",
      "_view_name": "StyleView",
      "bar_color": null,
      "description_width": "initial"
     }
    },
    "4507c13f62ab439885b7d88446b34ab3": {
     "model_module": "@jupyter-widgets/controls",
     "model_name": "FloatProgressModel",
     "state": {
      "_dom_classes": [],
      "_model_module": "@jupyter-widgets/controls",
      "_model_module_version": "1.5.0",
      "_model_name": "FloatProgressModel",
      "_view_count": null,
      "_view_module": "@jupyter-widgets/controls",
      "_view_module_version": "1.5.0",
      "_view_name": "ProgressView",
      "bar_style": "success",
      "description": "Downloading: 100%",
      "description_tooltip": null,
      "layout": "IPY_MODEL_9d8613fbd1e24a2d8ea0e6de21811447",
      "max": 109540,
      "min": 0,
      "orientation": "horizontal",
      "style": "IPY_MODEL_163c9bd81eaf4f748788f86cb1b0d020",
      "value": 109540
     }
    },
    "45afd409af3d45ecab65ec9e339f6283": {
     "model_module": "@jupyter-widgets/controls",
     "model_name": "FloatProgressModel",
     "state": {
      "_dom_classes": [],
      "_model_module": "@jupyter-widgets/controls",
      "_model_module_version": "1.5.0",
      "_model_name": "FloatProgressModel",
      "_view_count": null,
      "_view_module": "@jupyter-widgets/controls",
      "_view_module_version": "1.5.0",
      "_view_name": "ProgressView",
      "bar_style": "success",
      "description": "Downloading: 100%",
      "description_tooltip": null,
      "layout": "IPY_MODEL_17eb0a7fa4044dd49d9496e6237f2999",
      "max": 3740,
      "min": 0,
      "orientation": "horizontal",
      "style": "IPY_MODEL_efbbfa305c064523969c9f31070d32b8",
      "value": 3740
     }
    },
    "47e9b872abb249b8a549bb93637f9229": {
     "model_module": "@jupyter-widgets/controls",
     "model_name": "ProgressStyleModel",
     "state": {
      "_model_module": "@jupyter-widgets/controls",
      "_model_module_version": "1.5.0",
      "_model_name": "ProgressStyleModel",
      "_view_count": null,
      "_view_module": "@jupyter-widgets/base",
      "_view_module_version": "1.2.0",
      "_view_name": "StyleView",
      "bar_color": null,
      "description_width": "initial"
     }
    },
    "4add1fb330d940b3814f312256d75779": {
     "model_module": "@jupyter-widgets/controls",
     "model_name": "DescriptionStyleModel",
     "state": {
      "_model_module": "@jupyter-widgets/controls",
      "_model_module_version": "1.5.0",
      "_model_name": "DescriptionStyleModel",
      "_view_count": null,
      "_view_module": "@jupyter-widgets/base",
      "_view_module_version": "1.2.0",
      "_view_name": "StyleView",
      "description_width": ""
     }
    },
    "4c448335076c41b4b933882e6a91b291": {
     "model_module": "@jupyter-widgets/controls",
     "model_name": "HTMLModel",
     "state": {
      "_dom_classes": [],
      "_model_module": "@jupyter-widgets/controls",
      "_model_module_version": "1.5.0",
      "_model_name": "HTMLModel",
      "_view_count": null,
      "_view_module": "@jupyter-widgets/controls",
      "_view_module_version": "1.5.0",
      "_view_name": "HTMLView",
      "description": "",
      "description_tooltip": null,
      "layout": "IPY_MODEL_20927fb2af824e41af42456fb3dd578e",
      "placeholder": "​",
      "style": "IPY_MODEL_17828252b76b4ec69a6982360a42633a",
      "value": " 110k/110k [00:00&lt;00:00, 729kB/s]"
     }
    },
    "4d01daf666e24990a6597ad99444f4bc": {
     "model_module": "@jupyter-widgets/controls",
     "model_name": "DescriptionStyleModel",
     "state": {
      "_model_module": "@jupyter-widgets/controls",
      "_model_module_version": "1.5.0",
      "_model_name": "DescriptionStyleModel",
      "_view_count": null,
      "_view_module": "@jupyter-widgets/base",
      "_view_module_version": "1.2.0",
      "_view_name": "StyleView",
      "description_width": ""
     }
    },
    "4e137b1760fb47be8ed6904c48687096": {
     "model_module": "@jupyter-widgets/base",
     "model_name": "LayoutModel",
     "state": {
      "_model_module": "@jupyter-widgets/base",
      "_model_module_version": "1.2.0",
      "_model_name": "LayoutModel",
      "_view_count": null,
      "_view_module": "@jupyter-widgets/base",
      "_view_module_version": "1.2.0",
      "_view_name": "LayoutView",
      "align_content": null,
      "align_items": null,
      "align_self": null,
      "border": null,
      "bottom": null,
      "display": null,
      "flex": null,
      "flex_flow": null,
      "grid_area": null,
      "grid_auto_columns": null,
      "grid_auto_flow": null,
      "grid_auto_rows": null,
      "grid_column": null,
      "grid_gap": null,
      "grid_row": null,
      "grid_template_areas": null,
      "grid_template_columns": null,
      "grid_template_rows": null,
      "height": null,
      "justify_content": null,
      "justify_items": null,
      "left": null,
      "margin": null,
      "max_height": null,
      "max_width": null,
      "min_height": null,
      "min_width": null,
      "object_fit": null,
      "object_position": null,
      "order": null,
      "overflow": null,
      "overflow_x": null,
      "overflow_y": null,
      "padding": null,
      "right": null,
      "top": null,
      "visibility": null,
      "width": null
     }
    },
    "5190a3f7744e4fa29aa3632e77790f62": {
     "model_module": "@jupyter-widgets/base",
     "model_name": "LayoutModel",
     "state": {
      "_model_module": "@jupyter-widgets/base",
      "_model_module_version": "1.2.0",
      "_model_name": "LayoutModel",
      "_view_count": null,
      "_view_module": "@jupyter-widgets/base",
      "_view_module_version": "1.2.0",
      "_view_name": "LayoutView",
      "align_content": null,
      "align_items": null,
      "align_self": null,
      "border": null,
      "bottom": null,
      "display": null,
      "flex": null,
      "flex_flow": null,
      "grid_area": null,
      "grid_auto_columns": null,
      "grid_auto_flow": null,
      "grid_auto_rows": null,
      "grid_column": null,
      "grid_gap": null,
      "grid_row": null,
      "grid_template_areas": null,
      "grid_template_columns": null,
      "grid_template_rows": null,
      "height": null,
      "justify_content": null,
      "justify_items": null,
      "left": null,
      "margin": null,
      "max_height": null,
      "max_width": null,
      "min_height": null,
      "min_width": null,
      "object_fit": null,
      "object_position": null,
      "order": null,
      "overflow": null,
      "overflow_x": null,
      "overflow_y": null,
      "padding": null,
      "right": null,
      "top": null,
      "visibility": null,
      "width": null
     }
    },
    "51f99501eeec4526a9508ae721681295": {
     "model_module": "@jupyter-widgets/base",
     "model_name": "LayoutModel",
     "state": {
      "_model_module": "@jupyter-widgets/base",
      "_model_module_version": "1.2.0",
      "_model_name": "LayoutModel",
      "_view_count": null,
      "_view_module": "@jupyter-widgets/base",
      "_view_module_version": "1.2.0",
      "_view_name": "LayoutView",
      "align_content": null,
      "align_items": null,
      "align_self": null,
      "border": null,
      "bottom": null,
      "display": null,
      "flex": null,
      "flex_flow": null,
      "grid_area": null,
      "grid_auto_columns": null,
      "grid_auto_flow": null,
      "grid_auto_rows": null,
      "grid_column": null,
      "grid_gap": null,
      "grid_row": null,
      "grid_template_areas": null,
      "grid_template_columns": null,
      "grid_template_rows": null,
      "height": null,
      "justify_content": null,
      "justify_items": null,
      "left": null,
      "margin": null,
      "max_height": null,
      "max_width": null,
      "min_height": null,
      "min_width": null,
      "object_fit": null,
      "object_position": null,
      "order": null,
      "overflow": null,
      "overflow_x": null,
      "overflow_y": null,
      "padding": null,
      "right": null,
      "top": null,
      "visibility": null,
      "width": null
     }
    },
    "57948f042d264f179f78017aec687394": {
     "model_module": "@jupyter-widgets/base",
     "model_name": "LayoutModel",
     "state": {
      "_model_module": "@jupyter-widgets/base",
      "_model_module_version": "1.2.0",
      "_model_name": "LayoutModel",
      "_view_count": null,
      "_view_module": "@jupyter-widgets/base",
      "_view_module_version": "1.2.0",
      "_view_name": "LayoutView",
      "align_content": null,
      "align_items": null,
      "align_self": null,
      "border": null,
      "bottom": null,
      "display": null,
      "flex": null,
      "flex_flow": null,
      "grid_area": null,
      "grid_auto_columns": null,
      "grid_auto_flow": null,
      "grid_auto_rows": null,
      "grid_column": null,
      "grid_gap": null,
      "grid_row": null,
      "grid_template_areas": null,
      "grid_template_columns": null,
      "grid_template_rows": null,
      "height": null,
      "justify_content": null,
      "justify_items": null,
      "left": null,
      "margin": null,
      "max_height": null,
      "max_width": null,
      "min_height": null,
      "min_width": null,
      "object_fit": null,
      "object_position": null,
      "order": null,
      "overflow": null,
      "overflow_x": null,
      "overflow_y": null,
      "padding": null,
      "right": null,
      "top": null,
      "visibility": null,
      "width": null
     }
    },
    "57ebdecbecad493ea70109d9b1ef8b27": {
     "model_module": "@jupyter-widgets/controls",
     "model_name": "ProgressStyleModel",
     "state": {
      "_model_module": "@jupyter-widgets/controls",
      "_model_module_version": "1.5.0",
      "_model_name": "ProgressStyleModel",
      "_view_count": null,
      "_view_module": "@jupyter-widgets/base",
      "_view_module_version": "1.2.0",
      "_view_name": "StyleView",
      "bar_color": null,
      "description_width": "initial"
     }
    },
    "591b59e600f844c7905e62890be0d187": {
     "model_module": "@jupyter-widgets/controls",
     "model_name": "HTMLModel",
     "state": {
      "_dom_classes": [],
      "_model_module": "@jupyter-widgets/controls",
      "_model_module_version": "1.5.0",
      "_model_name": "HTMLModel",
      "_view_count": null,
      "_view_module": "@jupyter-widgets/controls",
      "_view_module_version": "1.5.0",
      "_view_name": "HTMLView",
      "description": "",
      "description_tooltip": null,
      "layout": "IPY_MODEL_1c92824feb214c6da2761bf24d931372",
      "placeholder": "​",
      "style": "IPY_MODEL_73f746f002cd4a53b8a4a2c17f81e4ae",
      "value": " 3.74k/3.74k [00:00&lt;00:00, 6.08kB/s]"
     }
    },
    "6031a1d780564e52919f9b9250f92161": {
     "model_module": "@jupyter-widgets/controls",
     "model_name": "HBoxModel",
     "state": {
      "_dom_classes": [],
      "_model_module": "@jupyter-widgets/controls",
      "_model_module_version": "1.5.0",
      "_model_name": "HBoxModel",
      "_view_count": null,
      "_view_module": "@jupyter-widgets/controls",
      "_view_module_version": "1.5.0",
      "_view_name": "HBoxView",
      "box_style": "",
      "children": [
       "IPY_MODEL_344e433d287a4ebc865397f7c04b0abf",
       "IPY_MODEL_d8737f74859a43958b2fa72404a942e6"
      ],
      "layout": "IPY_MODEL_4e137b1760fb47be8ed6904c48687096"
     }
    },
    "618ba76a415840bf872373ca009e7b9d": {
     "model_module": "@jupyter-widgets/controls",
     "model_name": "HBoxModel",
     "state": {
      "_dom_classes": [],
      "_model_module": "@jupyter-widgets/controls",
      "_model_module_version": "1.5.0",
      "_model_name": "HBoxModel",
      "_view_count": null,
      "_view_module": "@jupyter-widgets/controls",
      "_view_module_version": "1.5.0",
      "_view_name": "HBoxView",
      "box_style": "",
      "children": [
       "IPY_MODEL_d160e2e85b264756b55af3cfb9ddbd57",
       "IPY_MODEL_f341e2c4ccb7417aad9e68a9bba8e510"
      ],
      "layout": "IPY_MODEL_29df1615dc314e7cbfcd2ac15c560a94"
     }
    },
    "61e267a9ec734891afad3d85ec2b777f": {
     "model_module": "@jupyter-widgets/base",
     "model_name": "LayoutModel",
     "state": {
      "_model_module": "@jupyter-widgets/base",
      "_model_module_version": "1.2.0",
      "_model_name": "LayoutModel",
      "_view_count": null,
      "_view_module": "@jupyter-widgets/base",
      "_view_module_version": "1.2.0",
      "_view_name": "LayoutView",
      "align_content": null,
      "align_items": null,
      "align_self": null,
      "border": null,
      "bottom": null,
      "display": null,
      "flex": null,
      "flex_flow": null,
      "grid_area": null,
      "grid_auto_columns": null,
      "grid_auto_flow": null,
      "grid_auto_rows": null,
      "grid_column": null,
      "grid_gap": null,
      "grid_row": null,
      "grid_template_areas": null,
      "grid_template_columns": null,
      "grid_template_rows": null,
      "height": null,
      "justify_content": null,
      "justify_items": null,
      "left": null,
      "margin": null,
      "max_height": null,
      "max_width": null,
      "min_height": null,
      "min_width": null,
      "object_fit": null,
      "object_position": null,
      "order": null,
      "overflow": null,
      "overflow_x": null,
      "overflow_y": null,
      "padding": null,
      "right": null,
      "top": null,
      "visibility": null,
      "width": null
     }
    },
    "63535d2b15c440b4a0790f836faa8282": {
     "model_module": "@jupyter-widgets/base",
     "model_name": "LayoutModel",
     "state": {
      "_model_module": "@jupyter-widgets/base",
      "_model_module_version": "1.2.0",
      "_model_name": "LayoutModel",
      "_view_count": null,
      "_view_module": "@jupyter-widgets/base",
      "_view_module_version": "1.2.0",
      "_view_name": "LayoutView",
      "align_content": null,
      "align_items": null,
      "align_self": null,
      "border": null,
      "bottom": null,
      "display": null,
      "flex": null,
      "flex_flow": null,
      "grid_area": null,
      "grid_auto_columns": null,
      "grid_auto_flow": null,
      "grid_auto_rows": null,
      "grid_column": null,
      "grid_gap": null,
      "grid_row": null,
      "grid_template_areas": null,
      "grid_template_columns": null,
      "grid_template_rows": null,
      "height": null,
      "justify_content": null,
      "justify_items": null,
      "left": null,
      "margin": null,
      "max_height": null,
      "max_width": null,
      "min_height": null,
      "min_width": null,
      "object_fit": null,
      "object_position": null,
      "order": null,
      "overflow": null,
      "overflow_x": null,
      "overflow_y": null,
      "padding": null,
      "right": null,
      "top": null,
      "visibility": null,
      "width": null
     }
    },
    "638c02116e6e45b9b6adcae6ad0bd289": {
     "model_module": "@jupyter-widgets/base",
     "model_name": "LayoutModel",
     "state": {
      "_model_module": "@jupyter-widgets/base",
      "_model_module_version": "1.2.0",
      "_model_name": "LayoutModel",
      "_view_count": null,
      "_view_module": "@jupyter-widgets/base",
      "_view_module_version": "1.2.0",
      "_view_name": "LayoutView",
      "align_content": null,
      "align_items": null,
      "align_self": null,
      "border": null,
      "bottom": null,
      "display": null,
      "flex": null,
      "flex_flow": null,
      "grid_area": null,
      "grid_auto_columns": null,
      "grid_auto_flow": null,
      "grid_auto_rows": null,
      "grid_column": null,
      "grid_gap": null,
      "grid_row": null,
      "grid_template_areas": null,
      "grid_template_columns": null,
      "grid_template_rows": null,
      "height": null,
      "justify_content": null,
      "justify_items": null,
      "left": null,
      "margin": null,
      "max_height": null,
      "max_width": null,
      "min_height": null,
      "min_width": null,
      "object_fit": null,
      "object_position": null,
      "order": null,
      "overflow": null,
      "overflow_x": null,
      "overflow_y": null,
      "padding": null,
      "right": null,
      "top": null,
      "visibility": null,
      "width": null
     }
    },
    "66877b55b98d4755908c0193c0d6c7a0": {
     "model_module": "@jupyter-widgets/controls",
     "model_name": "HTMLModel",
     "state": {
      "_dom_classes": [],
      "_model_module": "@jupyter-widgets/controls",
      "_model_module_version": "1.5.0",
      "_model_name": "HTMLModel",
      "_view_count": null,
      "_view_module": "@jupyter-widgets/controls",
      "_view_module_version": "1.5.0",
      "_view_name": "HTMLView",
      "description": "",
      "description_tooltip": null,
      "layout": "IPY_MODEL_51f99501eeec4526a9508ae721681295",
      "placeholder": "​",
      "style": "IPY_MODEL_b2ce446e9dfc4eb1b7ac14519f528d5d",
      "value": " 112/112 [00:00&lt;00:00, 1.30kB/s]"
     }
    },
    "6efa6b26abfd4ff59bd15d55f9fadd51": {
     "model_module": "@jupyter-widgets/controls",
     "model_name": "ProgressStyleModel",
     "state": {
      "_model_module": "@jupyter-widgets/controls",
      "_model_module_version": "1.5.0",
      "_model_name": "ProgressStyleModel",
      "_view_count": null,
      "_view_module": "@jupyter-widgets/base",
      "_view_module_version": "1.2.0",
      "_view_name": "StyleView",
      "bar_color": null,
      "description_width": "initial"
     }
    },
    "70cd97bf222e4887a4de751926464b28": {
     "model_module": "@jupyter-widgets/base",
     "model_name": "LayoutModel",
     "state": {
      "_model_module": "@jupyter-widgets/base",
      "_model_module_version": "1.2.0",
      "_model_name": "LayoutModel",
      "_view_count": null,
      "_view_module": "@jupyter-widgets/base",
      "_view_module_version": "1.2.0",
      "_view_name": "LayoutView",
      "align_content": null,
      "align_items": null,
      "align_self": null,
      "border": null,
      "bottom": null,
      "display": null,
      "flex": null,
      "flex_flow": null,
      "grid_area": null,
      "grid_auto_columns": null,
      "grid_auto_flow": null,
      "grid_auto_rows": null,
      "grid_column": null,
      "grid_gap": null,
      "grid_row": null,
      "grid_template_areas": null,
      "grid_template_columns": null,
      "grid_template_rows": null,
      "height": null,
      "justify_content": null,
      "justify_items": null,
      "left": null,
      "margin": null,
      "max_height": null,
      "max_width": null,
      "min_height": null,
      "min_width": null,
      "object_fit": null,
      "object_position": null,
      "order": null,
      "overflow": null,
      "overflow_x": null,
      "overflow_y": null,
      "padding": null,
      "right": null,
      "top": null,
      "visibility": null,
      "width": null
     }
    },
    "72d3ce1ab5e34724a160582b88089c2b": {
     "model_module": "@jupyter-widgets/base",
     "model_name": "LayoutModel",
     "state": {
      "_model_module": "@jupyter-widgets/base",
      "_model_module_version": "1.2.0",
      "_model_name": "LayoutModel",
      "_view_count": null,
      "_view_module": "@jupyter-widgets/base",
      "_view_module_version": "1.2.0",
      "_view_name": "LayoutView",
      "align_content": null,
      "align_items": null,
      "align_self": null,
      "border": null,
      "bottom": null,
      "display": null,
      "flex": null,
      "flex_flow": null,
      "grid_area": null,
      "grid_auto_columns": null,
      "grid_auto_flow": null,
      "grid_auto_rows": null,
      "grid_column": null,
      "grid_gap": null,
      "grid_row": null,
      "grid_template_areas": null,
      "grid_template_columns": null,
      "grid_template_rows": null,
      "height": null,
      "justify_content": null,
      "justify_items": null,
      "left": null,
      "margin": null,
      "max_height": null,
      "max_width": null,
      "min_height": null,
      "min_width": null,
      "object_fit": null,
      "object_position": null,
      "order": null,
      "overflow": null,
      "overflow_x": null,
      "overflow_y": null,
      "padding": null,
      "right": null,
      "top": null,
      "visibility": null,
      "width": null
     }
    },
    "73f746f002cd4a53b8a4a2c17f81e4ae": {
     "model_module": "@jupyter-widgets/controls",
     "model_name": "DescriptionStyleModel",
     "state": {
      "_model_module": "@jupyter-widgets/controls",
      "_model_module_version": "1.5.0",
      "_model_name": "DescriptionStyleModel",
      "_view_count": null,
      "_view_module": "@jupyter-widgets/base",
      "_view_module_version": "1.2.0",
      "_view_name": "StyleView",
      "description_width": ""
     }
    },
    "74ec4bae319840bd91f789e7e8e8295f": {
     "model_module": "@jupyter-widgets/base",
     "model_name": "LayoutModel",
     "state": {
      "_model_module": "@jupyter-widgets/base",
      "_model_module_version": "1.2.0",
      "_model_name": "LayoutModel",
      "_view_count": null,
      "_view_module": "@jupyter-widgets/base",
      "_view_module_version": "1.2.0",
      "_view_name": "LayoutView",
      "align_content": null,
      "align_items": null,
      "align_self": null,
      "border": null,
      "bottom": null,
      "display": null,
      "flex": null,
      "flex_flow": null,
      "grid_area": null,
      "grid_auto_columns": null,
      "grid_auto_flow": null,
      "grid_auto_rows": null,
      "grid_column": null,
      "grid_gap": null,
      "grid_row": null,
      "grid_template_areas": null,
      "grid_template_columns": null,
      "grid_template_rows": null,
      "height": null,
      "justify_content": null,
      "justify_items": null,
      "left": null,
      "margin": null,
      "max_height": null,
      "max_width": null,
      "min_height": null,
      "min_width": null,
      "object_fit": null,
      "object_position": null,
      "order": null,
      "overflow": null,
      "overflow_x": null,
      "overflow_y": null,
      "padding": null,
      "right": null,
      "top": null,
      "visibility": null,
      "width": null
     }
    },
    "74edcf37ffb74200a9bdd1ef37e32113": {
     "model_module": "@jupyter-widgets/controls",
     "model_name": "HTMLModel",
     "state": {
      "_dom_classes": [],
      "_model_module": "@jupyter-widgets/controls",
      "_model_module_version": "1.5.0",
      "_model_name": "HTMLModel",
      "_view_count": null,
      "_view_module": "@jupyter-widgets/controls",
      "_view_module_version": "1.5.0",
      "_view_name": "HTMLView",
      "description": "",
      "description_tooltip": null,
      "layout": "IPY_MODEL_ebe0eaa2e8f4469089c3b01438db2789",
      "placeholder": "​",
      "style": "IPY_MODEL_4112bbcd54ec4a1a89296ba8cd71ef4c",
      "value": " 110k/110k [00:00&lt;00:00, 543kB/s]"
     }
    },
    "75a410a5ebe5497e8434f522218ef08c": {
     "model_module": "@jupyter-widgets/base",
     "model_name": "LayoutModel",
     "state": {
      "_model_module": "@jupyter-widgets/base",
      "_model_module_version": "1.2.0",
      "_model_name": "LayoutModel",
      "_view_count": null,
      "_view_module": "@jupyter-widgets/base",
      "_view_module_version": "1.2.0",
      "_view_name": "LayoutView",
      "align_content": null,
      "align_items": null,
      "align_self": null,
      "border": null,
      "bottom": null,
      "display": null,
      "flex": null,
      "flex_flow": null,
      "grid_area": null,
      "grid_auto_columns": null,
      "grid_auto_flow": null,
      "grid_auto_rows": null,
      "grid_column": null,
      "grid_gap": null,
      "grid_row": null,
      "grid_template_areas": null,
      "grid_template_columns": null,
      "grid_template_rows": null,
      "height": null,
      "justify_content": null,
      "justify_items": null,
      "left": null,
      "margin": null,
      "max_height": null,
      "max_width": null,
      "min_height": null,
      "min_width": null,
      "object_fit": null,
      "object_position": null,
      "order": null,
      "overflow": null,
      "overflow_x": null,
      "overflow_y": null,
      "padding": null,
      "right": null,
      "top": null,
      "visibility": null,
      "width": null
     }
    },
    "86dfebab45c845ce9f81e32d1a562b88": {
     "model_module": "@jupyter-widgets/base",
     "model_name": "LayoutModel",
     "state": {
      "_model_module": "@jupyter-widgets/base",
      "_model_module_version": "1.2.0",
      "_model_name": "LayoutModel",
      "_view_count": null,
      "_view_module": "@jupyter-widgets/base",
      "_view_module_version": "1.2.0",
      "_view_name": "LayoutView",
      "align_content": null,
      "align_items": null,
      "align_self": null,
      "border": null,
      "bottom": null,
      "display": null,
      "flex": null,
      "flex_flow": null,
      "grid_area": null,
      "grid_auto_columns": null,
      "grid_auto_flow": null,
      "grid_auto_rows": null,
      "grid_column": null,
      "grid_gap": null,
      "grid_row": null,
      "grid_template_areas": null,
      "grid_template_columns": null,
      "grid_template_rows": null,
      "height": null,
      "justify_content": null,
      "justify_items": null,
      "left": null,
      "margin": null,
      "max_height": null,
      "max_width": null,
      "min_height": null,
      "min_width": null,
      "object_fit": null,
      "object_position": null,
      "order": null,
      "overflow": null,
      "overflow_x": null,
      "overflow_y": null,
      "padding": null,
      "right": null,
      "top": null,
      "visibility": null,
      "width": null
     }
    },
    "8d700582af014cb7bf8ec06ca10bef56": {
     "model_module": "@jupyter-widgets/controls",
     "model_name": "HBoxModel",
     "state": {
      "_dom_classes": [],
      "_model_module": "@jupyter-widgets/controls",
      "_model_module_version": "1.5.0",
      "_model_name": "HBoxModel",
      "_view_count": null,
      "_view_module": "@jupyter-widgets/controls",
      "_view_module_version": "1.5.0",
      "_view_name": "HBoxView",
      "box_style": "",
      "children": [
       "IPY_MODEL_2ea2b0de6f55426dbcf77681797451dc",
       "IPY_MODEL_42ad6eda8c864fb488a2451d0db412d2"
      ],
      "layout": "IPY_MODEL_57948f042d264f179f78017aec687394"
     }
    },
    "8e23182519864f05b1687c804c92459a": {
     "model_module": "@jupyter-widgets/controls",
     "model_name": "HBoxModel",
     "state": {
      "_dom_classes": [],
      "_model_module": "@jupyter-widgets/controls",
      "_model_module_version": "1.5.0",
      "_model_name": "HBoxModel",
      "_view_count": null,
      "_view_module": "@jupyter-widgets/controls",
      "_view_module_version": "1.5.0",
      "_view_name": "HBoxView",
      "box_style": "",
      "children": [
       "IPY_MODEL_241d960f410e44c4a9c099d22e1c9a5b",
       "IPY_MODEL_39439a13b59c408b8490d7e6d4435aed"
      ],
      "layout": "IPY_MODEL_b14449f4d9ac4de89a9239a30d8d2bf1"
     }
    },
    "8fb17c6bb0aa45cbad76ea30d2bcea8f": {
     "model_module": "@jupyter-widgets/controls",
     "model_name": "FloatProgressModel",
     "state": {
      "_dom_classes": [],
      "_model_module": "@jupyter-widgets/controls",
      "_model_module_version": "1.5.0",
      "_model_name": "FloatProgressModel",
      "_view_count": null,
      "_view_module": "@jupyter-widgets/controls",
      "_view_module_version": "1.5.0",
      "_view_name": "ProgressView",
      "bar_style": "success",
      "description": "Downloading: 100%",
      "description_tooltip": null,
      "layout": "IPY_MODEL_3db400edccf14dcfa7e41513e77cf571",
      "max": 301,
      "min": 0,
      "orientation": "horizontal",
      "style": "IPY_MODEL_165a292d25364dc89f7b80c3361d9796",
      "value": 301
     }
    },
    "9051e1ac5fe045e5841fe525ab46967f": {
     "model_module": "@jupyter-widgets/base",
     "model_name": "LayoutModel",
     "state": {
      "_model_module": "@jupyter-widgets/base",
      "_model_module_version": "1.2.0",
      "_model_name": "LayoutModel",
      "_view_count": null,
      "_view_module": "@jupyter-widgets/base",
      "_view_module_version": "1.2.0",
      "_view_name": "LayoutView",
      "align_content": null,
      "align_items": null,
      "align_self": null,
      "border": null,
      "bottom": null,
      "display": null,
      "flex": null,
      "flex_flow": null,
      "grid_area": null,
      "grid_auto_columns": null,
      "grid_auto_flow": null,
      "grid_auto_rows": null,
      "grid_column": null,
      "grid_gap": null,
      "grid_row": null,
      "grid_template_areas": null,
      "grid_template_columns": null,
      "grid_template_rows": null,
      "height": null,
      "justify_content": null,
      "justify_items": null,
      "left": null,
      "margin": null,
      "max_height": null,
      "max_width": null,
      "min_height": null,
      "min_width": null,
      "object_fit": null,
      "object_position": null,
      "order": null,
      "overflow": null,
      "overflow_x": null,
      "overflow_y": null,
      "padding": null,
      "right": null,
      "top": null,
      "visibility": null,
      "width": null
     }
    },
    "932dcb36598446d79ff01310f3eff4f6": {
     "model_module": "@jupyter-widgets/base",
     "model_name": "LayoutModel",
     "state": {
      "_model_module": "@jupyter-widgets/base",
      "_model_module_version": "1.2.0",
      "_model_name": "LayoutModel",
      "_view_count": null,
      "_view_module": "@jupyter-widgets/base",
      "_view_module_version": "1.2.0",
      "_view_name": "LayoutView",
      "align_content": null,
      "align_items": null,
      "align_self": null,
      "border": null,
      "bottom": null,
      "display": null,
      "flex": null,
      "flex_flow": null,
      "grid_area": null,
      "grid_auto_columns": null,
      "grid_auto_flow": null,
      "grid_auto_rows": null,
      "grid_column": null,
      "grid_gap": null,
      "grid_row": null,
      "grid_template_areas": null,
      "grid_template_columns": null,
      "grid_template_rows": null,
      "height": null,
      "justify_content": null,
      "justify_items": null,
      "left": null,
      "margin": null,
      "max_height": null,
      "max_width": null,
      "min_height": null,
      "min_width": null,
      "object_fit": null,
      "object_position": null,
      "order": null,
      "overflow": null,
      "overflow_x": null,
      "overflow_y": null,
      "padding": null,
      "right": null,
      "top": null,
      "visibility": null,
      "width": null
     }
    },
    "93c57fc79f8c4cb7b3677ce94d3c8fea": {
     "model_module": "@jupyter-widgets/controls",
     "model_name": "ProgressStyleModel",
     "state": {
      "_model_module": "@jupyter-widgets/controls",
      "_model_module_version": "1.5.0",
      "_model_name": "ProgressStyleModel",
      "_view_count": null,
      "_view_module": "@jupyter-widgets/base",
      "_view_module_version": "1.2.0",
      "_view_name": "StyleView",
      "bar_color": null,
      "description_width": "initial"
     }
    },
    "93d015d8e9524275aa825c1f8a0422c0": {
     "model_module": "@jupyter-widgets/controls",
     "model_name": "DescriptionStyleModel",
     "state": {
      "_model_module": "@jupyter-widgets/controls",
      "_model_module_version": "1.5.0",
      "_model_name": "DescriptionStyleModel",
      "_view_count": null,
      "_view_module": "@jupyter-widgets/base",
      "_view_module_version": "1.2.0",
      "_view_name": "StyleView",
      "description_width": ""
     }
    },
    "96f77fd8e5aa43dfae6b9a86ba181a5c": {
     "model_module": "@jupyter-widgets/base",
     "model_name": "LayoutModel",
     "state": {
      "_model_module": "@jupyter-widgets/base",
      "_model_module_version": "1.2.0",
      "_model_name": "LayoutModel",
      "_view_count": null,
      "_view_module": "@jupyter-widgets/base",
      "_view_module_version": "1.2.0",
      "_view_name": "LayoutView",
      "align_content": null,
      "align_items": null,
      "align_self": null,
      "border": null,
      "bottom": null,
      "display": null,
      "flex": null,
      "flex_flow": null,
      "grid_area": null,
      "grid_auto_columns": null,
      "grid_auto_flow": null,
      "grid_auto_rows": null,
      "grid_column": null,
      "grid_gap": null,
      "grid_row": null,
      "grid_template_areas": null,
      "grid_template_columns": null,
      "grid_template_rows": null,
      "height": null,
      "justify_content": null,
      "justify_items": null,
      "left": null,
      "margin": null,
      "max_height": null,
      "max_width": null,
      "min_height": null,
      "min_width": null,
      "object_fit": null,
      "object_position": null,
      "order": null,
      "overflow": null,
      "overflow_x": null,
      "overflow_y": null,
      "padding": null,
      "right": null,
      "top": null,
      "visibility": null,
      "width": null
     }
    },
    "9a69e513d4d748cabc7ba55a4cfb75c7": {
     "model_module": "@jupyter-widgets/controls",
     "model_name": "HBoxModel",
     "state": {
      "_dom_classes": [],
      "_model_module": "@jupyter-widgets/controls",
      "_model_module_version": "1.5.0",
      "_model_name": "HBoxModel",
      "_view_count": null,
      "_view_module": "@jupyter-widgets/controls",
      "_view_module_version": "1.5.0",
      "_view_name": "HBoxView",
      "box_style": "",
      "children": [
       "IPY_MODEL_f148da1a6ab3439ba571616a1482465e",
       "IPY_MODEL_66877b55b98d4755908c0193c0d6c7a0"
      ],
      "layout": "IPY_MODEL_2fc42391fa6149fbacc15ea37fd90b3b"
     }
    },
    "9d8613fbd1e24a2d8ea0e6de21811447": {
     "model_module": "@jupyter-widgets/base",
     "model_name": "LayoutModel",
     "state": {
      "_model_module": "@jupyter-widgets/base",
      "_model_module_version": "1.2.0",
      "_model_name": "LayoutModel",
      "_view_count": null,
      "_view_module": "@jupyter-widgets/base",
      "_view_module_version": "1.2.0",
      "_view_name": "LayoutView",
      "align_content": null,
      "align_items": null,
      "align_self": null,
      "border": null,
      "bottom": null,
      "display": null,
      "flex": null,
      "flex_flow": null,
      "grid_area": null,
      "grid_auto_columns": null,
      "grid_auto_flow": null,
      "grid_auto_rows": null,
      "grid_column": null,
      "grid_gap": null,
      "grid_row": null,
      "grid_template_areas": null,
      "grid_template_columns": null,
      "grid_template_rows": null,
      "height": null,
      "justify_content": null,
      "justify_items": null,
      "left": null,
      "margin": null,
      "max_height": null,
      "max_width": null,
      "min_height": null,
      "min_width": null,
      "object_fit": null,
      "object_position": null,
      "order": null,
      "overflow": null,
      "overflow_x": null,
      "overflow_y": null,
      "padding": null,
      "right": null,
      "top": null,
      "visibility": null,
      "width": null
     }
    },
    "a258385aab3d478b88195a9324a39f47": {
     "model_module": "@jupyter-widgets/controls",
     "model_name": "HTMLModel",
     "state": {
      "_dom_classes": [],
      "_model_module": "@jupyter-widgets/controls",
      "_model_module_version": "1.5.0",
      "_model_name": "HTMLModel",
      "_view_count": null,
      "_view_module": "@jupyter-widgets/controls",
      "_view_module_version": "1.5.0",
      "_view_name": "HTMLView",
      "description": "",
      "description_tooltip": null,
      "layout": "IPY_MODEL_96f77fd8e5aa43dfae6b9a86ba181a5c",
      "placeholder": "​",
      "style": "IPY_MODEL_bacf49905c7841209184de03ccf74ded",
      "value": " 15.9M/15.9M [00:00&lt;00:00, 34.4MB/s]"
     }
    },
    "a71a96ba9f4e4e148a7756377c4db5bb": {
     "model_module": "@jupyter-widgets/controls",
     "model_name": "HBoxModel",
     "state": {
      "_dom_classes": [],
      "_model_module": "@jupyter-widgets/controls",
      "_model_module_version": "1.5.0",
      "_model_name": "HBoxModel",
      "_view_count": null,
      "_view_module": "@jupyter-widgets/controls",
      "_view_module_version": "1.5.0",
      "_view_name": "HBoxView",
      "box_style": "",
      "children": [
       "IPY_MODEL_319b5e409cce48ebbfb83cc418db5206",
       "IPY_MODEL_b8cb0b9d9d2940eb95af3a961c8dd8ad"
      ],
      "layout": "IPY_MODEL_e2810fa8bb044f3d80d4ad94778ee17b"
     }
    },
    "ab7c465c03b64d3ea7f7a1b2e99d99b6": {
     "model_module": "@jupyter-widgets/base",
     "model_name": "LayoutModel",
     "state": {
      "_model_module": "@jupyter-widgets/base",
      "_model_module_version": "1.2.0",
      "_model_name": "LayoutModel",
      "_view_count": null,
      "_view_module": "@jupyter-widgets/base",
      "_view_module_version": "1.2.0",
      "_view_name": "LayoutView",
      "align_content": null,
      "align_items": null,
      "align_self": null,
      "border": null,
      "bottom": null,
      "display": null,
      "flex": null,
      "flex_flow": null,
      "grid_area": null,
      "grid_auto_columns": null,
      "grid_auto_flow": null,
      "grid_auto_rows": null,
      "grid_column": null,
      "grid_gap": null,
      "grid_row": null,
      "grid_template_areas": null,
      "grid_template_columns": null,
      "grid_template_rows": null,
      "height": null,
      "justify_content": null,
      "justify_items": null,
      "left": null,
      "margin": null,
      "max_height": null,
      "max_width": null,
      "min_height": null,
      "min_width": null,
      "object_fit": null,
      "object_position": null,
      "order": null,
      "overflow": null,
      "overflow_x": null,
      "overflow_y": null,
      "padding": null,
      "right": null,
      "top": null,
      "visibility": null,
      "width": null
     }
    },
    "b14449f4d9ac4de89a9239a30d8d2bf1": {
     "model_module": "@jupyter-widgets/base",
     "model_name": "LayoutModel",
     "state": {
      "_model_module": "@jupyter-widgets/base",
      "_model_module_version": "1.2.0",
      "_model_name": "LayoutModel",
      "_view_count": null,
      "_view_module": "@jupyter-widgets/base",
      "_view_module_version": "1.2.0",
      "_view_name": "LayoutView",
      "align_content": null,
      "align_items": null,
      "align_self": null,
      "border": null,
      "bottom": null,
      "display": null,
      "flex": null,
      "flex_flow": null,
      "grid_area": null,
      "grid_auto_columns": null,
      "grid_auto_flow": null,
      "grid_auto_rows": null,
      "grid_column": null,
      "grid_gap": null,
      "grid_row": null,
      "grid_template_areas": null,
      "grid_template_columns": null,
      "grid_template_rows": null,
      "height": null,
      "justify_content": null,
      "justify_items": null,
      "left": null,
      "margin": null,
      "max_height": null,
      "max_width": null,
      "min_height": null,
      "min_width": null,
      "object_fit": null,
      "object_position": null,
      "order": null,
      "overflow": null,
      "overflow_x": null,
      "overflow_y": null,
      "padding": null,
      "right": null,
      "top": null,
      "visibility": null,
      "width": null
     }
    },
    "b20dd40311f74c5f8360d501cb1d6f1f": {
     "model_module": "@jupyter-widgets/controls",
     "model_name": "DescriptionStyleModel",
     "state": {
      "_model_module": "@jupyter-widgets/controls",
      "_model_module_version": "1.5.0",
      "_model_name": "DescriptionStyleModel",
      "_view_count": null,
      "_view_module": "@jupyter-widgets/base",
      "_view_module_version": "1.2.0",
      "_view_name": "StyleView",
      "description_width": ""
     }
    },
    "b2ce446e9dfc4eb1b7ac14519f528d5d": {
     "model_module": "@jupyter-widgets/controls",
     "model_name": "DescriptionStyleModel",
     "state": {
      "_model_module": "@jupyter-widgets/controls",
      "_model_module_version": "1.5.0",
      "_model_name": "DescriptionStyleModel",
      "_view_count": null,
      "_view_module": "@jupyter-widgets/base",
      "_view_module_version": "1.2.0",
      "_view_name": "StyleView",
      "description_width": ""
     }
    },
    "b33055ca6cd446e2ab28465ddc453eb2": {
     "model_module": "@jupyter-widgets/controls",
     "model_name": "HBoxModel",
     "state": {
      "_dom_classes": [],
      "_model_module": "@jupyter-widgets/controls",
      "_model_module_version": "1.5.0",
      "_model_name": "HBoxModel",
      "_view_count": null,
      "_view_module": "@jupyter-widgets/controls",
      "_view_module_version": "1.5.0",
      "_view_name": "HBoxView",
      "box_style": "",
      "children": [
       "IPY_MODEL_fa92f0738841488ea49e39805a571b73",
       "IPY_MODEL_c00d4d77a6924a879baf26a7023ebe5f"
      ],
      "layout": "IPY_MODEL_74ec4bae319840bd91f789e7e8e8295f"
     }
    },
    "b3a813d36f39413db4c872ba83457b1d": {
     "model_module": "@jupyter-widgets/controls",
     "model_name": "HBoxModel",
     "state": {
      "_dom_classes": [],
      "_model_module": "@jupyter-widgets/controls",
      "_model_module_version": "1.5.0",
      "_model_name": "HBoxModel",
      "_view_count": null,
      "_view_module": "@jupyter-widgets/controls",
      "_view_module_version": "1.5.0",
      "_view_name": "HBoxView",
      "box_style": "",
      "children": [
       "IPY_MODEL_8fb17c6bb0aa45cbad76ea30d2bcea8f",
       "IPY_MODEL_3b14d7e03f824770b4690358eeee336c"
      ],
      "layout": "IPY_MODEL_18dfe103bf754fe28edb4c4b6401e2fa"
     }
    },
    "b4ceaa06ab29455a833b4ba911df7be4": {
     "model_module": "@jupyter-widgets/base",
     "model_name": "LayoutModel",
     "state": {
      "_model_module": "@jupyter-widgets/base",
      "_model_module_version": "1.2.0",
      "_model_name": "LayoutModel",
      "_view_count": null,
      "_view_module": "@jupyter-widgets/base",
      "_view_module_version": "1.2.0",
      "_view_name": "LayoutView",
      "align_content": null,
      "align_items": null,
      "align_self": null,
      "border": null,
      "bottom": null,
      "display": null,
      "flex": null,
      "flex_flow": null,
      "grid_area": null,
      "grid_auto_columns": null,
      "grid_auto_flow": null,
      "grid_auto_rows": null,
      "grid_column": null,
      "grid_gap": null,
      "grid_row": null,
      "grid_template_areas": null,
      "grid_template_columns": null,
      "grid_template_rows": null,
      "height": null,
      "justify_content": null,
      "justify_items": null,
      "left": null,
      "margin": null,
      "max_height": null,
      "max_width": null,
      "min_height": null,
      "min_width": null,
      "object_fit": null,
      "object_position": null,
      "order": null,
      "overflow": null,
      "overflow_x": null,
      "overflow_y": null,
      "padding": null,
      "right": null,
      "top": null,
      "visibility": null,
      "width": null
     }
    },
    "b5b45e3c48e440f38beb8943d4a0e61d": {
     "model_module": "@jupyter-widgets/controls",
     "model_name": "HBoxModel",
     "state": {
      "_dom_classes": [],
      "_model_module": "@jupyter-widgets/controls",
      "_model_module_version": "1.5.0",
      "_model_name": "HBoxModel",
      "_view_count": null,
      "_view_module": "@jupyter-widgets/controls",
      "_view_module_version": "1.5.0",
      "_view_name": "HBoxView",
      "box_style": "",
      "children": [
       "IPY_MODEL_cdf535bacdb64378a6f89cae505c80d2",
       "IPY_MODEL_2c90e752d57049c28569acbe44ce8195"
      ],
      "layout": "IPY_MODEL_b4ceaa06ab29455a833b4ba911df7be4"
     }
    },
    "b6a1807fd2824cbba4b998763c1f900d": {
     "model_module": "@jupyter-widgets/base",
     "model_name": "LayoutModel",
     "state": {
      "_model_module": "@jupyter-widgets/base",
      "_model_module_version": "1.2.0",
      "_model_name": "LayoutModel",
      "_view_count": null,
      "_view_module": "@jupyter-widgets/base",
      "_view_module_version": "1.2.0",
      "_view_name": "LayoutView",
      "align_content": null,
      "align_items": null,
      "align_self": null,
      "border": null,
      "bottom": null,
      "display": null,
      "flex": null,
      "flex_flow": null,
      "grid_area": null,
      "grid_auto_columns": null,
      "grid_auto_flow": null,
      "grid_auto_rows": null,
      "grid_column": null,
      "grid_gap": null,
      "grid_row": null,
      "grid_template_areas": null,
      "grid_template_columns": null,
      "grid_template_rows": null,
      "height": null,
      "justify_content": null,
      "justify_items": null,
      "left": null,
      "margin": null,
      "max_height": null,
      "max_width": null,
      "min_height": null,
      "min_width": null,
      "object_fit": null,
      "object_position": null,
      "order": null,
      "overflow": null,
      "overflow_x": null,
      "overflow_y": null,
      "padding": null,
      "right": null,
      "top": null,
      "visibility": null,
      "width": null
     }
    },
    "b8cb0b9d9d2940eb95af3a961c8dd8ad": {
     "model_module": "@jupyter-widgets/controls",
     "model_name": "HTMLModel",
     "state": {
      "_dom_classes": [],
      "_model_module": "@jupyter-widgets/controls",
      "_model_module_version": "1.5.0",
      "_model_name": "HTMLModel",
      "_view_count": null,
      "_view_module": "@jupyter-widgets/controls",
      "_view_module_version": "1.5.0",
      "_view_name": "HTMLView",
      "description": "",
      "description_tooltip": null,
      "layout": "IPY_MODEL_5190a3f7744e4fa29aa3632e77790f62",
      "placeholder": "​",
      "style": "IPY_MODEL_93d015d8e9524275aa825c1f8a0422c0",
      "value": " 16.0M/16.0M [00:00&lt;00:00, 42.4MB/s]"
     }
    },
    "bacf49905c7841209184de03ccf74ded": {
     "model_module": "@jupyter-widgets/controls",
     "model_name": "DescriptionStyleModel",
     "state": {
      "_model_module": "@jupyter-widgets/controls",
      "_model_module_version": "1.5.0",
      "_model_name": "DescriptionStyleModel",
      "_view_count": null,
      "_view_module": "@jupyter-widgets/base",
      "_view_module_version": "1.2.0",
      "_view_name": "StyleView",
      "description_width": ""
     }
    },
    "bb9dc76cf4fd481aa62a5dea615a8d34": {
     "model_module": "@jupyter-widgets/base",
     "model_name": "LayoutModel",
     "state": {
      "_model_module": "@jupyter-widgets/base",
      "_model_module_version": "1.2.0",
      "_model_name": "LayoutModel",
      "_view_count": null,
      "_view_module": "@jupyter-widgets/base",
      "_view_module_version": "1.2.0",
      "_view_name": "LayoutView",
      "align_content": null,
      "align_items": null,
      "align_self": null,
      "border": null,
      "bottom": null,
      "display": null,
      "flex": null,
      "flex_flow": null,
      "grid_area": null,
      "grid_auto_columns": null,
      "grid_auto_flow": null,
      "grid_auto_rows": null,
      "grid_column": null,
      "grid_gap": null,
      "grid_row": null,
      "grid_template_areas": null,
      "grid_template_columns": null,
      "grid_template_rows": null,
      "height": null,
      "justify_content": null,
      "justify_items": null,
      "left": null,
      "margin": null,
      "max_height": null,
      "max_width": null,
      "min_height": null,
      "min_width": null,
      "object_fit": null,
      "object_position": null,
      "order": null,
      "overflow": null,
      "overflow_x": null,
      "overflow_y": null,
      "padding": null,
      "right": null,
      "top": null,
      "visibility": null,
      "width": null
     }
    },
    "bfa0d7cef8db4ebeb571f3a312e872ba": {
     "model_module": "@jupyter-widgets/controls",
     "model_name": "ProgressStyleModel",
     "state": {
      "_model_module": "@jupyter-widgets/controls",
      "_model_module_version": "1.5.0",
      "_model_name": "ProgressStyleModel",
      "_view_count": null,
      "_view_module": "@jupyter-widgets/base",
      "_view_module_version": "1.2.0",
      "_view_name": "StyleView",
      "bar_color": null,
      "description_width": "initial"
     }
    },
    "c00d4d77a6924a879baf26a7023ebe5f": {
     "model_module": "@jupyter-widgets/controls",
     "model_name": "HTMLModel",
     "state": {
      "_dom_classes": [],
      "_model_module": "@jupyter-widgets/controls",
      "_model_module_version": "1.5.0",
      "_model_name": "HTMLModel",
      "_view_count": null,
      "_view_module": "@jupyter-widgets/controls",
      "_view_module_version": "1.5.0",
      "_view_name": "HTMLView",
      "description": "",
      "description_tooltip": null,
      "layout": "IPY_MODEL_86dfebab45c845ce9f81e32d1a562b88",
      "placeholder": "​",
      "style": "IPY_MODEL_f90752a7dc39495cb8a170e141e82c7a",
      "value": " 832/832 [00:01&lt;00:00, 700B/s]"
     }
    },
    "c1752ee0c2a444b3b18c3066db880ac8": {
     "model_module": "@jupyter-widgets/controls",
     "model_name": "HTMLModel",
     "state": {
      "_dom_classes": [],
      "_model_module": "@jupyter-widgets/controls",
      "_model_module_version": "1.5.0",
      "_model_name": "HTMLModel",
      "_view_count": null,
      "_view_module": "@jupyter-widgets/controls",
      "_view_module_version": "1.5.0",
      "_view_name": "HTMLView",
      "description": "",
      "description_tooltip": null,
      "layout": "IPY_MODEL_72d3ce1ab5e34724a160582b88089c2b",
      "placeholder": "​",
      "style": "IPY_MODEL_4d01daf666e24990a6597ad99444f4bc",
      "value": " 2.89k/2.89k [00:00&lt;00:00, 5.25kB/s]"
     }
    },
    "c1c91f665af14617819e82106dc9edf5": {
     "model_module": "@jupyter-widgets/base",
     "model_name": "LayoutModel",
     "state": {
      "_model_module": "@jupyter-widgets/base",
      "_model_module_version": "1.2.0",
      "_model_name": "LayoutModel",
      "_view_count": null,
      "_view_module": "@jupyter-widgets/base",
      "_view_module_version": "1.2.0",
      "_view_name": "LayoutView",
      "align_content": null,
      "align_items": null,
      "align_self": null,
      "border": null,
      "bottom": null,
      "display": null,
      "flex": null,
      "flex_flow": null,
      "grid_area": null,
      "grid_auto_columns": null,
      "grid_auto_flow": null,
      "grid_auto_rows": null,
      "grid_column": null,
      "grid_gap": null,
      "grid_row": null,
      "grid_template_areas": null,
      "grid_template_columns": null,
      "grid_template_rows": null,
      "height": null,
      "justify_content": null,
      "justify_items": null,
      "left": null,
      "margin": null,
      "max_height": null,
      "max_width": null,
      "min_height": null,
      "min_width": null,
      "object_fit": null,
      "object_position": null,
      "order": null,
      "overflow": null,
      "overflow_x": null,
      "overflow_y": null,
      "padding": null,
      "right": null,
      "top": null,
      "visibility": null,
      "width": null
     }
    },
    "c5358dd0e1084ba09e610720ce45b667": {
     "model_module": "@jupyter-widgets/base",
     "model_name": "LayoutModel",
     "state": {
      "_model_module": "@jupyter-widgets/base",
      "_model_module_version": "1.2.0",
      "_model_name": "LayoutModel",
      "_view_count": null,
      "_view_module": "@jupyter-widgets/base",
      "_view_module_version": "1.2.0",
      "_view_name": "LayoutView",
      "align_content": null,
      "align_items": null,
      "align_self": null,
      "border": null,
      "bottom": null,
      "display": null,
      "flex": null,
      "flex_flow": null,
      "grid_area": null,
      "grid_auto_columns": null,
      "grid_auto_flow": null,
      "grid_auto_rows": null,
      "grid_column": null,
      "grid_gap": null,
      "grid_row": null,
      "grid_template_areas": null,
      "grid_template_columns": null,
      "grid_template_rows": null,
      "height": null,
      "justify_content": null,
      "justify_items": null,
      "left": null,
      "margin": null,
      "max_height": null,
      "max_width": null,
      "min_height": null,
      "min_width": null,
      "object_fit": null,
      "object_position": null,
      "order": null,
      "overflow": null,
      "overflow_x": null,
      "overflow_y": null,
      "padding": null,
      "right": null,
      "top": null,
      "visibility": null,
      "width": null
     }
    },
    "c7b0c882e90443a5b2e14bc0c800fc61": {
     "model_module": "@jupyter-widgets/controls",
     "model_name": "HBoxModel",
     "state": {
      "_dom_classes": [],
      "_model_module": "@jupyter-widgets/controls",
      "_model_module_version": "1.5.0",
      "_model_name": "HBoxModel",
      "_view_count": null,
      "_view_module": "@jupyter-widgets/controls",
      "_view_module_version": "1.5.0",
      "_view_name": "HBoxView",
      "box_style": "",
      "children": [
       "IPY_MODEL_45afd409af3d45ecab65ec9e339f6283",
       "IPY_MODEL_591b59e600f844c7905e62890be0d187"
      ],
      "layout": "IPY_MODEL_0ea1d9909c024ef296037191d62f3015"
     }
    },
    "c908dddb925a4d5bbf695e1ffffefae4": {
     "model_module": "@jupyter-widgets/base",
     "model_name": "LayoutModel",
     "state": {
      "_model_module": "@jupyter-widgets/base",
      "_model_module_version": "1.2.0",
      "_model_name": "LayoutModel",
      "_view_count": null,
      "_view_module": "@jupyter-widgets/base",
      "_view_module_version": "1.2.0",
      "_view_name": "LayoutView",
      "align_content": null,
      "align_items": null,
      "align_self": null,
      "border": null,
      "bottom": null,
      "display": null,
      "flex": null,
      "flex_flow": null,
      "grid_area": null,
      "grid_auto_columns": null,
      "grid_auto_flow": null,
      "grid_auto_rows": null,
      "grid_column": null,
      "grid_gap": null,
      "grid_row": null,
      "grid_template_areas": null,
      "grid_template_columns": null,
      "grid_template_rows": null,
      "height": null,
      "justify_content": null,
      "justify_items": null,
      "left": null,
      "margin": null,
      "max_height": null,
      "max_width": null,
      "min_height": null,
      "min_width": null,
      "object_fit": null,
      "object_position": null,
      "order": null,
      "overflow": null,
      "overflow_x": null,
      "overflow_y": null,
      "padding": null,
      "right": null,
      "top": null,
      "visibility": null,
      "width": null
     }
    },
    "ca5930c21f57499a8378d6cab1fdd72c": {
     "model_module": "@jupyter-widgets/controls",
     "model_name": "ProgressStyleModel",
     "state": {
      "_model_module": "@jupyter-widgets/controls",
      "_model_module_version": "1.5.0",
      "_model_name": "ProgressStyleModel",
      "_view_count": null,
      "_view_module": "@jupyter-widgets/base",
      "_view_module_version": "1.2.0",
      "_view_name": "StyleView",
      "bar_color": null,
      "description_width": "initial"
     }
    },
    "cdf535bacdb64378a6f89cae505c80d2": {
     "model_module": "@jupyter-widgets/controls",
     "model_name": "FloatProgressModel",
     "state": {
      "_dom_classes": [],
      "_model_module": "@jupyter-widgets/controls",
      "_model_module_version": "1.5.0",
      "_model_name": "FloatProgressModel",
      "_view_count": null,
      "_view_module": "@jupyter-widgets/controls",
      "_view_module_version": "1.5.0",
      "_view_name": "ProgressView",
      "bar_style": "success",
      "description": "Downloading: 100%",
      "description_tooltip": null,
      "layout": "IPY_MODEL_b6a1807fd2824cbba4b998763c1f900d",
      "max": 301,
      "min": 0,
      "orientation": "horizontal",
      "style": "IPY_MODEL_db9672ef692942e89748af5b6f560fff",
      "value": 301
     }
    },
    "cfddc55a6072485397e14535abecb784": {
     "model_module": "@jupyter-widgets/base",
     "model_name": "LayoutModel",
     "state": {
      "_model_module": "@jupyter-widgets/base",
      "_model_module_version": "1.2.0",
      "_model_name": "LayoutModel",
      "_view_count": null,
      "_view_module": "@jupyter-widgets/base",
      "_view_module_version": "1.2.0",
      "_view_name": "LayoutView",
      "align_content": null,
      "align_items": null,
      "align_self": null,
      "border": null,
      "bottom": null,
      "display": null,
      "flex": null,
      "flex_flow": null,
      "grid_area": null,
      "grid_auto_columns": null,
      "grid_auto_flow": null,
      "grid_auto_rows": null,
      "grid_column": null,
      "grid_gap": null,
      "grid_row": null,
      "grid_template_areas": null,
      "grid_template_columns": null,
      "grid_template_rows": null,
      "height": null,
      "justify_content": null,
      "justify_items": null,
      "left": null,
      "margin": null,
      "max_height": null,
      "max_width": null,
      "min_height": null,
      "min_width": null,
      "object_fit": null,
      "object_position": null,
      "order": null,
      "overflow": null,
      "overflow_x": null,
      "overflow_y": null,
      "padding": null,
      "right": null,
      "top": null,
      "visibility": null,
      "width": null
     }
    },
    "d160e2e85b264756b55af3cfb9ddbd57": {
     "model_module": "@jupyter-widgets/controls",
     "model_name": "FloatProgressModel",
     "state": {
      "_dom_classes": [],
      "_model_module": "@jupyter-widgets/controls",
      "_model_module_version": "1.5.0",
      "_model_name": "FloatProgressModel",
      "_view_count": null,
      "_view_module": "@jupyter-widgets/controls",
      "_view_module_version": "1.5.0",
      "_view_name": "ProgressView",
      "bar_style": "success",
      "description": "Downloading: 100%",
      "description_tooltip": null,
      "layout": "IPY_MODEL_191a4864b94d44b286a12e20d3e1a08d",
      "max": 112,
      "min": 0,
      "orientation": "horizontal",
      "style": "IPY_MODEL_47e9b872abb249b8a549bb93637f9229",
      "value": 112
     }
    },
    "d622614836fe48d49b86617c85dffe32": {
     "model_module": "@jupyter-widgets/controls",
     "model_name": "ProgressStyleModel",
     "state": {
      "_model_module": "@jupyter-widgets/controls",
      "_model_module_version": "1.5.0",
      "_model_name": "ProgressStyleModel",
      "_view_count": null,
      "_view_module": "@jupyter-widgets/base",
      "_view_module_version": "1.2.0",
      "_view_name": "StyleView",
      "bar_color": null,
      "description_width": "initial"
     }
    },
    "d8737f74859a43958b2fa72404a942e6": {
     "model_module": "@jupyter-widgets/controls",
     "model_name": "HTMLModel",
     "state": {
      "_dom_classes": [],
      "_model_module": "@jupyter-widgets/controls",
      "_model_module_version": "1.5.0",
      "_model_name": "HTMLModel",
      "_view_count": null,
      "_view_module": "@jupyter-widgets/controls",
      "_view_module_version": "1.5.0",
      "_view_name": "HTMLView",
      "description": "",
      "description_tooltip": null,
      "layout": "IPY_MODEL_cfddc55a6072485397e14535abecb784",
      "placeholder": "​",
      "style": "IPY_MODEL_e4ec5f05b9344392938645357a7d416f",
      "value": " 301/301 [00:00&lt;00:00, 4.68kB/s]"
     }
    },
    "db9672ef692942e89748af5b6f560fff": {
     "model_module": "@jupyter-widgets/controls",
     "model_name": "ProgressStyleModel",
     "state": {
      "_model_module": "@jupyter-widgets/controls",
      "_model_module_version": "1.5.0",
      "_model_name": "ProgressStyleModel",
      "_view_count": null,
      "_view_module": "@jupyter-widgets/base",
      "_view_module_version": "1.2.0",
      "_view_name": "StyleView",
      "bar_color": null,
      "description_width": "initial"
     }
    },
    "de4ed6e772e746f1b841942055242125": {
     "model_module": "@jupyter-widgets/controls",
     "model_name": "HTMLModel",
     "state": {
      "_dom_classes": [],
      "_model_module": "@jupyter-widgets/controls",
      "_model_module_version": "1.5.0",
      "_model_name": "HTMLModel",
      "_view_count": null,
      "_view_module": "@jupyter-widgets/controls",
      "_view_module_version": "1.5.0",
      "_view_name": "HTMLView",
      "description": "",
      "description_tooltip": null,
      "layout": "IPY_MODEL_932dcb36598446d79ff01310f3eff4f6",
      "placeholder": "​",
      "style": "IPY_MODEL_e73faa5492584ebea35879274018184d",
      "value": " 110k/110k [00:00&lt;00:00, 897kB/s]"
     }
    },
    "df39b2195d074e6aa9b529c5a985673e": {
     "model_module": "@jupyter-widgets/controls",
     "model_name": "DescriptionStyleModel",
     "state": {
      "_model_module": "@jupyter-widgets/controls",
      "_model_module_version": "1.5.0",
      "_model_name": "DescriptionStyleModel",
      "_view_count": null,
      "_view_module": "@jupyter-widgets/base",
      "_view_module_version": "1.2.0",
      "_view_name": "StyleView",
      "description_width": ""
     }
    },
    "e2810fa8bb044f3d80d4ad94778ee17b": {
     "model_module": "@jupyter-widgets/base",
     "model_name": "LayoutModel",
     "state": {
      "_model_module": "@jupyter-widgets/base",
      "_model_module_version": "1.2.0",
      "_model_name": "LayoutModel",
      "_view_count": null,
      "_view_module": "@jupyter-widgets/base",
      "_view_module_version": "1.2.0",
      "_view_name": "LayoutView",
      "align_content": null,
      "align_items": null,
      "align_self": null,
      "border": null,
      "bottom": null,
      "display": null,
      "flex": null,
      "flex_flow": null,
      "grid_area": null,
      "grid_auto_columns": null,
      "grid_auto_flow": null,
      "grid_auto_rows": null,
      "grid_column": null,
      "grid_gap": null,
      "grid_row": null,
      "grid_template_areas": null,
      "grid_template_columns": null,
      "grid_template_rows": null,
      "height": null,
      "justify_content": null,
      "justify_items": null,
      "left": null,
      "margin": null,
      "max_height": null,
      "max_width": null,
      "min_height": null,
      "min_width": null,
      "object_fit": null,
      "object_position": null,
      "order": null,
      "overflow": null,
      "overflow_x": null,
      "overflow_y": null,
      "padding": null,
      "right": null,
      "top": null,
      "visibility": null,
      "width": null
     }
    },
    "e4ec5f05b9344392938645357a7d416f": {
     "model_module": "@jupyter-widgets/controls",
     "model_name": "DescriptionStyleModel",
     "state": {
      "_model_module": "@jupyter-widgets/controls",
      "_model_module_version": "1.5.0",
      "_model_name": "DescriptionStyleModel",
      "_view_count": null,
      "_view_module": "@jupyter-widgets/base",
      "_view_module_version": "1.2.0",
      "_view_name": "StyleView",
      "description_width": ""
     }
    },
    "e558494847414c9fb580c729fdef76a0": {
     "model_module": "@jupyter-widgets/controls",
     "model_name": "DescriptionStyleModel",
     "state": {
      "_model_module": "@jupyter-widgets/controls",
      "_model_module_version": "1.5.0",
      "_model_name": "DescriptionStyleModel",
      "_view_count": null,
      "_view_module": "@jupyter-widgets/base",
      "_view_module_version": "1.2.0",
      "_view_name": "StyleView",
      "description_width": ""
     }
    },
    "e689704c6311463d82020e1f9f0360fe": {
     "model_module": "@jupyter-widgets/controls",
     "model_name": "FloatProgressModel",
     "state": {
      "_dom_classes": [],
      "_model_module": "@jupyter-widgets/controls",
      "_model_module_version": "1.5.0",
      "_model_name": "FloatProgressModel",
      "_view_count": null,
      "_view_module": "@jupyter-widgets/controls",
      "_view_module_version": "1.5.0",
      "_view_name": "ProgressView",
      "bar_style": "success",
      "description": "Downloading: 100%",
      "description_tooltip": null,
      "layout": "IPY_MODEL_f5bcef3b6fad42778d2226bd744d1739",
      "max": 15949017,
      "min": 0,
      "orientation": "horizontal",
      "style": "IPY_MODEL_4326d942caec42ab8c4dc441cc31a864",
      "value": 15949017
     }
    },
    "e73faa5492584ebea35879274018184d": {
     "model_module": "@jupyter-widgets/controls",
     "model_name": "DescriptionStyleModel",
     "state": {
      "_model_module": "@jupyter-widgets/controls",
      "_model_module_version": "1.5.0",
      "_model_name": "DescriptionStyleModel",
      "_view_count": null,
      "_view_module": "@jupyter-widgets/base",
      "_view_module_version": "1.2.0",
      "_view_name": "StyleView",
      "description_width": ""
     }
    },
    "e7bd39ce3bd74d1098d24285ef4a1a9d": {
     "model_module": "@jupyter-widgets/controls",
     "model_name": "FloatProgressModel",
     "state": {
      "_dom_classes": [],
      "_model_module": "@jupyter-widgets/controls",
      "_model_module_version": "1.5.0",
      "_model_name": "FloatProgressModel",
      "_view_count": null,
      "_view_module": "@jupyter-widgets/controls",
      "_view_module_version": "1.5.0",
      "_view_name": "ProgressView",
      "bar_style": "success",
      "description": "Downloading: 100%",
      "description_tooltip": null,
      "layout": "IPY_MODEL_75a410a5ebe5497e8434f522218ef08c",
      "max": 109540,
      "min": 0,
      "orientation": "horizontal",
      "style": "IPY_MODEL_d622614836fe48d49b86617c85dffe32",
      "value": 109540
     }
    },
    "e863813f41e743308edac32e1d6710a6": {
     "model_module": "@jupyter-widgets/base",
     "model_name": "LayoutModel",
     "state": {
      "_model_module": "@jupyter-widgets/base",
      "_model_module_version": "1.2.0",
      "_model_name": "LayoutModel",
      "_view_count": null,
      "_view_module": "@jupyter-widgets/base",
      "_view_module_version": "1.2.0",
      "_view_name": "LayoutView",
      "align_content": null,
      "align_items": null,
      "align_self": null,
      "border": null,
      "bottom": null,
      "display": null,
      "flex": null,
      "flex_flow": null,
      "grid_area": null,
      "grid_auto_columns": null,
      "grid_auto_flow": null,
      "grid_auto_rows": null,
      "grid_column": null,
      "grid_gap": null,
      "grid_row": null,
      "grid_template_areas": null,
      "grid_template_columns": null,
      "grid_template_rows": null,
      "height": null,
      "justify_content": null,
      "justify_items": null,
      "left": null,
      "margin": null,
      "max_height": null,
      "max_width": null,
      "min_height": null,
      "min_width": null,
      "object_fit": null,
      "object_position": null,
      "order": null,
      "overflow": null,
      "overflow_x": null,
      "overflow_y": null,
      "padding": null,
      "right": null,
      "top": null,
      "visibility": null,
      "width": null
     }
    },
    "ebe0eaa2e8f4469089c3b01438db2789": {
     "model_module": "@jupyter-widgets/base",
     "model_name": "LayoutModel",
     "state": {
      "_model_module": "@jupyter-widgets/base",
      "_model_module_version": "1.2.0",
      "_model_name": "LayoutModel",
      "_view_count": null,
      "_view_module": "@jupyter-widgets/base",
      "_view_module_version": "1.2.0",
      "_view_name": "LayoutView",
      "align_content": null,
      "align_items": null,
      "align_self": null,
      "border": null,
      "bottom": null,
      "display": null,
      "flex": null,
      "flex_flow": null,
      "grid_area": null,
      "grid_auto_columns": null,
      "grid_auto_flow": null,
      "grid_auto_rows": null,
      "grid_column": null,
      "grid_gap": null,
      "grid_row": null,
      "grid_template_areas": null,
      "grid_template_columns": null,
      "grid_template_rows": null,
      "height": null,
      "justify_content": null,
      "justify_items": null,
      "left": null,
      "margin": null,
      "max_height": null,
      "max_width": null,
      "min_height": null,
      "min_width": null,
      "object_fit": null,
      "object_position": null,
      "order": null,
      "overflow": null,
      "overflow_x": null,
      "overflow_y": null,
      "padding": null,
      "right": null,
      "top": null,
      "visibility": null,
      "width": null
     }
    },
    "ee3925ffb6b34549b47e1bd8542e342a": {
     "model_module": "@jupyter-widgets/controls",
     "model_name": "HBoxModel",
     "state": {
      "_dom_classes": [],
      "_model_module": "@jupyter-widgets/controls",
      "_model_module_version": "1.5.0",
      "_model_name": "HBoxModel",
      "_view_count": null,
      "_view_module": "@jupyter-widgets/controls",
      "_view_module_version": "1.5.0",
      "_view_name": "HBoxView",
      "box_style": "",
      "children": [
       "IPY_MODEL_e7bd39ce3bd74d1098d24285ef4a1a9d",
       "IPY_MODEL_de4ed6e772e746f1b841942055242125"
      ],
      "layout": "IPY_MODEL_2cf4e0a3b32241079ab41ab37995b8cf"
     }
    },
    "efbbfa305c064523969c9f31070d32b8": {
     "model_module": "@jupyter-widgets/controls",
     "model_name": "ProgressStyleModel",
     "state": {
      "_model_module": "@jupyter-widgets/controls",
      "_model_module_version": "1.5.0",
      "_model_name": "ProgressStyleModel",
      "_view_count": null,
      "_view_module": "@jupyter-widgets/base",
      "_view_module_version": "1.2.0",
      "_view_name": "StyleView",
      "bar_color": null,
      "description_width": "initial"
     }
    },
    "f148da1a6ab3439ba571616a1482465e": {
     "model_module": "@jupyter-widgets/controls",
     "model_name": "FloatProgressModel",
     "state": {
      "_dom_classes": [],
      "_model_module": "@jupyter-widgets/controls",
      "_model_module_version": "1.5.0",
      "_model_name": "FloatProgressModel",
      "_view_count": null,
      "_view_module": "@jupyter-widgets/controls",
      "_view_module_version": "1.5.0",
      "_view_name": "ProgressView",
      "bar_style": "success",
      "description": "Downloading: 100%",
      "description_tooltip": null,
      "layout": "IPY_MODEL_10e388efc419464e8fda370a06de5892",
      "max": 112,
      "min": 0,
      "orientation": "horizontal",
      "style": "IPY_MODEL_ca5930c21f57499a8378d6cab1fdd72c",
      "value": 112
     }
    },
    "f341e2c4ccb7417aad9e68a9bba8e510": {
     "model_module": "@jupyter-widgets/controls",
     "model_name": "HTMLModel",
     "state": {
      "_dom_classes": [],
      "_model_module": "@jupyter-widgets/controls",
      "_model_module_version": "1.5.0",
      "_model_name": "HTMLModel",
      "_view_count": null,
      "_view_module": "@jupyter-widgets/controls",
      "_view_module_version": "1.5.0",
      "_view_name": "HTMLView",
      "description": "",
      "description_tooltip": null,
      "layout": "IPY_MODEL_1e23197ed9af47e684f693ac682f9930",
      "placeholder": "​",
      "style": "IPY_MODEL_21a7541cf70b48078e4081fe31c78e09",
      "value": " 112/112 [00:00&lt;00:00, 734B/s]"
     }
    },
    "f47d666b751345ed8121a2028b0446a2": {
     "model_module": "@jupyter-widgets/controls",
     "model_name": "ProgressStyleModel",
     "state": {
      "_model_module": "@jupyter-widgets/controls",
      "_model_module_version": "1.5.0",
      "_model_name": "ProgressStyleModel",
      "_view_count": null,
      "_view_module": "@jupyter-widgets/base",
      "_view_module_version": "1.2.0",
      "_view_name": "StyleView",
      "bar_color": null,
      "description_width": "initial"
     }
    },
    "f5bcef3b6fad42778d2226bd744d1739": {
     "model_module": "@jupyter-widgets/base",
     "model_name": "LayoutModel",
     "state": {
      "_model_module": "@jupyter-widgets/base",
      "_model_module_version": "1.2.0",
      "_model_name": "LayoutModel",
      "_view_count": null,
      "_view_module": "@jupyter-widgets/base",
      "_view_module_version": "1.2.0",
      "_view_name": "LayoutView",
      "align_content": null,
      "align_items": null,
      "align_self": null,
      "border": null,
      "bottom": null,
      "display": null,
      "flex": null,
      "flex_flow": null,
      "grid_area": null,
      "grid_auto_columns": null,
      "grid_auto_flow": null,
      "grid_auto_rows": null,
      "grid_column": null,
      "grid_gap": null,
      "grid_row": null,
      "grid_template_areas": null,
      "grid_template_columns": null,
      "grid_template_rows": null,
      "height": null,
      "justify_content": null,
      "justify_items": null,
      "left": null,
      "margin": null,
      "max_height": null,
      "max_width": null,
      "min_height": null,
      "min_width": null,
      "object_fit": null,
      "object_position": null,
      "order": null,
      "overflow": null,
      "overflow_x": null,
      "overflow_y": null,
      "padding": null,
      "right": null,
      "top": null,
      "visibility": null,
      "width": null
     }
    },
    "f6f500074829417ba0205244ab7a1480": {
     "model_module": "@jupyter-widgets/controls",
     "model_name": "HBoxModel",
     "state": {
      "_dom_classes": [],
      "_model_module": "@jupyter-widgets/controls",
      "_model_module_version": "1.5.0",
      "_model_name": "HBoxModel",
      "_view_count": null,
      "_view_module": "@jupyter-widgets/controls",
      "_view_module_version": "1.5.0",
      "_view_name": "HBoxView",
      "box_style": "",
      "children": [
       "IPY_MODEL_4507c13f62ab439885b7d88446b34ab3",
       "IPY_MODEL_4c448335076c41b4b933882e6a91b291"
      ],
      "layout": "IPY_MODEL_61e267a9ec734891afad3d85ec2b777f"
     }
    },
    "f90752a7dc39495cb8a170e141e82c7a": {
     "model_module": "@jupyter-widgets/controls",
     "model_name": "DescriptionStyleModel",
     "state": {
      "_model_module": "@jupyter-widgets/controls",
      "_model_module_version": "1.5.0",
      "_model_name": "DescriptionStyleModel",
      "_view_count": null,
      "_view_module": "@jupyter-widgets/base",
      "_view_module_version": "1.2.0",
      "_view_name": "StyleView",
      "description_width": ""
     }
    },
    "fa92f0738841488ea49e39805a571b73": {
     "model_module": "@jupyter-widgets/controls",
     "model_name": "FloatProgressModel",
     "state": {
      "_dom_classes": [],
      "_model_module": "@jupyter-widgets/controls",
      "_model_module_version": "1.5.0",
      "_model_name": "FloatProgressModel",
      "_view_count": null,
      "_view_module": "@jupyter-widgets/controls",
      "_view_module_version": "1.5.0",
      "_view_name": "ProgressView",
      "bar_style": "success",
      "description": "Downloading: 100%",
      "description_tooltip": null,
      "layout": "IPY_MODEL_3132e952c9cb491fb68b4fdd959b155c",
      "max": 832,
      "min": 0,
      "orientation": "horizontal",
      "style": "IPY_MODEL_6efa6b26abfd4ff59bd15d55f9fadd51",
      "value": 832
     }
    },
    "fe60b3427d8b416eb3ca2559ed31e5d1": {
     "model_module": "@jupyter-widgets/base",
     "model_name": "LayoutModel",
     "state": {
      "_model_module": "@jupyter-widgets/base",
      "_model_module_version": "1.2.0",
      "_model_name": "LayoutModel",
      "_view_count": null,
      "_view_module": "@jupyter-widgets/base",
      "_view_module_version": "1.2.0",
      "_view_name": "LayoutView",
      "align_content": null,
      "align_items": null,
      "align_self": null,
      "border": null,
      "bottom": null,
      "display": null,
      "flex": null,
      "flex_flow": null,
      "grid_area": null,
      "grid_auto_columns": null,
      "grid_auto_flow": null,
      "grid_auto_rows": null,
      "grid_column": null,
      "grid_gap": null,
      "grid_row": null,
      "grid_template_areas": null,
      "grid_template_columns": null,
      "grid_template_rows": null,
      "height": null,
      "justify_content": null,
      "justify_items": null,
      "left": null,
      "margin": null,
      "max_height": null,
      "max_width": null,
      "min_height": null,
      "min_width": null,
      "object_fit": null,
      "object_position": null,
      "order": null,
      "overflow": null,
      "overflow_x": null,
      "overflow_y": null,
      "padding": null,
      "right": null,
      "top": null,
      "visibility": null,
      "width": null
     }
    }
   }
  }
 },
 "nbformat": 4,
 "nbformat_minor": 4
}
