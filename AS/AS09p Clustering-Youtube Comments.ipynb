{
 "cells": [
  {
   "cell_type": "markdown",
   "id": "0effa96b",
   "metadata": {},
   "source": [
    "# AS09p Youtube comment clustering\n",
    "\n",
    "在AS06中我們曾萃取出反送中相關影片之留言的關鍵字，這次的作業將要求你使用該筆資料，透過群集法，嘗試找出留言有哪些主題。"
   ]
  },
  {
   "cell_type": "markdown",
   "id": "7e0d49bb",
   "metadata": {},
   "source": [
    "## (TODO) Answer the following questions"
   ]
  },
  {
   "cell_type": "markdown",
   "id": "7978ce55",
   "metadata": {},
   "source": [
    "### (TODO)Document filtering strategies\n",
    "目前作業給的資料一共有8000筆留言，每筆留言的欄位有發佈時間、更新時間、按讚數、也可以計算留言的字數，請問你採用了什麼樣的篩選策略？請於以下的文字框回答（編輯下方Markdown，需說明至少五個連續處理過程）。"
   ]
  },
  {
   "cell_type": "markdown",
   "id": "be8abc16",
   "metadata": {},
   "source": [
    "（範例答案）\n",
    "1. 原資料有8000筆留言\n",
    "2. 篩除XX數不滿XX的留言後，剩下XXX筆留言\n",
    "3. 篩除XX後不滿XX後，剩下X筆留言\n",
    "4. ...\n",
    "5. ..."
   ]
  },
  {
   "cell_type": "markdown",
   "id": "89169873",
   "metadata": {},
   "source": [
    "### (TODO)Vocabulary filtering strategies\n",
    "在教學範例中，我們介紹不少Strategy來篩選不必要或必要的文字，請問你怎麼選？（編輯下方Markdown，需說明至少五個處理過程）"
   ]
  },
  {
   "cell_type": "markdown",
   "id": "7dc14451",
   "metadata": {},
   "source": [
    "1. 原始資料在斷詞後共有XXX個相異字詞。（規定填寫）\n",
    "2. 在經過篩除標點符號後，剩下XXX個相異字詞。（規定填寫）\n",
    "3. 再經過XXX後，剩下XXX個相異字詞。\n",
    "4. ...\n",
    "5. ..."
   ]
  },
  {
   "cell_type": "markdown",
   "id": "4d381e81",
   "metadata": {},
   "source": [
    "## Loading youtube data"
   ]
  },
  {
   "cell_type": "markdown",
   "id": "a7ce5de5",
   "metadata": {},
   "source": [
    "### by colab"
   ]
  },
  {
   "cell_type": "code",
   "execution_count": null,
   "id": "1cfe55ae",
   "metadata": {},
   "outputs": [],
   "source": [
    "!wget https://github.com/P4CSS/PSS/blob/master/data/yt-comment-antiELAB.xlsx?raw=true -O yt-comment-antiELAB.xlsx\n",
    "import pandas as pd\n",
    "df = pd.read_excel('yt-comment-antiELAB.xlsx') \n",
    "df"
   ]
  },
  {
   "cell_type": "markdown",
   "id": "d36cb5d5",
   "metadata": {},
   "source": [
    "### by local notebook"
   ]
  },
  {
   "cell_type": "code",
   "execution_count": 7,
   "id": "0bf732ee",
   "metadata": {},
   "outputs": [
    {
     "data": {
      "text/html": [
       "<div>\n",
       "<style scoped>\n",
       "    .dataframe tbody tr th:only-of-type {\n",
       "        vertical-align: middle;\n",
       "    }\n",
       "\n",
       "    .dataframe tbody tr th {\n",
       "        vertical-align: top;\n",
       "    }\n",
       "\n",
       "    .dataframe thead th {\n",
       "        text-align: right;\n",
       "    }\n",
       "</style>\n",
       "<table border=\"1\" class=\"dataframe\">\n",
       "  <thead>\n",
       "    <tr style=\"text-align: right;\">\n",
       "      <th></th>\n",
       "      <th>videoId</th>\n",
       "      <th>commentId</th>\n",
       "      <th>parentId</th>\n",
       "      <th>authorDisplayName</th>\n",
       "      <th>textOriginal</th>\n",
       "      <th>likeCount</th>\n",
       "      <th>publishedAt</th>\n",
       "      <th>updatedAt</th>\n",
       "    </tr>\n",
       "  </thead>\n",
       "  <tbody>\n",
       "    <tr>\n",
       "      <th>0</th>\n",
       "      <td>2_tXjqhbe5E</td>\n",
       "      <td>UgwQIF9qNqGydjE2NkN4AaABAg</td>\n",
       "      <td>NaN</td>\n",
       "      <td>CHI-HAU CHEN</td>\n",
       "      <td>鄭大哥和吉雷米的互動很可愛，歡迎加入台灣這個溫馨的家庭喔~~~~</td>\n",
       "      <td>19</td>\n",
       "      <td>2020-04-02T01:40:29Z</td>\n",
       "      <td>2020-04-02T01:40:29Z</td>\n",
       "    </tr>\n",
       "    <tr>\n",
       "      <th>1</th>\n",
       "      <td>2_tXjqhbe5E</td>\n",
       "      <td>UgwuP0Jva-U69xTMaEF4AaABAg</td>\n",
       "      <td>NaN</td>\n",
       "      <td>Funky Duck</td>\n",
       "      <td>牛嘴掩.....\\n這高雄老外的台語能力應該比台北人好</td>\n",
       "      <td>1</td>\n",
       "      <td>2020-04-07T04:36:37Z</td>\n",
       "      <td>2020-04-07T04:36:37Z</td>\n",
       "    </tr>\n",
       "    <tr>\n",
       "      <th>2</th>\n",
       "      <td>2_tXjqhbe5E</td>\n",
       "      <td>UgyVlhx36V2XWLOM9MZ4AaABAg</td>\n",
       "      <td>NaN</td>\n",
       "      <td>Ally</td>\n",
       "      <td>Zoom把客戶資料洩給中國，現在紐約市已不讓學生用這系統視訊上課了!</td>\n",
       "      <td>0</td>\n",
       "      <td>2020-04-06T19:54:04Z</td>\n",
       "      <td>2020-04-06T19:54:04Z</td>\n",
       "    </tr>\n",
       "    <tr>\n",
       "      <th>3</th>\n",
       "      <td>2_tXjqhbe5E</td>\n",
       "      <td>Ugz4v7OudQxaDXYyegZ4AaABAg</td>\n",
       "      <td>NaN</td>\n",
       "      <td>Ally</td>\n",
       "      <td>法國人執行居家避疫比起美國比較確實，外出還要有通行證</td>\n",
       "      <td>0</td>\n",
       "      <td>2020-04-06T19:18:24Z</td>\n",
       "      <td>2020-04-06T19:18:24Z</td>\n",
       "    </tr>\n",
       "    <tr>\n",
       "      <th>4</th>\n",
       "      <td>2_tXjqhbe5E</td>\n",
       "      <td>Ugyb-ogACbZWVewnU-94AaABAg</td>\n",
       "      <td>NaN</td>\n",
       "      <td>Kitty Wong</td>\n",
       "      <td>仆街鄭</td>\n",
       "      <td>0</td>\n",
       "      <td>2020-04-06T15:20:34Z</td>\n",
       "      <td>2020-04-06T15:20:34Z</td>\n",
       "    </tr>\n",
       "    <tr>\n",
       "      <th>...</th>\n",
       "      <td>...</td>\n",
       "      <td>...</td>\n",
       "      <td>...</td>\n",
       "      <td>...</td>\n",
       "      <td>...</td>\n",
       "      <td>...</td>\n",
       "      <td>...</td>\n",
       "      <td>...</td>\n",
       "    </tr>\n",
       "    <tr>\n",
       "      <th>7995</th>\n",
       "      <td>ySMAcMAL6rY</td>\n",
       "      <td>UgzU9oD5I6q1qHLzx_B4AaABAg</td>\n",
       "      <td>NaN</td>\n",
       "      <td>nova lee</td>\n",
       "      <td>自己不是會算嗎</td>\n",
       "      <td>1</td>\n",
       "      <td>2019-08-22T04:00:31Z</td>\n",
       "      <td>2019-08-22T04:00:31Z</td>\n",
       "    </tr>\n",
       "    <tr>\n",
       "      <th>7996</th>\n",
       "      <td>zHlhQoT9OF0</td>\n",
       "      <td>Ugz2ff-Be0yCoEUY-Rd4AaABAg</td>\n",
       "      <td>NaN</td>\n",
       "      <td>the world Rock</td>\n",
       "      <td>常德說的真好</td>\n",
       "      <td>3</td>\n",
       "      <td>2020-04-10T03:21:34Z</td>\n",
       "      <td>2020-04-10T03:21:34Z</td>\n",
       "    </tr>\n",
       "    <tr>\n",
       "      <th>7997</th>\n",
       "      <td>zQWzh4yj_g8</td>\n",
       "      <td>Ugwex9I2lZWa-DgeWrx4AaABAg</td>\n",
       "      <td>NaN</td>\n",
       "      <td>Zoe Su</td>\n",
       "      <td>自私的人多的是，水準就和中國人一樣</td>\n",
       "      <td>1</td>\n",
       "      <td>2020-02-12T22:13:24Z</td>\n",
       "      <td>2020-02-12T22:13:24Z</td>\n",
       "    </tr>\n",
       "    <tr>\n",
       "      <th>7998</th>\n",
       "      <td>zQWzh4yj_g8</td>\n",
       "      <td>UgxpokMr9hHK0Ugcvl94AaABAg</td>\n",
       "      <td>NaN</td>\n",
       "      <td>非也非也</td>\n",
       "      <td>人都自私自利的，適者生存，不適者自己想辦法，沒有人會幫的，靠自己最實在</td>\n",
       "      <td>0</td>\n",
       "      <td>2020-02-12T04:53:28Z</td>\n",
       "      <td>2020-02-12T04:53:28Z</td>\n",
       "    </tr>\n",
       "    <tr>\n",
       "      <th>7999</th>\n",
       "      <td>zQWzh4yj_g8</td>\n",
       "      <td>Ugwhiijo6yStMhOZqVB4AaABAg</td>\n",
       "      <td>NaN</td>\n",
       "      <td>你们是愚民</td>\n",
       "      <td>鑽石公主號我們的同胞22人以及留在大陸我們的同胞救回來了沒有，菜英文民進黨更無情，更自私吧！...</td>\n",
       "      <td>0</td>\n",
       "      <td>2020-02-12T04:25:58Z</td>\n",
       "      <td>2020-02-12T04:25:58Z</td>\n",
       "    </tr>\n",
       "  </tbody>\n",
       "</table>\n",
       "<p>8000 rows × 8 columns</p>\n",
       "</div>"
      ],
      "text/plain": [
       "          videoId                   commentId parentId authorDisplayName  \\\n",
       "0     2_tXjqhbe5E  UgwQIF9qNqGydjE2NkN4AaABAg      NaN      CHI-HAU CHEN   \n",
       "1     2_tXjqhbe5E  UgwuP0Jva-U69xTMaEF4AaABAg      NaN        Funky Duck   \n",
       "2     2_tXjqhbe5E  UgyVlhx36V2XWLOM9MZ4AaABAg      NaN              Ally   \n",
       "3     2_tXjqhbe5E  Ugz4v7OudQxaDXYyegZ4AaABAg      NaN              Ally   \n",
       "4     2_tXjqhbe5E  Ugyb-ogACbZWVewnU-94AaABAg      NaN        Kitty Wong   \n",
       "...           ...                         ...      ...               ...   \n",
       "7995  ySMAcMAL6rY  UgzU9oD5I6q1qHLzx_B4AaABAg      NaN          nova lee   \n",
       "7996  zHlhQoT9OF0  Ugz2ff-Be0yCoEUY-Rd4AaABAg      NaN    the world Rock   \n",
       "7997  zQWzh4yj_g8  Ugwex9I2lZWa-DgeWrx4AaABAg      NaN            Zoe Su   \n",
       "7998  zQWzh4yj_g8  UgxpokMr9hHK0Ugcvl94AaABAg      NaN              非也非也   \n",
       "7999  zQWzh4yj_g8  Ugwhiijo6yStMhOZqVB4AaABAg      NaN             你们是愚民   \n",
       "\n",
       "                                           textOriginal  likeCount  \\\n",
       "0                      鄭大哥和吉雷米的互動很可愛，歡迎加入台灣這個溫馨的家庭喔~~~~         19   \n",
       "1                           牛嘴掩.....\\n這高雄老外的台語能力應該比台北人好          1   \n",
       "2                    Zoom把客戶資料洩給中國，現在紐約市已不讓學生用這系統視訊上課了!          0   \n",
       "3                            法國人執行居家避疫比起美國比較確實，外出還要有通行證          0   \n",
       "4                                                   仆街鄭          0   \n",
       "...                                                 ...        ...   \n",
       "7995                                            自己不是會算嗎          1   \n",
       "7996                                             常德說的真好          3   \n",
       "7997                                  自私的人多的是，水準就和中國人一樣          1   \n",
       "7998                人都自私自利的，適者生存，不適者自己想辦法，沒有人會幫的，靠自己最實在          0   \n",
       "7999  鑽石公主號我們的同胞22人以及留在大陸我們的同胞救回來了沒有，菜英文民進黨更無情，更自私吧！...          0   \n",
       "\n",
       "               publishedAt             updatedAt  \n",
       "0     2020-04-02T01:40:29Z  2020-04-02T01:40:29Z  \n",
       "1     2020-04-07T04:36:37Z  2020-04-07T04:36:37Z  \n",
       "2     2020-04-06T19:54:04Z  2020-04-06T19:54:04Z  \n",
       "3     2020-04-06T19:18:24Z  2020-04-06T19:18:24Z  \n",
       "4     2020-04-06T15:20:34Z  2020-04-06T15:20:34Z  \n",
       "...                    ...                   ...  \n",
       "7995  2019-08-22T04:00:31Z  2019-08-22T04:00:31Z  \n",
       "7996  2020-04-10T03:21:34Z  2020-04-10T03:21:34Z  \n",
       "7997  2020-02-12T22:13:24Z  2020-02-12T22:13:24Z  \n",
       "7998  2020-02-12T04:53:28Z  2020-02-12T04:53:28Z  \n",
       "7999  2020-02-12T04:25:58Z  2020-02-12T04:25:58Z  \n",
       "\n",
       "[8000 rows x 8 columns]"
      ]
     },
     "execution_count": 7,
     "metadata": {},
     "output_type": "execute_result"
    }
   ],
   "source": [
    "import pandas as pd\n",
    "df = pd.read_excel('../data/yt-comment-antiELAB.xlsx')\n",
    "df"
   ]
  },
  {
   "cell_type": "markdown",
   "id": "137adc50",
   "metadata": {},
   "source": [
    "## Feature selections - selecting Model"
   ]
  },
  {
   "cell_type": "code",
   "execution_count": null,
   "id": "5182f604",
   "metadata": {},
   "outputs": [],
   "source": []
  },
  {
   "cell_type": "markdown",
   "id": "3fd93779",
   "metadata": {},
   "source": [
    "## Clustering"
   ]
  },
  {
   "cell_type": "markdown",
   "id": "4c392b72",
   "metadata": {},
   "source": [
    "### Evaluating"
   ]
  },
  {
   "cell_type": "code",
   "execution_count": null,
   "id": "3d23b9ae",
   "metadata": {},
   "outputs": [],
   "source": []
  },
  {
   "cell_type": "markdown",
   "id": "cf3d7a8e",
   "metadata": {},
   "source": [
    "### Final clustering by k=?"
   ]
  },
  {
   "cell_type": "code",
   "execution_count": null,
   "id": "369fd2b4",
   "metadata": {},
   "outputs": [],
   "source": []
  },
  {
   "cell_type": "markdown",
   "id": "43d1689f",
   "metadata": {},
   "source": [
    "## Visualization"
   ]
  },
  {
   "cell_type": "code",
   "execution_count": null,
   "id": "df77f4cb",
   "metadata": {},
   "outputs": [],
   "source": []
  },
  {
   "cell_type": "markdown",
   "id": "d2a0fff5",
   "metadata": {},
   "source": [
    "## (TODO) Explaining your results\n",
    "從上述群集的結果，你觀察到有哪些留言群集？請評估你所找出來的關鍵字群集。"
   ]
  },
  {
   "cell_type": "markdown",
   "id": "0d48542b",
   "metadata": {},
   "source": [
    "(Your Answer here)\n",
    "在前述篩選策略下，從Evaluating的結果，我選擇以k=?作為群集數。\n",
    "經視覺化每個群集的關鍵字後，一共發現以下幾大主題。\n",
    "1. k=0: 該群集為...\n",
    "2. k=1: 該群集的主要關鍵字為...屬於...主題\n",
    "3. k=2: \n",
    "4. k=3: \n",
    "5. k=?...\n",
    "\n",
    "有效的主題我認為共有「XXXX（k=0, 1」、「XXXXX（k=2）」、「XXXXX（k=3, 4）」、「」等n個主題。`k=5`的群集只有單一關鍵字極高，其他關鍵字稀少，可能是受到......的影響。將包含關鍵字相關的留言抽出結果如下方dataFrame所示，為...的主題。"
   ]
  },
  {
   "cell_type": "markdown",
   "id": "01738125",
   "metadata": {},
   "source": [
    "## Final Modification (if you have)\n",
    "經觀察前述群集結果後，我篩除了XXX關鍵字，重新進行群集後所得到的結果為以下幾個主題，分別包含「XXXX（k=0, 1」、「XXXXX（k=2）」、「XXXXX（k=3, 4）」、「」\n"
   ]
  }
 ],
 "metadata": {
  "kernelspec": {
   "display_name": "Python 3",
   "language": "python",
   "name": "python3"
  },
  "language_info": {
   "codemirror_mode": {
    "name": "ipython",
    "version": 3
   },
   "file_extension": ".py",
   "mimetype": "text/x-python",
   "name": "python",
   "nbconvert_exporter": "python",
   "pygments_lexer": "ipython3",
   "version": "3.7.6"
  }
 },
 "nbformat": 4,
 "nbformat_minor": 5
}
