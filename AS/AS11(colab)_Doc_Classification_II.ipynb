{
  "nbformat": 4,
  "nbformat_minor": 0,
  "metadata": {
    "colab": {
      "name": "AS11_Doc_Classification_II.ipynb",
      "provenance": [],
      "collapsed_sections": [],
      "toc_visible": true
    },
    "kernelspec": {
      "name": "python3",
      "display_name": "Python 3"
    },
    "language_info": {
      "name": "python"
    }
  },
  "cells": [
    {
      "cell_type": "markdown",
      "metadata": {
        "id": "zKMfrHlKlrJa"
      },
      "source": [
        "# AS11 - Doc Classification (II)\n"
      ]
    },
    {
      "cell_type": "markdown",
      "metadata": {
        "id": "tKBNkIqUl4td"
      },
      "source": [
        "\n",
        "# 1.Reading data from google sheet\n",
        "\n",
        "1. 複製Google表單的連結如下 https://docs.google.com/spreadsheets/d/1b1PXIM7DjzJN7_UX2rZ9e1q0II1s1nDH15PX_xov-fA/edit#gid=2141059533\n",
        "2. 取出`d/`到下一個`/`間的代號，為sheetId，上例為`1b1PXIM7DjzJN7_UX2rZ9e1q0II1s1nDH15PX_xov-fA`\n",
        "3. 複製你所要抓的sheet Name\n",
        "\n"
      ]
    },
    {
      "cell_type": "code",
      "metadata": {
        "id": "Y1532KqHjtc8"
      },
      "source": [
        "import pandas as pd\n",
        "sheet_id = '1b1PXIM7DjzJN7_UX2rZ9e1q0II1s1nDH15PX_xov-fA'\n",
        "sheet_name = 'G3-B06305030'\n",
        "url = f'https://docs.google.com/spreadsheets/d/{sheet_id}/gviz/tq?tqx=out:csv&sheet={sheet_name}'\n",
        "df = pd.read_csv(url)"
      ],
      "execution_count": 13,
      "outputs": []
    },
    {
      "cell_type": "code",
      "metadata": {
        "colab": {
          "base_uri": "https://localhost:8080/",
          "height": 419
        },
        "id": "qvtAO295mamI",
        "outputId": "1670b165-2c4c-4679-e8e8-9bbe6f049cd7"
      },
      "source": [
        "df = df.iloc[:, [3, 5]].set_axis(['text', 'label'], axis=1)\n",
        "df"
      ],
      "execution_count": 14,
      "outputs": [
        {
          "output_type": "execute_result",
          "data": {
            "text/html": [
              "<div>\n",
              "<style scoped>\n",
              "    .dataframe tbody tr th:only-of-type {\n",
              "        vertical-align: middle;\n",
              "    }\n",
              "\n",
              "    .dataframe tbody tr th {\n",
              "        vertical-align: top;\n",
              "    }\n",
              "\n",
              "    .dataframe thead th {\n",
              "        text-align: right;\n",
              "    }\n",
              "</style>\n",
              "<table border=\"1\" class=\"dataframe\">\n",
              "  <thead>\n",
              "    <tr style=\"text-align: right;\">\n",
              "      <th></th>\n",
              "      <th>text</th>\n",
              "      <th>label</th>\n",
              "    </tr>\n",
              "  </thead>\n",
              "  <tbody>\n",
              "    <tr>\n",
              "      <th>0</th>\n",
              "      <td>暑假Summer Vacation 蔡🐷腫痛不是中國人它是美國的狗🐕</td>\n",
              "      <td>有關-仇美-1</td>\n",
              "    </tr>\n",
              "    <tr>\n",
              "      <th>1</th>\n",
              "      <td>其實說句有點難聽的話，一直都是中美拉鋸，從來都沒有臺灣的份\\n就像那句話說的   我消滅你與...</td>\n",
              "      <td>有關-中立0</td>\n",
              "    </tr>\n",
              "    <tr>\n",
              "      <th>2</th>\n",
              "      <td>台灣獨立給中國借口武統，邏輯正確，一旦台獨，美國就會駐軍，中共絕對不會比這件事發生，就算殺死...</td>\n",
              "      <td>有關-中立0</td>\n",
              "    </tr>\n",
              "    <tr>\n",
              "      <th>3</th>\n",
              "      <td>蔡女皇復辟獨裁啊。美國滲透就不算滲透？日本滲透就不算滲透？雙標垃圾黨。郭正亮你他媽再掰。</td>\n",
              "      <td>有關-仇美-1</td>\n",
              "    </tr>\n",
              "    <tr>\n",
              "      <th>4</th>\n",
              "      <td>美國的警察遇到危險可以開槍,為什麼香港不行,你們這些民進黨跟一位總統跟香港干你什麼屁事啊.</td>\n",
              "      <td>有關-仇美-1</td>\n",
              "    </tr>\n",
              "    <tr>\n",
              "      <th>...</th>\n",
              "      <td>...</td>\n",
              "      <td>...</td>\n",
              "    </tr>\n",
              "    <tr>\n",
              "      <th>295</th>\n",
              "      <td>東食西宿也是跟韓禿子講的，台灣可以和大陸，日本，美國都談戀愛，和任何一個睡覺都可以，但是絕對...</td>\n",
              "      <td>有關-中立0</td>\n",
              "    </tr>\n",
              "    <tr>\n",
              "      <th>296</th>\n",
              "      <td>台灣對大陸是只收聘禮不談婚嫁；對日本是廉娛樂券打折；對老美是自購娛樂券獻身。</td>\n",
              "      <td>有關-仇美-1</td>\n",
              "    </tr>\n",
              "    <tr>\n",
              "      <th>297</th>\n",
              "      <td>既然「市場靠中國」，那就別指望「國防靠美國」了，講完。</td>\n",
              "      <td>有關-中立0</td>\n",
              "    </tr>\n",
              "    <tr>\n",
              "      <th>298</th>\n",
              "      <td>郭是從企業角度入手 韓由台灣對外處境着眼 事實影響台灣最大的 就是中國大陸 美國及日本  況...</td>\n",
              "      <td>有關-中立0</td>\n",
              "    </tr>\n",
              "    <tr>\n",
              "      <th>299</th>\n",
              "      <td>韓國瑜的國際覌不及郭台銘，國防靠美國，市場靠大陸？哪有這麽便宜的事，吃二家茶禮想想就好。</td>\n",
              "      <td>有關-中立0</td>\n",
              "    </tr>\n",
              "  </tbody>\n",
              "</table>\n",
              "<p>300 rows × 2 columns</p>\n",
              "</div>"
            ],
            "text/plain": [
              "                                                  text    label\n",
              "0                   暑假Summer Vacation 蔡🐷腫痛不是中國人它是美國的狗🐕  有關-仇美-1\n",
              "1    其實說句有點難聽的話，一直都是中美拉鋸，從來都沒有臺灣的份\\n就像那句話說的   我消滅你與...   有關-中立0\n",
              "2    台灣獨立給中國借口武統，邏輯正確，一旦台獨，美國就會駐軍，中共絕對不會比這件事發生，就算殺死...   有關-中立0\n",
              "3         蔡女皇復辟獨裁啊。美國滲透就不算滲透？日本滲透就不算滲透？雙標垃圾黨。郭正亮你他媽再掰。  有關-仇美-1\n",
              "4        美國的警察遇到危險可以開槍,為什麼香港不行,你們這些民進黨跟一位總統跟香港干你什麼屁事啊.  有關-仇美-1\n",
              "..                                                 ...      ...\n",
              "295  東食西宿也是跟韓禿子講的，台灣可以和大陸，日本，美國都談戀愛，和任何一個睡覺都可以，但是絕對...   有關-中立0\n",
              "296             台灣對大陸是只收聘禮不談婚嫁；對日本是廉娛樂券打折；對老美是自購娛樂券獻身。  有關-仇美-1\n",
              "297                        既然「市場靠中國」，那就別指望「國防靠美國」了，講完。   有關-中立0\n",
              "298  郭是從企業角度入手 韓由台灣對外處境着眼 事實影響台灣最大的 就是中國大陸 美國及日本  況...   有關-中立0\n",
              "299       韓國瑜的國際覌不及郭台銘，國防靠美國，市場靠大陸？哪有這麽便宜的事，吃二家茶禮想想就好。   有關-中立0\n",
              "\n",
              "[300 rows x 2 columns]"
            ]
          },
          "metadata": {
            "tags": []
          },
          "execution_count": 14
        }
      ]
    },
    {
      "cell_type": "code",
      "metadata": {
        "colab": {
          "base_uri": "https://localhost:8080/",
          "height": 419
        },
        "id": "eiFFYvpdnTam",
        "outputId": "28ac9d92-54ff-4d1c-ab13-48407291eddf"
      },
      "source": [
        "df = df.replace({'無關對美立場': -99, \n",
        "           '有關-親美1': 1,\n",
        "           '有關-仇美-1': -1,\n",
        "           '有關-中立0': 0})\n",
        "df = df.loc[df['label'].isin([-1, 1])]\n",
        "df"
      ],
      "execution_count": 15,
      "outputs": [
        {
          "output_type": "execute_result",
          "data": {
            "text/html": [
              "<div>\n",
              "<style scoped>\n",
              "    .dataframe tbody tr th:only-of-type {\n",
              "        vertical-align: middle;\n",
              "    }\n",
              "\n",
              "    .dataframe tbody tr th {\n",
              "        vertical-align: top;\n",
              "    }\n",
              "\n",
              "    .dataframe thead th {\n",
              "        text-align: right;\n",
              "    }\n",
              "</style>\n",
              "<table border=\"1\" class=\"dataframe\">\n",
              "  <thead>\n",
              "    <tr style=\"text-align: right;\">\n",
              "      <th></th>\n",
              "      <th>text</th>\n",
              "      <th>label</th>\n",
              "    </tr>\n",
              "  </thead>\n",
              "  <tbody>\n",
              "    <tr>\n",
              "      <th>0</th>\n",
              "      <td>暑假Summer Vacation 蔡🐷腫痛不是中國人它是美國的狗🐕</td>\n",
              "      <td>-1</td>\n",
              "    </tr>\n",
              "    <tr>\n",
              "      <th>3</th>\n",
              "      <td>蔡女皇復辟獨裁啊。美國滲透就不算滲透？日本滲透就不算滲透？雙標垃圾黨。郭正亮你他媽再掰。</td>\n",
              "      <td>-1</td>\n",
              "    </tr>\n",
              "    <tr>\n",
              "      <th>4</th>\n",
              "      <td>美國的警察遇到危險可以開槍,為什麼香港不行,你們這些民進黨跟一位總統跟香港干你什麼屁事啊.</td>\n",
              "      <td>-1</td>\n",
              "    </tr>\n",
              "    <tr>\n",
              "      <th>6</th>\n",
              "      <td>很早就說過5G華為領先那時沒人信...看美國動作就知道一直抹黑華為間諜.偷技術..然後用禁運...</td>\n",
              "      <td>-1</td>\n",
              "    </tr>\n",
              "    <tr>\n",
              "      <th>8</th>\n",
              "      <td>大陸最希望蔡英文和川普連任，一個是詐騙祖師，另一個是老人痴呆。</td>\n",
              "      <td>-1</td>\n",
              "    </tr>\n",
              "    <tr>\n",
              "      <th>...</th>\n",
              "      <td>...</td>\n",
              "      <td>...</td>\n",
              "    </tr>\n",
              "    <tr>\n",
              "      <th>279</th>\n",
              "      <td>詐騙島島主蔡英文，說謊比美國蓬佩奧還誇張，我們撒謊，我們欺騙，這是我們探索進取的榮耀！</td>\n",
              "      <td>-1</td>\n",
              "    </tr>\n",
              "    <tr>\n",
              "      <th>281</th>\n",
              "      <td>韓國瑜如果當選,對我們香港影響非常大,對中美鬥爭更是關鍵,老美今次必然攪鬼,力度亦會越來越大...</td>\n",
              "      <td>-1</td>\n",
              "    </tr>\n",
              "    <tr>\n",
              "      <th>292</th>\n",
              "      <td>韓國瑜，人現在美國，當然要說國防靠美國。 說給老美聽的啦。 郭台銘說的比較好國防靠和平…… ...</td>\n",
              "      <td>-1</td>\n",
              "    </tr>\n",
              "    <tr>\n",
              "      <th>294</th>\n",
              "      <td>唐湘龍鬼扯蛋 !    國防靠和平 ? 命運靠自己 ?  這兩句可能嗎 ?  老美會讓你和平 ?</td>\n",
              "      <td>-1</td>\n",
              "    </tr>\n",
              "    <tr>\n",
              "      <th>296</th>\n",
              "      <td>台灣對大陸是只收聘禮不談婚嫁；對日本是廉娛樂券打折；對老美是自購娛樂券獻身。</td>\n",
              "      <td>-1</td>\n",
              "    </tr>\n",
              "  </tbody>\n",
              "</table>\n",
              "<p>124 rows × 2 columns</p>\n",
              "</div>"
            ],
            "text/plain": [
              "                                                  text  label\n",
              "0                   暑假Summer Vacation 蔡🐷腫痛不是中國人它是美國的狗🐕     -1\n",
              "3         蔡女皇復辟獨裁啊。美國滲透就不算滲透？日本滲透就不算滲透？雙標垃圾黨。郭正亮你他媽再掰。     -1\n",
              "4        美國的警察遇到危險可以開槍,為什麼香港不行,你們這些民進黨跟一位總統跟香港干你什麼屁事啊.     -1\n",
              "6    很早就說過5G華為領先那時沒人信...看美國動作就知道一直抹黑華為間諜.偷技術..然後用禁運...     -1\n",
              "8                      大陸最希望蔡英文和川普連任，一個是詐騙祖師，另一個是老人痴呆。     -1\n",
              "..                                                 ...    ...\n",
              "279        詐騙島島主蔡英文，說謊比美國蓬佩奧還誇張，我們撒謊，我們欺騙，這是我們探索進取的榮耀！     -1\n",
              "281  韓國瑜如果當選,對我們香港影響非常大,對中美鬥爭更是關鍵,老美今次必然攪鬼,力度亦會越來越大...     -1\n",
              "292  韓國瑜，人現在美國，當然要說國防靠美國。 說給老美聽的啦。 郭台銘說的比較好國防靠和平…… ...     -1\n",
              "294   唐湘龍鬼扯蛋 !    國防靠和平 ? 命運靠自己 ?  這兩句可能嗎 ?  老美會讓你和平 ?     -1\n",
              "296             台灣對大陸是只收聘禮不談婚嫁；對日本是廉娛樂券打折；對老美是自購娛樂券獻身。     -1\n",
              "\n",
              "[124 rows x 2 columns]"
            ]
          },
          "metadata": {
            "tags": []
          },
          "execution_count": 15
        }
      ]
    },
    {
      "cell_type": "markdown",
      "metadata": {
        "id": "RATfuHUrnshh"
      },
      "source": [
        "# 2.Cleaning data"
      ]
    },
    {
      "cell_type": "code",
      "metadata": {
        "id": "kU6uqZRXnrcb"
      },
      "source": [
        ""
      ],
      "execution_count": 17,
      "outputs": []
    },
    {
      "cell_type": "code",
      "metadata": {
        "id": "omt1l0blqSr-"
      },
      "source": [
        ""
      ],
      "execution_count": 17,
      "outputs": []
    },
    {
      "cell_type": "code",
      "metadata": {
        "id": "UiP-t0DzqSuU"
      },
      "source": [
        ""
      ],
      "execution_count": 17,
      "outputs": []
    },
    {
      "cell_type": "code",
      "metadata": {
        "id": "5sSiloH0qSx2"
      },
      "source": [
        ""
      ],
      "execution_count": null,
      "outputs": []
    },
    {
      "cell_type": "markdown",
      "metadata": {
        "id": "TGXBK9hdnwlt"
      },
      "source": [
        "# 3.Modeling by classifical model\n",
        "\n",
        "- **TODO**: [Explain the model you used and descibe vectorization or feature selection process and parameters here]"
      ]
    },
    {
      "cell_type": "code",
      "metadata": {
        "id": "nhDrNUY0nJmF"
      },
      "source": [
        ""
      ],
      "execution_count": 17,
      "outputs": []
    },
    {
      "cell_type": "code",
      "metadata": {
        "id": "PjheWlEBqSDM"
      },
      "source": [
        ""
      ],
      "execution_count": 17,
      "outputs": []
    },
    {
      "cell_type": "code",
      "metadata": {
        "id": "aXRvOemiqSG-"
      },
      "source": [
        ""
      ],
      "execution_count": 17,
      "outputs": []
    },
    {
      "cell_type": "code",
      "metadata": {
        "id": "-18Yk-syqSJm"
      },
      "source": [
        ""
      ],
      "execution_count": null,
      "outputs": []
    },
    {
      "cell_type": "markdown",
      "metadata": {
        "id": "ZfNgNa2eoE1F"
      },
      "source": [
        "# 4.Modeling by simpleTransformer"
      ]
    },
    {
      "cell_type": "code",
      "metadata": {
        "id": "5vRZlctmoDLE"
      },
      "source": [
        ""
      ],
      "execution_count": 17,
      "outputs": []
    },
    {
      "cell_type": "code",
      "metadata": {
        "id": "TekfqVYaqRQJ"
      },
      "source": [
        ""
      ],
      "execution_count": 17,
      "outputs": []
    },
    {
      "cell_type": "code",
      "metadata": {
        "id": "bLn8qbHHqRWw"
      },
      "source": [
        ""
      ],
      "execution_count": 17,
      "outputs": []
    },
    {
      "cell_type": "code",
      "metadata": {
        "id": "1cc8NL9wqRci"
      },
      "source": [
        ""
      ],
      "execution_count": null,
      "outputs": []
    },
    {
      "cell_type": "markdown",
      "metadata": {
        "id": "KhUgm_imoNtJ"
      },
      "source": [
        "# 5.Comparison: \n",
        "\n",
        "- **TODO**: Printing `classified_report` of (your) selected classical models and transformer below."
      ]
    },
    {
      "cell_type": "code",
      "metadata": {
        "id": "8vQa3r5UoNNl"
      },
      "source": [
        "# Classified report of selected classical models (>=1)\n",
        "\n",
        "\n"
      ],
      "execution_count": 16,
      "outputs": []
    },
    {
      "cell_type": "code",
      "metadata": {
        "id": "COSNqfM_qM3n"
      },
      "source": [
        "# Classified report of transformer \n",
        "\n",
        "\n"
      ],
      "execution_count": 17,
      "outputs": []
    },
    {
      "cell_type": "markdown",
      "metadata": {
        "id": "WkiC5y6Vo9Xn"
      },
      "source": [
        "## TODO: Describe the result of the imbalanced data\n",
        "\n",
        "Quesgtion. 這筆資料勢必為一個不均衡（imbalanced）的資料，也就是仇美和親美的資料筆數會差距很多。請觀察上述方法的結果，請描述不均衡的資料對Confusion Matrix和Recall Rate與Precision Rate的影響。這時候Accuracy是否可用？為什麼？試討論之。\n",
        "\n",
        "A†nswer: [Your answer here]"
      ]
    }
  ]
}