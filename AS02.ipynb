{
 "cells": [
  {
   "cell_type": "markdown",
   "metadata": {
    "id": "iiMwv5fb01PH"
   },
   "source": [
    "# AS02-1 Pre-Processing Youbike data"
   ]
  },
  {
   "cell_type": "code",
   "execution_count": null,
   "metadata": {
    "id": "jviuL0hgrrZI"
   },
   "outputs": [],
   "source": [
    "# Get back youtube data\n",
    "import requests\n",
    "import json\n",
    "response = requests.get('https://tcgbusfs.blob.core.windows.net/blobyoubike/YouBikeTP.gz')\n",
    "data = json.loads(response.text)"
   ]
  },
  {
   "cell_type": "markdown",
   "metadata": {
    "id": "9jc47vviq7Hf"
   },
   "source": [
    "## AS02-1 (Code): Using site name as dict id \n",
    "\n",
    "原本的Youbike data除了第一層有`retCode`和`retVal`外，在`retVal`所對應到的資料中，是以`sno`也就是駐車站編號為索引。我希望把該筆資料改為dict of dict的資料，也就是最外一層就是dictionary，裡面每個key是站台「中文名稱」，並以`site_dict`來作為新的dictionary的變數名稱。\n",
    "\n",
    "除此之外，請參考下列資料，嘗試移除幾個儲存英文站名、英文區域和英文地址的keys與values，包含`['sareaen', 'snaen', 'aren']`\n",
    "\n",
    "參考資料：[Removing multiple keys from a dictionary safely (stackoverflow)](https://stackoverflow.com/questions/8995611/removing-multiple-keys-from-a-dictionary-safely)"
   ]
  },
  {
   "cell_type": "code",
   "execution_count": null,
   "metadata": {
    "id": "CmW91nT5tZcF"
   },
   "outputs": [],
   "source": [
    "site_dict = {}  # Using this as new dict name\n",
    "en_keys = ['sareaen', 'snaen', 'aren']\n",
    "\n",
    "# Your code should go here\n"
   ]
  },
  {
   "cell_type": "markdown",
   "metadata": {
    "id": "2f_A9HOZtja7"
   },
   "source": [
    "## AS02-1 (Output verification): Print out the key of the outermost dictionary\n",
    "\n",
    "執行以下程式碼以驗證你的程式撰寫是否成功。你不能更動以下Cell的Code，僅能在上面的Cell撰寫程式，使得以下的Code列印出來的資料與預期相同。助教會看這個Cell的結果來判斷你是否達到題目要求。\n",
    "\n",
    "預期結果如下：\n",
    "`dict_keys(['捷運市政府站(3號出口)', '捷運國父紀念館站(2號出口)', '台北市政府', '市民廣場', '興雅國中', '臺北南山廣場', '信義廣場(台北101)', ...]\n",
    "`"
   ]
  },
  {
   "cell_type": "code",
   "execution_count": null,
   "metadata": {
    "id": "gJR-kyDkt_U4"
   },
   "outputs": [],
   "source": [
    "print(site_dict.keys())\n",
    "# \", \".join(list(site_dict.keys()))"
   ]
  },
  {
   "cell_type": "markdown",
   "metadata": {
    "id": "P3rG0rxSuRnR"
   },
   "source": [
    "## AS02-1 (Output verification 2): Print out keys of site's data\n",
    "\n",
    "執行以下程式碼以驗證你的程式撰寫是否成功。你不能更動以下Cell的Code，僅能在上面的Cell撰寫程式，使得以下的Code列印出來的資料與預期相同。預期結果如下：`dict_keys(['sno', 'sna', 'tot', 'sbi', 'sarea', 'mday', 'lat', 'lng', 'ar', 'bemp', 'act'])\n",
    "`"
   ]
  },
  {
   "cell_type": "code",
   "execution_count": null,
   "metadata": {
    "id": "iGToCqINuR0R"
   },
   "outputs": [],
   "source": [
    "site_dict['捷運市政府站(3號出口)'].keys()"
   ]
  },
  {
   "cell_type": "markdown",
   "metadata": {
    "id": "KDJT6w7nro03"
   },
   "source": [
    "# AS02-2 Calculating the fullness of each youbike site\n",
    "\n",
    "\n",
    "## AS02-2 (Code): Inserting a new indicator fullness for each site\n",
    "\n",
    "建立一個新的指標`perc = sbi/tot`，為現有單車數(`sbi`)除以總單車格數（`tot`）作為滿站的比例，並希望在`site_dict`中每個駐車站的資料中多一個key為`perc`來存放滿站比例\n",
    "\n",
    "例如\n",
    "```\n",
    "{ '捷運市政府站(3號出口)':{\n",
    "    'sna': '捷運市政府站(3號出口)', \n",
    "    'sno': ...,\n",
    "    'tot': ...,\n",
    "    'sbi': ..., \n",
    "    'perc': ...,\n",
    "    ...},\n",
    "    ...\n",
    "}\n",
    "```"
   ]
  },
  {
   "cell_type": "code",
   "execution_count": null,
   "metadata": {
    "id": "awYVPUw2yClq"
   },
   "outputs": [],
   "source": [
    "# Your code should be here"
   ]
  },
  {
   "cell_type": "markdown",
   "metadata": {
    "id": "u_CLG0BIrqhk"
   },
   "source": [
    "## AS02-2 (Code + Output verification): 列印出`perc`(fullness)最高的站\n",
    "\n",
    "用`for-loop`和`if-else`找出`perc`(fullness)最高的駐車站，並印出其站名和`perc`數值，以及時間。<br>\n",
    "\n",
    "註：本題不可使用內建或者第三方的sorting函式。"
   ]
  },
  {
   "cell_type": "code",
   "execution_count": null,
   "metadata": {
    "id": "cELbhh1myJLG"
   },
   "outputs": [],
   "source": [
    "fullest_sna = \"\"\n",
    "fullest_perc = 0.0\n",
    "fullest_time = \"\"\n",
    "\n",
    "\n",
    "# Your code should be here\n",
    "print(\"At %s, the highest perc is %f (Station: %s)\"%(fullest_sna, fullest_perc, fullest_sna))"
   ]
  },
  {
   "cell_type": "markdown",
   "metadata": {
    "id": "xJyWK69h44qu"
   },
   "source": [
    "## AS02-2 (Code + Output verification 2): Top 10\n",
    "\n",
    "用內建或第三方的sorting函式，將`perc`(fullness)按照full to empty排序，用for-loop列印出，`perc`最高的10個駐車站的`sna`、`perc`、`tot`、`sbi`(（請善用printing formation和`\\t`將之對齊排列好）。"
   ]
  },
  {
   "cell_type": "code",
   "execution_count": null,
   "metadata": {
    "id": "hMxtXfUR44yz"
   },
   "outputs": [],
   "source": []
  },
  {
   "cell_type": "markdown",
   "metadata": {
    "id": "QE7Z0jly6e2n"
   },
   "source": [
    "# AS02-3: Categorizing fullness\n",
    "\n",
    "當要建立回歸模型來預測腳踏車的滿站程度時，我們需要的可能是上述的`perc`來作為依變項Y；但我如果只是要仿照Youbike地圖，用顏色來標示出滿站程度時（如https://taipei.youbike.com.tw/station/map） ，就需要將`perc`按數值分區。\n",
    "\n",
    "## AS02-3 (Question)\n",
    "Q: `perc`的數值應該是落在0~1之間，你認為應該區分為哪幾個區間會比較好？你的理由是什麼？<br>\n",
    "\n",
    "A: (Your answer should go here)"
   ]
  },
  {
   "cell_type": "markdown",
   "metadata": {
    "id": "_JWFYfTv6r9u"
   },
   "source": [
    "## AS02-3 (Code and Output Verification)\n",
    "\n",
    "請依照你的設計用if-else來分區，並用Counting來累計並**列印出**該筆資料中每個分區各個有幾個站台。例如：\n",
    "\n",
    "```\n",
    "Full[1.0]:   32\n",
    "Nearly Full [0.9, 1.0):   19\n",
    "...\n",
    "Empty[0, 0.3):   34\n",
    "...\n",
    "```"
   ]
  },
  {
   "cell_type": "code",
   "execution_count": null,
   "metadata": {
    "id": "cXICrSIl6faq"
   },
   "outputs": [],
   "source": []
  }
 ],
 "metadata": {
  "colab": {
   "authorship_tag": "ABX9TyMhnz/fLysIkoewCjoWQR5P",
   "collapsed_sections": [],
   "name": "AS02.ipynb",
   "provenance": [],
   "toc_visible": true
  },
  "kernelspec": {
   "display_name": "Python 3",
   "language": "python",
   "name": "python3"
  },
  "language_info": {
   "codemirror_mode": {
    "name": "ipython",
    "version": 3
   },
   "file_extension": ".py",
   "mimetype": "text/x-python",
   "name": "python",
   "nbconvert_exporter": "python",
   "pygments_lexer": "ipython3",
   "version": "3.8.3"
  }
 },
 "nbformat": 4,
 "nbformat_minor": 1
}
