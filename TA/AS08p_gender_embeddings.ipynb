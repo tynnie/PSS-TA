{
  "nbformat": 4,
  "nbformat_minor": 5,
  "metadata": {
    "kernelspec": {
      "display_name": "Python 3",
      "language": "python",
      "name": "python3"
    },
    "language_info": {
      "codemirror_mode": {
        "name": "ipython",
        "version": 3
      },
      "file_extension": ".py",
      "mimetype": "text/x-python",
      "name": "python",
      "nbconvert_exporter": "python",
      "pygments_lexer": "ipython3",
      "version": "3.7.4"
    },
    "toc-autonumbering": false,
    "toc-showmarkdowntxt": true,
    "colab": {
      "name": "AS08p_gender_embeddings.ipynb",
      "provenance": [],
      "collapsed_sections": [],
      "toc_visible": true
    }
  },
  "cells": [
    {
      "cell_type": "markdown",
      "metadata": {
        "id": "35490c68"
      },
      "source": [
        "# HW08 Gender embeddings\n"
      ],
      "id": "35490c68"
    },
    {
      "cell_type": "markdown",
      "metadata": {
        "id": "86a9eeb6"
      },
      "source": [
        "## Preparation\n",
        "\n",
        "本次作業練習需要用到gensim套件，為避免同學在安裝套件方面花太多時間，以下提供在colab直接執行作業檔案的方法及說明。\n",
        "\n",
        "*   方法一：老師原本設計的方式\n",
        "  *   請同學自行下載檔案並在本機環境執行作業檔案\n",
        "  *   如果碰到問題可以先就錯誤訊息到Google或其他平台上找答案，若真的無法解決再請同學到社團或NTU COOL問我們\n",
        "*   方法二：將資料下載到colab的環境\n",
        "  *   執行指令並下載資料，完成後直接進行作業下一個步驟（loading data）\n",
        "*   方法三：將資料下載到自己的雲端，並直接取用該雲端檔案\n",
        "  *   執行指令並下載資料，完成後直接進行作業下一個步驟（loading data）\n",
        "  *   使用此方法只要下載一次檔案就好，之後可以直接取用雲端檔案\n",
        "\n",
        "### 方法一：\n",
        "\n",
        "- Download [the embedding](https://drive.google.com/file/d/1sfOjlQ0G_LXfvdBGFhIlG0UUj55GXhew/view?usp=sharing) to your computer (Middle size, about MB)\n",
        "\n"
      ],
      "id": "86a9eeb6"
    },
    {
      "cell_type": "markdown",
      "metadata": {
        "id": "eQwtpGFXU35B"
      },
      "source": [
        "### 方法二：\n",
        "\n"
      ],
      "id": "eQwtpGFXU35B"
    },
    {
      "cell_type": "code",
      "metadata": {
        "colab": {
          "base_uri": "https://localhost:8080/"
        },
        "id": "bnjLFBh6T6v0",
        "outputId": "85ad4f61-5ba2-4730-94c4-b8fd023d07a6"
      },
      "source": [
        "# 下載資料到colab提供的環境，直接執行這一行即可\n",
        "\n",
        "!gdown --id '1OkR_STaIYXK6-BWY5RF1eikqysvML8-8' --output CBOW_iter15_2017-2018.bin \n",
        "\n",
        "# 若上一個連結不能用，請用這一個備用的連結\n",
        "# !gdown --id '1sfOjlQ0G_LXfvdBGFhIlG0UUj55GXhew' --output CBOW_iter15_2017-2018.bin"
      ],
      "id": "bnjLFBh6T6v0",
      "execution_count": null,
      "outputs": [
        {
          "output_type": "stream",
          "text": [
            "Downloading...\n",
            "From: https://drive.google.com/uc?id=1OkR_STaIYXK6-BWY5RF1eikqysvML8-8\n",
            "To: /content/CBOW_iter15_2017-2018.bin\n",
            "320MB [00:01, 223MB/s]\n"
          ],
          "name": "stdout"
        }
      ]
    },
    {
      "cell_type": "markdown",
      "metadata": {
        "id": "3tI99zEWYFp8"
      },
      "source": [
        "> 如果成功，你會在左側目錄看到你的檔案\n",
        "\n",
        "![](https://i.imgur.com/DA5jUpE.png)"
      ],
      "id": "3tI99zEWYFp8"
    },
    {
      "cell_type": "markdown",
      "metadata": {
        "id": "Gw-tJXYvVIPZ"
      },
      "source": [
        "### 方法三：\n",
        "\n"
      ],
      "id": "Gw-tJXYvVIPZ"
    },
    {
      "cell_type": "code",
      "metadata": {
        "colab": {
          "base_uri": "https://localhost:8080/"
        },
        "id": "HlSt7MXGVH4u",
        "outputId": "97d89a06-e276-42ef-e155-49dc46d4f394"
      },
      "source": [
        "# 將資料放到你的google drive\n",
        "# 執行這一格並進行授權（依照網址複製授權金鑰並輸入在空格裡）\n",
        "# 成功會出現「 Mounted at /content/gdrive 」\n",
        "\n",
        "from google.colab import drive\n",
        "drive.mount('/content/gdrive')"
      ],
      "id": "HlSt7MXGVH4u",
      "execution_count": 12,
      "outputs": [
        {
          "output_type": "stream",
          "text": [
            "Drive already mounted at /content/gdrive; to attempt to forcibly remount, call drive.mount(\"/content/gdrive\", force_remount=True).\n"
          ],
          "name": "stdout"
        }
      ]
    },
    {
      "cell_type": "code",
      "metadata": {
        "id": "xLPtDj6ZVf5D"
      },
      "source": [
        "# 指定資料夾\n",
        "import os\n",
        "\n",
        "workspace = '1092NTU/PSS-TA/HW08'  # 填入資料夾名稱／檔案路徑，你的雲端上需先有名稱／檔案路徑相同的資料夾\n",
        "\n",
        "try:\n",
        "  os.chdir(os.path.join('/content/gdrive/My Drive/', workspace))\n",
        "except:\n",
        "  os.mkdir(os.path.join('/content/gdrive/My Drive/', workspace))\n",
        "  os.chdir(os.path.join('/content/gdrive/My Drive/', workspace))"
      ],
      "id": "xLPtDj6ZVf5D",
      "execution_count": 13,
      "outputs": []
    },
    {
      "cell_type": "code",
      "metadata": {
        "colab": {
          "base_uri": "https://localhost:8080/"
        },
        "id": "U7rUx3O1V0hh",
        "outputId": "15516166-d0d8-46ba-c3f2-6fb4d3c7cee2"
      },
      "source": [
        "# 下載資料\n",
        "\n",
        "!gdown --id '1OkR_STaIYXK6-BWY5RF1eikqysvML8-8' --output CBOW_iter15_2017-2018.bin \n",
        "\n",
        "# 備用\n",
        "# !gdown --id '1sfOjlQ0G_LXfvdBGFhIlG0UUj55GXhew' --output CBOW_iter15_2017-2018.bin"
      ],
      "id": "U7rUx3O1V0hh",
      "execution_count": 14,
      "outputs": [
        {
          "output_type": "stream",
          "text": [
            "Downloading...\n",
            "From: https://drive.google.com/uc?id=1OkR_STaIYXK6-BWY5RF1eikqysvML8-8\n",
            "To: /content/gdrive/My Drive/1092NTU/PSS-TA/HW08/CBOW_iter15_2017-2018.bin\n",
            "320MB [00:02, 151MB/s]\n"
          ],
          "name": "stdout"
        }
      ]
    },
    {
      "cell_type": "markdown",
      "metadata": {
        "id": "rV1Nv8w2YLHM"
      },
      "source": [
        "> 成功後你會得到你的檔案路徑，之後進行作業前只要先連結（mount）你的google drive，就可以透過檔案路徑直接取用你的雲端檔案\n",
        "\n",
        "\n",
        "\n",
        "```\n",
        "# 例如我的執行結果是以下內容\n",
        "# 我的檔案路徑就是：/content/gdrive/MyDrive/1092NTU/PSS-TA/HW08/CBOW_iter15_2017-2018.bin\n",
        "# 需注意刪去空白格，避免出現路徑錯誤\n",
        "\n",
        "From: https://drive.google.com/uc?id=1OkR_STaIYXK6-BWY5RF1eikqysvML8-8\n",
        "To: /content/gdrive/My Drive/1092NTU/PSS-TA/HW08/CBOW_iter15_2017-2018.bin\n",
        "320MB [00:02, 151MB/s]\n",
        "```"
      ],
      "id": "rV1Nv8w2YLHM"
    },
    {
      "cell_type": "markdown",
      "metadata": {
        "id": "3cf3949e"
      },
      "source": [
        "## Loading data"
      ],
      "id": "3cf3949e"
    },
    {
      "cell_type": "code",
      "metadata": {
        "id": "91aa4fd6",
        "colab": {
          "base_uri": "https://localhost:8080/"
        },
        "outputId": "8f1e1d0b-3234-43d3-f790-d0f583861f77"
      },
      "source": [
        "from gensim.models import KeyedVectors\n",
        "\n",
        "w2v = KeyedVectors.load_word2vec_format(\"CBOW_iter15_2017-2018.bin\", binary = True)\n",
        "\n",
        "# 若你使用方法三，需將此處的檔案路徑改成雲端檔案路徑，以取用雲端檔案\n",
        "# w2v = KeyedVectors.load_word2vec_format(\"/content/gdrive/MyDrive/1092NTU/PSS-TA/HW08/CBOW_iter15_2017-2018.bin\", binary = True)\n",
        "print(len(w2v.index2word))"
      ],
      "id": "91aa4fd6",
      "execution_count": 2,
      "outputs": [
        {
          "output_type": "stream",
          "text": [
            "265088\n"
          ],
          "name": "stdout"
        }
      ]
    },
    {
      "cell_type": "markdown",
      "metadata": {
        "id": "24104f35"
      },
      "source": [
        "# Design"
      ],
      "id": "24104f35"
    },
    {
      "cell_type": "markdown",
      "metadata": {
        "id": "e55563ed"
      },
      "source": [
        "## (TODO) Construct three lists\n",
        "- you should list as least 30 terms for each list"
      ],
      "id": "e55563ed"
    },
    {
      "cell_type": "code",
      "metadata": {
        "id": "5f9fba30"
      },
      "source": [
        "female = [\"她\", \"妳\", \"女生\", \"女孩\"]\n",
        "male = [\"他\", \"你\", \"男\", \"男生\"]\n",
        "occupation = ['警察', '保母', '護士', '老闆']"
      ],
      "id": "5f9fba30",
      "execution_count": 3,
      "outputs": []
    },
    {
      "cell_type": "markdown",
      "metadata": {
        "id": "706c5928"
      },
      "source": [
        "### Verify your vocabulary\n",
        "You can use the following code to verify if your selected words exist in the wordEmbedding model"
      ],
      "id": "706c5928"
    },
    {
      "cell_type": "code",
      "metadata": {
        "id": "1be73bed"
      },
      "source": [
        "for word in female+male+occupation:\n",
        "    if word not in w2v.vocab:\n",
        "        print(word)"
      ],
      "id": "1be73bed",
      "execution_count": 4,
      "outputs": []
    },
    {
      "cell_type": "markdown",
      "metadata": {
        "id": "21d26e96"
      },
      "source": [
        "# (TODO) Comparing gender stereotype of occupations \n",
        "- 你應該會有30個female words、30個male words、30個職業。\n",
        "- 對於每個職業，去計算該職業和每個female words的similarity，求平均，假設為female_avg\n",
        "- 對於每個職業，去計算該職業和每個male words的similarity，求平均，假設為male_avg\n",
        "- 對於每個職業，印出該職業female_avg和male_avg哪個大，印的時候可以用ternary condition來判斷\n",
        "```\n",
        "\"<\" if female_avg > male_avg elase \">\"\n",
        "```\n",
        "- Expected results\n",
        "```\n",
        "警察\tmale(0.21)\t>\tfemale(0.16)\n",
        "保母\tmale(0.19)\t<\tfemale(0.26)\n",
        "護士\tmale(0.30)\t<\tfemale(0.31)\n",
        "老闆\tmale(0.30)\t>\tfemale(0.28)\n",
        "```"
      ],
      "id": "21d26e96"
    },
    {
      "cell_type": "code",
      "metadata": {
        "id": "25038fed",
        "outputId": "1643dc60-a1d5-416c-c4a8-0cfd507059e9"
      },
      "source": [
        ""
      ],
      "id": "25038fed",
      "execution_count": null,
      "outputs": [
        {
          "output_type": "stream",
          "text": [
            "警察\tmale(0.21)\t>\tfemale(0.16)\n",
            "保母\tmale(0.19)\t<\tfemale(0.26)\n",
            "護士\tmale(0.30)\t<\tfemale(0.31)\n",
            "老闆\tmale(0.30)\t>\tfemale(0.28)\n"
          ],
          "name": "stdout"
        }
      ]
    },
    {
      "cell_type": "markdown",
      "metadata": {
        "id": "8f574963"
      },
      "source": [
        "# (TODO) Visualization with PCA\n",
        "抽取出所有上述職業和性別化稱謂的向量，以PCA進行降維後，用Bokeh做視覺化，預期視覺化結果如下：\n",
        "![image.png](attachment:27722a3a-4674-45ca-881e-ccd35873229f.png)"
      ],
      "id": "8f574963"
    },
    {
      "cell_type": "markdown",
      "metadata": {
        "id": "9c6fd53f"
      },
      "source": [
        "## Dimension reduction by PCA"
      ],
      "id": "9c6fd53f"
    },
    {
      "cell_type": "code",
      "metadata": {
        "id": "060b76fe"
      },
      "source": [
        ""
      ],
      "id": "060b76fe",
      "execution_count": null,
      "outputs": []
    },
    {
      "cell_type": "markdown",
      "metadata": {
        "id": "c2a5dad5"
      },
      "source": [
        "## Constructing pandas dataframe for visualization"
      ],
      "id": "c2a5dad5"
    },
    {
      "cell_type": "code",
      "metadata": {
        "id": "ec95a14f",
        "outputId": "84cc4f19-0b42-49dc-9799-38b9b21e0c25"
      },
      "source": [
        ""
      ],
      "id": "ec95a14f",
      "execution_count": null,
      "outputs": [
        {
          "output_type": "execute_result",
          "data": {
            "text/html": [
              "<div>\n",
              "<style scoped>\n",
              "    .dataframe tbody tr th:only-of-type {\n",
              "        vertical-align: middle;\n",
              "    }\n",
              "\n",
              "    .dataframe tbody tr th {\n",
              "        vertical-align: top;\n",
              "    }\n",
              "\n",
              "    .dataframe thead th {\n",
              "        text-align: right;\n",
              "    }\n",
              "</style>\n",
              "<table border=\"1\" class=\"dataframe\">\n",
              "  <thead>\n",
              "    <tr style=\"text-align: right;\">\n",
              "      <th></th>\n",
              "      <th>x</th>\n",
              "      <th>y</th>\n",
              "      <th>label</th>\n",
              "      <th>color</th>\n",
              "    </tr>\n",
              "  </thead>\n",
              "  <tbody>\n",
              "    <tr>\n",
              "      <th>0</th>\n",
              "      <td>-26.315098</td>\n",
              "      <td>-4.265126</td>\n",
              "      <td>她</td>\n",
              "      <td>red</td>\n",
              "    </tr>\n",
              "    <tr>\n",
              "      <th>1</th>\n",
              "      <td>-23.185083</td>\n",
              "      <td>4.461005</td>\n",
              "      <td>妳</td>\n",
              "      <td>red</td>\n",
              "    </tr>\n",
              "    <tr>\n",
              "      <th>2</th>\n",
              "      <td>-22.480119</td>\n",
              "      <td>25.706877</td>\n",
              "      <td>女生</td>\n",
              "      <td>red</td>\n",
              "    </tr>\n",
              "    <tr>\n",
              "      <th>3</th>\n",
              "      <td>-22.264492</td>\n",
              "      <td>18.956989</td>\n",
              "      <td>女孩</td>\n",
              "      <td>red</td>\n",
              "    </tr>\n",
              "    <tr>\n",
              "      <th>4</th>\n",
              "      <td>16.024391</td>\n",
              "      <td>-2.891161</td>\n",
              "      <td>女士</td>\n",
              "      <td>red</td>\n",
              "    </tr>\n",
              "    <tr>\n",
              "      <th>...</th>\n",
              "      <td>...</td>\n",
              "      <td>...</td>\n",
              "      <td>...</td>\n",
              "      <td>...</td>\n",
              "    </tr>\n",
              "    <tr>\n",
              "      <th>115</th>\n",
              "      <td>5.172201</td>\n",
              "      <td>3.623735</td>\n",
              "      <td>醫生</td>\n",
              "      <td>grey</td>\n",
              "    </tr>\n",
              "    <tr>\n",
              "      <th>116</th>\n",
              "      <td>18.513001</td>\n",
              "      <td>8.822533</td>\n",
              "      <td>領班</td>\n",
              "      <td>grey</td>\n",
              "    </tr>\n",
              "    <tr>\n",
              "      <th>117</th>\n",
              "      <td>12.341534</td>\n",
              "      <td>12.372184</td>\n",
              "      <td>外勞</td>\n",
              "      <td>grey</td>\n",
              "    </tr>\n",
              "    <tr>\n",
              "      <th>118</th>\n",
              "      <td>10.059075</td>\n",
              "      <td>0.202080</td>\n",
              "      <td>看護</td>\n",
              "      <td>grey</td>\n",
              "    </tr>\n",
              "    <tr>\n",
              "      <th>119</th>\n",
              "      <td>9.483635</td>\n",
              "      <td>16.808582</td>\n",
              "      <td>移工</td>\n",
              "      <td>grey</td>\n",
              "    </tr>\n",
              "  </tbody>\n",
              "</table>\n",
              "<p>120 rows × 4 columns</p>\n",
              "</div>"
            ],
            "text/plain": [
              "             x          y label color\n",
              "0   -26.315098  -4.265126     她   red\n",
              "1   -23.185083   4.461005     妳   red\n",
              "2   -22.480119  25.706877    女生   red\n",
              "3   -22.264492  18.956989    女孩   red\n",
              "4    16.024391  -2.891161    女士   red\n",
              "..         ...        ...   ...   ...\n",
              "115   5.172201   3.623735    醫生  grey\n",
              "116  18.513001   8.822533    領班  grey\n",
              "117  12.341534  12.372184    外勞  grey\n",
              "118  10.059075   0.202080    看護  grey\n",
              "119   9.483635  16.808582    移工  grey\n",
              "\n",
              "[120 rows x 4 columns]"
            ]
          },
          "metadata": {
            "tags": []
          },
          "execution_count": 54
        }
      ]
    },
    {
      "cell_type": "markdown",
      "metadata": {
        "id": "a334dee3"
      },
      "source": [
        "## Visualization by bokeh"
      ],
      "id": "a334dee3"
    },
    {
      "cell_type": "code",
      "metadata": {
        "id": "06c0d9ab",
        "outputId": "7c55bf85-81fb-4c76-f7f0-75d203a01b91"
      },
      "source": [
        "# !pip install bokeh\n",
        "# !pip install jupyter_bokeh\n",
        "from bokeh.models import ColumnDataSource, Label, LabelSet, Range1d\n",
        "from bokeh.plotting import figure, output_file, show\n",
        "from bokeh.io import output_notebook\n",
        "output_notebook()"
      ],
      "id": "06c0d9ab",
      "execution_count": null,
      "outputs": [
        {
          "output_type": "display_data",
          "data": {
            "text/html": [
              "\n",
              "    <div class=\"bk-root\">\n",
              "        <a href=\"https://bokeh.org\" target=\"_blank\" class=\"bk-logo bk-logo-small bk-logo-notebook\"></a>\n",
              "        <span id=\"1002\">Loading BokehJS ...</span>\n",
              "    </div>"
            ]
          },
          "metadata": {
            "tags": []
          }
        },
        {
          "output_type": "display_data",
          "data": {
            "application/javascript": [
              "\n",
              "(function(root) {\n",
              "  function now() {\n",
              "    return new Date();\n",
              "  }\n",
              "\n",
              "  var force = true;\n",
              "\n",
              "  if (typeof root._bokeh_onload_callbacks === \"undefined\" || force === true) {\n",
              "    root._bokeh_onload_callbacks = [];\n",
              "    root._bokeh_is_loading = undefined;\n",
              "  }\n",
              "\n",
              "  var JS_MIME_TYPE = 'application/javascript';\n",
              "  var HTML_MIME_TYPE = 'text/html';\n",
              "  var EXEC_MIME_TYPE = 'application/vnd.bokehjs_exec.v0+json';\n",
              "  var CLASS_NAME = 'output_bokeh rendered_html';\n",
              "\n",
              "  /**\n",
              "   * Render data to the DOM node\n",
              "   */\n",
              "  function render(props, node) {\n",
              "    var script = document.createElement(\"script\");\n",
              "    node.appendChild(script);\n",
              "  }\n",
              "\n",
              "  /**\n",
              "   * Handle when an output is cleared or removed\n",
              "   */\n",
              "  function handleClearOutput(event, handle) {\n",
              "    var cell = handle.cell;\n",
              "\n",
              "    var id = cell.output_area._bokeh_element_id;\n",
              "    var server_id = cell.output_area._bokeh_server_id;\n",
              "    // Clean up Bokeh references\n",
              "    if (id != null && id in Bokeh.index) {\n",
              "      Bokeh.index[id].model.document.clear();\n",
              "      delete Bokeh.index[id];\n",
              "    }\n",
              "\n",
              "    if (server_id !== undefined) {\n",
              "      // Clean up Bokeh references\n",
              "      var cmd = \"from bokeh.io.state import curstate; print(curstate().uuid_to_server['\" + server_id + \"'].get_sessions()[0].document.roots[0]._id)\";\n",
              "      cell.notebook.kernel.execute(cmd, {\n",
              "        iopub: {\n",
              "          output: function(msg) {\n",
              "            var id = msg.content.text.trim();\n",
              "            if (id in Bokeh.index) {\n",
              "              Bokeh.index[id].model.document.clear();\n",
              "              delete Bokeh.index[id];\n",
              "            }\n",
              "          }\n",
              "        }\n",
              "      });\n",
              "      // Destroy server and session\n",
              "      var cmd = \"import bokeh.io.notebook as ion; ion.destroy_server('\" + server_id + \"')\";\n",
              "      cell.notebook.kernel.execute(cmd);\n",
              "    }\n",
              "  }\n",
              "\n",
              "  /**\n",
              "   * Handle when a new output is added\n",
              "   */\n",
              "  function handleAddOutput(event, handle) {\n",
              "    var output_area = handle.output_area;\n",
              "    var output = handle.output;\n",
              "\n",
              "    // limit handleAddOutput to display_data with EXEC_MIME_TYPE content only\n",
              "    if ((output.output_type != \"display_data\") || (!Object.prototype.hasOwnProperty.call(output.data, EXEC_MIME_TYPE))) {\n",
              "      return\n",
              "    }\n",
              "\n",
              "    var toinsert = output_area.element.find(\".\" + CLASS_NAME.split(' ')[0]);\n",
              "\n",
              "    if (output.metadata[EXEC_MIME_TYPE][\"id\"] !== undefined) {\n",
              "      toinsert[toinsert.length - 1].firstChild.textContent = output.data[JS_MIME_TYPE];\n",
              "      // store reference to embed id on output_area\n",
              "      output_area._bokeh_element_id = output.metadata[EXEC_MIME_TYPE][\"id\"];\n",
              "    }\n",
              "    if (output.metadata[EXEC_MIME_TYPE][\"server_id\"] !== undefined) {\n",
              "      var bk_div = document.createElement(\"div\");\n",
              "      bk_div.innerHTML = output.data[HTML_MIME_TYPE];\n",
              "      var script_attrs = bk_div.children[0].attributes;\n",
              "      for (var i = 0; i < script_attrs.length; i++) {\n",
              "        toinsert[toinsert.length - 1].firstChild.setAttribute(script_attrs[i].name, script_attrs[i].value);\n",
              "        toinsert[toinsert.length - 1].firstChild.textContent = bk_div.children[0].textContent\n",
              "      }\n",
              "      // store reference to server id on output_area\n",
              "      output_area._bokeh_server_id = output.metadata[EXEC_MIME_TYPE][\"server_id\"];\n",
              "    }\n",
              "  }\n",
              "\n",
              "  function register_renderer(events, OutputArea) {\n",
              "\n",
              "    function append_mime(data, metadata, element) {\n",
              "      // create a DOM node to render to\n",
              "      var toinsert = this.create_output_subarea(\n",
              "        metadata,\n",
              "        CLASS_NAME,\n",
              "        EXEC_MIME_TYPE\n",
              "      );\n",
              "      this.keyboard_manager.register_events(toinsert);\n",
              "      // Render to node\n",
              "      var props = {data: data, metadata: metadata[EXEC_MIME_TYPE]};\n",
              "      render(props, toinsert[toinsert.length - 1]);\n",
              "      element.append(toinsert);\n",
              "      return toinsert\n",
              "    }\n",
              "\n",
              "    /* Handle when an output is cleared or removed */\n",
              "    events.on('clear_output.CodeCell', handleClearOutput);\n",
              "    events.on('delete.Cell', handleClearOutput);\n",
              "\n",
              "    /* Handle when a new output is added */\n",
              "    events.on('output_added.OutputArea', handleAddOutput);\n",
              "\n",
              "    /**\n",
              "     * Register the mime type and append_mime function with output_area\n",
              "     */\n",
              "    OutputArea.prototype.register_mime_type(EXEC_MIME_TYPE, append_mime, {\n",
              "      /* Is output safe? */\n",
              "      safe: true,\n",
              "      /* Index of renderer in `output_area.display_order` */\n",
              "      index: 0\n",
              "    });\n",
              "  }\n",
              "\n",
              "  // register the mime type if in Jupyter Notebook environment and previously unregistered\n",
              "  if (root.Jupyter !== undefined) {\n",
              "    var events = require('base/js/events');\n",
              "    var OutputArea = require('notebook/js/outputarea').OutputArea;\n",
              "\n",
              "    if (OutputArea.prototype.mime_types().indexOf(EXEC_MIME_TYPE) == -1) {\n",
              "      register_renderer(events, OutputArea);\n",
              "    }\n",
              "  }\n",
              "\n",
              "  \n",
              "  if (typeof (root._bokeh_timeout) === \"undefined\" || force === true) {\n",
              "    root._bokeh_timeout = Date.now() + 5000;\n",
              "    root._bokeh_failed_load = false;\n",
              "  }\n",
              "\n",
              "  var NB_LOAD_WARNING = {'data': {'text/html':\n",
              "     \"<div style='background-color: #fdd'>\\n\"+\n",
              "     \"<p>\\n\"+\n",
              "     \"BokehJS does not appear to have successfully loaded. If loading BokehJS from CDN, this \\n\"+\n",
              "     \"may be due to a slow or bad network connection. Possible fixes:\\n\"+\n",
              "     \"</p>\\n\"+\n",
              "     \"<ul>\\n\"+\n",
              "     \"<li>re-rerun `output_notebook()` to attempt to load from CDN again, or</li>\\n\"+\n",
              "     \"<li>use INLINE resources instead, as so:</li>\\n\"+\n",
              "     \"</ul>\\n\"+\n",
              "     \"<code>\\n\"+\n",
              "     \"from bokeh.resources import INLINE\\n\"+\n",
              "     \"output_notebook(resources=INLINE)\\n\"+\n",
              "     \"</code>\\n\"+\n",
              "     \"</div>\"}};\n",
              "\n",
              "  function display_loaded() {\n",
              "    var el = document.getElementById(\"1002\");\n",
              "    if (el != null) {\n",
              "      el.textContent = \"BokehJS is loading...\";\n",
              "    }\n",
              "    if (root.Bokeh !== undefined) {\n",
              "      if (el != null) {\n",
              "        el.textContent = \"BokehJS \" + root.Bokeh.version + \" successfully loaded.\";\n",
              "      }\n",
              "    } else if (Date.now() < root._bokeh_timeout) {\n",
              "      setTimeout(display_loaded, 100)\n",
              "    }\n",
              "  }\n",
              "\n",
              "\n",
              "  function run_callbacks() {\n",
              "    try {\n",
              "      root._bokeh_onload_callbacks.forEach(function(callback) {\n",
              "        if (callback != null)\n",
              "          callback();\n",
              "      });\n",
              "    } finally {\n",
              "      delete root._bokeh_onload_callbacks\n",
              "    }\n",
              "    console.debug(\"Bokeh: all callbacks have finished\");\n",
              "  }\n",
              "\n",
              "  function load_libs(css_urls, js_urls, callback) {\n",
              "    if (css_urls == null) css_urls = [];\n",
              "    if (js_urls == null) js_urls = [];\n",
              "\n",
              "    root._bokeh_onload_callbacks.push(callback);\n",
              "    if (root._bokeh_is_loading > 0) {\n",
              "      console.debug(\"Bokeh: BokehJS is being loaded, scheduling callback at\", now());\n",
              "      return null;\n",
              "    }\n",
              "    if (js_urls == null || js_urls.length === 0) {\n",
              "      run_callbacks();\n",
              "      return null;\n",
              "    }\n",
              "    console.debug(\"Bokeh: BokehJS not loaded, scheduling load and callback at\", now());\n",
              "    root._bokeh_is_loading = css_urls.length + js_urls.length;\n",
              "\n",
              "    function on_load() {\n",
              "      root._bokeh_is_loading--;\n",
              "      if (root._bokeh_is_loading === 0) {\n",
              "        console.debug(\"Bokeh: all BokehJS libraries/stylesheets loaded\");\n",
              "        run_callbacks()\n",
              "      }\n",
              "    }\n",
              "\n",
              "    function on_error(url) {\n",
              "      console.error(\"failed to load \" + url);\n",
              "    }\n",
              "\n",
              "    for (let i = 0; i < css_urls.length; i++) {\n",
              "      const url = css_urls[i];\n",
              "      const element = document.createElement(\"link\");\n",
              "      element.onload = on_load;\n",
              "      element.onerror = on_error.bind(null, url);\n",
              "      element.rel = \"stylesheet\";\n",
              "      element.type = \"text/css\";\n",
              "      element.href = url;\n",
              "      console.debug(\"Bokeh: injecting link tag for BokehJS stylesheet: \", url);\n",
              "      document.body.appendChild(element);\n",
              "    }\n",
              "\n",
              "    const hashes = {\"https://cdn.bokeh.org/bokeh/release/bokeh-2.3.1.min.js\": \"YF85VygJKMVnHE+lLv2AM93Vbstr0yo2TbIu5v8se5Rq3UQAUmcuh4aaJwNlpKwa\", \"https://cdn.bokeh.org/bokeh/release/bokeh-widgets-2.3.1.min.js\": \"KKuas3gevv3PvrlkyCMzffFeaMq5we/a2QsP5AUoS3mJ0jmaCL7jirFJN3GoE/lM\", \"https://cdn.bokeh.org/bokeh/release/bokeh-tables-2.3.1.min.js\": \"MK/uFc3YT18pkvvXRl66tTHjP0/dxoSH2e/eiNMFIguKlun2+WVqaPTWmUy/zvh4\"};\n",
              "\n",
              "    for (let i = 0; i < js_urls.length; i++) {\n",
              "      const url = js_urls[i];\n",
              "      const element = document.createElement('script');\n",
              "      element.onload = on_load;\n",
              "      element.onerror = on_error.bind(null, url);\n",
              "      element.async = false;\n",
              "      element.src = url;\n",
              "      if (url in hashes) {\n",
              "        element.crossOrigin = \"anonymous\";\n",
              "        element.integrity = \"sha384-\" + hashes[url];\n",
              "      }\n",
              "      console.debug(\"Bokeh: injecting script tag for BokehJS library: \", url);\n",
              "      document.head.appendChild(element);\n",
              "    }\n",
              "  };\n",
              "\n",
              "  function inject_raw_css(css) {\n",
              "    const element = document.createElement(\"style\");\n",
              "    element.appendChild(document.createTextNode(css));\n",
              "    document.body.appendChild(element);\n",
              "  }\n",
              "\n",
              "  \n",
              "  var js_urls = [\"https://cdn.bokeh.org/bokeh/release/bokeh-2.3.1.min.js\", \"https://cdn.bokeh.org/bokeh/release/bokeh-widgets-2.3.1.min.js\", \"https://cdn.bokeh.org/bokeh/release/bokeh-tables-2.3.1.min.js\"];\n",
              "  var css_urls = [];\n",
              "  \n",
              "\n",
              "  var inline_js = [\n",
              "    function(Bokeh) {\n",
              "      Bokeh.set_log_level(\"info\");\n",
              "    },\n",
              "    function(Bokeh) {\n",
              "    \n",
              "    \n",
              "    }\n",
              "  ];\n",
              "\n",
              "  function run_inline_js() {\n",
              "    \n",
              "    if (root.Bokeh !== undefined || force === true) {\n",
              "      \n",
              "    for (var i = 0; i < inline_js.length; i++) {\n",
              "      inline_js[i].call(root, root.Bokeh);\n",
              "    }\n",
              "    if (force === true) {\n",
              "        display_loaded();\n",
              "      }} else if (Date.now() < root._bokeh_timeout) {\n",
              "      setTimeout(run_inline_js, 100);\n",
              "    } else if (!root._bokeh_failed_load) {\n",
              "      console.log(\"Bokeh: BokehJS failed to load within specified timeout.\");\n",
              "      root._bokeh_failed_load = true;\n",
              "    } else if (force !== true) {\n",
              "      var cell = $(document.getElementById(\"1002\")).parents('.cell').data().cell;\n",
              "      cell.output_area.append_execute_result(NB_LOAD_WARNING)\n",
              "    }\n",
              "\n",
              "  }\n",
              "\n",
              "  if (root._bokeh_is_loading === 0) {\n",
              "    console.debug(\"Bokeh: BokehJS loaded, going straight to plotting\");\n",
              "    run_inline_js();\n",
              "  } else {\n",
              "    load_libs(css_urls, js_urls, function() {\n",
              "      console.debug(\"Bokeh: BokehJS plotting callback run at\", now());\n",
              "      run_inline_js();\n",
              "    });\n",
              "  }\n",
              "}(window));"
            ],
            "application/vnd.bokehjs_load.v0+json": "\n(function(root) {\n  function now() {\n    return new Date();\n  }\n\n  var force = true;\n\n  if (typeof root._bokeh_onload_callbacks === \"undefined\" || force === true) {\n    root._bokeh_onload_callbacks = [];\n    root._bokeh_is_loading = undefined;\n  }\n\n  \n\n  \n  if (typeof (root._bokeh_timeout) === \"undefined\" || force === true) {\n    root._bokeh_timeout = Date.now() + 5000;\n    root._bokeh_failed_load = false;\n  }\n\n  var NB_LOAD_WARNING = {'data': {'text/html':\n     \"<div style='background-color: #fdd'>\\n\"+\n     \"<p>\\n\"+\n     \"BokehJS does not appear to have successfully loaded. If loading BokehJS from CDN, this \\n\"+\n     \"may be due to a slow or bad network connection. Possible fixes:\\n\"+\n     \"</p>\\n\"+\n     \"<ul>\\n\"+\n     \"<li>re-rerun `output_notebook()` to attempt to load from CDN again, or</li>\\n\"+\n     \"<li>use INLINE resources instead, as so:</li>\\n\"+\n     \"</ul>\\n\"+\n     \"<code>\\n\"+\n     \"from bokeh.resources import INLINE\\n\"+\n     \"output_notebook(resources=INLINE)\\n\"+\n     \"</code>\\n\"+\n     \"</div>\"}};\n\n  function display_loaded() {\n    var el = document.getElementById(\"1002\");\n    if (el != null) {\n      el.textContent = \"BokehJS is loading...\";\n    }\n    if (root.Bokeh !== undefined) {\n      if (el != null) {\n        el.textContent = \"BokehJS \" + root.Bokeh.version + \" successfully loaded.\";\n      }\n    } else if (Date.now() < root._bokeh_timeout) {\n      setTimeout(display_loaded, 100)\n    }\n  }\n\n\n  function run_callbacks() {\n    try {\n      root._bokeh_onload_callbacks.forEach(function(callback) {\n        if (callback != null)\n          callback();\n      });\n    } finally {\n      delete root._bokeh_onload_callbacks\n    }\n    console.debug(\"Bokeh: all callbacks have finished\");\n  }\n\n  function load_libs(css_urls, js_urls, callback) {\n    if (css_urls == null) css_urls = [];\n    if (js_urls == null) js_urls = [];\n\n    root._bokeh_onload_callbacks.push(callback);\n    if (root._bokeh_is_loading > 0) {\n      console.debug(\"Bokeh: BokehJS is being loaded, scheduling callback at\", now());\n      return null;\n    }\n    if (js_urls == null || js_urls.length === 0) {\n      run_callbacks();\n      return null;\n    }\n    console.debug(\"Bokeh: BokehJS not loaded, scheduling load and callback at\", now());\n    root._bokeh_is_loading = css_urls.length + js_urls.length;\n\n    function on_load() {\n      root._bokeh_is_loading--;\n      if (root._bokeh_is_loading === 0) {\n        console.debug(\"Bokeh: all BokehJS libraries/stylesheets loaded\");\n        run_callbacks()\n      }\n    }\n\n    function on_error(url) {\n      console.error(\"failed to load \" + url);\n    }\n\n    for (let i = 0; i < css_urls.length; i++) {\n      const url = css_urls[i];\n      const element = document.createElement(\"link\");\n      element.onload = on_load;\n      element.onerror = on_error.bind(null, url);\n      element.rel = \"stylesheet\";\n      element.type = \"text/css\";\n      element.href = url;\n      console.debug(\"Bokeh: injecting link tag for BokehJS stylesheet: \", url);\n      document.body.appendChild(element);\n    }\n\n    const hashes = {\"https://cdn.bokeh.org/bokeh/release/bokeh-2.3.1.min.js\": \"YF85VygJKMVnHE+lLv2AM93Vbstr0yo2TbIu5v8se5Rq3UQAUmcuh4aaJwNlpKwa\", \"https://cdn.bokeh.org/bokeh/release/bokeh-widgets-2.3.1.min.js\": \"KKuas3gevv3PvrlkyCMzffFeaMq5we/a2QsP5AUoS3mJ0jmaCL7jirFJN3GoE/lM\", \"https://cdn.bokeh.org/bokeh/release/bokeh-tables-2.3.1.min.js\": \"MK/uFc3YT18pkvvXRl66tTHjP0/dxoSH2e/eiNMFIguKlun2+WVqaPTWmUy/zvh4\"};\n\n    for (let i = 0; i < js_urls.length; i++) {\n      const url = js_urls[i];\n      const element = document.createElement('script');\n      element.onload = on_load;\n      element.onerror = on_error.bind(null, url);\n      element.async = false;\n      element.src = url;\n      if (url in hashes) {\n        element.crossOrigin = \"anonymous\";\n        element.integrity = \"sha384-\" + hashes[url];\n      }\n      console.debug(\"Bokeh: injecting script tag for BokehJS library: \", url);\n      document.head.appendChild(element);\n    }\n  };\n\n  function inject_raw_css(css) {\n    const element = document.createElement(\"style\");\n    element.appendChild(document.createTextNode(css));\n    document.body.appendChild(element);\n  }\n\n  \n  var js_urls = [\"https://cdn.bokeh.org/bokeh/release/bokeh-2.3.1.min.js\", \"https://cdn.bokeh.org/bokeh/release/bokeh-widgets-2.3.1.min.js\", \"https://cdn.bokeh.org/bokeh/release/bokeh-tables-2.3.1.min.js\"];\n  var css_urls = [];\n  \n\n  var inline_js = [\n    function(Bokeh) {\n      Bokeh.set_log_level(\"info\");\n    },\n    function(Bokeh) {\n    \n    \n    }\n  ];\n\n  function run_inline_js() {\n    \n    if (root.Bokeh !== undefined || force === true) {\n      \n    for (var i = 0; i < inline_js.length; i++) {\n      inline_js[i].call(root, root.Bokeh);\n    }\n    if (force === true) {\n        display_loaded();\n      }} else if (Date.now() < root._bokeh_timeout) {\n      setTimeout(run_inline_js, 100);\n    } else if (!root._bokeh_failed_load) {\n      console.log(\"Bokeh: BokehJS failed to load within specified timeout.\");\n      root._bokeh_failed_load = true;\n    } else if (force !== true) {\n      var cell = $(document.getElementById(\"1002\")).parents('.cell').data().cell;\n      cell.output_area.append_execute_result(NB_LOAD_WARNING)\n    }\n\n  }\n\n  if (root._bokeh_is_loading === 0) {\n    console.debug(\"Bokeh: BokehJS loaded, going straight to plotting\");\n    run_inline_js();\n  } else {\n    load_libs(css_urls, js_urls, function() {\n      console.debug(\"Bokeh: BokehJS plotting callback run at\", now());\n      run_inline_js();\n    });\n  }\n}(window));"
          },
          "metadata": {
            "tags": []
          }
        }
      ]
    },
    {
      "cell_type": "code",
      "metadata": {
        "id": "d529c5bf",
        "outputId": "39f01f25-9c06-4b2a-cdd8-8e2b691476d2"
      },
      "source": [
        ""
      ],
      "id": "d529c5bf",
      "execution_count": null,
      "outputs": [
        {
          "output_type": "display_data",
          "data": {
            "text/html": [
              "\n",
              "\n",
              "\n",
              "\n",
              "\n",
              "\n",
              "  <div class=\"bk-root\" id=\"e4d2696e-b9c7-4717-a53c-8a36c2b61a7a\" data-root-id=\"1881\"></div>\n"
            ]
          },
          "metadata": {
            "tags": []
          }
        },
        {
          "output_type": "display_data",
          "data": {
            "application/javascript": [
              "(function(root) {\n",
              "  function embed_document(root) {\n",
              "    \n",
              "  var docs_json = {\"ade42a8e-03e2-4f62-b74b-007753a1a825\":{\"defs\":[],\"roots\":{\"references\":[{\"attributes\":{\"below\":[{\"id\":\"1892\"}],\"center\":[{\"id\":\"1895\"},{\"id\":\"1899\"},{\"id\":\"1920\"}],\"left\":[{\"id\":\"1896\"}],\"renderers\":[{\"id\":\"1917\"}],\"title\":{\"id\":\"1882\"},\"toolbar\":{\"id\":\"1907\"},\"x_range\":{\"id\":\"1884\"},\"x_scale\":{\"id\":\"1888\"},\"y_range\":{\"id\":\"1886\"},\"y_scale\":{\"id\":\"1890\"}},\"id\":\"1881\",\"subtype\":\"Figure\",\"type\":\"Plot\"},{\"attributes\":{},\"id\":\"1903\",\"type\":\"SaveTool\"},{\"attributes\":{\"overlay\":{\"id\":\"1906\"}},\"id\":\"1902\",\"type\":\"BoxZoomTool\"},{\"attributes\":{\"source\":{\"id\":\"1914\"}},\"id\":\"1918\",\"type\":\"CDSView\"},{\"attributes\":{},\"id\":\"1987\",\"type\":\"BasicTickFormatter\"},{\"attributes\":{\"axis\":{\"id\":\"1896\"},\"dimension\":1,\"ticker\":null},\"id\":\"1899\",\"type\":\"Grid\"},{\"attributes\":{},\"id\":\"1985\",\"type\":\"AllLabels\"},{\"attributes\":{},\"id\":\"1901\",\"type\":\"WheelZoomTool\"},{\"attributes\":{\"fill_alpha\":{\"value\":0.1},\"fill_color\":{\"field\":\"fill_color\"},\"line_alpha\":{\"value\":0.1},\"line_color\":{\"field\":\"line_color\"},\"size\":{\"value\":10},\"x\":{\"field\":\"x\"},\"y\":{\"field\":\"y\"}},\"id\":\"1916\",\"type\":\"Circle\"},{\"attributes\":{},\"id\":\"1900\",\"type\":\"PanTool\"},{\"attributes\":{\"text\":\"w2v\"},\"id\":\"1882\",\"type\":\"Title\"},{\"attributes\":{},\"id\":\"1990\",\"type\":\"UnionRenderers\"},{\"attributes\":{},\"id\":\"1989\",\"type\":\"Selection\"},{\"attributes\":{},\"id\":\"1992\",\"type\":\"Selection\"},{\"attributes\":{\"source\":{\"id\":\"1919\"},\"text\":{\"field\":\"label\"},\"text_alpha\":{\"value\":0.5},\"text_color\":{\"field\":\"color\"},\"x\":{\"field\":\"x\"},\"x_offset\":{\"value\":5},\"y\":{\"field\":\"y\"},\"y_offset\":{\"value\":5}},\"id\":\"1920\",\"type\":\"LabelSet\"},{\"attributes\":{},\"id\":\"1993\",\"type\":\"UnionRenderers\"},{\"attributes\":{},\"id\":\"1890\",\"type\":\"LinearScale\"},{\"attributes\":{},\"id\":\"1904\",\"type\":\"ResetTool\"},{\"attributes\":{\"data\":{\"fill_color\":[\"red\",\"red\",\"red\",\"red\",\"red\",\"red\",\"red\",\"red\",\"red\",\"red\",\"red\",\"red\",\"red\",\"red\",\"red\",\"red\",\"red\",\"red\",\"red\",\"red\",\"red\",\"red\",\"red\",\"red\",\"red\",\"red\",\"red\",\"red\",\"red\",\"red\",\"red\",\"red\",\"red\",\"red\",\"red\",\"red\",\"red\",\"red\",\"red\",\"red\",\"red\",\"red\",\"red\",\"red\",\"red\",\"red\",\"red\",\"red\",\"red\",\"red\",\"red\",\"red\",\"red\",\"red\",\"red\",\"red\",\"red\",\"red\",\"red\",\"red\",\"red\",\"red\",\"red\",\"red\",\"red\",\"red\",\"red\",\"red\",\"red\",\"red\",\"red\",\"red\",\"red\",\"red\",\"red\",\"red\",\"red\",\"red\",\"blue\",\"blue\",\"blue\",\"blue\",\"blue\",\"blue\",\"blue\",\"blue\",\"blue\",\"blue\",\"blue\",\"blue\",\"blue\",\"blue\",\"blue\",\"blue\",\"blue\",\"blue\",\"grey\",\"grey\",\"grey\",\"grey\",\"grey\",\"grey\",\"grey\",\"grey\",\"grey\",\"grey\",\"grey\",\"grey\",\"grey\",\"grey\",\"grey\",\"grey\",\"grey\",\"grey\",\"grey\",\"grey\",\"grey\",\"grey\",\"grey\",\"grey\"],\"line_color\":[\"red\",\"red\",\"red\",\"red\",\"red\",\"red\",\"red\",\"red\",\"red\",\"red\",\"red\",\"red\",\"red\",\"red\",\"red\",\"red\",\"red\",\"red\",\"red\",\"red\",\"red\",\"red\",\"red\",\"red\",\"red\",\"red\",\"red\",\"red\",\"red\",\"red\",\"red\",\"red\",\"red\",\"red\",\"red\",\"red\",\"red\",\"red\",\"red\",\"red\",\"red\",\"red\",\"red\",\"red\",\"red\",\"red\",\"red\",\"red\",\"red\",\"red\",\"red\",\"red\",\"red\",\"red\",\"red\",\"red\",\"red\",\"red\",\"red\",\"red\",\"red\",\"red\",\"red\",\"red\",\"red\",\"red\",\"red\",\"red\",\"red\",\"red\",\"red\",\"red\",\"red\",\"red\",\"red\",\"red\",\"red\",\"red\",\"blue\",\"blue\",\"blue\",\"blue\",\"blue\",\"blue\",\"blue\",\"blue\",\"blue\",\"blue\",\"blue\",\"blue\",\"blue\",\"blue\",\"blue\",\"blue\",\"blue\",\"blue\",\"grey\",\"grey\",\"grey\",\"grey\",\"grey\",\"grey\",\"grey\",\"grey\",\"grey\",\"grey\",\"grey\",\"grey\",\"grey\",\"grey\",\"grey\",\"grey\",\"grey\",\"grey\",\"grey\",\"grey\",\"grey\",\"grey\",\"grey\",\"grey\"],\"x\":{\"__ndarray__\":\"6dhURKpQOsDnJa+hYS83wDMD/hTpejbAglWCvbVDNsA7u1t6PgYwQB2i+aC4UDXAbeWRlV+7BcA1VdS1SdoGQACc3EaCISjA+6uCBOSmEkDmKsU5fwodwCVRkWQb2iTAPknsG/QmL8Bu1oRI0hMswCnkmriV8THAV8Cv8XA0KsCoiWE8pEMWwCVIW2Xn8yPAeWR7H4CTIsA2yPgffTQpwPpVZm/df7Q/MRBtc8AEFsDTOzhIAjMZwERaXQY2qCLAHC/qbxs9AsDZz5XDuvqxP8SrjhAnvRXAo336Zp0BI8CA8x5L1cMGwNewR5g2FjHArKJqLXVaMcDrO6bzzYrnPwW54IBQ+dg/pDep3FGCIMDFI/2n8zMFwNlf8Wv7WijAF7wUj0WDE8AQduaXjq4FwO18aUO5VNY/oe+sbC3A3D9iBDL0NnAHQJwXWJs3vue/KyuVfeYMEMCJSLFKjXoHQH+Mp4cpcw1A6Nm4P3zv+D9OrzeiTCruP3iy60mb/PW/EkIT9s9U8j9Khd2HXCkSQIaEL5QKGBpAlRbE4rwU1j8MrP5fJ0EYQFeL0cLVNtw/73DskhlRFEBpqSdzJckBwJyf49VdbRFARsKjQhn1BUA7j0osOk0rwGu1XLJrTgzA8XUgG7YSBUAkr0fuQaoSQHcZQzAnlRdAGqjstw4AHUDWERWRTPvpvxeljw4SXvw/1FByFwbHw78CodyPApsaQAs3u99utRBAPWwJ/gJqDkBQkVE74MgBwK3x8x6tmBtAAUeQQYI2GUCXeQqhBlEMQIkQdfY4MB1AP0nsG/QmL8DyqTDI/dkAwNlf8Wv7WijAv6nz2Xh2J8BBpIwdWCU3wKin1OXAOh/A03Hvd01SM8BDjwxbcEEvwNWQGz1ozby/gwGSMDf9NsAbmtuGD5sawKInb/4TiglAsD6bLYqcJkAIVoEuLHjwP5SRU223ag1ACsKswYq2IsAB20RBN5kYwFN09tNTwQ1ARJp/NK5NDEAN/sn44vkdwARKUbzyNSvAKzQ7fMz2HEC3ciEfogM2QJoWY9Mh0BZAju8ade4FH0D9xgXCjxcWQDDxmzkdRyFACBlhTYE1LkAhkK548scKQB0B7lkqTxVA6OkM9FizKEBXo7Eepu1DQOSj4Qvv/ERA+mhw7qoKQECl0Vowi5tBQN1gGlqtXT1AGVjHMPdWGECv8XEY9Kg6QKICe1Mt+DZAUVjYnBfxL0AyJICQVbAUQGm8tQxUgzJAxTieg92uKEC93VgDPx4kQM+8XA6f9yJA\",\"dtype\":\"float64\",\"order\":\"little\",\"shape\":[120]},\"y\":{\"__ndarray__\":\"Qd68IX0PEcAO2MzDEdgRQEiGc+L1tDlAzvtFOv30MkBGMnIqGSEHwPuoxBCQ5zJA5on2zsXGIMD/yFLm1gLwP0NZs0dlSCdAxFAbHRr2M0AynzvaKfxAQNcLQJ+AejBAlperqHsLI0D3RJAdpCItwBlhaPvpEDPAFpQBxnVeJED9q1wZOzwZQAljWqY4zyLANp45Y03zF8C4lNk3XNMkwOX/DuhHvhRAPBKM1mbDL0D86xrrcZIUQGHMNPna7jHA1g+GvbjAEsCXh+A4MX4gwJhXkWvPqCnAJyBoXmIBIEAX7HGcZfIuwJ5PWueRVva/bJg4rTdpJEDNzAwKEg8lwLnq7FRrFSrAsTP2ZulPFkBIKszkYzYxwE9JV6rOgSPAnHZbF1lmMcCdgHjVYJkywG3+NE/d3hPARPSiReM4H8AD9i5ztI0KwKUSCjW+LSHAGfoO0SlGLcCosYfR0mgpwOuEzkBjufm/QRBUlG/oHsDMZJtyy1sawFchythj5CHABVQd6EMRIMCflCYZaKoEwII5xzOn4ADA9I0a2X7JH8DckNtLI44ZwGN/y4mXVirA3y7PZei8HMDGLW2IDa33v6WHYDC7KyXAJSk26v0jIcCZBYg91vLXP7qaPwVrnB7A6ITAlZn4FsBTWK33GegVwKaKD9VBuhzADlg3yP5SGcBGFUtjnFogwEwLCAVQABTACrrHW88+FMB2eZFr+icgwFXX57Z4nBLATETdTYw2EsC6EIr9wwUIwFwHQZEceBLAsdI6HrcwI8CCvhHCun0RwKGzCU/6YB7AlperqHsLI0Cg6ThYfHAgQE9JV6rOgSPAXGQ4dnpkAsDgMRC9BOAgQGaD7O8zuyhAHrDkaaoEN0CaqJnPIe0gQP5GAKKVhzNAfJHSaCS1M0AwTjw0L1c9QEGSMojpMSbAXuS4X5UWI8BQdg8uUocvwNj6sDfdYivAaqmhOL4mGkC8SqC+mjAcQEHF6INJ8ijAapYtXkhrMcDHFeFh35MowEEGFKjO9SLALABsEbj9HkDYB1UmZqoWQJnFrJZvCgdAk+mfHuP+9L8JioeYhykaQOvc8jC8DKg/abEPCxofF0C/djiuRlYwQH6DB0J/ySRAO7zCloMHJkCeolE/DqIkQI4PikhpHwlAR/DpThqeLEBJL1BNZkQWQEGiT3iCvy5AInkYuGeLJUCbukLWStgpQPXmFUEKQR1AdH6uktpGJ0DVTJHBaP0MQIaF8AIjpSFAdPyD9I6+KEAtBtb0xd3JP0Ry2Tf/zjBA\",\"dtype\":\"float64\",\"order\":\"little\",\"shape\":[120]}},\"selected\":{\"id\":\"1992\"},\"selection_policy\":{\"id\":\"1993\"}},\"id\":\"1914\",\"type\":\"ColumnDataSource\"},{\"attributes\":{},\"id\":\"1984\",\"type\":\"BasicTickFormatter\"},{\"attributes\":{},\"id\":\"1884\",\"type\":\"DataRange1d\"},{\"attributes\":{},\"id\":\"1988\",\"type\":\"AllLabels\"},{\"attributes\":{\"active_multi\":null,\"tools\":[{\"id\":\"1900\"},{\"id\":\"1901\"},{\"id\":\"1902\"},{\"id\":\"1903\"},{\"id\":\"1904\"},{\"id\":\"1905\"}]},\"id\":\"1907\",\"type\":\"Toolbar\"},{\"attributes\":{\"formatter\":{\"id\":\"1984\"},\"major_label_policy\":{\"id\":\"1985\"},\"ticker\":{\"id\":\"1897\"}},\"id\":\"1896\",\"type\":\"LinearAxis\"},{\"attributes\":{\"data_source\":{\"id\":\"1914\"},\"glyph\":{\"id\":\"1915\"},\"hover_glyph\":null,\"muted_glyph\":null,\"nonselection_glyph\":{\"id\":\"1916\"},\"view\":{\"id\":\"1918\"}},\"id\":\"1917\",\"type\":\"GlyphRenderer\"},{\"attributes\":{\"formatter\":{\"id\":\"1987\"},\"major_label_policy\":{\"id\":\"1988\"},\"ticker\":{\"id\":\"1893\"}},\"id\":\"1892\",\"type\":\"LinearAxis\"},{\"attributes\":{},\"id\":\"1905\",\"type\":\"HelpTool\"},{\"attributes\":{},\"id\":\"1886\",\"type\":\"DataRange1d\"},{\"attributes\":{\"fill_alpha\":{\"value\":0.2},\"fill_color\":{\"field\":\"fill_color\"},\"line_color\":{\"field\":\"line_color\"},\"size\":{\"value\":10},\"x\":{\"field\":\"x\"},\"y\":{\"field\":\"y\"}},\"id\":\"1915\",\"type\":\"Circle\"},{\"attributes\":{},\"id\":\"1888\",\"type\":\"LinearScale\"},{\"attributes\":{},\"id\":\"1893\",\"type\":\"BasicTicker\"},{\"attributes\":{},\"id\":\"1897\",\"type\":\"BasicTicker\"},{\"attributes\":{\"bottom_units\":\"screen\",\"fill_alpha\":0.5,\"fill_color\":\"lightgrey\",\"left_units\":\"screen\",\"level\":\"overlay\",\"line_alpha\":1.0,\"line_color\":\"black\",\"line_dash\":[4,4],\"line_width\":2,\"right_units\":\"screen\",\"syncable\":false,\"top_units\":\"screen\"},\"id\":\"1906\",\"type\":\"BoxAnnotation\"},{\"attributes\":{\"data\":{\"color\":[\"red\",\"red\",\"red\",\"red\",\"red\",\"red\",\"red\",\"red\",\"red\",\"red\",\"red\",\"red\",\"red\",\"red\",\"red\",\"red\",\"red\",\"red\",\"red\",\"red\",\"red\",\"red\",\"red\",\"red\",\"red\",\"red\",\"red\",\"red\",\"red\",\"red\",\"red\",\"red\",\"red\",\"red\",\"red\",\"red\",\"red\",\"red\",\"red\",\"red\",\"red\",\"red\",\"red\",\"red\",\"red\",\"red\",\"red\",\"red\",\"red\",\"red\",\"red\",\"red\",\"red\",\"red\",\"red\",\"red\",\"red\",\"red\",\"red\",\"red\",\"red\",\"red\",\"red\",\"red\",\"red\",\"red\",\"red\",\"red\",\"red\",\"red\",\"red\",\"red\",\"red\",\"red\",\"red\",\"red\",\"red\",\"red\",\"blue\",\"blue\",\"blue\",\"blue\",\"blue\",\"blue\",\"blue\",\"blue\",\"blue\",\"blue\",\"blue\",\"blue\",\"blue\",\"blue\",\"blue\",\"blue\",\"blue\",\"blue\",\"grey\",\"grey\",\"grey\",\"grey\",\"grey\",\"grey\",\"grey\",\"grey\",\"grey\",\"grey\",\"grey\",\"grey\",\"grey\",\"grey\",\"grey\",\"grey\",\"grey\",\"grey\",\"grey\",\"grey\",\"grey\",\"grey\",\"grey\",\"grey\"],\"index\":[0,1,2,3,4,5,6,7,8,9,10,11,12,13,14,15,16,17,18,19,20,21,22,23,24,25,26,27,28,29,30,31,32,33,34,35,36,37,38,39,40,41,42,43,44,45,46,47,48,49,50,51,52,53,54,55,56,57,58,59,60,61,62,63,64,65,66,67,68,69,70,71,72,73,74,75,76,77,78,79,80,81,82,83,84,85,86,87,88,89,90,91,92,93,94,95,96,97,98,99,100,101,102,103,104,105,106,107,108,109,110,111,112,113,114,115,116,117,118,119],\"label\":[\"\\u5979\",\"\\u59b3\",\"\\u5973\\u751f\",\"\\u5973\\u5b69\",\"\\u5973\\u58eb\",\"\\u5973\\u4eba\",\"\\u5a66\\u4eba\",\"\\u5a66\",\"\\u5973\",\"\\u5a66\\u5973\",\"\\u5973\\u6027\",\"\\u5973\\u5b69\\u5b50\",\"\\u5979\\u5011\",\"\\u5abd\\u5abd\",\"\\u5973\\u5152\",\"\\u5973\\u5b50\",\"\\u4eba\\u59bb\",\"\\u59ca\\u59ca\",\"\\u59d0\\u59d0\",\"\\u59b9\\u59b9\",\"\\u5c11\\u5a66\",\"\\u719f\\u5973\",\"\\u5c0f\\u5973\\u5b69\",\"\\u6bcd\\u89aa\",\"\\u8868\\u59b9\",\"\\u59ea\\u5973\",\"\\u5a46\\u5a46\",\"\\u95a8\\u871c\",\"\\u5b6b\\u5973\",\"\\u5973\\u53cb\",\"\\u5c11\\u5973\",\"\\u963f\\u59e8\",\"\\u59d1\\u59d1\",\"\\u95a8\\u5bc6\",\"\\u5976\\u5976\",\"\\u8001\\u5a46\",\"\\u963f\\u5b24\",\"\\u5916\\u5a46\",\"\\u5802\\u59b9\",\"\\u5927\\u5ac2\",\"\\u5916\\u7525\\u5973\",\"\\u5ab3\\u5a66\",\"\\u59bb\\u5b50\",\"\\u592a\\u592a\",\"\\u8868\\u59ca\",\"\\u5ac2\\u5ac2\",\"\\u5927\\u5973\\u5152\",\"\\u5c0f\\u59d1\",\"\\u8001\\u5abd\",\"\\u8868\\u59d0\",\"\\u5802\\u59d0\",\"\\u5f1f\\u59b9\",\"\\u5f1f\\u5ab3\",\"\\u7956\\u6bcd\",\"\\u8205\\u5abd\",\"\\u7e7c\\u5973\",\"\\u5cb3\\u6bcd\",\"\\u4e7e\\u5abd\",\"\\u5973\\u65b9\",\"\\u611b\\u5973\",\"\\u990a\\u6bcd\",\"\\u5927\\u59ca\",\"\\u5152\\u5ab3\",\"\\u5927\\u59d1\",\"\\u524d\\u59bb\",\"\\u5ac2\\u5b50\",\"\\u7e7c\\u6bcd\",\"\\u5b38\\u5b38\",\"\\u9577\\u5973\",\"\\u4e48\\u5973\",\"\\u738b\\u5973\",\"\\u4f84\\u5973\",\"\\u4f2f\\u6bcd\",\"\\u5927\\u59b9\",\"\\u5916\\u5b6b\\u5973\",\"\\u5979\\u5011\",\"\\u59b3\\u5011\",\"\\u8001\\u5a46\",\"\\u4ed6\",\"\\u4f60\",\"\\u7537\",\"\\u7537\\u751f\",\"\\u7537\\u5b69\",\"\\u7537\\u58eb\",\"\\u7537\\u4eba\",\"\\u7537\\u6027\",\"\\u53d4\\u53d4\",\"\\u4f2f\\u4f2f\",\"\\u963f\\u516c\",\"\\u5916\\u516c\",\"\\u4ed6\\u5011\",\"\\u4f60\\u5011\",\"\\u8205\\u8205\",\"\\u723a\\u723a\",\"\\u4e08\\u592b\",\"\\u8001\\u516c\",\"\\u8b66\\u5bdf\",\"\\u7e3d\\u7d71\",\"\\u8001\\u5e2b\",\"\\u4fdd\\u6bcd\",\"\\u8b77\\u58eb\",\"\\u8001\\u95c6\",\"\\u52a9\\u624b\",\"\\u6b4c\\u624b\",\"\\u4e3b\\u5531\",\"\\u88fd\\u4f5c\\u4eba\",\"\\u7e3d\\u7d93\\u7406\",\"\\u8463\\u4e8b\\u9577\",\"\\u7d93\\u7406\",\"\\u9662\\u9577\",\"\\u7406\\u4e8b\",\"\\u670d\\u52d9\\u751f\",\"\\u79d8\\u66f8\",\"\\u7279\\u52a9\",\"\\u91ab\\u5e2b\",\"\\u91ab\\u751f\",\"\\u9818\\u73ed\",\"\\u5916\\u52de\",\"\\u770b\\u8b77\",\"\\u79fb\\u5de5\"],\"x\":{\"__ndarray__\":\"6dhURKpQOsDnJa+hYS83wDMD/hTpejbAglWCvbVDNsA7u1t6PgYwQB2i+aC4UDXAbeWRlV+7BcA1VdS1SdoGQACc3EaCISjA+6uCBOSmEkDmKsU5fwodwCVRkWQb2iTAPknsG/QmL8Bu1oRI0hMswCnkmriV8THAV8Cv8XA0KsCoiWE8pEMWwCVIW2Xn8yPAeWR7H4CTIsA2yPgffTQpwPpVZm/df7Q/MRBtc8AEFsDTOzhIAjMZwERaXQY2qCLAHC/qbxs9AsDZz5XDuvqxP8SrjhAnvRXAo336Zp0BI8CA8x5L1cMGwNewR5g2FjHArKJqLXVaMcDrO6bzzYrnPwW54IBQ+dg/pDep3FGCIMDFI/2n8zMFwNlf8Wv7WijAF7wUj0WDE8AQduaXjq4FwO18aUO5VNY/oe+sbC3A3D9iBDL0NnAHQJwXWJs3vue/KyuVfeYMEMCJSLFKjXoHQH+Mp4cpcw1A6Nm4P3zv+D9OrzeiTCruP3iy60mb/PW/EkIT9s9U8j9Khd2HXCkSQIaEL5QKGBpAlRbE4rwU1j8MrP5fJ0EYQFeL0cLVNtw/73DskhlRFEBpqSdzJckBwJyf49VdbRFARsKjQhn1BUA7j0osOk0rwGu1XLJrTgzA8XUgG7YSBUAkr0fuQaoSQHcZQzAnlRdAGqjstw4AHUDWERWRTPvpvxeljw4SXvw/1FByFwbHw78CodyPApsaQAs3u99utRBAPWwJ/gJqDkBQkVE74MgBwK3x8x6tmBtAAUeQQYI2GUCXeQqhBlEMQIkQdfY4MB1AP0nsG/QmL8DyqTDI/dkAwNlf8Wv7WijAv6nz2Xh2J8BBpIwdWCU3wKin1OXAOh/A03Hvd01SM8BDjwxbcEEvwNWQGz1ozby/gwGSMDf9NsAbmtuGD5sawKInb/4TiglAsD6bLYqcJkAIVoEuLHjwP5SRU223ag1ACsKswYq2IsAB20RBN5kYwFN09tNTwQ1ARJp/NK5NDEAN/sn44vkdwARKUbzyNSvAKzQ7fMz2HEC3ciEfogM2QJoWY9Mh0BZAju8ade4FH0D9xgXCjxcWQDDxmzkdRyFACBlhTYE1LkAhkK548scKQB0B7lkqTxVA6OkM9FizKEBXo7Eepu1DQOSj4Qvv/ERA+mhw7qoKQECl0Vowi5tBQN1gGlqtXT1AGVjHMPdWGECv8XEY9Kg6QKICe1Mt+DZAUVjYnBfxL0AyJICQVbAUQGm8tQxUgzJAxTieg92uKEC93VgDPx4kQM+8XA6f9yJA\",\"dtype\":\"float64\",\"order\":\"little\",\"shape\":[120]},\"y\":{\"__ndarray__\":\"Qd68IX0PEcAO2MzDEdgRQEiGc+L1tDlAzvtFOv30MkBGMnIqGSEHwPuoxBCQ5zJA5on2zsXGIMD/yFLm1gLwP0NZs0dlSCdAxFAbHRr2M0AynzvaKfxAQNcLQJ+AejBAlperqHsLI0D3RJAdpCItwBlhaPvpEDPAFpQBxnVeJED9q1wZOzwZQAljWqY4zyLANp45Y03zF8C4lNk3XNMkwOX/DuhHvhRAPBKM1mbDL0D86xrrcZIUQGHMNPna7jHA1g+GvbjAEsCXh+A4MX4gwJhXkWvPqCnAJyBoXmIBIEAX7HGcZfIuwJ5PWueRVva/bJg4rTdpJEDNzAwKEg8lwLnq7FRrFSrAsTP2ZulPFkBIKszkYzYxwE9JV6rOgSPAnHZbF1lmMcCdgHjVYJkywG3+NE/d3hPARPSiReM4H8AD9i5ztI0KwKUSCjW+LSHAGfoO0SlGLcCosYfR0mgpwOuEzkBjufm/QRBUlG/oHsDMZJtyy1sawFchythj5CHABVQd6EMRIMCflCYZaKoEwII5xzOn4ADA9I0a2X7JH8DckNtLI44ZwGN/y4mXVirA3y7PZei8HMDGLW2IDa33v6WHYDC7KyXAJSk26v0jIcCZBYg91vLXP7qaPwVrnB7A6ITAlZn4FsBTWK33GegVwKaKD9VBuhzADlg3yP5SGcBGFUtjnFogwEwLCAVQABTACrrHW88+FMB2eZFr+icgwFXX57Z4nBLATETdTYw2EsC6EIr9wwUIwFwHQZEceBLAsdI6HrcwI8CCvhHCun0RwKGzCU/6YB7AlperqHsLI0Cg6ThYfHAgQE9JV6rOgSPAXGQ4dnpkAsDgMRC9BOAgQGaD7O8zuyhAHrDkaaoEN0CaqJnPIe0gQP5GAKKVhzNAfJHSaCS1M0AwTjw0L1c9QEGSMojpMSbAXuS4X5UWI8BQdg8uUocvwNj6sDfdYivAaqmhOL4mGkC8SqC+mjAcQEHF6INJ8ijAapYtXkhrMcDHFeFh35MowEEGFKjO9SLALABsEbj9HkDYB1UmZqoWQJnFrJZvCgdAk+mfHuP+9L8JioeYhykaQOvc8jC8DKg/abEPCxofF0C/djiuRlYwQH6DB0J/ySRAO7zCloMHJkCeolE/DqIkQI4PikhpHwlAR/DpThqeLEBJL1BNZkQWQEGiT3iCvy5AInkYuGeLJUCbukLWStgpQPXmFUEKQR1AdH6uktpGJ0DVTJHBaP0MQIaF8AIjpSFAdPyD9I6+KEAtBtb0xd3JP0Ry2Tf/zjBA\",\"dtype\":\"float64\",\"order\":\"little\",\"shape\":[120]}},\"selected\":{\"id\":\"1989\"},\"selection_policy\":{\"id\":\"1990\"}},\"id\":\"1919\",\"type\":\"ColumnDataSource\"},{\"attributes\":{\"axis\":{\"id\":\"1892\"},\"ticker\":null},\"id\":\"1895\",\"type\":\"Grid\"}],\"root_ids\":[\"1881\"]},\"title\":\"Bokeh Application\",\"version\":\"2.3.1\"}};\n",
              "  var render_items = [{\"docid\":\"ade42a8e-03e2-4f62-b74b-007753a1a825\",\"root_ids\":[\"1881\"],\"roots\":{\"1881\":\"e4d2696e-b9c7-4717-a53c-8a36c2b61a7a\"}}];\n",
              "  root.Bokeh.embed.embed_items_notebook(docs_json, render_items);\n",
              "\n",
              "  }\n",
              "  if (root.Bokeh !== undefined) {\n",
              "    embed_document(root);\n",
              "  } else {\n",
              "    var attempts = 0;\n",
              "    var timer = setInterval(function(root) {\n",
              "      if (root.Bokeh !== undefined) {\n",
              "        clearInterval(timer);\n",
              "        embed_document(root);\n",
              "      } else {\n",
              "        attempts++;\n",
              "        if (attempts > 100) {\n",
              "          clearInterval(timer);\n",
              "          console.log(\"Bokeh: ERROR: Unable to run BokehJS code because BokehJS library is missing\");\n",
              "        }\n",
              "      }\n",
              "    }, 10, root)\n",
              "  }\n",
              "})(window);"
            ],
            "application/vnd.bokehjs_exec.v0+json": ""
          },
          "metadata": {
            "tags": [],
            "application/vnd.bokehjs_exec.v0+json": {
              "id": "1881"
            }
          }
        }
      ]
    },
    {
      "cell_type": "markdown",
      "metadata": {
        "id": "ccad0de5"
      },
      "source": [
        "# Visualization with t-SNE"
      ],
      "id": "ccad0de5"
    },
    {
      "cell_type": "markdown",
      "metadata": {
        "id": "ecc0f6ad"
      },
      "source": [
        "## Dimension reduction by t-SNE"
      ],
      "id": "ecc0f6ad"
    },
    {
      "cell_type": "code",
      "metadata": {
        "id": "46cd0b64"
      },
      "source": [
        ""
      ],
      "id": "46cd0b64",
      "execution_count": null,
      "outputs": []
    },
    {
      "cell_type": "markdown",
      "metadata": {
        "id": "ce37e803"
      },
      "source": [
        "## Visualization"
      ],
      "id": "ce37e803"
    },
    {
      "cell_type": "code",
      "metadata": {
        "id": "ee0e44ec"
      },
      "source": [
        ""
      ],
      "id": "ee0e44ec",
      "execution_count": null,
      "outputs": []
    }
  ]
}