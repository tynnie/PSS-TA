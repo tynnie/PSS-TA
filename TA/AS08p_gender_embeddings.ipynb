{
 "cells": [
  {
   "cell_type": "markdown",
   "metadata": {
    "id": "35490c68"
   },
   "source": [
    "# HW08 Gender embeddings\n"
   ]
  },
  {
   "cell_type": "markdown",
   "metadata": {
    "id": "86a9eeb6"
   },
   "source": [
    "## Preparation\n",
    "\n",
    "本次作業練習需要用到gensim套件，為避免同學在安裝套件方面花太多時間，以下提供在colab直接執行作業檔案的方法及說明。\n",
    "\n",
    "*   方法一：老師原本設計的方式\n",
    "  *   請同學自行下載檔案並在本機環境執行作業檔案\n",
    "  *   如果碰到問題可以先就錯誤訊息到Google或其他平台上找答案，若真的無法解決再請同學到社團或NTU COOL問我們\n",
    "*   方法二：將資料下載到colab的環境\n",
    "  *   執行指令並下載資料，完成後直接進行作業下一個步驟（loading data）\n",
    "*   方法三：將資料下載到自己的雲端，並直接取用該雲端檔案\n",
    "  *   執行指令並下載資料，完成後直接進行作業下一個步驟（loading data）\n",
    "  *   使用此方法只要下載一次檔案就好，之後可以直接取用雲端檔案\n",
    "\n",
    "### 方法一：\n",
    "\n",
    "- Download [the embedding](https://drive.google.com/file/d/1sfOjlQ0G_LXfvdBGFhIlG0UUj55GXhew/view?usp=sharing) to your computer (Middle size, about MB)\n",
    "\n"
   ]
  },
  {
   "cell_type": "markdown",
   "metadata": {
    "id": "eQwtpGFXU35B"
   },
   "source": [
    "### 方法二：\n",
    "\n"
   ]
  },
  {
   "cell_type": "code",
   "execution_count": null,
   "metadata": {
    "colab": {
     "base_uri": "https://localhost:8080/"
    },
    "id": "bnjLFBh6T6v0",
    "outputId": "85ad4f61-5ba2-4730-94c4-b8fd023d07a6"
   },
   "outputs": [
    {
     "name": "stdout",
     "output_type": "stream",
     "text": [
      "Downloading...\n",
      "From: https://drive.google.com/uc?id=1OkR_STaIYXK6-BWY5RF1eikqysvML8-8\n",
      "To: /content/CBOW_iter15_2017-2018.bin\n",
      "320MB [00:01, 223MB/s]\n"
     ]
    }
   ],
   "source": [
    "# 下載資料到colab提供的環境，直接執行這一行即可\n",
    "\n",
    "!gdown --id '1OkR_STaIYXK6-BWY5RF1eikqysvML8-8' --output CBOW_iter15_2017-2018.bin \n",
    "\n",
    "# 若上一個連結不能用，請用這一個備用的連結\n",
    "# !gdown --id '1sfOjlQ0G_LXfvdBGFhIlG0UUj55GXhew' --output CBOW_iter15_2017-2018.bin"
   ]
  },
  {
   "attachments": {},
   "cell_type": "markdown",
   "metadata": {
    "id": "3tI99zEWYFp8"
   },
   "source": [
    "> 如果成功，你會在左側目錄看到你的檔案\n",
    "\n",
    "\n",
    "![%E6%88%AA%E5%9C%96%202021-05-22%20%E4%B8%8B%E5%8D%885.03.23.png](data:image/png;base64,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\n",
    ")"
   ]
  },
  {
   "cell_type": "markdown",
   "metadata": {
    "id": "Gw-tJXYvVIPZ"
   },
   "source": [
    "### 方法三：\n",
    "\n"
   ]
  },
  {
   "cell_type": "code",
   "execution_count": 12,
   "metadata": {
    "colab": {
     "base_uri": "https://localhost:8080/"
    },
    "id": "HlSt7MXGVH4u",
    "outputId": "97d89a06-e276-42ef-e155-49dc46d4f394"
   },
   "outputs": [
    {
     "name": "stdout",
     "output_type": "stream",
     "text": [
      "Drive already mounted at /content/gdrive; to attempt to forcibly remount, call drive.mount(\"/content/gdrive\", force_remount=True).\n"
     ]
    }
   ],
   "source": [
    "# 將資料放到你的google drive\n",
    "# 執行這一格並進行授權（依照網址複製授權金鑰並輸入在空格裡）\n",
    "# 成功會出現「 Mounted at /content/gdrive 」\n",
    "\n",
    "from google.colab import drive\n",
    "drive.mount('/content/gdrive')"
   ]
  },
  {
   "cell_type": "code",
   "execution_count": 13,
   "metadata": {
    "id": "xLPtDj6ZVf5D"
   },
   "outputs": [],
   "source": [
    "# 指定資料夾\n",
    "import os\n",
    "\n",
    "workspace = '1092NTU/PSS-TA/HW08'  # 填入資料夾名稱／檔案路徑，你的雲端上需先有名稱／檔案路徑相同的資料夾\n",
    "\n",
    "try:\n",
    "    os.chdir(os.path.join('/content/gdrive/My Drive/', workspace))\n",
    "except:\n",
    "    os.mkdir(os.path.join('/content/gdrive/My Drive/', workspace))\n",
    "    os.chdir(os.path.join('/content/gdrive/My Drive/', workspace))"
   ]
  },
  {
   "cell_type": "code",
   "execution_count": 14,
   "metadata": {
    "colab": {
     "base_uri": "https://localhost:8080/"
    },
    "id": "U7rUx3O1V0hh",
    "outputId": "15516166-d0d8-46ba-c3f2-6fb4d3c7cee2"
   },
   "outputs": [
    {
     "name": "stdout",
     "output_type": "stream",
     "text": [
      "Downloading...\n",
      "From: https://drive.google.com/uc?id=1OkR_STaIYXK6-BWY5RF1eikqysvML8-8\n",
      "To: /content/gdrive/My Drive/1092NTU/PSS-TA/HW08/CBOW_iter15_2017-2018.bin\n",
      "320MB [00:02, 151MB/s]\n"
     ]
    }
   ],
   "source": [
    "# 下載資料\n",
    "\n",
    "!gdown --id '1OkR_STaIYXK6-BWY5RF1eikqysvML8-8' --output CBOW_iter15_2017-2018.bin \n",
    "\n",
    "# 備用\n",
    "# !gdown --id '1sfOjlQ0G_LXfvdBGFhIlG0UUj55GXhew' --output CBOW_iter15_2017-2018.bin"
   ]
  },
  {
   "cell_type": "markdown",
   "metadata": {
    "id": "rV1Nv8w2YLHM"
   },
   "source": [
    "> 成功後你會得到你的檔案路徑，之後進行作業前只要先連結（mount）你的google drive，就可以透過檔案路徑直接取用你的雲端檔案\n",
    "\n",
    "\n",
    "\n",
    "```\n",
    "# 例如我的執行結果是以下內容\n",
    "# 我的檔案路徑就是：/content/gdrive/MyDrive/1092NTU/PSS-TA/HW08/CBOW_iter15_2017-2018.bin\n",
    "# 需注意刪去空白格，避免出現路徑錯誤\n",
    "\n",
    "From: https://drive.google.com/uc?id=1OkR_STaIYXK6-BWY5RF1eikqysvML8-8\n",
    "To: /content/gdrive/My Drive/1092NTU/PSS-TA/HW08/CBOW_iter15_2017-2018.bin\n",
    "320MB [00:02, 151MB/s]\n",
    "```"
   ]
  },
  {
   "cell_type": "markdown",
   "metadata": {
    "id": "3cf3949e"
   },
   "source": [
    "## Loading data"
   ]
  },
  {
   "cell_type": "code",
   "execution_count": 2,
   "metadata": {
    "colab": {
     "base_uri": "https://localhost:8080/"
    },
    "id": "91aa4fd6",
    "outputId": "8f1e1d0b-3234-43d3-f790-d0f583861f77"
   },
   "outputs": [
    {
     "name": "stdout",
     "output_type": "stream",
     "text": [
      "265088\n"
     ]
    }
   ],
   "source": [
    "from gensim.models import KeyedVectors\n",
    "\n",
    "w2v = KeyedVectors.load_word2vec_format(\"CBOW_iter15_2017-2018.bin\", binary = True)\n",
    "\n",
    "# 若你使用方法三，需將此處的檔案路徑改成雲端檔案路徑，以取用雲端檔案\n",
    "# w2v = KeyedVectors.load_word2vec_format(\"/content/gdrive/MyDrive/1092NTU/PSS-TA/HW08/CBOW_iter15_2017-2018.bin\", binary = True)\n",
    "print(len(w2v.index2word))"
   ]
  },
  {
   "cell_type": "markdown",
   "metadata": {
    "id": "24104f35"
   },
   "source": [
    "# Design"
   ]
  },
  {
   "cell_type": "markdown",
   "metadata": {
    "id": "e55563ed"
   },
   "source": [
    "## (TODO) Construct three lists\n",
    "- you should list as least 30 terms for each list"
   ]
  },
  {
   "cell_type": "code",
   "execution_count": 3,
   "metadata": {
    "id": "5f9fba30"
   },
   "outputs": [],
   "source": [
    "female = [\"她\", \"妳\", \"女生\", \"女孩\"]\n",
    "male = [\"他\", \"你\", \"男\", \"男生\"]\n",
    "occupation = ['警察', '保母', '護士', '老闆']"
   ]
  },
  {
   "cell_type": "markdown",
   "metadata": {
    "id": "706c5928"
   },
   "source": [
    "### Verify your vocabulary\n",
    "You can use the following code to verify if your selected words exist in the wordEmbedding model"
   ]
  },
  {
   "cell_type": "code",
   "execution_count": 4,
   "metadata": {
    "id": "1be73bed"
   },
   "outputs": [],
   "source": [
    "for word in female+male+occupation:\n",
    "    if word not in w2v.vocab:\n",
    "        print(word)"
   ]
  },
  {
   "cell_type": "markdown",
   "metadata": {
    "id": "21d26e96"
   },
   "source": [
    "# (TODO) Comparing gender stereotype of occupations \n",
    "- 你應該會有30個female words、30個male words、30個職業。\n",
    "- 對於每個職業，去計算該職業和每個female words的similarity，求平均，假設為female_avg\n",
    "- 對於每個職業，去計算該職業和每個male words的similarity，求平均，假設為male_avg\n",
    "- 對於每個職業，印出該職業female_avg和male_avg哪個大，印的時候可以用ternary condition來判斷\n",
    "```\n",
    "\"<\" if female_avg > male_avg elase \">\"\n",
    "```\n",
    "- Expected results\n",
    "```\n",
    "警察\tmale(0.21)\t>\tfemale(0.16)\n",
    "保母\tmale(0.19)\t<\tfemale(0.26)\n",
    "護士\tmale(0.30)\t<\tfemale(0.31)\n",
    "老闆\tmale(0.30)\t>\tfemale(0.28)\n",
    "```"
   ]
  },
  {
   "cell_type": "code",
   "execution_count": null,
   "metadata": {
    "id": "25038fed",
    "outputId": "1643dc60-a1d5-416c-c4a8-0cfd507059e9"
   },
   "outputs": [
    {
     "name": "stdout",
     "output_type": "stream",
     "text": [
      "警察\tmale(0.21)\t>\tfemale(0.16)\n",
      "保母\tmale(0.19)\t<\tfemale(0.26)\n",
      "護士\tmale(0.30)\t<\tfemale(0.31)\n",
      "老闆\tmale(0.30)\t>\tfemale(0.28)\n"
     ]
    }
   ],
   "source": []
  },
  {
   "attachments": {},
   "cell_type": "markdown",
   "metadata": {
    "id": "8f574963"
   },
   "source": [
    "# (TODO) Visualization with PCA\n",
    "抽取出所有上述職業和性別化稱謂的向量，以PCA進行降維後，用Bokeh做視覺化，預期視覺化結果如下：\n",
    "![Unknown.png](data:image/png;base64,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\n",
    ")"
   ]
  },
  {
   "cell_type": "markdown",
   "metadata": {
    "id": "9c6fd53f"
   },
   "source": [
    "## Dimension reduction by PCA"
   ]
  },
  {
   "cell_type": "code",
   "execution_count": null,
   "metadata": {
    "id": "060b76fe"
   },
   "outputs": [],
   "source": []
  },
  {
   "cell_type": "markdown",
   "metadata": {
    "id": "c2a5dad5"
   },
   "source": [
    "## Constructing pandas dataframe for visualization"
   ]
  },
  {
   "cell_type": "code",
   "execution_count": null,
   "metadata": {
    "id": "ec95a14f",
    "outputId": "84cc4f19-0b42-49dc-9799-38b9b21e0c25"
   },
   "outputs": [
    {
     "data": {
      "text/html": [
       "<div>\n",
       "<style scoped>\n",
       "    .dataframe tbody tr th:only-of-type {\n",
       "        vertical-align: middle;\n",
       "    }\n",
       "\n",
       "    .dataframe tbody tr th {\n",
       "        vertical-align: top;\n",
       "    }\n",
       "\n",
       "    .dataframe thead th {\n",
       "        text-align: right;\n",
       "    }\n",
       "</style>\n",
       "<table border=\"1\" class=\"dataframe\">\n",
       "  <thead>\n",
       "    <tr style=\"text-align: right;\">\n",
       "      <th></th>\n",
       "      <th>x</th>\n",
       "      <th>y</th>\n",
       "      <th>label</th>\n",
       "      <th>color</th>\n",
       "    </tr>\n",
       "  </thead>\n",
       "  <tbody>\n",
       "    <tr>\n",
       "      <th>0</th>\n",
       "      <td>-26.315098</td>\n",
       "      <td>-4.265126</td>\n",
       "      <td>她</td>\n",
       "      <td>red</td>\n",
       "    </tr>\n",
       "    <tr>\n",
       "      <th>1</th>\n",
       "      <td>-23.185083</td>\n",
       "      <td>4.461005</td>\n",
       "      <td>妳</td>\n",
       "      <td>red</td>\n",
       "    </tr>\n",
       "    <tr>\n",
       "      <th>2</th>\n",
       "      <td>-22.480119</td>\n",
       "      <td>25.706877</td>\n",
       "      <td>女生</td>\n",
       "      <td>red</td>\n",
       "    </tr>\n",
       "    <tr>\n",
       "      <th>3</th>\n",
       "      <td>-22.264492</td>\n",
       "      <td>18.956989</td>\n",
       "      <td>女孩</td>\n",
       "      <td>red</td>\n",
       "    </tr>\n",
       "    <tr>\n",
       "      <th>4</th>\n",
       "      <td>16.024391</td>\n",
       "      <td>-2.891161</td>\n",
       "      <td>女士</td>\n",
       "      <td>red</td>\n",
       "    </tr>\n",
       "    <tr>\n",
       "      <th>...</th>\n",
       "      <td>...</td>\n",
       "      <td>...</td>\n",
       "      <td>...</td>\n",
       "      <td>...</td>\n",
       "    </tr>\n",
       "    <tr>\n",
       "      <th>115</th>\n",
       "      <td>5.172201</td>\n",
       "      <td>3.623735</td>\n",
       "      <td>醫生</td>\n",
       "      <td>grey</td>\n",
       "    </tr>\n",
       "    <tr>\n",
       "      <th>116</th>\n",
       "      <td>18.513001</td>\n",
       "      <td>8.822533</td>\n",
       "      <td>領班</td>\n",
       "      <td>grey</td>\n",
       "    </tr>\n",
       "    <tr>\n",
       "      <th>117</th>\n",
       "      <td>12.341534</td>\n",
       "      <td>12.372184</td>\n",
       "      <td>外勞</td>\n",
       "      <td>grey</td>\n",
       "    </tr>\n",
       "    <tr>\n",
       "      <th>118</th>\n",
       "      <td>10.059075</td>\n",
       "      <td>0.202080</td>\n",
       "      <td>看護</td>\n",
       "      <td>grey</td>\n",
       "    </tr>\n",
       "    <tr>\n",
       "      <th>119</th>\n",
       "      <td>9.483635</td>\n",
       "      <td>16.808582</td>\n",
       "      <td>移工</td>\n",
       "      <td>grey</td>\n",
       "    </tr>\n",
       "  </tbody>\n",
       "</table>\n",
       "<p>120 rows × 4 columns</p>\n",
       "</div>"
      ],
      "text/plain": [
       "             x          y label color\n",
       "0   -26.315098  -4.265126     她   red\n",
       "1   -23.185083   4.461005     妳   red\n",
       "2   -22.480119  25.706877    女生   red\n",
       "3   -22.264492  18.956989    女孩   red\n",
       "4    16.024391  -2.891161    女士   red\n",
       "..         ...        ...   ...   ...\n",
       "115   5.172201   3.623735    醫生  grey\n",
       "116  18.513001   8.822533    領班  grey\n",
       "117  12.341534  12.372184    外勞  grey\n",
       "118  10.059075   0.202080    看護  grey\n",
       "119   9.483635  16.808582    移工  grey\n",
       "\n",
       "[120 rows x 4 columns]"
      ]
     },
     "execution_count": 54,
     "metadata": {
      "tags": []
     },
     "output_type": "execute_result"
    }
   ],
   "source": []
  },
  {
   "cell_type": "markdown",
   "metadata": {
    "id": "a334dee3"
   },
   "source": [
    "## Visualization by bokeh"
   ]
  },
  {
   "cell_type": "code",
   "execution_count": null,
   "metadata": {
    "id": "06c0d9ab",
    "outputId": "7c55bf85-81fb-4c76-f7f0-75d203a01b91"
   },
   "outputs": [
    {
     "data": {
      "text/html": [
       "\n",
       "    <div class=\"bk-root\">\n",
       "        <a href=\"https://bokeh.org\" target=\"_blank\" class=\"bk-logo bk-logo-small bk-logo-notebook\"></a>\n",
       "        <span id=\"1002\">Loading BokehJS ...</span>\n",
       "    </div>"
      ]
     },
     "metadata": {
      "tags": []
     },
     "output_type": "display_data"
    },
    {
     "data": {
      "application/javascript": [
       "\n",
       "(function(root) {\n",
       "  function now() {\n",
       "    return new Date();\n",
       "  }\n",
       "\n",
       "  var force = true;\n",
       "\n",
       "  if (typeof root._bokeh_onload_callbacks === \"undefined\" || force === true) {\n",
       "    root._bokeh_onload_callbacks = [];\n",
       "    root._bokeh_is_loading = undefined;\n",
       "  }\n",
       "\n",
       "  var JS_MIME_TYPE = 'application/javascript';\n",
       "  var HTML_MIME_TYPE = 'text/html';\n",
       "  var EXEC_MIME_TYPE = 'application/vnd.bokehjs_exec.v0+json';\n",
       "  var CLASS_NAME = 'output_bokeh rendered_html';\n",
       "\n",
       "  /**\n",
       "   * Render data to the DOM node\n",
       "   */\n",
       "  function render(props, node) {\n",
       "    var script = document.createElement(\"script\");\n",
       "    node.appendChild(script);\n",
       "  }\n",
       "\n",
       "  /**\n",
       "   * Handle when an output is cleared or removed\n",
       "   */\n",
       "  function handleClearOutput(event, handle) {\n",
       "    var cell = handle.cell;\n",
       "\n",
       "    var id = cell.output_area._bokeh_element_id;\n",
       "    var server_id = cell.output_area._bokeh_server_id;\n",
       "    // Clean up Bokeh references\n",
       "    if (id != null && id in Bokeh.index) {\n",
       "      Bokeh.index[id].model.document.clear();\n",
       "      delete Bokeh.index[id];\n",
       "    }\n",
       "\n",
       "    if (server_id !== undefined) {\n",
       "      // Clean up Bokeh references\n",
       "      var cmd = \"from bokeh.io.state import curstate; print(curstate().uuid_to_server['\" + server_id + \"'].get_sessions()[0].document.roots[0]._id)\";\n",
       "      cell.notebook.kernel.execute(cmd, {\n",
       "        iopub: {\n",
       "          output: function(msg) {\n",
       "            var id = msg.content.text.trim();\n",
       "            if (id in Bokeh.index) {\n",
       "              Bokeh.index[id].model.document.clear();\n",
       "              delete Bokeh.index[id];\n",
       "            }\n",
       "          }\n",
       "        }\n",
       "      });\n",
       "      // Destroy server and session\n",
       "      var cmd = \"import bokeh.io.notebook as ion; ion.destroy_server('\" + server_id + \"')\";\n",
       "      cell.notebook.kernel.execute(cmd);\n",
       "    }\n",
       "  }\n",
       "\n",
       "  /**\n",
       "   * Handle when a new output is added\n",
       "   */\n",
       "  function handleAddOutput(event, handle) {\n",
       "    var output_area = handle.output_area;\n",
       "    var output = handle.output;\n",
       "\n",
       "    // limit handleAddOutput to display_data with EXEC_MIME_TYPE content only\n",
       "    if ((output.output_type != \"display_data\") || (!Object.prototype.hasOwnProperty.call(output.data, EXEC_MIME_TYPE))) {\n",
       "      return\n",
       "    }\n",
       "\n",
       "    var toinsert = output_area.element.find(\".\" + CLASS_NAME.split(' ')[0]);\n",
       "\n",
       "    if (output.metadata[EXEC_MIME_TYPE][\"id\"] !== undefined) {\n",
       "      toinsert[toinsert.length - 1].firstChild.textContent = output.data[JS_MIME_TYPE];\n",
       "      // store reference to embed id on output_area\n",
       "      output_area._bokeh_element_id = output.metadata[EXEC_MIME_TYPE][\"id\"];\n",
       "    }\n",
       "    if (output.metadata[EXEC_MIME_TYPE][\"server_id\"] !== undefined) {\n",
       "      var bk_div = document.createElement(\"div\");\n",
       "      bk_div.innerHTML = output.data[HTML_MIME_TYPE];\n",
       "      var script_attrs = bk_div.children[0].attributes;\n",
       "      for (var i = 0; i < script_attrs.length; i++) {\n",
       "        toinsert[toinsert.length - 1].firstChild.setAttribute(script_attrs[i].name, script_attrs[i].value);\n",
       "        toinsert[toinsert.length - 1].firstChild.textContent = bk_div.children[0].textContent\n",
       "      }\n",
       "      // store reference to server id on output_area\n",
       "      output_area._bokeh_server_id = output.metadata[EXEC_MIME_TYPE][\"server_id\"];\n",
       "    }\n",
       "  }\n",
       "\n",
       "  function register_renderer(events, OutputArea) {\n",
       "\n",
       "    function append_mime(data, metadata, element) {\n",
       "      // create a DOM node to render to\n",
       "      var toinsert = this.create_output_subarea(\n",
       "        metadata,\n",
       "        CLASS_NAME,\n",
       "        EXEC_MIME_TYPE\n",
       "      );\n",
       "      this.keyboard_manager.register_events(toinsert);\n",
       "      // Render to node\n",
       "      var props = {data: data, metadata: metadata[EXEC_MIME_TYPE]};\n",
       "      render(props, toinsert[toinsert.length - 1]);\n",
       "      element.append(toinsert);\n",
       "      return toinsert\n",
       "    }\n",
       "\n",
       "    /* Handle when an output is cleared or removed */\n",
       "    events.on('clear_output.CodeCell', handleClearOutput);\n",
       "    events.on('delete.Cell', handleClearOutput);\n",
       "\n",
       "    /* Handle when a new output is added */\n",
       "    events.on('output_added.OutputArea', handleAddOutput);\n",
       "\n",
       "    /**\n",
       "     * Register the mime type and append_mime function with output_area\n",
       "     */\n",
       "    OutputArea.prototype.register_mime_type(EXEC_MIME_TYPE, append_mime, {\n",
       "      /* Is output safe? */\n",
       "      safe: true,\n",
       "      /* Index of renderer in `output_area.display_order` */\n",
       "      index: 0\n",
       "    });\n",
       "  }\n",
       "\n",
       "  // register the mime type if in Jupyter Notebook environment and previously unregistered\n",
       "  if (root.Jupyter !== undefined) {\n",
       "    var events = require('base/js/events');\n",
       "    var OutputArea = require('notebook/js/outputarea').OutputArea;\n",
       "\n",
       "    if (OutputArea.prototype.mime_types().indexOf(EXEC_MIME_TYPE) == -1) {\n",
       "      register_renderer(events, OutputArea);\n",
       "    }\n",
       "  }\n",
       "\n",
       "  \n",
       "  if (typeof (root._bokeh_timeout) === \"undefined\" || force === true) {\n",
       "    root._bokeh_timeout = Date.now() + 5000;\n",
       "    root._bokeh_failed_load = false;\n",
       "  }\n",
       "\n",
       "  var NB_LOAD_WARNING = {'data': {'text/html':\n",
       "     \"<div style='background-color: #fdd'>\\n\"+\n",
       "     \"<p>\\n\"+\n",
       "     \"BokehJS does not appear to have successfully loaded. If loading BokehJS from CDN, this \\n\"+\n",
       "     \"may be due to a slow or bad network connection. Possible fixes:\\n\"+\n",
       "     \"</p>\\n\"+\n",
       "     \"<ul>\\n\"+\n",
       "     \"<li>re-rerun `output_notebook()` to attempt to load from CDN again, or</li>\\n\"+\n",
       "     \"<li>use INLINE resources instead, as so:</li>\\n\"+\n",
       "     \"</ul>\\n\"+\n",
       "     \"<code>\\n\"+\n",
       "     \"from bokeh.resources import INLINE\\n\"+\n",
       "     \"output_notebook(resources=INLINE)\\n\"+\n",
       "     \"</code>\\n\"+\n",
       "     \"</div>\"}};\n",
       "\n",
       "  function display_loaded() {\n",
       "    var el = document.getElementById(\"1002\");\n",
       "    if (el != null) {\n",
       "      el.textContent = \"BokehJS is loading...\";\n",
       "    }\n",
       "    if (root.Bokeh !== undefined) {\n",
       "      if (el != null) {\n",
       "        el.textContent = \"BokehJS \" + root.Bokeh.version + \" successfully loaded.\";\n",
       "      }\n",
       "    } else if (Date.now() < root._bokeh_timeout) {\n",
       "      setTimeout(display_loaded, 100)\n",
       "    }\n",
       "  }\n",
       "\n",
       "\n",
       "  function run_callbacks() {\n",
       "    try {\n",
       "      root._bokeh_onload_callbacks.forEach(function(callback) {\n",
       "        if (callback != null)\n",
       "          callback();\n",
       "      });\n",
       "    } finally {\n",
       "      delete root._bokeh_onload_callbacks\n",
       "    }\n",
       "    console.debug(\"Bokeh: all callbacks have finished\");\n",
       "  }\n",
       "\n",
       "  function load_libs(css_urls, js_urls, callback) {\n",
       "    if (css_urls == null) css_urls = [];\n",
       "    if (js_urls == null) js_urls = [];\n",
       "\n",
       "    root._bokeh_onload_callbacks.push(callback);\n",
       "    if (root._bokeh_is_loading > 0) {\n",
       "      console.debug(\"Bokeh: BokehJS is being loaded, scheduling callback at\", now());\n",
       "      return null;\n",
       "    }\n",
       "    if (js_urls == null || js_urls.length === 0) {\n",
       "      run_callbacks();\n",
       "      return null;\n",
       "    }\n",
       "    console.debug(\"Bokeh: BokehJS not loaded, scheduling load and callback at\", now());\n",
       "    root._bokeh_is_loading = css_urls.length + js_urls.length;\n",
       "\n",
       "    function on_load() {\n",
       "      root._bokeh_is_loading--;\n",
       "      if (root._bokeh_is_loading === 0) {\n",
       "        console.debug(\"Bokeh: all BokehJS libraries/stylesheets loaded\");\n",
       "        run_callbacks()\n",
       "      }\n",
       "    }\n",
       "\n",
       "    function on_error(url) {\n",
       "      console.error(\"failed to load \" + url);\n",
       "    }\n",
       "\n",
       "    for (let i = 0; i < css_urls.length; i++) {\n",
       "      const url = css_urls[i];\n",
       "      const element = document.createElement(\"link\");\n",
       "      element.onload = on_load;\n",
       "      element.onerror = on_error.bind(null, url);\n",
       "      element.rel = \"stylesheet\";\n",
       "      element.type = \"text/css\";\n",
       "      element.href = url;\n",
       "      console.debug(\"Bokeh: injecting link tag for BokehJS stylesheet: \", url);\n",
       "      document.body.appendChild(element);\n",
       "    }\n",
       "\n",
       "    const hashes = {\"https://cdn.bokeh.org/bokeh/release/bokeh-2.3.1.min.js\": \"YF85VygJKMVnHE+lLv2AM93Vbstr0yo2TbIu5v8se5Rq3UQAUmcuh4aaJwNlpKwa\", \"https://cdn.bokeh.org/bokeh/release/bokeh-widgets-2.3.1.min.js\": \"KKuas3gevv3PvrlkyCMzffFeaMq5we/a2QsP5AUoS3mJ0jmaCL7jirFJN3GoE/lM\", \"https://cdn.bokeh.org/bokeh/release/bokeh-tables-2.3.1.min.js\": \"MK/uFc3YT18pkvvXRl66tTHjP0/dxoSH2e/eiNMFIguKlun2+WVqaPTWmUy/zvh4\"};\n",
       "\n",
       "    for (let i = 0; i < js_urls.length; i++) {\n",
       "      const url = js_urls[i];\n",
       "      const element = document.createElement('script');\n",
       "      element.onload = on_load;\n",
       "      element.onerror = on_error.bind(null, url);\n",
       "      element.async = false;\n",
       "      element.src = url;\n",
       "      if (url in hashes) {\n",
       "        element.crossOrigin = \"anonymous\";\n",
       "        element.integrity = \"sha384-\" + hashes[url];\n",
       "      }\n",
       "      console.debug(\"Bokeh: injecting script tag for BokehJS library: \", url);\n",
       "      document.head.appendChild(element);\n",
       "    }\n",
       "  };\n",
       "\n",
       "  function inject_raw_css(css) {\n",
       "    const element = document.createElement(\"style\");\n",
       "    element.appendChild(document.createTextNode(css));\n",
       "    document.body.appendChild(element);\n",
       "  }\n",
       "\n",
       "  \n",
       "  var js_urls = [\"https://cdn.bokeh.org/bokeh/release/bokeh-2.3.1.min.js\", \"https://cdn.bokeh.org/bokeh/release/bokeh-widgets-2.3.1.min.js\", \"https://cdn.bokeh.org/bokeh/release/bokeh-tables-2.3.1.min.js\"];\n",
       "  var css_urls = [];\n",
       "  \n",
       "\n",
       "  var inline_js = [\n",
       "    function(Bokeh) {\n",
       "      Bokeh.set_log_level(\"info\");\n",
       "    },\n",
       "    function(Bokeh) {\n",
       "    \n",
       "    \n",
       "    }\n",
       "  ];\n",
       "\n",
       "  function run_inline_js() {\n",
       "    \n",
       "    if (root.Bokeh !== undefined || force === true) {\n",
       "      \n",
       "    for (var i = 0; i < inline_js.length; i++) {\n",
       "      inline_js[i].call(root, root.Bokeh);\n",
       "    }\n",
       "    if (force === true) {\n",
       "        display_loaded();\n",
       "      }} else if (Date.now() < root._bokeh_timeout) {\n",
       "      setTimeout(run_inline_js, 100);\n",
       "    } else if (!root._bokeh_failed_load) {\n",
       "      console.log(\"Bokeh: BokehJS failed to load within specified timeout.\");\n",
       "      root._bokeh_failed_load = true;\n",
       "    } else if (force !== true) {\n",
       "      var cell = $(document.getElementById(\"1002\")).parents('.cell').data().cell;\n",
       "      cell.output_area.append_execute_result(NB_LOAD_WARNING)\n",
       "    }\n",
       "\n",
       "  }\n",
       "\n",
       "  if (root._bokeh_is_loading === 0) {\n",
       "    console.debug(\"Bokeh: BokehJS loaded, going straight to plotting\");\n",
       "    run_inline_js();\n",
       "  } else {\n",
       "    load_libs(css_urls, js_urls, function() {\n",
       "      console.debug(\"Bokeh: BokehJS plotting callback run at\", now());\n",
       "      run_inline_js();\n",
       "    });\n",
       "  }\n",
       "}(window));"
      ],
      "application/vnd.bokehjs_load.v0+json": "\n(function(root) {\n  function now() {\n    return new Date();\n  }\n\n  var force = true;\n\n  if (typeof root._bokeh_onload_callbacks === \"undefined\" || force === true) {\n    root._bokeh_onload_callbacks = [];\n    root._bokeh_is_loading = undefined;\n  }\n\n  \n\n  \n  if (typeof (root._bokeh_timeout) === \"undefined\" || force === true) {\n    root._bokeh_timeout = Date.now() + 5000;\n    root._bokeh_failed_load = false;\n  }\n\n  var NB_LOAD_WARNING = {'data': {'text/html':\n     \"<div style='background-color: #fdd'>\\n\"+\n     \"<p>\\n\"+\n     \"BokehJS does not appear to have successfully loaded. If loading BokehJS from CDN, this \\n\"+\n     \"may be due to a slow or bad network connection. Possible fixes:\\n\"+\n     \"</p>\\n\"+\n     \"<ul>\\n\"+\n     \"<li>re-rerun `output_notebook()` to attempt to load from CDN again, or</li>\\n\"+\n     \"<li>use INLINE resources instead, as so:</li>\\n\"+\n     \"</ul>\\n\"+\n     \"<code>\\n\"+\n     \"from bokeh.resources import INLINE\\n\"+\n     \"output_notebook(resources=INLINE)\\n\"+\n     \"</code>\\n\"+\n     \"</div>\"}};\n\n  function display_loaded() {\n    var el = document.getElementById(\"1002\");\n    if (el != null) {\n      el.textContent = \"BokehJS is loading...\";\n    }\n    if (root.Bokeh !== undefined) {\n      if (el != null) {\n        el.textContent = \"BokehJS \" + root.Bokeh.version + \" successfully loaded.\";\n      }\n    } else if (Date.now() < root._bokeh_timeout) {\n      setTimeout(display_loaded, 100)\n    }\n  }\n\n\n  function run_callbacks() {\n    try {\n      root._bokeh_onload_callbacks.forEach(function(callback) {\n        if (callback != null)\n          callback();\n      });\n    } finally {\n      delete root._bokeh_onload_callbacks\n    }\n    console.debug(\"Bokeh: all callbacks have finished\");\n  }\n\n  function load_libs(css_urls, js_urls, callback) {\n    if (css_urls == null) css_urls = [];\n    if (js_urls == null) js_urls = [];\n\n    root._bokeh_onload_callbacks.push(callback);\n    if (root._bokeh_is_loading > 0) {\n      console.debug(\"Bokeh: BokehJS is being loaded, scheduling callback at\", now());\n      return null;\n    }\n    if (js_urls == null || js_urls.length === 0) {\n      run_callbacks();\n      return null;\n    }\n    console.debug(\"Bokeh: BokehJS not loaded, scheduling load and callback at\", now());\n    root._bokeh_is_loading = css_urls.length + js_urls.length;\n\n    function on_load() {\n      root._bokeh_is_loading--;\n      if (root._bokeh_is_loading === 0) {\n        console.debug(\"Bokeh: all BokehJS libraries/stylesheets loaded\");\n        run_callbacks()\n      }\n    }\n\n    function on_error(url) {\n      console.error(\"failed to load \" + url);\n    }\n\n    for (let i = 0; i < css_urls.length; i++) {\n      const url = css_urls[i];\n      const element = document.createElement(\"link\");\n      element.onload = on_load;\n      element.onerror = on_error.bind(null, url);\n      element.rel = \"stylesheet\";\n      element.type = \"text/css\";\n      element.href = url;\n      console.debug(\"Bokeh: injecting link tag for BokehJS stylesheet: \", url);\n      document.body.appendChild(element);\n    }\n\n    const hashes = {\"https://cdn.bokeh.org/bokeh/release/bokeh-2.3.1.min.js\": \"YF85VygJKMVnHE+lLv2AM93Vbstr0yo2TbIu5v8se5Rq3UQAUmcuh4aaJwNlpKwa\", \"https://cdn.bokeh.org/bokeh/release/bokeh-widgets-2.3.1.min.js\": \"KKuas3gevv3PvrlkyCMzffFeaMq5we/a2QsP5AUoS3mJ0jmaCL7jirFJN3GoE/lM\", \"https://cdn.bokeh.org/bokeh/release/bokeh-tables-2.3.1.min.js\": \"MK/uFc3YT18pkvvXRl66tTHjP0/dxoSH2e/eiNMFIguKlun2+WVqaPTWmUy/zvh4\"};\n\n    for (let i = 0; i < js_urls.length; i++) {\n      const url = js_urls[i];\n      const element = document.createElement('script');\n      element.onload = on_load;\n      element.onerror = on_error.bind(null, url);\n      element.async = false;\n      element.src = url;\n      if (url in hashes) {\n        element.crossOrigin = \"anonymous\";\n        element.integrity = \"sha384-\" + hashes[url];\n      }\n      console.debug(\"Bokeh: injecting script tag for BokehJS library: \", url);\n      document.head.appendChild(element);\n    }\n  };\n\n  function inject_raw_css(css) {\n    const element = document.createElement(\"style\");\n    element.appendChild(document.createTextNode(css));\n    document.body.appendChild(element);\n  }\n\n  \n  var js_urls = [\"https://cdn.bokeh.org/bokeh/release/bokeh-2.3.1.min.js\", \"https://cdn.bokeh.org/bokeh/release/bokeh-widgets-2.3.1.min.js\", \"https://cdn.bokeh.org/bokeh/release/bokeh-tables-2.3.1.min.js\"];\n  var css_urls = [];\n  \n\n  var inline_js = [\n    function(Bokeh) {\n      Bokeh.set_log_level(\"info\");\n    },\n    function(Bokeh) {\n    \n    \n    }\n  ];\n\n  function run_inline_js() {\n    \n    if (root.Bokeh !== undefined || force === true) {\n      \n    for (var i = 0; i < inline_js.length; i++) {\n      inline_js[i].call(root, root.Bokeh);\n    }\n    if (force === true) {\n        display_loaded();\n      }} else if (Date.now() < root._bokeh_timeout) {\n      setTimeout(run_inline_js, 100);\n    } else if (!root._bokeh_failed_load) {\n      console.log(\"Bokeh: BokehJS failed to load within specified timeout.\");\n      root._bokeh_failed_load = true;\n    } else if (force !== true) {\n      var cell = $(document.getElementById(\"1002\")).parents('.cell').data().cell;\n      cell.output_area.append_execute_result(NB_LOAD_WARNING)\n    }\n\n  }\n\n  if (root._bokeh_is_loading === 0) {\n    console.debug(\"Bokeh: BokehJS loaded, going straight to plotting\");\n    run_inline_js();\n  } else {\n    load_libs(css_urls, js_urls, function() {\n      console.debug(\"Bokeh: BokehJS plotting callback run at\", now());\n      run_inline_js();\n    });\n  }\n}(window));"
     },
     "metadata": {
      "tags": []
     },
     "output_type": "display_data"
    }
   ],
   "source": [
    "# !pip install bokeh\n",
    "# !pip install jupyter_bokeh\n",
    "from bokeh.models import ColumnDataSource, Label, LabelSet, Range1d\n",
    "from bokeh.plotting import figure, output_file, show\n",
    "from bokeh.io import output_notebook\n",
    "output_notebook()"
   ]
  },
  {
   "cell_type": "code",
   "execution_count": null,
   "metadata": {
    "id": "d529c5bf",
    "outputId": "39f01f25-9c06-4b2a-cdd8-8e2b691476d2"
   },
   "outputs": [
    {
     "data": {
      "text/html": [
       "\n",
       "\n",
       "\n",
       "\n",
       "\n",
       "\n",
       "  <div class=\"bk-root\" id=\"e4d2696e-b9c7-4717-a53c-8a36c2b61a7a\" data-root-id=\"1881\"></div>\n"
      ]
     },
     "metadata": {
      "tags": []
     },
     "output_type": "display_data"
    },
    {
     "data": {
      "application/javascript": [
       "(function(root) {\n",
       "  function embed_document(root) {\n",
       "    \n",
       "  var docs_json = {\"ade42a8e-03e2-4f62-b74b-007753a1a825\":{\"defs\":[],\"roots\":{\"references\":[{\"attributes\":{\"below\":[{\"id\":\"1892\"}],\"center\":[{\"id\":\"1895\"},{\"id\":\"1899\"},{\"id\":\"1920\"}],\"left\":[{\"id\":\"1896\"}],\"renderers\":[{\"id\":\"1917\"}],\"title\":{\"id\":\"1882\"},\"toolbar\":{\"id\":\"1907\"},\"x_range\":{\"id\":\"1884\"},\"x_scale\":{\"id\":\"1888\"},\"y_range\":{\"id\":\"1886\"},\"y_scale\":{\"id\":\"1890\"}},\"id\":\"1881\",\"subtype\":\"Figure\",\"type\":\"Plot\"},{\"attributes\":{},\"id\":\"1903\",\"type\":\"SaveTool\"},{\"attributes\":{\"overlay\":{\"id\":\"1906\"}},\"id\":\"1902\",\"type\":\"BoxZoomTool\"},{\"attributes\":{\"source\":{\"id\":\"1914\"}},\"id\":\"1918\",\"type\":\"CDSView\"},{\"attributes\":{},\"id\":\"1987\",\"type\":\"BasicTickFormatter\"},{\"attributes\":{\"axis\":{\"id\":\"1896\"},\"dimension\":1,\"ticker\":null},\"id\":\"1899\",\"type\":\"Grid\"},{\"attributes\":{},\"id\":\"1985\",\"type\":\"AllLabels\"},{\"attributes\":{},\"id\":\"1901\",\"type\":\"WheelZoomTool\"},{\"attributes\":{\"fill_alpha\":{\"value\":0.1},\"fill_color\":{\"field\":\"fill_color\"},\"line_alpha\":{\"value\":0.1},\"line_color\":{\"field\":\"line_color\"},\"size\":{\"value\":10},\"x\":{\"field\":\"x\"},\"y\":{\"field\":\"y\"}},\"id\":\"1916\",\"type\":\"Circle\"},{\"attributes\":{},\"id\":\"1900\",\"type\":\"PanTool\"},{\"attributes\":{\"text\":\"w2v\"},\"id\":\"1882\",\"type\":\"Title\"},{\"attributes\":{},\"id\":\"1990\",\"type\":\"UnionRenderers\"},{\"attributes\":{},\"id\":\"1989\",\"type\":\"Selection\"},{\"attributes\":{},\"id\":\"1992\",\"type\":\"Selection\"},{\"attributes\":{\"source\":{\"id\":\"1919\"},\"text\":{\"field\":\"label\"},\"text_alpha\":{\"value\":0.5},\"text_color\":{\"field\":\"color\"},\"x\":{\"field\":\"x\"},\"x_offset\":{\"value\":5},\"y\":{\"field\":\"y\"},\"y_offset\":{\"value\":5}},\"id\":\"1920\",\"type\":\"LabelSet\"},{\"attributes\":{},\"id\":\"1993\",\"type\":\"UnionRenderers\"},{\"attributes\":{},\"id\":\"1890\",\"type\":\"LinearScale\"},{\"attributes\":{},\"id\":\"1904\",\"type\":\"ResetTool\"},{\"attributes\":{\"data\":{\"fill_color\":[\"red\",\"red\",\"red\",\"red\",\"red\",\"red\",\"red\",\"red\",\"red\",\"red\",\"red\",\"red\",\"red\",\"red\",\"red\",\"red\",\"red\",\"red\",\"red\",\"red\",\"red\",\"red\",\"red\",\"red\",\"red\",\"red\",\"red\",\"red\",\"red\",\"red\",\"red\",\"red\",\"red\",\"red\",\"red\",\"red\",\"red\",\"red\",\"red\",\"red\",\"red\",\"red\",\"red\",\"red\",\"red\",\"red\",\"red\",\"red\",\"red\",\"red\",\"red\",\"red\",\"red\",\"red\",\"red\",\"red\",\"red\",\"red\",\"red\",\"red\",\"red\",\"red\",\"red\",\"red\",\"red\",\"red\",\"red\",\"red\",\"red\",\"red\",\"red\",\"red\",\"red\",\"red\",\"red\",\"red\",\"red\",\"red\",\"blue\",\"blue\",\"blue\",\"blue\",\"blue\",\"blue\",\"blue\",\"blue\",\"blue\",\"blue\",\"blue\",\"blue\",\"blue\",\"blue\",\"blue\",\"blue\",\"blue\",\"blue\",\"grey\",\"grey\",\"grey\",\"grey\",\"grey\",\"grey\",\"grey\",\"grey\",\"grey\",\"grey\",\"grey\",\"grey\",\"grey\",\"grey\",\"grey\",\"grey\",\"grey\",\"grey\",\"grey\",\"grey\",\"grey\",\"grey\",\"grey\",\"grey\"],\"line_color\":[\"red\",\"red\",\"red\",\"red\",\"red\",\"red\",\"red\",\"red\",\"red\",\"red\",\"red\",\"red\",\"red\",\"red\",\"red\",\"red\",\"red\",\"red\",\"red\",\"red\",\"red\",\"red\",\"red\",\"red\",\"red\",\"red\",\"red\",\"red\",\"red\",\"red\",\"red\",\"red\",\"red\",\"red\",\"red\",\"red\",\"red\",\"red\",\"red\",\"red\",\"red\",\"red\",\"red\",\"red\",\"red\",\"red\",\"red\",\"red\",\"red\",\"red\",\"red\",\"red\",\"red\",\"red\",\"red\",\"red\",\"red\",\"red\",\"red\",\"red\",\"red\",\"red\",\"red\",\"red\",\"red\",\"red\",\"red\",\"red\",\"red\",\"red\",\"red\",\"red\",\"red\",\"red\",\"red\",\"red\",\"red\",\"red\",\"blue\",\"blue\",\"blue\",\"blue\",\"blue\",\"blue\",\"blue\",\"blue\",\"blue\",\"blue\",\"blue\",\"blue\",\"blue\",\"blue\",\"blue\",\"blue\",\"blue\",\"blue\",\"grey\",\"grey\",\"grey\",\"grey\",\"grey\",\"grey\",\"grey\",\"grey\",\"grey\",\"grey\",\"grey\",\"grey\",\"grey\",\"grey\",\"grey\",\"grey\",\"grey\",\"grey\",\"grey\",\"grey\",\"grey\",\"grey\",\"grey\",\"grey\"],\"x\":{\"__ndarray__\":\"6dhURKpQOsDnJa+hYS83wDMD/hTpejbAglWCvbVDNsA7u1t6PgYwQB2i+aC4UDXAbeWRlV+7BcA1VdS1SdoGQACc3EaCISjA+6uCBOSmEkDmKsU5fwodwCVRkWQb2iTAPknsG/QmL8Bu1oRI0hMswCnkmriV8THAV8Cv8XA0KsCoiWE8pEMWwCVIW2Xn8yPAeWR7H4CTIsA2yPgffTQpwPpVZm/df7Q/MRBtc8AEFsDTOzhIAjMZwERaXQY2qCLAHC/qbxs9AsDZz5XDuvqxP8SrjhAnvRXAo336Zp0BI8CA8x5L1cMGwNewR5g2FjHArKJqLXVaMcDrO6bzzYrnPwW54IBQ+dg/pDep3FGCIMDFI/2n8zMFwNlf8Wv7WijAF7wUj0WDE8AQduaXjq4FwO18aUO5VNY/oe+sbC3A3D9iBDL0NnAHQJwXWJs3vue/KyuVfeYMEMCJSLFKjXoHQH+Mp4cpcw1A6Nm4P3zv+D9OrzeiTCruP3iy60mb/PW/EkIT9s9U8j9Khd2HXCkSQIaEL5QKGBpAlRbE4rwU1j8MrP5fJ0EYQFeL0cLVNtw/73DskhlRFEBpqSdzJckBwJyf49VdbRFARsKjQhn1BUA7j0osOk0rwGu1XLJrTgzA8XUgG7YSBUAkr0fuQaoSQHcZQzAnlRdAGqjstw4AHUDWERWRTPvpvxeljw4SXvw/1FByFwbHw78CodyPApsaQAs3u99utRBAPWwJ/gJqDkBQkVE74MgBwK3x8x6tmBtAAUeQQYI2GUCXeQqhBlEMQIkQdfY4MB1AP0nsG/QmL8DyqTDI/dkAwNlf8Wv7WijAv6nz2Xh2J8BBpIwdWCU3wKin1OXAOh/A03Hvd01SM8BDjwxbcEEvwNWQGz1ozby/gwGSMDf9NsAbmtuGD5sawKInb/4TiglAsD6bLYqcJkAIVoEuLHjwP5SRU223ag1ACsKswYq2IsAB20RBN5kYwFN09tNTwQ1ARJp/NK5NDEAN/sn44vkdwARKUbzyNSvAKzQ7fMz2HEC3ciEfogM2QJoWY9Mh0BZAju8ade4FH0D9xgXCjxcWQDDxmzkdRyFACBlhTYE1LkAhkK548scKQB0B7lkqTxVA6OkM9FizKEBXo7Eepu1DQOSj4Qvv/ERA+mhw7qoKQECl0Vowi5tBQN1gGlqtXT1AGVjHMPdWGECv8XEY9Kg6QKICe1Mt+DZAUVjYnBfxL0AyJICQVbAUQGm8tQxUgzJAxTieg92uKEC93VgDPx4kQM+8XA6f9yJA\",\"dtype\":\"float64\",\"order\":\"little\",\"shape\":[120]},\"y\":{\"__ndarray__\":\"Qd68IX0PEcAO2MzDEdgRQEiGc+L1tDlAzvtFOv30MkBGMnIqGSEHwPuoxBCQ5zJA5on2zsXGIMD/yFLm1gLwP0NZs0dlSCdAxFAbHRr2M0AynzvaKfxAQNcLQJ+AejBAlperqHsLI0D3RJAdpCItwBlhaPvpEDPAFpQBxnVeJED9q1wZOzwZQAljWqY4zyLANp45Y03zF8C4lNk3XNMkwOX/DuhHvhRAPBKM1mbDL0D86xrrcZIUQGHMNPna7jHA1g+GvbjAEsCXh+A4MX4gwJhXkWvPqCnAJyBoXmIBIEAX7HGcZfIuwJ5PWueRVva/bJg4rTdpJEDNzAwKEg8lwLnq7FRrFSrAsTP2ZulPFkBIKszkYzYxwE9JV6rOgSPAnHZbF1lmMcCdgHjVYJkywG3+NE/d3hPARPSiReM4H8AD9i5ztI0KwKUSCjW+LSHAGfoO0SlGLcCosYfR0mgpwOuEzkBjufm/QRBUlG/oHsDMZJtyy1sawFchythj5CHABVQd6EMRIMCflCYZaKoEwII5xzOn4ADA9I0a2X7JH8DckNtLI44ZwGN/y4mXVirA3y7PZei8HMDGLW2IDa33v6WHYDC7KyXAJSk26v0jIcCZBYg91vLXP7qaPwVrnB7A6ITAlZn4FsBTWK33GegVwKaKD9VBuhzADlg3yP5SGcBGFUtjnFogwEwLCAVQABTACrrHW88+FMB2eZFr+icgwFXX57Z4nBLATETdTYw2EsC6EIr9wwUIwFwHQZEceBLAsdI6HrcwI8CCvhHCun0RwKGzCU/6YB7AlperqHsLI0Cg6ThYfHAgQE9JV6rOgSPAXGQ4dnpkAsDgMRC9BOAgQGaD7O8zuyhAHrDkaaoEN0CaqJnPIe0gQP5GAKKVhzNAfJHSaCS1M0AwTjw0L1c9QEGSMojpMSbAXuS4X5UWI8BQdg8uUocvwNj6sDfdYivAaqmhOL4mGkC8SqC+mjAcQEHF6INJ8ijAapYtXkhrMcDHFeFh35MowEEGFKjO9SLALABsEbj9HkDYB1UmZqoWQJnFrJZvCgdAk+mfHuP+9L8JioeYhykaQOvc8jC8DKg/abEPCxofF0C/djiuRlYwQH6DB0J/ySRAO7zCloMHJkCeolE/DqIkQI4PikhpHwlAR/DpThqeLEBJL1BNZkQWQEGiT3iCvy5AInkYuGeLJUCbukLWStgpQPXmFUEKQR1AdH6uktpGJ0DVTJHBaP0MQIaF8AIjpSFAdPyD9I6+KEAtBtb0xd3JP0Ry2Tf/zjBA\",\"dtype\":\"float64\",\"order\":\"little\",\"shape\":[120]}},\"selected\":{\"id\":\"1992\"},\"selection_policy\":{\"id\":\"1993\"}},\"id\":\"1914\",\"type\":\"ColumnDataSource\"},{\"attributes\":{},\"id\":\"1984\",\"type\":\"BasicTickFormatter\"},{\"attributes\":{},\"id\":\"1884\",\"type\":\"DataRange1d\"},{\"attributes\":{},\"id\":\"1988\",\"type\":\"AllLabels\"},{\"attributes\":{\"active_multi\":null,\"tools\":[{\"id\":\"1900\"},{\"id\":\"1901\"},{\"id\":\"1902\"},{\"id\":\"1903\"},{\"id\":\"1904\"},{\"id\":\"1905\"}]},\"id\":\"1907\",\"type\":\"Toolbar\"},{\"attributes\":{\"formatter\":{\"id\":\"1984\"},\"major_label_policy\":{\"id\":\"1985\"},\"ticker\":{\"id\":\"1897\"}},\"id\":\"1896\",\"type\":\"LinearAxis\"},{\"attributes\":{\"data_source\":{\"id\":\"1914\"},\"glyph\":{\"id\":\"1915\"},\"hover_glyph\":null,\"muted_glyph\":null,\"nonselection_glyph\":{\"id\":\"1916\"},\"view\":{\"id\":\"1918\"}},\"id\":\"1917\",\"type\":\"GlyphRenderer\"},{\"attributes\":{\"formatter\":{\"id\":\"1987\"},\"major_label_policy\":{\"id\":\"1988\"},\"ticker\":{\"id\":\"1893\"}},\"id\":\"1892\",\"type\":\"LinearAxis\"},{\"attributes\":{},\"id\":\"1905\",\"type\":\"HelpTool\"},{\"attributes\":{},\"id\":\"1886\",\"type\":\"DataRange1d\"},{\"attributes\":{\"fill_alpha\":{\"value\":0.2},\"fill_color\":{\"field\":\"fill_color\"},\"line_color\":{\"field\":\"line_color\"},\"size\":{\"value\":10},\"x\":{\"field\":\"x\"},\"y\":{\"field\":\"y\"}},\"id\":\"1915\",\"type\":\"Circle\"},{\"attributes\":{},\"id\":\"1888\",\"type\":\"LinearScale\"},{\"attributes\":{},\"id\":\"1893\",\"type\":\"BasicTicker\"},{\"attributes\":{},\"id\":\"1897\",\"type\":\"BasicTicker\"},{\"attributes\":{\"bottom_units\":\"screen\",\"fill_alpha\":0.5,\"fill_color\":\"lightgrey\",\"left_units\":\"screen\",\"level\":\"overlay\",\"line_alpha\":1.0,\"line_color\":\"black\",\"line_dash\":[4,4],\"line_width\":2,\"right_units\":\"screen\",\"syncable\":false,\"top_units\":\"screen\"},\"id\":\"1906\",\"type\":\"BoxAnnotation\"},{\"attributes\":{\"data\":{\"color\":[\"red\",\"red\",\"red\",\"red\",\"red\",\"red\",\"red\",\"red\",\"red\",\"red\",\"red\",\"red\",\"red\",\"red\",\"red\",\"red\",\"red\",\"red\",\"red\",\"red\",\"red\",\"red\",\"red\",\"red\",\"red\",\"red\",\"red\",\"red\",\"red\",\"red\",\"red\",\"red\",\"red\",\"red\",\"red\",\"red\",\"red\",\"red\",\"red\",\"red\",\"red\",\"red\",\"red\",\"red\",\"red\",\"red\",\"red\",\"red\",\"red\",\"red\",\"red\",\"red\",\"red\",\"red\",\"red\",\"red\",\"red\",\"red\",\"red\",\"red\",\"red\",\"red\",\"red\",\"red\",\"red\",\"red\",\"red\",\"red\",\"red\",\"red\",\"red\",\"red\",\"red\",\"red\",\"red\",\"red\",\"red\",\"red\",\"blue\",\"blue\",\"blue\",\"blue\",\"blue\",\"blue\",\"blue\",\"blue\",\"blue\",\"blue\",\"blue\",\"blue\",\"blue\",\"blue\",\"blue\",\"blue\",\"blue\",\"blue\",\"grey\",\"grey\",\"grey\",\"grey\",\"grey\",\"grey\",\"grey\",\"grey\",\"grey\",\"grey\",\"grey\",\"grey\",\"grey\",\"grey\",\"grey\",\"grey\",\"grey\",\"grey\",\"grey\",\"grey\",\"grey\",\"grey\",\"grey\",\"grey\"],\"index\":[0,1,2,3,4,5,6,7,8,9,10,11,12,13,14,15,16,17,18,19,20,21,22,23,24,25,26,27,28,29,30,31,32,33,34,35,36,37,38,39,40,41,42,43,44,45,46,47,48,49,50,51,52,53,54,55,56,57,58,59,60,61,62,63,64,65,66,67,68,69,70,71,72,73,74,75,76,77,78,79,80,81,82,83,84,85,86,87,88,89,90,91,92,93,94,95,96,97,98,99,100,101,102,103,104,105,106,107,108,109,110,111,112,113,114,115,116,117,118,119],\"label\":[\"\\u5979\",\"\\u59b3\",\"\\u5973\\u751f\",\"\\u5973\\u5b69\",\"\\u5973\\u58eb\",\"\\u5973\\u4eba\",\"\\u5a66\\u4eba\",\"\\u5a66\",\"\\u5973\",\"\\u5a66\\u5973\",\"\\u5973\\u6027\",\"\\u5973\\u5b69\\u5b50\",\"\\u5979\\u5011\",\"\\u5abd\\u5abd\",\"\\u5973\\u5152\",\"\\u5973\\u5b50\",\"\\u4eba\\u59bb\",\"\\u59ca\\u59ca\",\"\\u59d0\\u59d0\",\"\\u59b9\\u59b9\",\"\\u5c11\\u5a66\",\"\\u719f\\u5973\",\"\\u5c0f\\u5973\\u5b69\",\"\\u6bcd\\u89aa\",\"\\u8868\\u59b9\",\"\\u59ea\\u5973\",\"\\u5a46\\u5a46\",\"\\u95a8\\u871c\",\"\\u5b6b\\u5973\",\"\\u5973\\u53cb\",\"\\u5c11\\u5973\",\"\\u963f\\u59e8\",\"\\u59d1\\u59d1\",\"\\u95a8\\u5bc6\",\"\\u5976\\u5976\",\"\\u8001\\u5a46\",\"\\u963f\\u5b24\",\"\\u5916\\u5a46\",\"\\u5802\\u59b9\",\"\\u5927\\u5ac2\",\"\\u5916\\u7525\\u5973\",\"\\u5ab3\\u5a66\",\"\\u59bb\\u5b50\",\"\\u592a\\u592a\",\"\\u8868\\u59ca\",\"\\u5ac2\\u5ac2\",\"\\u5927\\u5973\\u5152\",\"\\u5c0f\\u59d1\",\"\\u8001\\u5abd\",\"\\u8868\\u59d0\",\"\\u5802\\u59d0\",\"\\u5f1f\\u59b9\",\"\\u5f1f\\u5ab3\",\"\\u7956\\u6bcd\",\"\\u8205\\u5abd\",\"\\u7e7c\\u5973\",\"\\u5cb3\\u6bcd\",\"\\u4e7e\\u5abd\",\"\\u5973\\u65b9\",\"\\u611b\\u5973\",\"\\u990a\\u6bcd\",\"\\u5927\\u59ca\",\"\\u5152\\u5ab3\",\"\\u5927\\u59d1\",\"\\u524d\\u59bb\",\"\\u5ac2\\u5b50\",\"\\u7e7c\\u6bcd\",\"\\u5b38\\u5b38\",\"\\u9577\\u5973\",\"\\u4e48\\u5973\",\"\\u738b\\u5973\",\"\\u4f84\\u5973\",\"\\u4f2f\\u6bcd\",\"\\u5927\\u59b9\",\"\\u5916\\u5b6b\\u5973\",\"\\u5979\\u5011\",\"\\u59b3\\u5011\",\"\\u8001\\u5a46\",\"\\u4ed6\",\"\\u4f60\",\"\\u7537\",\"\\u7537\\u751f\",\"\\u7537\\u5b69\",\"\\u7537\\u58eb\",\"\\u7537\\u4eba\",\"\\u7537\\u6027\",\"\\u53d4\\u53d4\",\"\\u4f2f\\u4f2f\",\"\\u963f\\u516c\",\"\\u5916\\u516c\",\"\\u4ed6\\u5011\",\"\\u4f60\\u5011\",\"\\u8205\\u8205\",\"\\u723a\\u723a\",\"\\u4e08\\u592b\",\"\\u8001\\u516c\",\"\\u8b66\\u5bdf\",\"\\u7e3d\\u7d71\",\"\\u8001\\u5e2b\",\"\\u4fdd\\u6bcd\",\"\\u8b77\\u58eb\",\"\\u8001\\u95c6\",\"\\u52a9\\u624b\",\"\\u6b4c\\u624b\",\"\\u4e3b\\u5531\",\"\\u88fd\\u4f5c\\u4eba\",\"\\u7e3d\\u7d93\\u7406\",\"\\u8463\\u4e8b\\u9577\",\"\\u7d93\\u7406\",\"\\u9662\\u9577\",\"\\u7406\\u4e8b\",\"\\u670d\\u52d9\\u751f\",\"\\u79d8\\u66f8\",\"\\u7279\\u52a9\",\"\\u91ab\\u5e2b\",\"\\u91ab\\u751f\",\"\\u9818\\u73ed\",\"\\u5916\\u52de\",\"\\u770b\\u8b77\",\"\\u79fb\\u5de5\"],\"x\":{\"__ndarray__\":\"6dhURKpQOsDnJa+hYS83wDMD/hTpejbAglWCvbVDNsA7u1t6PgYwQB2i+aC4UDXAbeWRlV+7BcA1VdS1SdoGQACc3EaCISjA+6uCBOSmEkDmKsU5fwodwCVRkWQb2iTAPknsG/QmL8Bu1oRI0hMswCnkmriV8THAV8Cv8XA0KsCoiWE8pEMWwCVIW2Xn8yPAeWR7H4CTIsA2yPgffTQpwPpVZm/df7Q/MRBtc8AEFsDTOzhIAjMZwERaXQY2qCLAHC/qbxs9AsDZz5XDuvqxP8SrjhAnvRXAo336Zp0BI8CA8x5L1cMGwNewR5g2FjHArKJqLXVaMcDrO6bzzYrnPwW54IBQ+dg/pDep3FGCIMDFI/2n8zMFwNlf8Wv7WijAF7wUj0WDE8AQduaXjq4FwO18aUO5VNY/oe+sbC3A3D9iBDL0NnAHQJwXWJs3vue/KyuVfeYMEMCJSLFKjXoHQH+Mp4cpcw1A6Nm4P3zv+D9OrzeiTCruP3iy60mb/PW/EkIT9s9U8j9Khd2HXCkSQIaEL5QKGBpAlRbE4rwU1j8MrP5fJ0EYQFeL0cLVNtw/73DskhlRFEBpqSdzJckBwJyf49VdbRFARsKjQhn1BUA7j0osOk0rwGu1XLJrTgzA8XUgG7YSBUAkr0fuQaoSQHcZQzAnlRdAGqjstw4AHUDWERWRTPvpvxeljw4SXvw/1FByFwbHw78CodyPApsaQAs3u99utRBAPWwJ/gJqDkBQkVE74MgBwK3x8x6tmBtAAUeQQYI2GUCXeQqhBlEMQIkQdfY4MB1AP0nsG/QmL8DyqTDI/dkAwNlf8Wv7WijAv6nz2Xh2J8BBpIwdWCU3wKin1OXAOh/A03Hvd01SM8BDjwxbcEEvwNWQGz1ozby/gwGSMDf9NsAbmtuGD5sawKInb/4TiglAsD6bLYqcJkAIVoEuLHjwP5SRU223ag1ACsKswYq2IsAB20RBN5kYwFN09tNTwQ1ARJp/NK5NDEAN/sn44vkdwARKUbzyNSvAKzQ7fMz2HEC3ciEfogM2QJoWY9Mh0BZAju8ade4FH0D9xgXCjxcWQDDxmzkdRyFACBlhTYE1LkAhkK548scKQB0B7lkqTxVA6OkM9FizKEBXo7Eepu1DQOSj4Qvv/ERA+mhw7qoKQECl0Vowi5tBQN1gGlqtXT1AGVjHMPdWGECv8XEY9Kg6QKICe1Mt+DZAUVjYnBfxL0AyJICQVbAUQGm8tQxUgzJAxTieg92uKEC93VgDPx4kQM+8XA6f9yJA\",\"dtype\":\"float64\",\"order\":\"little\",\"shape\":[120]},\"y\":{\"__ndarray__\":\"Qd68IX0PEcAO2MzDEdgRQEiGc+L1tDlAzvtFOv30MkBGMnIqGSEHwPuoxBCQ5zJA5on2zsXGIMD/yFLm1gLwP0NZs0dlSCdAxFAbHRr2M0AynzvaKfxAQNcLQJ+AejBAlperqHsLI0D3RJAdpCItwBlhaPvpEDPAFpQBxnVeJED9q1wZOzwZQAljWqY4zyLANp45Y03zF8C4lNk3XNMkwOX/DuhHvhRAPBKM1mbDL0D86xrrcZIUQGHMNPna7jHA1g+GvbjAEsCXh+A4MX4gwJhXkWvPqCnAJyBoXmIBIEAX7HGcZfIuwJ5PWueRVva/bJg4rTdpJEDNzAwKEg8lwLnq7FRrFSrAsTP2ZulPFkBIKszkYzYxwE9JV6rOgSPAnHZbF1lmMcCdgHjVYJkywG3+NE/d3hPARPSiReM4H8AD9i5ztI0KwKUSCjW+LSHAGfoO0SlGLcCosYfR0mgpwOuEzkBjufm/QRBUlG/oHsDMZJtyy1sawFchythj5CHABVQd6EMRIMCflCYZaKoEwII5xzOn4ADA9I0a2X7JH8DckNtLI44ZwGN/y4mXVirA3y7PZei8HMDGLW2IDa33v6WHYDC7KyXAJSk26v0jIcCZBYg91vLXP7qaPwVrnB7A6ITAlZn4FsBTWK33GegVwKaKD9VBuhzADlg3yP5SGcBGFUtjnFogwEwLCAVQABTACrrHW88+FMB2eZFr+icgwFXX57Z4nBLATETdTYw2EsC6EIr9wwUIwFwHQZEceBLAsdI6HrcwI8CCvhHCun0RwKGzCU/6YB7AlperqHsLI0Cg6ThYfHAgQE9JV6rOgSPAXGQ4dnpkAsDgMRC9BOAgQGaD7O8zuyhAHrDkaaoEN0CaqJnPIe0gQP5GAKKVhzNAfJHSaCS1M0AwTjw0L1c9QEGSMojpMSbAXuS4X5UWI8BQdg8uUocvwNj6sDfdYivAaqmhOL4mGkC8SqC+mjAcQEHF6INJ8ijAapYtXkhrMcDHFeFh35MowEEGFKjO9SLALABsEbj9HkDYB1UmZqoWQJnFrJZvCgdAk+mfHuP+9L8JioeYhykaQOvc8jC8DKg/abEPCxofF0C/djiuRlYwQH6DB0J/ySRAO7zCloMHJkCeolE/DqIkQI4PikhpHwlAR/DpThqeLEBJL1BNZkQWQEGiT3iCvy5AInkYuGeLJUCbukLWStgpQPXmFUEKQR1AdH6uktpGJ0DVTJHBaP0MQIaF8AIjpSFAdPyD9I6+KEAtBtb0xd3JP0Ry2Tf/zjBA\",\"dtype\":\"float64\",\"order\":\"little\",\"shape\":[120]}},\"selected\":{\"id\":\"1989\"},\"selection_policy\":{\"id\":\"1990\"}},\"id\":\"1919\",\"type\":\"ColumnDataSource\"},{\"attributes\":{\"axis\":{\"id\":\"1892\"},\"ticker\":null},\"id\":\"1895\",\"type\":\"Grid\"}],\"root_ids\":[\"1881\"]},\"title\":\"Bokeh Application\",\"version\":\"2.3.1\"}};\n",
       "  var render_items = [{\"docid\":\"ade42a8e-03e2-4f62-b74b-007753a1a825\",\"root_ids\":[\"1881\"],\"roots\":{\"1881\":\"e4d2696e-b9c7-4717-a53c-8a36c2b61a7a\"}}];\n",
       "  root.Bokeh.embed.embed_items_notebook(docs_json, render_items);\n",
       "\n",
       "  }\n",
       "  if (root.Bokeh !== undefined) {\n",
       "    embed_document(root);\n",
       "  } else {\n",
       "    var attempts = 0;\n",
       "    var timer = setInterval(function(root) {\n",
       "      if (root.Bokeh !== undefined) {\n",
       "        clearInterval(timer);\n",
       "        embed_document(root);\n",
       "      } else {\n",
       "        attempts++;\n",
       "        if (attempts > 100) {\n",
       "          clearInterval(timer);\n",
       "          console.log(\"Bokeh: ERROR: Unable to run BokehJS code because BokehJS library is missing\");\n",
       "        }\n",
       "      }\n",
       "    }, 10, root)\n",
       "  }\n",
       "})(window);"
      ],
      "application/vnd.bokehjs_exec.v0+json": ""
     },
     "metadata": {
      "application/vnd.bokehjs_exec.v0+json": {
       "id": "1881"
      },
      "tags": []
     },
     "output_type": "display_data"
    }
   ],
   "source": []
  },
  {
   "cell_type": "markdown",
   "metadata": {
    "id": "ccad0de5"
   },
   "source": [
    "# Visualization with t-SNE"
   ]
  },
  {
   "cell_type": "markdown",
   "metadata": {
    "id": "ecc0f6ad"
   },
   "source": [
    "## Dimension reduction by t-SNE"
   ]
  },
  {
   "cell_type": "code",
   "execution_count": null,
   "metadata": {
    "id": "46cd0b64"
   },
   "outputs": [],
   "source": []
  },
  {
   "cell_type": "markdown",
   "metadata": {
    "id": "ce37e803"
   },
   "source": [
    "## Visualization"
   ]
  },
  {
   "cell_type": "code",
   "execution_count": null,
   "metadata": {
    "id": "ee0e44ec"
   },
   "outputs": [],
   "source": []
  }
 ],
 "metadata": {
  "colab": {
   "collapsed_sections": [],
   "name": "AS08p_gender_embeddings.ipynb",
   "provenance": [],
   "toc_visible": true
  },
  "kernelspec": {
   "display_name": "Python 3",
   "language": "python",
   "name": "python3"
  },
  "language_info": {
   "codemirror_mode": {
    "name": "ipython",
    "version": 3
   },
   "file_extension": ".py",
   "mimetype": "text/x-python",
   "name": "python",
   "nbconvert_exporter": "python",
   "pygments_lexer": "ipython3",
   "version": "3.8.3"
  },
  "toc-autonumbering": false,
  "toc-showmarkdowntxt": true
 },
 "nbformat": 4,
 "nbformat_minor": 5
}
