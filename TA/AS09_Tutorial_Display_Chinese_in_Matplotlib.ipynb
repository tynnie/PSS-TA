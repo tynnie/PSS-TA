{
  "nbformat": 4,
  "nbformat_minor": 5,
  "metadata": {
    "kernelspec": {
      "display_name": "Python 3",
      "language": "python",
      "name": "python3"
    },
    "language_info": {
      "codemirror_mode": {
        "name": "ipython",
        "version": 3
      },
      "file_extension": ".py",
      "mimetype": "text/x-python",
      "name": "python",
      "nbconvert_exporter": "python",
      "pygments_lexer": "ipython3",
      "version": "3.7.6"
    },
    "colab": {
      "name": "AS09 Tutorial: Display Chinese in Matplotlib",
      "provenance": [],
      "collapsed_sections": [],
      "toc_visible": true
    }
  },
  "cells": [
    {
      "cell_type": "markdown",
      "metadata": {
        "id": "EHf8KQ1tmkCg"
      },
      "source": [
        "# AS09 Tutorial: Display Chinese in Matplotlib (in Colab)\n",
        "\n",
        "!!! This is not the answer of AS09, please modify it according to your needs !!!\n",
        "\n",
        "Reference:\n",
        "\n",
        "- [Using external fonts in Google Colaboratory ](https://buomsoo-kim.github.io/colab/2018/04/27/Using-External-fonts-in-colab.md/)\n",
        "\n",
        "- [Custom fonts in Google Colaboratory matplotlib charts - Stack Overflow](https://stackoverflow.com/questions/51810908/custom-fonts-in-google-colaboratory-matplotlib-charts)"
      ],
      "id": "EHf8KQ1tmkCg"
    },
    {
      "cell_type": "markdown",
      "metadata": {
        "id": "a7ce5de5"
      },
      "source": [
        "## Get sample data"
      ],
      "id": "a7ce5de5"
    },
    {
      "cell_type": "code",
      "metadata": {
        "colab": {
          "base_uri": "https://localhost:8080/"
        },
        "id": "JUs2nGyDeRrF",
        "outputId": "5159bbab-b736-42d0-f3d7-f84aeec9ab59"
      },
      "source": [
        "!wget https://github.com/P4CSS/PSS/blob/master/data/yt-comment-antiELAB.xlsx?raw=true -O yt-comment-antiELAB.xlsx\n",
        "!wget https://raw.githubusercontent.com/P4CSS/PSS/master/data/stopwords_zh-tw.txt -O stopwords_zh-tw.txt"
      ],
      "id": "JUs2nGyDeRrF",
      "execution_count": 1,
      "outputs": [
        {
          "output_type": "stream",
          "text": [
            "--2021-05-30 09:55:01--  https://github.com/P4CSS/PSS/blob/master/data/yt-comment-antiELAB.xlsx?raw=true\n",
            "Resolving github.com (github.com)... 140.82.112.4\n",
            "Connecting to github.com (github.com)|140.82.112.4|:443... connected.\n",
            "HTTP request sent, awaiting response... 302 Found\n",
            "Location: https://github.com/P4CSS/PSS/raw/master/data/yt-comment-antiELAB.xlsx [following]\n",
            "--2021-05-30 09:55:01--  https://github.com/P4CSS/PSS/raw/master/data/yt-comment-antiELAB.xlsx\n",
            "Reusing existing connection to github.com:443.\n",
            "HTTP request sent, awaiting response... 302 Found\n",
            "Location: https://raw.githubusercontent.com/P4CSS/PSS/master/data/yt-comment-antiELAB.xlsx [following]\n",
            "--2021-05-30 09:55:01--  https://raw.githubusercontent.com/P4CSS/PSS/master/data/yt-comment-antiELAB.xlsx\n",
            "Resolving raw.githubusercontent.com (raw.githubusercontent.com)... 185.199.108.133, 185.199.109.133, 185.199.110.133, ...\n",
            "Connecting to raw.githubusercontent.com (raw.githubusercontent.com)|185.199.108.133|:443... connected.\n",
            "HTTP request sent, awaiting response... 200 OK\n",
            "Length: 644405 (629K) [application/octet-stream]\n",
            "Saving to: ‘yt-comment-antiELAB.xlsx’\n",
            "\n",
            "yt-comment-antiELAB 100%[===================>] 629.30K  --.-KB/s    in 0.04s   \n",
            "\n",
            "2021-05-30 09:55:02 (14.1 MB/s) - ‘yt-comment-antiELAB.xlsx’ saved [644405/644405]\n",
            "\n",
            "--2021-05-30 09:55:02--  https://raw.githubusercontent.com/P4CSS/PSS/master/data/stopwords_zh-tw.txt\n",
            "Resolving raw.githubusercontent.com (raw.githubusercontent.com)... 185.199.111.133, 185.199.109.133, 185.199.108.133, ...\n",
            "Connecting to raw.githubusercontent.com (raw.githubusercontent.com)|185.199.111.133|:443... connected.\n",
            "HTTP request sent, awaiting response... 200 OK\n",
            "Length: 8125 (7.9K) [text/plain]\n",
            "Saving to: ‘stopwords_zh-tw.txt’\n",
            "\n",
            "stopwords_zh-tw.txt 100%[===================>]   7.93K  --.-KB/s    in 0s      \n",
            "\n",
            "2021-05-30 09:55:02 (58.0 MB/s) - ‘stopwords_zh-tw.txt’ saved [8125/8125]\n",
            "\n"
          ],
          "name": "stdout"
        }
      ]
    },
    {
      "cell_type": "code",
      "metadata": {
        "id": "jNjx8iXjn5LH"
      },
      "source": [
        "import unicodedata # for removing Chinese puctuation\n",
        "\n",
        "def remove_stopWords(words):\n",
        "    out = []\n",
        "    for word in words:\n",
        "        if word not in stopwords:\n",
        "            out.append(word)\n",
        "    return out\n",
        "\n",
        "\n",
        "def remove_punc_by_unicode(words):\n",
        "    out = []\n",
        "    for word in words:\n",
        "        if word != \" \" and not unicodedata.category(word[0]).startswith('P'):\n",
        "            out.append(word)\n",
        "    return out"
      ],
      "id": "jNjx8iXjn5LH",
      "execution_count": 2,
      "outputs": []
    },
    {
      "cell_type": "code",
      "metadata": {
        "colab": {
          "base_uri": "https://localhost:8080/",
          "height": 425
        },
        "id": "AnlFhsdrnx-N",
        "outputId": "b232a334-235c-4bde-a4ef-786cc7c7996b"
      },
      "source": [
        "import pandas as pd\n",
        "import jieba\n",
        "\n",
        "with open(\"stopwords_zh-tw.txt\", encoding=\"utf-8\") as fin:\n",
        "    stopwords = fin.read().split(\"\\n\")[1:]\n",
        "    stopwords += [\"\\n\"]\n",
        "\n",
        "df = pd.read_excel('yt-comment-antiELAB.xlsx') \n",
        "df['token_text'] = df['textOriginal'].apply(lambda x:list(jieba.cut(x)))\n",
        "df['cleaned'] = df['token_text'].apply(remove_stopWords)\n",
        "df['cleaned'] = df['cleaned'].apply(remove_punc_by_unicode)\n",
        "\n",
        "df.head(5)"
      ],
      "id": "AnlFhsdrnx-N",
      "execution_count": 3,
      "outputs": [
        {
          "output_type": "stream",
          "text": [
            "Building prefix dict from the default dictionary ...\n",
            "Dumping model to file cache /tmp/jieba.cache\n",
            "Loading model cost 1.025 seconds.\n",
            "Prefix dict has been built successfully.\n"
          ],
          "name": "stderr"
        },
        {
          "output_type": "execute_result",
          "data": {
            "text/html": [
              "<div>\n",
              "<style scoped>\n",
              "    .dataframe tbody tr th:only-of-type {\n",
              "        vertical-align: middle;\n",
              "    }\n",
              "\n",
              "    .dataframe tbody tr th {\n",
              "        vertical-align: top;\n",
              "    }\n",
              "\n",
              "    .dataframe thead th {\n",
              "        text-align: right;\n",
              "    }\n",
              "</style>\n",
              "<table border=\"1\" class=\"dataframe\">\n",
              "  <thead>\n",
              "    <tr style=\"text-align: right;\">\n",
              "      <th></th>\n",
              "      <th>videoId</th>\n",
              "      <th>commentId</th>\n",
              "      <th>parentId</th>\n",
              "      <th>authorDisplayName</th>\n",
              "      <th>textOriginal</th>\n",
              "      <th>likeCount</th>\n",
              "      <th>publishedAt</th>\n",
              "      <th>updatedAt</th>\n",
              "      <th>token_text</th>\n",
              "      <th>cleaned</th>\n",
              "    </tr>\n",
              "  </thead>\n",
              "  <tbody>\n",
              "    <tr>\n",
              "      <th>0</th>\n",
              "      <td>2_tXjqhbe5E</td>\n",
              "      <td>UgwQIF9qNqGydjE2NkN4AaABAg</td>\n",
              "      <td>NaN</td>\n",
              "      <td>CHI-HAU CHEN</td>\n",
              "      <td>鄭大哥和吉雷米的互動很可愛，歡迎加入台灣這個溫馨的家庭喔~~~~</td>\n",
              "      <td>19</td>\n",
              "      <td>2020-04-02T01:40:29Z</td>\n",
              "      <td>2020-04-02T01:40:29Z</td>\n",
              "      <td>[鄭, 大哥, 和, 吉雷米, 的, 互動, 很, 可, 愛, ，, 歡迎, 加入, 台灣,...</td>\n",
              "      <td>[鄭, 大哥, 吉雷米, 互動, 愛, 歡迎, 加入, 台灣, 溫馨, 家庭, 喔]</td>\n",
              "    </tr>\n",
              "    <tr>\n",
              "      <th>1</th>\n",
              "      <td>2_tXjqhbe5E</td>\n",
              "      <td>UgwuP0Jva-U69xTMaEF4AaABAg</td>\n",
              "      <td>NaN</td>\n",
              "      <td>Funky Duck</td>\n",
              "      <td>牛嘴掩.....\\n這高雄老外的台語能力應該比台北人好</td>\n",
              "      <td>1</td>\n",
              "      <td>2020-04-07T04:36:37Z</td>\n",
              "      <td>2020-04-07T04:36:37Z</td>\n",
              "      <td>[牛嘴, 掩, ....., \\n, 這高雄, 老外, 的, 台語, 能力, 應該, 比, ...</td>\n",
              "      <td>[牛嘴, 掩, 這高雄, 老外, 台語, 能力, 應該, 台北人, 好]</td>\n",
              "    </tr>\n",
              "    <tr>\n",
              "      <th>2</th>\n",
              "      <td>2_tXjqhbe5E</td>\n",
              "      <td>UgyVlhx36V2XWLOM9MZ4AaABAg</td>\n",
              "      <td>NaN</td>\n",
              "      <td>Ally</td>\n",
              "      <td>Zoom把客戶資料洩給中國，現在紐約市已不讓學生用這系統視訊上課了!</td>\n",
              "      <td>0</td>\n",
              "      <td>2020-04-06T19:54:04Z</td>\n",
              "      <td>2020-04-06T19:54:04Z</td>\n",
              "      <td>[Zoom, 把, 客戶, 資料, 洩給, 中國, ，, 現在, 紐約市, 已, 不, 讓,...</td>\n",
              "      <td>[Zoom, 客戶, 資料, 洩給, 中國, 現在, 紐約市, 已, 學生用, 這系, 統視...</td>\n",
              "    </tr>\n",
              "    <tr>\n",
              "      <th>3</th>\n",
              "      <td>2_tXjqhbe5E</td>\n",
              "      <td>Ugz4v7OudQxaDXYyegZ4AaABAg</td>\n",
              "      <td>NaN</td>\n",
              "      <td>Ally</td>\n",
              "      <td>法國人執行居家避疫比起美國比較確實，外出還要有通行證</td>\n",
              "      <td>0</td>\n",
              "      <td>2020-04-06T19:18:24Z</td>\n",
              "      <td>2020-04-06T19:18:24Z</td>\n",
              "      <td>[法國人, 執行, 居家, 避疫, 比起, 美國, 比較, 確實, ，, 外出, 還要, 有...</td>\n",
              "      <td>[法國人, 執行, 居家, 避疫, 美國, 比較, 確實, 外出, 還要, 通行, 證]</td>\n",
              "    </tr>\n",
              "    <tr>\n",
              "      <th>4</th>\n",
              "      <td>2_tXjqhbe5E</td>\n",
              "      <td>Ugyb-ogACbZWVewnU-94AaABAg</td>\n",
              "      <td>NaN</td>\n",
              "      <td>Kitty Wong</td>\n",
              "      <td>仆街鄭</td>\n",
              "      <td>0</td>\n",
              "      <td>2020-04-06T15:20:34Z</td>\n",
              "      <td>2020-04-06T15:20:34Z</td>\n",
              "      <td>[仆街, 鄭]</td>\n",
              "      <td>[仆街, 鄭]</td>\n",
              "    </tr>\n",
              "  </tbody>\n",
              "</table>\n",
              "</div>"
            ],
            "text/plain": [
              "       videoId  ...                                            cleaned\n",
              "0  2_tXjqhbe5E  ...         [鄭, 大哥, 吉雷米, 互動, 愛, 歡迎, 加入, 台灣, 溫馨, 家庭, 喔]\n",
              "1  2_tXjqhbe5E  ...               [牛嘴, 掩, 這高雄, 老外, 台語, 能力, 應該, 台北人, 好]\n",
              "2  2_tXjqhbe5E  ...  [Zoom, 客戶, 資料, 洩給, 中國, 現在, 紐約市, 已, 學生用, 這系, 統視...\n",
              "3  2_tXjqhbe5E  ...       [法國人, 執行, 居家, 避疫, 美國, 比較, 確實, 外出, 還要, 通行, 證]\n",
              "4  2_tXjqhbe5E  ...                                            [仆街, 鄭]\n",
              "\n",
              "[5 rows x 10 columns]"
            ]
          },
          "metadata": {
            "tags": []
          },
          "execution_count": 3
        }
      ]
    },
    {
      "cell_type": "code",
      "metadata": {
        "colab": {
          "base_uri": "https://localhost:8080/",
          "height": 514
        },
        "id": "B83NZP3tpqpH",
        "outputId": "b161878e-a936-4a1b-c276-2780bc673150"
      },
      "source": [
        "from collections import Counter\n",
        "\n",
        "cdict = Counter()\n",
        "\n",
        "for tokens in df['cleaned']:\n",
        "    for tok in tokens:\n",
        "        cdict[tok] += 1\n",
        "\n",
        "df_tmp = pd.DataFrame(list(cdict.most_common(15)), columns = ['word', 'n'])\n",
        "df_tmp"
      ],
      "id": "B83NZP3tpqpH",
      "execution_count": 4,
      "outputs": [
        {
          "output_type": "execute_result",
          "data": {
            "text/html": [
              "<div>\n",
              "<style scoped>\n",
              "    .dataframe tbody tr th:only-of-type {\n",
              "        vertical-align: middle;\n",
              "    }\n",
              "\n",
              "    .dataframe tbody tr th {\n",
              "        vertical-align: top;\n",
              "    }\n",
              "\n",
              "    .dataframe thead th {\n",
              "        text-align: right;\n",
              "    }\n",
              "</style>\n",
              "<table border=\"1\" class=\"dataframe\">\n",
              "  <thead>\n",
              "    <tr style=\"text-align: right;\">\n",
              "      <th></th>\n",
              "      <th>word</th>\n",
              "      <th>n</th>\n",
              "    </tr>\n",
              "  </thead>\n",
              "  <tbody>\n",
              "    <tr>\n",
              "      <th>0</th>\n",
              "      <td>人</td>\n",
              "      <td>2161</td>\n",
              "    </tr>\n",
              "    <tr>\n",
              "      <th>1</th>\n",
              "      <td>香港</td>\n",
              "      <td>1847</td>\n",
              "    </tr>\n",
              "    <tr>\n",
              "      <th>2</th>\n",
              "      <td>說</td>\n",
              "      <td>841</td>\n",
              "    </tr>\n",
              "    <tr>\n",
              "      <th>3</th>\n",
              "      <td>好</td>\n",
              "      <td>820</td>\n",
              "    </tr>\n",
              "    <tr>\n",
              "      <th>4</th>\n",
              "      <td>台灣</td>\n",
              "      <td>807</td>\n",
              "    </tr>\n",
              "    <tr>\n",
              "      <th>5</th>\n",
              "      <td>真的</td>\n",
              "      <td>507</td>\n",
              "    </tr>\n",
              "    <tr>\n",
              "      <th>6</th>\n",
              "      <td>知道</td>\n",
              "      <td>501</td>\n",
              "    </tr>\n",
              "    <tr>\n",
              "      <th>7</th>\n",
              "      <td>做</td>\n",
              "      <td>424</td>\n",
              "    </tr>\n",
              "    <tr>\n",
              "      <th>8</th>\n",
              "      <td>台湾</td>\n",
              "      <td>420</td>\n",
              "    </tr>\n",
              "    <tr>\n",
              "      <th>9</th>\n",
              "      <td>说</td>\n",
              "      <td>358</td>\n",
              "    </tr>\n",
              "    <tr>\n",
              "      <th>10</th>\n",
              "      <td>錢</td>\n",
              "      <td>325</td>\n",
              "    </tr>\n",
              "    <tr>\n",
              "      <th>11</th>\n",
              "      <td>你们</td>\n",
              "      <td>325</td>\n",
              "    </tr>\n",
              "    <tr>\n",
              "      <th>12</th>\n",
              "      <td>一個</td>\n",
              "      <td>316</td>\n",
              "    </tr>\n",
              "    <tr>\n",
              "      <th>13</th>\n",
              "      <td>⋯</td>\n",
              "      <td>312</td>\n",
              "    </tr>\n",
              "    <tr>\n",
              "      <th>14</th>\n",
              "      <td>吗</td>\n",
              "      <td>306</td>\n",
              "    </tr>\n",
              "  </tbody>\n",
              "</table>\n",
              "</div>"
            ],
            "text/plain": [
              "   word     n\n",
              "0     人  2161\n",
              "1    香港  1847\n",
              "2     說   841\n",
              "3     好   820\n",
              "4    台灣   807\n",
              "5    真的   507\n",
              "6    知道   501\n",
              "7     做   424\n",
              "8    台湾   420\n",
              "9     说   358\n",
              "10    錢   325\n",
              "11   你们   325\n",
              "12   一個   316\n",
              "13    ⋯   312\n",
              "14    吗   306"
            ]
          },
          "metadata": {
            "tags": []
          },
          "execution_count": 4
        }
      ]
    },
    {
      "cell_type": "markdown",
      "metadata": {
        "id": "63eA2IxVk6VS"
      },
      "source": [
        "## Download font files\n",
        "\n",
        "從Google font 找一個你喜歡的字體（當然你也可以從其他網路資源找你喜歡的字體）：\n",
        "\n",
        "思源黑體載點：\n",
        "[Google Noto Font](https://www.google.com/get/noto/)"
      ],
      "id": "63eA2IxVk6VS"
    },
    {
      "cell_type": "code",
      "metadata": {
        "colab": {
          "base_uri": "https://localhost:8080/"
        },
        "id": "euuK50oDew8f",
        "outputId": "7f230327-cc2c-45ba-ff74-4b720ca80b57"
      },
      "source": [
        "# download \n",
        "!wget https://noto-website-2.storage.googleapis.com/pkgs/NotoSansCJKtc-hinted.zip\n",
        "\n",
        "# unzip\n",
        "!unzip \"NotoSansCJKtc-hinted.zip\""
      ],
      "id": "euuK50oDew8f",
      "execution_count": 5,
      "outputs": [
        {
          "output_type": "stream",
          "text": [
            "--2021-05-30 09:55:21--  https://noto-website-2.storage.googleapis.com/pkgs/NotoSansCJKtc-hinted.zip\n",
            "Resolving noto-website-2.storage.googleapis.com (noto-website-2.storage.googleapis.com)... 142.251.6.128, 2607:f8b0:4001:c5a::80\n",
            "Connecting to noto-website-2.storage.googleapis.com (noto-website-2.storage.googleapis.com)|142.251.6.128|:443... connected.\n",
            "HTTP request sent, awaiting response... 200 OK\n",
            "Length: 121247366 (116M) [application/zip]\n",
            "Saving to: ‘NotoSansCJKtc-hinted.zip’\n",
            "\n",
            "NotoSansCJKtc-hinte 100%[===================>] 115.63M   150MB/s    in 0.8s    \n",
            "\n",
            "2021-05-30 09:55:22 (150 MB/s) - ‘NotoSansCJKtc-hinted.zip’ saved [121247366/121247366]\n",
            "\n",
            "Archive:  NotoSansCJKtc-hinted.zip\n",
            "  inflating: LICENSE_OFL.txt         \n",
            "  inflating: NotoSansCJKtc-Black.otf  \n",
            "  inflating: NotoSansCJKtc-Bold.otf  \n",
            "  inflating: NotoSansCJKtc-DemiLight.otf  \n",
            "  inflating: NotoSansCJKtc-Light.otf  \n",
            "  inflating: NotoSansCJKtc-Medium.otf  \n",
            "  inflating: NotoSansCJKtc-Regular.otf  \n",
            "  inflating: NotoSansCJKtc-Thin.otf  \n",
            "  inflating: NotoSansMonoCJKtc-Bold.otf  \n",
            "  inflating: NotoSansMonoCJKtc-Regular.otf  \n",
            "  inflating: README                  \n"
          ],
          "name": "stdout"
        }
      ]
    },
    {
      "cell_type": "code",
      "metadata": {
        "id": "Oab2qa87jhA7"
      },
      "source": [
        "import matplotlib as mpl\n",
        "\n",
        "# choose a font style and move to your font library\n",
        "!mv NotoSansCJKtc-Regular.otf /usr/share/fonts/truetype/\n",
        "\n",
        "\n",
        "# add custom fonts to Matplotlib\n",
        "font_path = \"/usr/share/fonts/truetype/NotoSansCJKtc-Regular.otf\"\n",
        "mpl.font_manager.fontManager.addfont(font_path)\n",
        "mpl.rc('font', family='Noto Sans CJK TC')"
      ],
      "id": "Oab2qa87jhA7",
      "execution_count": 6,
      "outputs": []
    },
    {
      "cell_type": "code",
      "metadata": {
        "colab": {
          "base_uri": "https://localhost:8080/",
          "height": 835
        },
        "id": "L2FfEhw9ezG4",
        "outputId": "67d5bcc8-8119-47c1-a462-d3ee7d6c862f"
      },
      "source": [
        "%matplotlib inline\n",
        "import seaborn as sns\n",
        "import matplotlib.pyplot as plt\n",
        "\n",
        "plt.figure(figsize=(6, 8), dpi=120) \n",
        "df_data = df_tmp.sort_values('n', ascending=False)\n",
        "#     print(df_data)\n",
        "sns.barplot(x='n', \n",
        "            y='word', \n",
        "            data=df_data, \n",
        "            label='word', \n",
        "            color='royalblue',\n",
        "            )"
      ],
      "id": "L2FfEhw9ezG4",
      "execution_count": 7,
      "outputs": [
        {
          "output_type": "execute_result",
          "data": {
            "text/plain": [
              "<matplotlib.axes._subplots.AxesSubplot at 0x7f1addf3b9d0>"
            ]
          },
          "metadata": {
            "tags": []
          },
          "execution_count": 7
        },
        {
          "output_type": "display_data",
          "data": {
            "image/png": "[encoded data removed]",
            "text/plain": [
              "<Figure size 720x960 with 1 Axes>"
            ]
          },
          "metadata": {
            "tags": [],
            "needs_background": "light"
          }
        }
      ]
    }
  ]
}