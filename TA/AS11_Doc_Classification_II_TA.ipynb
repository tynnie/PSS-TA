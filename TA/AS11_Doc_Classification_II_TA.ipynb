{
 "cells": [
  {
   "cell_type": "markdown",
   "metadata": {
    "id": "zKMfrHlKlrJa"
   },
   "source": [
    "# AS11 - Doc Classification (II)\n"
   ]
  },
  {
   "cell_type": "markdown",
   "metadata": {
    "id": "tKBNkIqUl4td"
   },
   "source": [
    "\n",
    "# 取得資料方法一： Reading data from google sheet\n",
    "\n",
    "1. 複製Google表單的連結如下 https://docs.google.com/spreadsheets/d/1b1PXIM7DjzJN7_UX2rZ9e1q0II1s1nDH15PX_xov-fA/edit#gid=2141059533\n",
    "2. 取出`d/`到下一個`/`間的代號，為sheetId，上例為`1b1PXIM7DjzJN7_UX2rZ9e1q0II1s1nDH15PX_xov-fA`\n",
    "3. 複製你所要抓的sheet Name\n",
    "\n"
   ]
  },
  {
   "cell_type": "code",
   "execution_count": null,
   "metadata": {
    "id": "Y1532KqHjtc8"
   },
   "outputs": [],
   "source": [
    "import pandas as pd\n",
    "sheet_id = '1b1PXIM7DjzJN7_UX2rZ9e1q0II1s1nDH15PX_xov-fA'\n",
    "sheet_name = 'G3-B06305030'\n",
    "url = f'https://docs.google.com/spreadsheets/d/{sheet_id}/gviz/tq?tqx=out:csv&sheet={sheet_name}'\n",
    "df = pd.read_csv(url)"
   ]
  },
  {
   "cell_type": "code",
   "execution_count": null,
   "metadata": {
    "id": "tLdJZlG5KaZW"
   },
   "outputs": [],
   "source": [
    "df"
   ]
  },
  {
   "cell_type": "code",
   "execution_count": null,
   "metadata": {
    "colab": {
     "base_uri": "https://localhost:8080/",
     "height": 419
    },
    "id": "qvtAO295mamI",
    "outputId": "9c0d0441-0809-4d24-8cad-75c24c309c2a"
   },
   "outputs": [
    {
     "data": {
      "text/html": [
       "<div>\n",
       "<style scoped>\n",
       "    .dataframe tbody tr th:only-of-type {\n",
       "        vertical-align: middle;\n",
       "    }\n",
       "\n",
       "    .dataframe tbody tr th {\n",
       "        vertical-align: top;\n",
       "    }\n",
       "\n",
       "    .dataframe thead th {\n",
       "        text-align: right;\n",
       "    }\n",
       "</style>\n",
       "<table border=\"1\" class=\"dataframe\">\n",
       "  <thead>\n",
       "    <tr style=\"text-align: right;\">\n",
       "      <th></th>\n",
       "      <th>text</th>\n",
       "      <th>label</th>\n",
       "    </tr>\n",
       "  </thead>\n",
       "  <tbody>\n",
       "    <tr>\n",
       "      <th>0</th>\n",
       "      <td>暑假Summer Vacation 蔡🐷腫痛不是中國人它是美國的狗🐕</td>\n",
       "      <td>有關-仇美-1</td>\n",
       "    </tr>\n",
       "    <tr>\n",
       "      <th>1</th>\n",
       "      <td>其實說句有點難聽的話，一直都是中美拉鋸，從來都沒有臺灣的份\\n就像那句話說的   我消滅你與...</td>\n",
       "      <td>有關-中立0</td>\n",
       "    </tr>\n",
       "    <tr>\n",
       "      <th>2</th>\n",
       "      <td>台灣獨立給中國借口武統，邏輯正確，一旦台獨，美國就會駐軍，中共絕對不會比這件事發生，就算殺死...</td>\n",
       "      <td>有關-中立0</td>\n",
       "    </tr>\n",
       "    <tr>\n",
       "      <th>3</th>\n",
       "      <td>蔡女皇復辟獨裁啊。美國滲透就不算滲透？日本滲透就不算滲透？雙標垃圾黨。郭正亮你他媽再掰。</td>\n",
       "      <td>有關-仇美-1</td>\n",
       "    </tr>\n",
       "    <tr>\n",
       "      <th>4</th>\n",
       "      <td>美國的警察遇到危險可以開槍,為什麼香港不行,你們這些民進黨跟一位總統跟香港干你什麼屁事啊.</td>\n",
       "      <td>有關-仇美-1</td>\n",
       "    </tr>\n",
       "    <tr>\n",
       "      <th>...</th>\n",
       "      <td>...</td>\n",
       "      <td>...</td>\n",
       "    </tr>\n",
       "    <tr>\n",
       "      <th>295</th>\n",
       "      <td>東食西宿也是跟韓禿子講的，台灣可以和大陸，日本，美國都談戀愛，和任何一個睡覺都可以，但是絕對...</td>\n",
       "      <td>有關-中立0</td>\n",
       "    </tr>\n",
       "    <tr>\n",
       "      <th>296</th>\n",
       "      <td>台灣對大陸是只收聘禮不談婚嫁；對日本是廉娛樂券打折；對老美是自購娛樂券獻身。</td>\n",
       "      <td>有關-仇美-1</td>\n",
       "    </tr>\n",
       "    <tr>\n",
       "      <th>297</th>\n",
       "      <td>既然「市場靠中國」，那就別指望「國防靠美國」了，講完。</td>\n",
       "      <td>有關-中立0</td>\n",
       "    </tr>\n",
       "    <tr>\n",
       "      <th>298</th>\n",
       "      <td>郭是從企業角度入手 韓由台灣對外處境着眼 事實影響台灣最大的 就是中國大陸 美國及日本  況...</td>\n",
       "      <td>有關-中立0</td>\n",
       "    </tr>\n",
       "    <tr>\n",
       "      <th>299</th>\n",
       "      <td>韓國瑜的國際覌不及郭台銘，國防靠美國，市場靠大陸？哪有這麽便宜的事，吃二家茶禮想想就好。</td>\n",
       "      <td>有關-中立0</td>\n",
       "    </tr>\n",
       "  </tbody>\n",
       "</table>\n",
       "<p>300 rows × 2 columns</p>\n",
       "</div>"
      ],
      "text/plain": [
       "                                                  text    label\n",
       "0                   暑假Summer Vacation 蔡🐷腫痛不是中國人它是美國的狗🐕  有關-仇美-1\n",
       "1    其實說句有點難聽的話，一直都是中美拉鋸，從來都沒有臺灣的份\\n就像那句話說的   我消滅你與...   有關-中立0\n",
       "2    台灣獨立給中國借口武統，邏輯正確，一旦台獨，美國就會駐軍，中共絕對不會比這件事發生，就算殺死...   有關-中立0\n",
       "3         蔡女皇復辟獨裁啊。美國滲透就不算滲透？日本滲透就不算滲透？雙標垃圾黨。郭正亮你他媽再掰。  有關-仇美-1\n",
       "4        美國的警察遇到危險可以開槍,為什麼香港不行,你們這些民進黨跟一位總統跟香港干你什麼屁事啊.  有關-仇美-1\n",
       "..                                                 ...      ...\n",
       "295  東食西宿也是跟韓禿子講的，台灣可以和大陸，日本，美國都談戀愛，和任何一個睡覺都可以，但是絕對...   有關-中立0\n",
       "296             台灣對大陸是只收聘禮不談婚嫁；對日本是廉娛樂券打折；對老美是自購娛樂券獻身。  有關-仇美-1\n",
       "297                        既然「市場靠中國」，那就別指望「國防靠美國」了，講完。   有關-中立0\n",
       "298  郭是從企業角度入手 韓由台灣對外處境着眼 事實影響台灣最大的 就是中國大陸 美國及日本  況...   有關-中立0\n",
       "299       韓國瑜的國際覌不及郭台銘，國防靠美國，市場靠大陸？哪有這麽便宜的事，吃二家茶禮想想就好。   有關-中立0\n",
       "\n",
       "[300 rows x 2 columns]"
      ]
     },
     "execution_count": 3,
     "metadata": {
      "tags": []
     },
     "output_type": "execute_result"
    }
   ],
   "source": [
    "df = df.iloc[:, [3, 5]].set_axis(['text', 'label'], axis=1)\n",
    "df"
   ]
  },
  {
   "cell_type": "code",
   "execution_count": null,
   "metadata": {},
   "outputs": [],
   "source": [
    "df = df.replace({'無關對美立場': -99, \n",
    "           '有關-親美1': 1,\n",
    "           '有關-仇美-1': -1,\n",
    "           '有關-中立0': 0})\n",
    "df = df.loc[df['label'].isin([-1, 1])]\n",
    "df"
   ]
  },
  {
   "cell_type": "markdown",
   "metadata": {
    "id": "cBhE4pMGxCkg"
   },
   "source": [
    "# 取得資料方法二：直接讀取整理好的資料表"
   ]
  },
  {
   "cell_type": "code",
   "execution_count": 49,
   "metadata": {
    "colab": {
     "base_uri": "https://localhost:8080/",
     "height": 1000
    },
    "id": "09bV9U8wxBeC",
    "outputId": "7448fffb-69fb-46ed-a048-ae70068bc8cd"
   },
   "outputs": [
    {
     "data": {
      "text/html": [
       "<div>\n",
       "<style scoped>\n",
       "    .dataframe tbody tr th:only-of-type {\n",
       "        vertical-align: middle;\n",
       "    }\n",
       "\n",
       "    .dataframe tbody tr th {\n",
       "        vertical-align: top;\n",
       "    }\n",
       "\n",
       "    .dataframe thead th {\n",
       "        text-align: right;\n",
       "    }\n",
       "</style>\n",
       "<table border=\"1\" class=\"dataframe\">\n",
       "  <thead>\n",
       "    <tr style=\"text-align: right;\">\n",
       "      <th></th>\n",
       "      <th>videoId</th>\n",
       "      <th>commentId</th>\n",
       "      <th>authorDisplayName</th>\n",
       "      <th>textOriginal</th>\n",
       "      <th>likeCount</th>\n",
       "      <th>student_1</th>\n",
       "      <th>student_2</th>\n",
       "      <th>student_3</th>\n",
       "    </tr>\n",
       "  </thead>\n",
       "  <tbody>\n",
       "    <tr>\n",
       "      <th>0</th>\n",
       "      <td>-ecOhYIRv5s</td>\n",
       "      <td>UgyD-NugZh-GS_sEfJ94AaABAg</td>\n",
       "      <td>MAN SIN LAO</td>\n",
       "      <td>榨菜又名腦殘聰！他說美國貿易必勝，全世界只有他一人說美國貿易必勝，</td>\n",
       "      <td>403</td>\n",
       "      <td>NaN</td>\n",
       "      <td>有關-中立0</td>\n",
       "      <td>有關-仇美-1</td>\n",
       "    </tr>\n",
       "    <tr>\n",
       "      <th>1</th>\n",
       "      <td>-sIfRKlTKN4</td>\n",
       "      <td>UgzX40PkrzO66JGpHrx4AaABAg.8rKQVJMJ6Wq8rLybzd18ny</td>\n",
       "      <td>熊哥</td>\n",
       "      <td>沒有。開工廠時還有請美國的團隊幫忙</td>\n",
       "      <td>388</td>\n",
       "      <td>NaN</td>\n",
       "      <td>有關-中立0</td>\n",
       "      <td>無關對美立場</td>\n",
       "    </tr>\n",
       "    <tr>\n",
       "      <th>2</th>\n",
       "      <td>05qbnlygccA</td>\n",
       "      <td>UgwOh2GoMPJwTw4ee-F4AaABAg</td>\n",
       "      <td>Dai Mei REYTER</td>\n",
       "      <td>看中美貿易之戰，一直有個疑問：\\n到底，郭的參選是為了救台灣人民，\\n還是，要台灣人民救郭的...</td>\n",
       "      <td>359</td>\n",
       "      <td>NaN</td>\n",
       "      <td>有關-中立0</td>\n",
       "      <td>無關對美立場</td>\n",
       "    </tr>\n",
       "    <tr>\n",
       "      <th>3</th>\n",
       "      <td>05qbnlygccA</td>\n",
       "      <td>UgwWtdv39oDduG4Hq514AaABAg</td>\n",
       "      <td>大支柱</td>\n",
       "      <td>郭想取代韓是痴人說夢話，想想郭說他和川普一樣，事實韓的經例是和川普最像。</td>\n",
       "      <td>356</td>\n",
       "      <td>NaN</td>\n",
       "      <td>有關-中立0</td>\n",
       "      <td>無關對美立場</td>\n",
       "    </tr>\n",
       "    <tr>\n",
       "      <th>4</th>\n",
       "      <td>18Xx19xZsq4</td>\n",
       "      <td>UgyONHbn-7oBWE2Yonh4AaABAg</td>\n",
       "      <td>Happycat</td>\n",
       "      <td>哈 哈 哈 ⋯⋯⋯⋯，蔡英文啊！蔡英文？！是總統嗎？！\\n比川普還要離譜？！\\n直接做蔡離譜...</td>\n",
       "      <td>723</td>\n",
       "      <td>NaN</td>\n",
       "      <td>有關-中立0</td>\n",
       "      <td>無關對美立場</td>\n",
       "    </tr>\n",
       "    <tr>\n",
       "      <th>...</th>\n",
       "      <td>...</td>\n",
       "      <td>...</td>\n",
       "      <td>...</td>\n",
       "      <td>...</td>\n",
       "      <td>...</td>\n",
       "      <td>...</td>\n",
       "      <td>...</td>\n",
       "      <td>...</td>\n",
       "    </tr>\n",
       "    <tr>\n",
       "      <th>1495</th>\n",
       "      <td>_vK2BozfGWA</td>\n",
       "      <td>UgxYMIdzwBSncv8r5n54AaABAg.8vZYLKrJWfT8vZZDEi2UFs</td>\n",
       "      <td>Bell Chiu</td>\n",
       "      <td>Samrock Erian 美國、日本照樣死刑你看，歐盟放個屁都要去聞聞嗎？</td>\n",
       "      <td>51</td>\n",
       "      <td>無關對美立場</td>\n",
       "      <td>無關對美立場</td>\n",
       "      <td>有關-仇美-1</td>\n",
       "    </tr>\n",
       "    <tr>\n",
       "      <th>1496</th>\n",
       "      <td>_vK2BozfGWA</td>\n",
       "      <td>UgxeJNt2b0-WROxBPFx4AaABAg</td>\n",
       "      <td>陳志陽</td>\n",
       "      <td>郭台銘早就一月份就要宣布參選，故意4月17日韓國瑜在美國才宣布，司馬昭之心路人皆知，</td>\n",
       "      <td>51</td>\n",
       "      <td>無關對美立場</td>\n",
       "      <td>無關對美立場</td>\n",
       "      <td>無關對美立場</td>\n",
       "    </tr>\n",
       "    <tr>\n",
       "      <th>1497</th>\n",
       "      <td>_vK2BozfGWA</td>\n",
       "      <td>UgyI_G4NeRxTW0k49eF4AaABAg</td>\n",
       "      <td>LAGUNA HITORI</td>\n",
       "      <td>能搶在6.1前 穩定老選民不錯哦，兩岸的政治論述沒真實看得見 ，只是用中美貿易大戰作議題模糊...</td>\n",
       "      <td>51</td>\n",
       "      <td>無關對美立場</td>\n",
       "      <td>無關對美立場</td>\n",
       "      <td>無關對美立場</td>\n",
       "    </tr>\n",
       "    <tr>\n",
       "      <th>1498</th>\n",
       "      <td>_vK2BozfGWA</td>\n",
       "      <td>Ugz7Q2Q0GCD6AuiPFsZ4AaABAg.8vZlHzahSrr8vnJ1lZia-S</td>\n",
       "      <td>楊善妮</td>\n",
       "      <td>jamescady19950327 Harsen 其實川普經商比不上郭董，以川普得到的遺產，...</td>\n",
       "      <td>51</td>\n",
       "      <td>無關對美立場</td>\n",
       "      <td>無關對美立場</td>\n",
       "      <td>無關對美立場</td>\n",
       "    </tr>\n",
       "    <tr>\n",
       "      <th>1499</th>\n",
       "      <td>_vzvCvTHxHI</td>\n",
       "      <td>UgzH3aBlbrF6ajYTLvV4AaABAg</td>\n",
       "      <td>葉晴</td>\n",
       "      <td>一㸃多不奇怪！蔡上次説美國紐約大樓，也是她買的！</td>\n",
       "      <td>51</td>\n",
       "      <td>無關對美立場</td>\n",
       "      <td>無關對美立場</td>\n",
       "      <td>無關對美立場</td>\n",
       "    </tr>\n",
       "  </tbody>\n",
       "</table>\n",
       "<p>1500 rows × 8 columns</p>\n",
       "</div>"
      ],
      "text/plain": [
       "          videoId                                          commentId  \\\n",
       "0     -ecOhYIRv5s                         UgyD-NugZh-GS_sEfJ94AaABAg   \n",
       "1     -sIfRKlTKN4  UgzX40PkrzO66JGpHrx4AaABAg.8rKQVJMJ6Wq8rLybzd18ny   \n",
       "2     05qbnlygccA                         UgwOh2GoMPJwTw4ee-F4AaABAg   \n",
       "3     05qbnlygccA                         UgwWtdv39oDduG4Hq514AaABAg   \n",
       "4     18Xx19xZsq4                         UgyONHbn-7oBWE2Yonh4AaABAg   \n",
       "...           ...                                                ...   \n",
       "1495  _vK2BozfGWA  UgxYMIdzwBSncv8r5n54AaABAg.8vZYLKrJWfT8vZZDEi2UFs   \n",
       "1496  _vK2BozfGWA                         UgxeJNt2b0-WROxBPFx4AaABAg   \n",
       "1497  _vK2BozfGWA                         UgyI_G4NeRxTW0k49eF4AaABAg   \n",
       "1498  _vK2BozfGWA  Ugz7Q2Q0GCD6AuiPFsZ4AaABAg.8vZlHzahSrr8vnJ1lZia-S   \n",
       "1499  _vzvCvTHxHI                         UgzH3aBlbrF6ajYTLvV4AaABAg   \n",
       "\n",
       "     authorDisplayName                                       textOriginal  \\\n",
       "0          MAN SIN LAO                  榨菜又名腦殘聰！他說美國貿易必勝，全世界只有他一人說美國貿易必勝，   \n",
       "1                   熊哥                                  沒有。開工廠時還有請美國的團隊幫忙   \n",
       "2       Dai Mei REYTER  看中美貿易之戰，一直有個疑問：\\n到底，郭的參選是為了救台灣人民，\\n還是，要台灣人民救郭的...   \n",
       "3                  大支柱               郭想取代韓是痴人說夢話，想想郭說他和川普一樣，事實韓的經例是和川普最像。   \n",
       "4             Happycat  哈 哈 哈 ⋯⋯⋯⋯，蔡英文啊！蔡英文？！是總統嗎？！\\n比川普還要離譜？！\\n直接做蔡離譜...   \n",
       "...                ...                                                ...   \n",
       "1495         Bell Chiu             Samrock Erian 美國、日本照樣死刑你看，歐盟放個屁都要去聞聞嗎？   \n",
       "1496               陳志陽         郭台銘早就一月份就要宣布參選，故意4月17日韓國瑜在美國才宣布，司馬昭之心路人皆知，   \n",
       "1497     LAGUNA HITORI  能搶在6.1前 穩定老選民不錯哦，兩岸的政治論述沒真實看得見 ，只是用中美貿易大戰作議題模糊...   \n",
       "1498               楊善妮  jamescady19950327 Harsen 其實川普經商比不上郭董，以川普得到的遺產，...   \n",
       "1499                葉晴                           一㸃多不奇怪！蔡上次説美國紐約大樓，也是她買的！   \n",
       "\n",
       "      likeCount student_1 student_2 student_3  \n",
       "0           403       NaN    有關-中立0   有關-仇美-1  \n",
       "1           388       NaN    有關-中立0    無關對美立場  \n",
       "2           359       NaN    有關-中立0    無關對美立場  \n",
       "3           356       NaN    有關-中立0    無關對美立場  \n",
       "4           723       NaN    有關-中立0    無關對美立場  \n",
       "...         ...       ...       ...       ...  \n",
       "1495         51    無關對美立場    無關對美立場   有關-仇美-1  \n",
       "1496         51    無關對美立場    無關對美立場    無關對美立場  \n",
       "1497         51    無關對美立場    無關對美立場    無關對美立場  \n",
       "1498         51    無關對美立場    無關對美立場    無關對美立場  \n",
       "1499         51    無關對美立場    無關對美立場    無關對美立場  \n",
       "\n",
       "[1500 rows x 8 columns]"
      ]
     },
     "execution_count": 49,
     "metadata": {},
     "output_type": "execute_result"
    }
   ],
   "source": [
    "import pandas as pd\n",
    "df = pd.read_csv('https://raw.githubusercontent.com/tynnie/PSS-TA/master/data/comment_tag_all_groups.csv')\n",
    "df"
   ]
  },
  {
   "cell_type": "code",
   "execution_count": 50,
   "metadata": {
    "colab": {
     "base_uri": "https://localhost:8080/",
     "height": 419
    },
    "id": "nT6wwoC5yDmv",
    "outputId": "252cdb52-c5b6-47d6-9eb8-0ec1a4f4df9c"
   },
   "outputs": [
    {
     "data": {
      "text/html": [
       "<div>\n",
       "<style scoped>\n",
       "    .dataframe tbody tr th:only-of-type {\n",
       "        vertical-align: middle;\n",
       "    }\n",
       "\n",
       "    .dataframe tbody tr th {\n",
       "        vertical-align: top;\n",
       "    }\n",
       "\n",
       "    .dataframe thead th {\n",
       "        text-align: right;\n",
       "    }\n",
       "</style>\n",
       "<table border=\"1\" class=\"dataframe\">\n",
       "  <thead>\n",
       "    <tr style=\"text-align: right;\">\n",
       "      <th></th>\n",
       "      <th>text</th>\n",
       "      <th>label_1</th>\n",
       "      <th>label_2</th>\n",
       "      <th>label_3</th>\n",
       "    </tr>\n",
       "  </thead>\n",
       "  <tbody>\n",
       "    <tr>\n",
       "      <th>0</th>\n",
       "      <td>榨菜又名腦殘聰！他說美國貿易必勝，全世界只有他一人說美國貿易必勝，</td>\n",
       "      <td>NaN</td>\n",
       "      <td>有關-中立0</td>\n",
       "      <td>有關-仇美-1</td>\n",
       "    </tr>\n",
       "    <tr>\n",
       "      <th>1</th>\n",
       "      <td>沒有。開工廠時還有請美國的團隊幫忙</td>\n",
       "      <td>NaN</td>\n",
       "      <td>有關-中立0</td>\n",
       "      <td>無關對美立場</td>\n",
       "    </tr>\n",
       "    <tr>\n",
       "      <th>2</th>\n",
       "      <td>看中美貿易之戰，一直有個疑問：\\n到底，郭的參選是為了救台灣人民，\\n還是，要台灣人民救郭的...</td>\n",
       "      <td>NaN</td>\n",
       "      <td>有關-中立0</td>\n",
       "      <td>無關對美立場</td>\n",
       "    </tr>\n",
       "    <tr>\n",
       "      <th>3</th>\n",
       "      <td>郭想取代韓是痴人說夢話，想想郭說他和川普一樣，事實韓的經例是和川普最像。</td>\n",
       "      <td>NaN</td>\n",
       "      <td>有關-中立0</td>\n",
       "      <td>無關對美立場</td>\n",
       "    </tr>\n",
       "    <tr>\n",
       "      <th>4</th>\n",
       "      <td>哈 哈 哈 ⋯⋯⋯⋯，蔡英文啊！蔡英文？！是總統嗎？！\\n比川普還要離譜？！\\n直接做蔡離譜...</td>\n",
       "      <td>NaN</td>\n",
       "      <td>有關-中立0</td>\n",
       "      <td>無關對美立場</td>\n",
       "    </tr>\n",
       "    <tr>\n",
       "      <th>...</th>\n",
       "      <td>...</td>\n",
       "      <td>...</td>\n",
       "      <td>...</td>\n",
       "      <td>...</td>\n",
       "    </tr>\n",
       "    <tr>\n",
       "      <th>1495</th>\n",
       "      <td>Samrock Erian 美國、日本照樣死刑你看，歐盟放個屁都要去聞聞嗎？</td>\n",
       "      <td>無關對美立場</td>\n",
       "      <td>無關對美立場</td>\n",
       "      <td>有關-仇美-1</td>\n",
       "    </tr>\n",
       "    <tr>\n",
       "      <th>1496</th>\n",
       "      <td>郭台銘早就一月份就要宣布參選，故意4月17日韓國瑜在美國才宣布，司馬昭之心路人皆知，</td>\n",
       "      <td>無關對美立場</td>\n",
       "      <td>無關對美立場</td>\n",
       "      <td>無關對美立場</td>\n",
       "    </tr>\n",
       "    <tr>\n",
       "      <th>1497</th>\n",
       "      <td>能搶在6.1前 穩定老選民不錯哦，兩岸的政治論述沒真實看得見 ，只是用中美貿易大戰作議題模糊...</td>\n",
       "      <td>無關對美立場</td>\n",
       "      <td>無關對美立場</td>\n",
       "      <td>無關對美立場</td>\n",
       "    </tr>\n",
       "    <tr>\n",
       "      <th>1498</th>\n",
       "      <td>jamescady19950327 Harsen 其實川普經商比不上郭董，以川普得到的遺產，...</td>\n",
       "      <td>無關對美立場</td>\n",
       "      <td>無關對美立場</td>\n",
       "      <td>無關對美立場</td>\n",
       "    </tr>\n",
       "    <tr>\n",
       "      <th>1499</th>\n",
       "      <td>一㸃多不奇怪！蔡上次説美國紐約大樓，也是她買的！</td>\n",
       "      <td>無關對美立場</td>\n",
       "      <td>無關對美立場</td>\n",
       "      <td>無關對美立場</td>\n",
       "    </tr>\n",
       "  </tbody>\n",
       "</table>\n",
       "<p>1500 rows × 4 columns</p>\n",
       "</div>"
      ],
      "text/plain": [
       "                                                   text label_1 label_2  \\\n",
       "0                     榨菜又名腦殘聰！他說美國貿易必勝，全世界只有他一人說美國貿易必勝，     NaN  有關-中立0   \n",
       "1                                     沒有。開工廠時還有請美國的團隊幫忙     NaN  有關-中立0   \n",
       "2     看中美貿易之戰，一直有個疑問：\\n到底，郭的參選是為了救台灣人民，\\n還是，要台灣人民救郭的...     NaN  有關-中立0   \n",
       "3                  郭想取代韓是痴人說夢話，想想郭說他和川普一樣，事實韓的經例是和川普最像。     NaN  有關-中立0   \n",
       "4     哈 哈 哈 ⋯⋯⋯⋯，蔡英文啊！蔡英文？！是總統嗎？！\\n比川普還要離譜？！\\n直接做蔡離譜...     NaN  有關-中立0   \n",
       "...                                                 ...     ...     ...   \n",
       "1495             Samrock Erian 美國、日本照樣死刑你看，歐盟放個屁都要去聞聞嗎？  無關對美立場  無關對美立場   \n",
       "1496         郭台銘早就一月份就要宣布參選，故意4月17日韓國瑜在美國才宣布，司馬昭之心路人皆知，  無關對美立場  無關對美立場   \n",
       "1497  能搶在6.1前 穩定老選民不錯哦，兩岸的政治論述沒真實看得見 ，只是用中美貿易大戰作議題模糊...  無關對美立場  無關對美立場   \n",
       "1498  jamescady19950327 Harsen 其實川普經商比不上郭董，以川普得到的遺產，...  無關對美立場  無關對美立場   \n",
       "1499                           一㸃多不奇怪！蔡上次説美國紐約大樓，也是她買的！  無關對美立場  無關對美立場   \n",
       "\n",
       "      label_3  \n",
       "0     有關-仇美-1  \n",
       "1      無關對美立場  \n",
       "2      無關對美立場  \n",
       "3      無關對美立場  \n",
       "4      無關對美立場  \n",
       "...       ...  \n",
       "1495  有關-仇美-1  \n",
       "1496   無關對美立場  \n",
       "1497   無關對美立場  \n",
       "1498   無關對美立場  \n",
       "1499   無關對美立場  \n",
       "\n",
       "[1500 rows x 4 columns]"
      ]
     },
     "execution_count": 50,
     "metadata": {},
     "output_type": "execute_result"
    }
   ],
   "source": [
    "# 這張表有大家標記的結果\n",
    "df = df[['textOriginal', 'student_1', 'student_2', 'student_3']]\n",
    "df.columns = ['text', 'label_1', 'label_2', 'label_3']\n",
    "df"
   ]
  },
  {
   "cell_type": "markdown",
   "metadata": {
    "id": "fB6_WcuN0M0i"
   },
   "source": [
    "## 將標籤化為數值"
   ]
  },
  {
   "cell_type": "code",
   "execution_count": 51,
   "metadata": {
    "colab": {
     "base_uri": "https://localhost:8080/",
     "height": 419
    },
    "id": "eiFFYvpdnTam",
    "outputId": "b3329267-b98c-4237-f275-d049f9c6dbaf"
   },
   "outputs": [
    {
     "data": {
      "text/html": [
       "<div>\n",
       "<style scoped>\n",
       "    .dataframe tbody tr th:only-of-type {\n",
       "        vertical-align: middle;\n",
       "    }\n",
       "\n",
       "    .dataframe tbody tr th {\n",
       "        vertical-align: top;\n",
       "    }\n",
       "\n",
       "    .dataframe thead th {\n",
       "        text-align: right;\n",
       "    }\n",
       "</style>\n",
       "<table border=\"1\" class=\"dataframe\">\n",
       "  <thead>\n",
       "    <tr style=\"text-align: right;\">\n",
       "      <th></th>\n",
       "      <th>text</th>\n",
       "      <th>label_1</th>\n",
       "      <th>label_2</th>\n",
       "      <th>label_3</th>\n",
       "    </tr>\n",
       "  </thead>\n",
       "  <tbody>\n",
       "    <tr>\n",
       "      <th>0</th>\n",
       "      <td>榨菜又名腦殘聰！他說美國貿易必勝，全世界只有他一人說美國貿易必勝，</td>\n",
       "      <td>NaN</td>\n",
       "      <td>0.0</td>\n",
       "      <td>-1.0</td>\n",
       "    </tr>\n",
       "    <tr>\n",
       "      <th>1</th>\n",
       "      <td>沒有。開工廠時還有請美國的團隊幫忙</td>\n",
       "      <td>NaN</td>\n",
       "      <td>0.0</td>\n",
       "      <td>-99.0</td>\n",
       "    </tr>\n",
       "    <tr>\n",
       "      <th>2</th>\n",
       "      <td>看中美貿易之戰，一直有個疑問：\\n到底，郭的參選是為了救台灣人民，\\n還是，要台灣人民救郭的...</td>\n",
       "      <td>NaN</td>\n",
       "      <td>0.0</td>\n",
       "      <td>-99.0</td>\n",
       "    </tr>\n",
       "    <tr>\n",
       "      <th>3</th>\n",
       "      <td>郭想取代韓是痴人說夢話，想想郭說他和川普一樣，事實韓的經例是和川普最像。</td>\n",
       "      <td>NaN</td>\n",
       "      <td>0.0</td>\n",
       "      <td>-99.0</td>\n",
       "    </tr>\n",
       "    <tr>\n",
       "      <th>4</th>\n",
       "      <td>哈 哈 哈 ⋯⋯⋯⋯，蔡英文啊！蔡英文？！是總統嗎？！\\n比川普還要離譜？！\\n直接做蔡離譜...</td>\n",
       "      <td>NaN</td>\n",
       "      <td>0.0</td>\n",
       "      <td>-99.0</td>\n",
       "    </tr>\n",
       "    <tr>\n",
       "      <th>...</th>\n",
       "      <td>...</td>\n",
       "      <td>...</td>\n",
       "      <td>...</td>\n",
       "      <td>...</td>\n",
       "    </tr>\n",
       "    <tr>\n",
       "      <th>1495</th>\n",
       "      <td>Samrock Erian 美國、日本照樣死刑你看，歐盟放個屁都要去聞聞嗎？</td>\n",
       "      <td>-99.0</td>\n",
       "      <td>-99.0</td>\n",
       "      <td>-1.0</td>\n",
       "    </tr>\n",
       "    <tr>\n",
       "      <th>1496</th>\n",
       "      <td>郭台銘早就一月份就要宣布參選，故意4月17日韓國瑜在美國才宣布，司馬昭之心路人皆知，</td>\n",
       "      <td>-99.0</td>\n",
       "      <td>-99.0</td>\n",
       "      <td>-99.0</td>\n",
       "    </tr>\n",
       "    <tr>\n",
       "      <th>1497</th>\n",
       "      <td>能搶在6.1前 穩定老選民不錯哦，兩岸的政治論述沒真實看得見 ，只是用中美貿易大戰作議題模糊...</td>\n",
       "      <td>-99.0</td>\n",
       "      <td>-99.0</td>\n",
       "      <td>-99.0</td>\n",
       "    </tr>\n",
       "    <tr>\n",
       "      <th>1498</th>\n",
       "      <td>jamescady19950327 Harsen 其實川普經商比不上郭董，以川普得到的遺產，...</td>\n",
       "      <td>-99.0</td>\n",
       "      <td>-99.0</td>\n",
       "      <td>-99.0</td>\n",
       "    </tr>\n",
       "    <tr>\n",
       "      <th>1499</th>\n",
       "      <td>一㸃多不奇怪！蔡上次説美國紐約大樓，也是她買的！</td>\n",
       "      <td>-99.0</td>\n",
       "      <td>-99.0</td>\n",
       "      <td>-99.0</td>\n",
       "    </tr>\n",
       "  </tbody>\n",
       "</table>\n",
       "<p>1500 rows × 4 columns</p>\n",
       "</div>"
      ],
      "text/plain": [
       "                                                   text  label_1  label_2  \\\n",
       "0                     榨菜又名腦殘聰！他說美國貿易必勝，全世界只有他一人說美國貿易必勝，      NaN      0.0   \n",
       "1                                     沒有。開工廠時還有請美國的團隊幫忙      NaN      0.0   \n",
       "2     看中美貿易之戰，一直有個疑問：\\n到底，郭的參選是為了救台灣人民，\\n還是，要台灣人民救郭的...      NaN      0.0   \n",
       "3                  郭想取代韓是痴人說夢話，想想郭說他和川普一樣，事實韓的經例是和川普最像。      NaN      0.0   \n",
       "4     哈 哈 哈 ⋯⋯⋯⋯，蔡英文啊！蔡英文？！是總統嗎？！\\n比川普還要離譜？！\\n直接做蔡離譜...      NaN      0.0   \n",
       "...                                                 ...      ...      ...   \n",
       "1495             Samrock Erian 美國、日本照樣死刑你看，歐盟放個屁都要去聞聞嗎？    -99.0    -99.0   \n",
       "1496         郭台銘早就一月份就要宣布參選，故意4月17日韓國瑜在美國才宣布，司馬昭之心路人皆知，    -99.0    -99.0   \n",
       "1497  能搶在6.1前 穩定老選民不錯哦，兩岸的政治論述沒真實看得見 ，只是用中美貿易大戰作議題模糊...    -99.0    -99.0   \n",
       "1498  jamescady19950327 Harsen 其實川普經商比不上郭董，以川普得到的遺產，...    -99.0    -99.0   \n",
       "1499                           一㸃多不奇怪！蔡上次説美國紐約大樓，也是她買的！    -99.0    -99.0   \n",
       "\n",
       "      label_3  \n",
       "0        -1.0  \n",
       "1       -99.0  \n",
       "2       -99.0  \n",
       "3       -99.0  \n",
       "4       -99.0  \n",
       "...       ...  \n",
       "1495     -1.0  \n",
       "1496    -99.0  \n",
       "1497    -99.0  \n",
       "1498    -99.0  \n",
       "1499    -99.0  \n",
       "\n",
       "[1500 rows x 4 columns]"
      ]
     },
     "execution_count": 51,
     "metadata": {},
     "output_type": "execute_result"
    }
   ],
   "source": [
    "df = df.replace({'無關對美立場': -99, \n",
    "           '有關-親美1': 1,\n",
    "           '有關-仇美-1': -1,\n",
    "           '有關-中立0': 0})\n",
    "\n",
    "df"
   ]
  },
  {
   "cell_type": "markdown",
   "metadata": {
    "id": "RATfuHUrnshh"
   },
   "source": [
    "# 2.Cleaning data"
   ]
  },
  {
   "cell_type": "code",
   "execution_count": null,
   "metadata": {
    "id": "kU6uqZRXnrcb"
   },
   "outputs": [],
   "source": []
  },
  {
   "cell_type": "code",
   "execution_count": null,
   "metadata": {
    "id": "omt1l0blqSr-"
   },
   "outputs": [],
   "source": []
  },
  {
   "cell_type": "code",
   "execution_count": null,
   "metadata": {
    "id": "UiP-t0DzqSuU"
   },
   "outputs": [],
   "source": []
  },
  {
   "cell_type": "code",
   "execution_count": null,
   "metadata": {
    "id": "5sSiloH0qSx2"
   },
   "outputs": [],
   "source": []
  },
  {
   "cell_type": "markdown",
   "metadata": {
    "id": "TGXBK9hdnwlt"
   },
   "source": [
    "# 3.Modeling by classical models\n",
    "\n",
    "- **TODO**: [Explain the model you used and descibe vectorization or feature selection process and parameters here]"
   ]
  },
  {
   "cell_type": "code",
   "execution_count": null,
   "metadata": {
    "id": "nhDrNUY0nJmF"
   },
   "outputs": [],
   "source": []
  },
  {
   "cell_type": "code",
   "execution_count": null,
   "metadata": {
    "id": "PjheWlEBqSDM"
   },
   "outputs": [],
   "source": []
  },
  {
   "cell_type": "code",
   "execution_count": null,
   "metadata": {
    "id": "aXRvOemiqSG-"
   },
   "outputs": [],
   "source": []
  },
  {
   "cell_type": "code",
   "execution_count": null,
   "metadata": {
    "id": "-18Yk-syqSJm"
   },
   "outputs": [],
   "source": []
  },
  {
   "cell_type": "markdown",
   "metadata": {
    "id": "ZfNgNa2eoE1F"
   },
   "source": [
    "# 4.Modeling by simpleTransformer"
   ]
  },
  {
   "cell_type": "code",
   "execution_count": null,
   "metadata": {
    "id": "5vRZlctmoDLE"
   },
   "outputs": [],
   "source": []
  },
  {
   "cell_type": "code",
   "execution_count": null,
   "metadata": {
    "id": "TekfqVYaqRQJ"
   },
   "outputs": [],
   "source": []
  },
  {
   "cell_type": "code",
   "execution_count": null,
   "metadata": {
    "id": "bLn8qbHHqRWw"
   },
   "outputs": [],
   "source": []
  },
  {
   "cell_type": "code",
   "execution_count": null,
   "metadata": {
    "id": "1cc8NL9wqRci"
   },
   "outputs": [],
   "source": []
  },
  {
   "cell_type": "markdown",
   "metadata": {
    "id": "KhUgm_imoNtJ"
   },
   "source": [
    "# 5.Comparison: \n",
    "\n",
    "- **TODO**: Printing `classification_report` of (your) selected classical models and transformer below."
   ]
  },
  {
   "cell_type": "code",
   "execution_count": null,
   "metadata": {
    "id": "8vQa3r5UoNNl"
   },
   "outputs": [],
   "source": [
    "# Classified report of selected classical models (>=1)\n",
    "\n",
    "\n"
   ]
  },
  {
   "cell_type": "code",
   "execution_count": null,
   "metadata": {
    "id": "COSNqfM_qM3n"
   },
   "outputs": [],
   "source": [
    "# Classified report of transformer \n",
    "\n",
    "\n"
   ]
  },
  {
   "cell_type": "markdown",
   "metadata": {
    "id": "WkiC5y6Vo9Xn"
   },
   "source": [
    "## TODO: Describe the result of the imbalanced data\n",
    "\n",
    "Quesgtion. 這筆資料勢必為一個不均衡（imbalanced）的資料，也就是仇美和親美的資料筆數會差距很多。請觀察上述方法的結果，請描述不均衡的資料對Confusion Matrix和Recall Rate與Precision Rate的影響。這時候Accuracy是否可用？為什麼？試討論之。\n",
    "\n",
    "A†nswer: [Your answer here]"
   ]
  }
 ],
 "metadata": {
  "colab": {
   "collapsed_sections": [],
   "name": "AS11_Doc_Classification_II_TA.ipynb",
   "provenance": [],
   "toc_visible": true
  },
  "kernelspec": {
   "display_name": "Python 3",
   "language": "python",
   "name": "python3"
  },
  "language_info": {
   "codemirror_mode": {
    "name": "ipython",
    "version": 3
   },
   "file_extension": ".py",
   "mimetype": "text/x-python",
   "name": "python",
   "nbconvert_exporter": "python",
   "pygments_lexer": "ipython3",
   "version": "3.8.3"
  }
 },
 "nbformat": 4,
 "nbformat_minor": 1
}
