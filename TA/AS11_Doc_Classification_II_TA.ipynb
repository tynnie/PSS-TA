{
  "nbformat": 4,
  "nbformat_minor": 0,
  "metadata": {
    "colab": {
      "name": "AS11_Doc_Classification_II_TA.ipynb",
      "provenance": [],
      "collapsed_sections": [],
      "toc_visible": true
    },
    "kernelspec": {
      "name": "python3",
      "display_name": "Python 3"
    },
    "language_info": {
      "name": "python"
    }
  },
  "cells": [
    {
      "cell_type": "markdown",
      "metadata": {
        "id": "zKMfrHlKlrJa"
      },
      "source": [
        "# AS11 - Doc Classification (II)\n"
      ]
    },
    {
      "cell_type": "markdown",
      "metadata": {
        "id": "tKBNkIqUl4td"
      },
      "source": [
        "\n",
        "# 取得資料方法一： Reading data from google sheet\n",
        "\n",
        "1. 複製Google表單的連結如下 https://docs.google.com/spreadsheets/d/1b1PXIM7DjzJN7_UX2rZ9e1q0II1s1nDH15PX_xov-fA/edit#gid=2141059533\n",
        "2. 取出`d/`到下一個`/`間的代號，為sheetId，上例為`1b1PXIM7DjzJN7_UX2rZ9e1q0II1s1nDH15PX_xov-fA`\n",
        "3. 複製你所要抓的sheet Name\n",
        "\n"
      ]
    },
    {
      "cell_type": "code",
      "metadata": {
        "id": "Y1532KqHjtc8"
      },
      "source": [
        "import pandas as pd\n",
        "sheet_id = '1b1PXIM7DjzJN7_UX2rZ9e1q0II1s1nDH15PX_xov-fA'\n",
        "sheet_name = 'G3-B06305030'\n",
        "url = f'https://docs.google.com/spreadsheets/d/{sheet_id}/gviz/tq?tqx=out:csv&sheet={sheet_name}'\n",
        "df = pd.read_csv(url)"
      ],
      "execution_count": null,
      "outputs": []
    },
    {
      "cell_type": "code",
      "metadata": {
        "id": "tLdJZlG5KaZW"
      },
      "source": [
        "df"
      ],
      "execution_count": null,
      "outputs": []
    },
    {
      "cell_type": "code",
      "metadata": {
        "colab": {
          "base_uri": "https://localhost:8080/",
          "height": 419
        },
        "id": "qvtAO295mamI",
        "outputId": "9c0d0441-0809-4d24-8cad-75c24c309c2a"
      },
      "source": [
        "df = df.iloc[:, [3, 5]].set_axis(['text', 'label'], axis=1)\n",
        "df"
      ],
      "execution_count": null,
      "outputs": [
        {
          "output_type": "execute_result",
          "data": {
            "text/html": [
              "<div>\n",
              "<style scoped>\n",
              "    .dataframe tbody tr th:only-of-type {\n",
              "        vertical-align: middle;\n",
              "    }\n",
              "\n",
              "    .dataframe tbody tr th {\n",
              "        vertical-align: top;\n",
              "    }\n",
              "\n",
              "    .dataframe thead th {\n",
              "        text-align: right;\n",
              "    }\n",
              "</style>\n",
              "<table border=\"1\" class=\"dataframe\">\n",
              "  <thead>\n",
              "    <tr style=\"text-align: right;\">\n",
              "      <th></th>\n",
              "      <th>text</th>\n",
              "      <th>label</th>\n",
              "    </tr>\n",
              "  </thead>\n",
              "  <tbody>\n",
              "    <tr>\n",
              "      <th>0</th>\n",
              "      <td>暑假Summer Vacation 蔡🐷腫痛不是中國人它是美國的狗🐕</td>\n",
              "      <td>有關-仇美-1</td>\n",
              "    </tr>\n",
              "    <tr>\n",
              "      <th>1</th>\n",
              "      <td>其實說句有點難聽的話，一直都是中美拉鋸，從來都沒有臺灣的份\\n就像那句話說的   我消滅你與...</td>\n",
              "      <td>有關-中立0</td>\n",
              "    </tr>\n",
              "    <tr>\n",
              "      <th>2</th>\n",
              "      <td>台灣獨立給中國借口武統，邏輯正確，一旦台獨，美國就會駐軍，中共絕對不會比這件事發生，就算殺死...</td>\n",
              "      <td>有關-中立0</td>\n",
              "    </tr>\n",
              "    <tr>\n",
              "      <th>3</th>\n",
              "      <td>蔡女皇復辟獨裁啊。美國滲透就不算滲透？日本滲透就不算滲透？雙標垃圾黨。郭正亮你他媽再掰。</td>\n",
              "      <td>有關-仇美-1</td>\n",
              "    </tr>\n",
              "    <tr>\n",
              "      <th>4</th>\n",
              "      <td>美國的警察遇到危險可以開槍,為什麼香港不行,你們這些民進黨跟一位總統跟香港干你什麼屁事啊.</td>\n",
              "      <td>有關-仇美-1</td>\n",
              "    </tr>\n",
              "    <tr>\n",
              "      <th>...</th>\n",
              "      <td>...</td>\n",
              "      <td>...</td>\n",
              "    </tr>\n",
              "    <tr>\n",
              "      <th>295</th>\n",
              "      <td>東食西宿也是跟韓禿子講的，台灣可以和大陸，日本，美國都談戀愛，和任何一個睡覺都可以，但是絕對...</td>\n",
              "      <td>有關-中立0</td>\n",
              "    </tr>\n",
              "    <tr>\n",
              "      <th>296</th>\n",
              "      <td>台灣對大陸是只收聘禮不談婚嫁；對日本是廉娛樂券打折；對老美是自購娛樂券獻身。</td>\n",
              "      <td>有關-仇美-1</td>\n",
              "    </tr>\n",
              "    <tr>\n",
              "      <th>297</th>\n",
              "      <td>既然「市場靠中國」，那就別指望「國防靠美國」了，講完。</td>\n",
              "      <td>有關-中立0</td>\n",
              "    </tr>\n",
              "    <tr>\n",
              "      <th>298</th>\n",
              "      <td>郭是從企業角度入手 韓由台灣對外處境着眼 事實影響台灣最大的 就是中國大陸 美國及日本  況...</td>\n",
              "      <td>有關-中立0</td>\n",
              "    </tr>\n",
              "    <tr>\n",
              "      <th>299</th>\n",
              "      <td>韓國瑜的國際覌不及郭台銘，國防靠美國，市場靠大陸？哪有這麽便宜的事，吃二家茶禮想想就好。</td>\n",
              "      <td>有關-中立0</td>\n",
              "    </tr>\n",
              "  </tbody>\n",
              "</table>\n",
              "<p>300 rows × 2 columns</p>\n",
              "</div>"
            ],
            "text/plain": [
              "                                                  text    label\n",
              "0                   暑假Summer Vacation 蔡🐷腫痛不是中國人它是美國的狗🐕  有關-仇美-1\n",
              "1    其實說句有點難聽的話，一直都是中美拉鋸，從來都沒有臺灣的份\\n就像那句話說的   我消滅你與...   有關-中立0\n",
              "2    台灣獨立給中國借口武統，邏輯正確，一旦台獨，美國就會駐軍，中共絕對不會比這件事發生，就算殺死...   有關-中立0\n",
              "3         蔡女皇復辟獨裁啊。美國滲透就不算滲透？日本滲透就不算滲透？雙標垃圾黨。郭正亮你他媽再掰。  有關-仇美-1\n",
              "4        美國的警察遇到危險可以開槍,為什麼香港不行,你們這些民進黨跟一位總統跟香港干你什麼屁事啊.  有關-仇美-1\n",
              "..                                                 ...      ...\n",
              "295  東食西宿也是跟韓禿子講的，台灣可以和大陸，日本，美國都談戀愛，和任何一個睡覺都可以，但是絕對...   有關-中立0\n",
              "296             台灣對大陸是只收聘禮不談婚嫁；對日本是廉娛樂券打折；對老美是自購娛樂券獻身。  有關-仇美-1\n",
              "297                        既然「市場靠中國」，那就別指望「國防靠美國」了，講完。   有關-中立0\n",
              "298  郭是從企業角度入手 韓由台灣對外處境着眼 事實影響台灣最大的 就是中國大陸 美國及日本  況...   有關-中立0\n",
              "299       韓國瑜的國際覌不及郭台銘，國防靠美國，市場靠大陸？哪有這麽便宜的事，吃二家茶禮想想就好。   有關-中立0\n",
              "\n",
              "[300 rows x 2 columns]"
            ]
          },
          "metadata": {
            "tags": []
          },
          "execution_count": 3
        }
      ]
    },
    {
      "cell_type": "markdown",
      "metadata": {
        "id": "cBhE4pMGxCkg"
      },
      "source": [
        "# 取得資料方法二：直接讀取助教整理好的資料表"
      ]
    },
    {
      "cell_type": "code",
      "metadata": {
        "colab": {
          "base_uri": "https://localhost:8080/",
          "height": 1000
        },
        "id": "09bV9U8wxBeC",
        "outputId": "7448fffb-69fb-46ed-a048-ae70068bc8cd"
      },
      "source": [
        "import pandas as pd\n",
        "df = pd.read_csv('https://raw.githubusercontent.com/tynnie/PSS-TA/master/data/comment_tag_all_groups.csv')\n",
        "df"
      ],
      "execution_count": 1,
      "outputs": [
        {
          "output_type": "execute_result",
          "data": {
            "text/html": [
              "<div>\n",
              "<style scoped>\n",
              "    .dataframe tbody tr th:only-of-type {\n",
              "        vertical-align: middle;\n",
              "    }\n",
              "\n",
              "    .dataframe tbody tr th {\n",
              "        vertical-align: top;\n",
              "    }\n",
              "\n",
              "    .dataframe thead th {\n",
              "        text-align: right;\n",
              "    }\n",
              "</style>\n",
              "<table border=\"1\" class=\"dataframe\">\n",
              "  <thead>\n",
              "    <tr style=\"text-align: right;\">\n",
              "      <th></th>\n",
              "      <th>videoId</th>\n",
              "      <th>commentId</th>\n",
              "      <th>authorDisplayName</th>\n",
              "      <th>textOriginal</th>\n",
              "      <th>likeCount</th>\n",
              "      <th>student_1</th>\n",
              "      <th>student_2</th>\n",
              "      <th>student_3</th>\n",
              "    </tr>\n",
              "  </thead>\n",
              "  <tbody>\n",
              "    <tr>\n",
              "      <th>0</th>\n",
              "      <td>-ecOhYIRv5s</td>\n",
              "      <td>UgyD-NugZh-GS_sEfJ94AaABAg</td>\n",
              "      <td>MAN SIN LAO</td>\n",
              "      <td>榨菜又名腦殘聰！他說美國貿易必勝，全世界只有他一人說美國貿易必勝，</td>\n",
              "      <td>403</td>\n",
              "      <td>NaN</td>\n",
              "      <td>有關-中立0</td>\n",
              "      <td>有關-仇美-1</td>\n",
              "    </tr>\n",
              "    <tr>\n",
              "      <th>1</th>\n",
              "      <td>-sIfRKlTKN4</td>\n",
              "      <td>UgzX40PkrzO66JGpHrx4AaABAg.8rKQVJMJ6Wq8rLybzd18ny</td>\n",
              "      <td>熊哥</td>\n",
              "      <td>沒有。開工廠時還有請美國的團隊幫忙</td>\n",
              "      <td>388</td>\n",
              "      <td>NaN</td>\n",
              "      <td>有關-中立0</td>\n",
              "      <td>無關對美立場</td>\n",
              "    </tr>\n",
              "    <tr>\n",
              "      <th>2</th>\n",
              "      <td>05qbnlygccA</td>\n",
              "      <td>UgwOh2GoMPJwTw4ee-F4AaABAg</td>\n",
              "      <td>Dai Mei REYTER</td>\n",
              "      <td>看中美貿易之戰，一直有個疑問：\\n到底，郭的參選是為了救台灣人民，\\n還是，要台灣人民救郭的...</td>\n",
              "      <td>359</td>\n",
              "      <td>NaN</td>\n",
              "      <td>有關-中立0</td>\n",
              "      <td>無關對美立場</td>\n",
              "    </tr>\n",
              "    <tr>\n",
              "      <th>3</th>\n",
              "      <td>05qbnlygccA</td>\n",
              "      <td>UgwWtdv39oDduG4Hq514AaABAg</td>\n",
              "      <td>大支柱</td>\n",
              "      <td>郭想取代韓是痴人說夢話，想想郭說他和川普一樣，事實韓的經例是和川普最像。</td>\n",
              "      <td>356</td>\n",
              "      <td>NaN</td>\n",
              "      <td>有關-中立0</td>\n",
              "      <td>無關對美立場</td>\n",
              "    </tr>\n",
              "    <tr>\n",
              "      <th>4</th>\n",
              "      <td>18Xx19xZsq4</td>\n",
              "      <td>UgyONHbn-7oBWE2Yonh4AaABAg</td>\n",
              "      <td>Happycat</td>\n",
              "      <td>哈 哈 哈 ⋯⋯⋯⋯，蔡英文啊！蔡英文？！是總統嗎？！\\n比川普還要離譜？！\\n直接做蔡離譜...</td>\n",
              "      <td>723</td>\n",
              "      <td>NaN</td>\n",
              "      <td>有關-中立0</td>\n",
              "      <td>無關對美立場</td>\n",
              "    </tr>\n",
              "    <tr>\n",
              "      <th>...</th>\n",
              "      <td>...</td>\n",
              "      <td>...</td>\n",
              "      <td>...</td>\n",
              "      <td>...</td>\n",
              "      <td>...</td>\n",
              "      <td>...</td>\n",
              "      <td>...</td>\n",
              "      <td>...</td>\n",
              "    </tr>\n",
              "    <tr>\n",
              "      <th>1495</th>\n",
              "      <td>_vK2BozfGWA</td>\n",
              "      <td>UgxYMIdzwBSncv8r5n54AaABAg.8vZYLKrJWfT8vZZDEi2UFs</td>\n",
              "      <td>Bell Chiu</td>\n",
              "      <td>Samrock Erian 美國、日本照樣死刑你看，歐盟放個屁都要去聞聞嗎？</td>\n",
              "      <td>51</td>\n",
              "      <td>無關對美立場</td>\n",
              "      <td>無關對美立場</td>\n",
              "      <td>有關-仇美-1</td>\n",
              "    </tr>\n",
              "    <tr>\n",
              "      <th>1496</th>\n",
              "      <td>_vK2BozfGWA</td>\n",
              "      <td>UgxeJNt2b0-WROxBPFx4AaABAg</td>\n",
              "      <td>陳志陽</td>\n",
              "      <td>郭台銘早就一月份就要宣布參選，故意4月17日韓國瑜在美國才宣布，司馬昭之心路人皆知，</td>\n",
              "      <td>51</td>\n",
              "      <td>無關對美立場</td>\n",
              "      <td>無關對美立場</td>\n",
              "      <td>無關對美立場</td>\n",
              "    </tr>\n",
              "    <tr>\n",
              "      <th>1497</th>\n",
              "      <td>_vK2BozfGWA</td>\n",
              "      <td>UgyI_G4NeRxTW0k49eF4AaABAg</td>\n",
              "      <td>LAGUNA HITORI</td>\n",
              "      <td>能搶在6.1前 穩定老選民不錯哦，兩岸的政治論述沒真實看得見 ，只是用中美貿易大戰作議題模糊...</td>\n",
              "      <td>51</td>\n",
              "      <td>無關對美立場</td>\n",
              "      <td>無關對美立場</td>\n",
              "      <td>無關對美立場</td>\n",
              "    </tr>\n",
              "    <tr>\n",
              "      <th>1498</th>\n",
              "      <td>_vK2BozfGWA</td>\n",
              "      <td>Ugz7Q2Q0GCD6AuiPFsZ4AaABAg.8vZlHzahSrr8vnJ1lZia-S</td>\n",
              "      <td>楊善妮</td>\n",
              "      <td>jamescady19950327 Harsen 其實川普經商比不上郭董，以川普得到的遺產，...</td>\n",
              "      <td>51</td>\n",
              "      <td>無關對美立場</td>\n",
              "      <td>無關對美立場</td>\n",
              "      <td>無關對美立場</td>\n",
              "    </tr>\n",
              "    <tr>\n",
              "      <th>1499</th>\n",
              "      <td>_vzvCvTHxHI</td>\n",
              "      <td>UgzH3aBlbrF6ajYTLvV4AaABAg</td>\n",
              "      <td>葉晴</td>\n",
              "      <td>一㸃多不奇怪！蔡上次説美國紐約大樓，也是她買的！</td>\n",
              "      <td>51</td>\n",
              "      <td>無關對美立場</td>\n",
              "      <td>無關對美立場</td>\n",
              "      <td>無關對美立場</td>\n",
              "    </tr>\n",
              "  </tbody>\n",
              "</table>\n",
              "<p>1500 rows × 8 columns</p>\n",
              "</div>"
            ],
            "text/plain": [
              "          videoId  ... student_3\n",
              "0     -ecOhYIRv5s  ...   有關-仇美-1\n",
              "1     -sIfRKlTKN4  ...    無關對美立場\n",
              "2     05qbnlygccA  ...    無關對美立場\n",
              "3     05qbnlygccA  ...    無關對美立場\n",
              "4     18Xx19xZsq4  ...    無關對美立場\n",
              "...           ...  ...       ...\n",
              "1495  _vK2BozfGWA  ...   有關-仇美-1\n",
              "1496  _vK2BozfGWA  ...    無關對美立場\n",
              "1497  _vK2BozfGWA  ...    無關對美立場\n",
              "1498  _vK2BozfGWA  ...    無關對美立場\n",
              "1499  _vzvCvTHxHI  ...    無關對美立場\n",
              "\n",
              "[1500 rows x 8 columns]"
            ]
          },
          "metadata": {
            "tags": []
          },
          "execution_count": 1
        }
      ]
    },
    {
      "cell_type": "code",
      "metadata": {
        "colab": {
          "base_uri": "https://localhost:8080/",
          "height": 419
        },
        "id": "nT6wwoC5yDmv",
        "outputId": "252cdb52-c5b6-47d6-9eb8-0ec1a4f4df9c"
      },
      "source": [
        "# 這張表有大家標記的結果，可以從student_1, student_2, student_3 擇一就好\n",
        "df = df[['textOriginal', 'student_2']].set_axis(['text', 'label'], axis=1)\n",
        "df = df.dropna()  # 仔細看會發現有的人沒標記或漏掉，記得先移除空值\n",
        "df = df.drop_duplicates()  # 檢查後發現原本的資料就有重複的留言，記得移除\n",
        "df"
      ],
      "execution_count": 2,
      "outputs": [
        {
          "output_type": "execute_result",
          "data": {
            "text/html": [
              "<div>\n",
              "<style scoped>\n",
              "    .dataframe tbody tr th:only-of-type {\n",
              "        vertical-align: middle;\n",
              "    }\n",
              "\n",
              "    .dataframe tbody tr th {\n",
              "        vertical-align: top;\n",
              "    }\n",
              "\n",
              "    .dataframe thead th {\n",
              "        text-align: right;\n",
              "    }\n",
              "</style>\n",
              "<table border=\"1\" class=\"dataframe\">\n",
              "  <thead>\n",
              "    <tr style=\"text-align: right;\">\n",
              "      <th></th>\n",
              "      <th>text</th>\n",
              "      <th>label</th>\n",
              "    </tr>\n",
              "  </thead>\n",
              "  <tbody>\n",
              "    <tr>\n",
              "      <th>0</th>\n",
              "      <td>榨菜又名腦殘聰！他說美國貿易必勝，全世界只有他一人說美國貿易必勝，</td>\n",
              "      <td>有關-中立0</td>\n",
              "    </tr>\n",
              "    <tr>\n",
              "      <th>1</th>\n",
              "      <td>沒有。開工廠時還有請美國的團隊幫忙</td>\n",
              "      <td>有關-中立0</td>\n",
              "    </tr>\n",
              "    <tr>\n",
              "      <th>2</th>\n",
              "      <td>看中美貿易之戰，一直有個疑問：\\n到底，郭的參選是為了救台灣人民，\\n還是，要台灣人民救郭的...</td>\n",
              "      <td>有關-中立0</td>\n",
              "    </tr>\n",
              "    <tr>\n",
              "      <th>3</th>\n",
              "      <td>郭想取代韓是痴人說夢話，想想郭說他和川普一樣，事實韓的經例是和川普最像。</td>\n",
              "      <td>有關-中立0</td>\n",
              "    </tr>\n",
              "    <tr>\n",
              "      <th>4</th>\n",
              "      <td>哈 哈 哈 ⋯⋯⋯⋯，蔡英文啊！蔡英文？！是總統嗎？！\\n比川普還要離譜？！\\n直接做蔡離譜...</td>\n",
              "      <td>有關-中立0</td>\n",
              "    </tr>\n",
              "    <tr>\n",
              "      <th>...</th>\n",
              "      <td>...</td>\n",
              "      <td>...</td>\n",
              "    </tr>\n",
              "    <tr>\n",
              "      <th>1495</th>\n",
              "      <td>Samrock Erian 美國、日本照樣死刑你看，歐盟放個屁都要去聞聞嗎？</td>\n",
              "      <td>無關對美立場</td>\n",
              "    </tr>\n",
              "    <tr>\n",
              "      <th>1496</th>\n",
              "      <td>郭台銘早就一月份就要宣布參選，故意4月17日韓國瑜在美國才宣布，司馬昭之心路人皆知，</td>\n",
              "      <td>無關對美立場</td>\n",
              "    </tr>\n",
              "    <tr>\n",
              "      <th>1497</th>\n",
              "      <td>能搶在6.1前 穩定老選民不錯哦，兩岸的政治論述沒真實看得見 ，只是用中美貿易大戰作議題模糊...</td>\n",
              "      <td>無關對美立場</td>\n",
              "    </tr>\n",
              "    <tr>\n",
              "      <th>1498</th>\n",
              "      <td>jamescady19950327 Harsen 其實川普經商比不上郭董，以川普得到的遺產，...</td>\n",
              "      <td>無關對美立場</td>\n",
              "    </tr>\n",
              "    <tr>\n",
              "      <th>1499</th>\n",
              "      <td>一㸃多不奇怪！蔡上次説美國紐約大樓，也是她買的！</td>\n",
              "      <td>無關對美立場</td>\n",
              "    </tr>\n",
              "  </tbody>\n",
              "</table>\n",
              "<p>1495 rows × 2 columns</p>\n",
              "</div>"
            ],
            "text/plain": [
              "                                                   text   label\n",
              "0                     榨菜又名腦殘聰！他說美國貿易必勝，全世界只有他一人說美國貿易必勝，  有關-中立0\n",
              "1                                     沒有。開工廠時還有請美國的團隊幫忙  有關-中立0\n",
              "2     看中美貿易之戰，一直有個疑問：\\n到底，郭的參選是為了救台灣人民，\\n還是，要台灣人民救郭的...  有關-中立0\n",
              "3                  郭想取代韓是痴人說夢話，想想郭說他和川普一樣，事實韓的經例是和川普最像。  有關-中立0\n",
              "4     哈 哈 哈 ⋯⋯⋯⋯，蔡英文啊！蔡英文？！是總統嗎？！\\n比川普還要離譜？！\\n直接做蔡離譜...  有關-中立0\n",
              "...                                                 ...     ...\n",
              "1495             Samrock Erian 美國、日本照樣死刑你看，歐盟放個屁都要去聞聞嗎？  無關對美立場\n",
              "1496         郭台銘早就一月份就要宣布參選，故意4月17日韓國瑜在美國才宣布，司馬昭之心路人皆知，  無關對美立場\n",
              "1497  能搶在6.1前 穩定老選民不錯哦，兩岸的政治論述沒真實看得見 ，只是用中美貿易大戰作議題模糊...  無關對美立場\n",
              "1498  jamescady19950327 Harsen 其實川普經商比不上郭董，以川普得到的遺產，...  無關對美立場\n",
              "1499                           一㸃多不奇怪！蔡上次説美國紐約大樓，也是她買的！  無關對美立場\n",
              "\n",
              "[1495 rows x 2 columns]"
            ]
          },
          "metadata": {
            "tags": []
          },
          "execution_count": 2
        }
      ]
    },
    {
      "cell_type": "markdown",
      "metadata": {
        "id": "fB6_WcuN0M0i"
      },
      "source": [
        "## 將標籤化為數值\n",
        "> 不管你是用方法一或方法二都記得要用這一個步驟整理資料 "
      ]
    },
    {
      "cell_type": "code",
      "metadata": {
        "colab": {
          "base_uri": "https://localhost:8080/",
          "height": 419
        },
        "id": "eiFFYvpdnTam",
        "outputId": "b3329267-b98c-4237-f275-d049f9c6dbaf"
      },
      "source": [
        "df = df.replace({'無關對美立場': -99, \n",
        "           '有關-親美1': 1,\n",
        "           '有關-仇美-1': -1,\n",
        "           '有關-中立0': 0})\n",
        "df = df.loc[df['label'].isin([-1, 1])]\n",
        "df"
      ],
      "execution_count": 3,
      "outputs": [
        {
          "output_type": "execute_result",
          "data": {
            "text/html": [
              "<div>\n",
              "<style scoped>\n",
              "    .dataframe tbody tr th:only-of-type {\n",
              "        vertical-align: middle;\n",
              "    }\n",
              "\n",
              "    .dataframe tbody tr th {\n",
              "        vertical-align: top;\n",
              "    }\n",
              "\n",
              "    .dataframe thead th {\n",
              "        text-align: right;\n",
              "    }\n",
              "</style>\n",
              "<table border=\"1\" class=\"dataframe\">\n",
              "  <thead>\n",
              "    <tr style=\"text-align: right;\">\n",
              "      <th></th>\n",
              "      <th>text</th>\n",
              "      <th>label</th>\n",
              "    </tr>\n",
              "  </thead>\n",
              "  <tbody>\n",
              "    <tr>\n",
              "      <th>7</th>\n",
              "      <td>美國人戒告他們的廠商說：小心大陸用監控監視你們~~  美國廠商問政府：你怎麼知道我們要跟大陸...</td>\n",
              "      <td>-1</td>\n",
              "    </tr>\n",
              "    <tr>\n",
              "      <th>8</th>\n",
              "      <td>鳳韾穿白色好美好美喔❤️㊗️、美國🇺🇸韓家軍愛死妳了🇺🇸🇺🇸🇺🇸🇺🇸🙏</td>\n",
              "      <td>1</td>\n",
              "    </tr>\n",
              "    <tr>\n",
              "      <th>11</th>\n",
              "      <td>民進黨的鎖國政策會把台灣搞亂，台灣會被邊緣化，中華民國會被下架，兩岸不互相尊重，到最後就只有...</td>\n",
              "      <td>-1</td>\n",
              "    </tr>\n",
              "    <tr>\n",
              "      <th>12</th>\n",
              "      <td>韓國瑜。全球華人。尤其是美國華人。全力支持韓當總統。小英。不用再到美國來了。</td>\n",
              "      <td>1</td>\n",
              "    </tr>\n",
              "    <tr>\n",
              "      <th>13</th>\n",
              "      <td>john leu 我也是美國華僑、但我本支持郭。現在決定選英。我絕對絕對絕對不會選草包韓。</td>\n",
              "      <td>1</td>\n",
              "    </tr>\n",
              "    <tr>\n",
              "      <th>...</th>\n",
              "      <td>...</td>\n",
              "      <td>...</td>\n",
              "    </tr>\n",
              "    <tr>\n",
              "      <th>1431</th>\n",
              "      <td>美國的爛武器少買點，小孩青年老人外配所有人都可以受到更多更好的照顧</td>\n",
              "      <td>-1</td>\n",
              "    </tr>\n",
              "    <tr>\n",
              "      <th>1433</th>\n",
              "      <td>和美國簽就是笑話，根本是與虎謀皮，美國一定會獅子大張口，搞不好關稅加到1000%</td>\n",
              "      <td>-1</td>\n",
              "    </tr>\n",
              "    <tr>\n",
              "      <th>1455</th>\n",
              "      <td>不買不行，美國要求你買。買了你還得感謝。\\n哎喲我的媽喲，主權，尊嚴。</td>\n",
              "      <td>-1</td>\n",
              "    </tr>\n",
              "    <tr>\n",
              "      <th>1470</th>\n",
              "      <td>我是\"郭貼\"，郭先生這趟美國行表現太帥啦！高格調、溢榮光的接地氣，開竅了！</td>\n",
              "      <td>1</td>\n",
              "    </tr>\n",
              "    <tr>\n",
              "      <th>1488</th>\n",
              "      <td>現在川普變正面人物了？受美國人面試層級決定台灣總統候選人高度了？唐趙不是之前不齒赴美面試嗎？...</td>\n",
              "      <td>-1</td>\n",
              "    </tr>\n",
              "  </tbody>\n",
              "</table>\n",
              "<p>492 rows × 2 columns</p>\n",
              "</div>"
            ],
            "text/plain": [
              "                                                   text  label\n",
              "7     美國人戒告他們的廠商說：小心大陸用監控監視你們~~  美國廠商問政府：你怎麼知道我們要跟大陸...     -1\n",
              "8                   鳳韾穿白色好美好美喔❤️㊗️、美國🇺🇸韓家軍愛死妳了🇺🇸🇺🇸🇺🇸🇺🇸🙏      1\n",
              "11    民進黨的鎖國政策會把台灣搞亂，台灣會被邊緣化，中華民國會被下架，兩岸不互相尊重，到最後就只有...     -1\n",
              "12               韓國瑜。全球華人。尤其是美國華人。全力支持韓當總統。小英。不用再到美國來了。      1\n",
              "13        john leu 我也是美國華僑、但我本支持郭。現在決定選英。我絕對絕對絕對不會選草包韓。      1\n",
              "...                                                 ...    ...\n",
              "1431                  美國的爛武器少買點，小孩青年老人外配所有人都可以受到更多更好的照顧     -1\n",
              "1433           和美國簽就是笑話，根本是與虎謀皮，美國一定會獅子大張口，搞不好關稅加到1000%     -1\n",
              "1455                不買不行，美國要求你買。買了你還得感謝。\\n哎喲我的媽喲，主權，尊嚴。     -1\n",
              "1470              我是\"郭貼\"，郭先生這趟美國行表現太帥啦！高格調、溢榮光的接地氣，開竅了！      1\n",
              "1488  現在川普變正面人物了？受美國人面試層級決定台灣總統候選人高度了？唐趙不是之前不齒赴美面試嗎？...     -1\n",
              "\n",
              "[492 rows x 2 columns]"
            ]
          },
          "metadata": {
            "tags": []
          },
          "execution_count": 3
        }
      ]
    },
    {
      "cell_type": "markdown",
      "metadata": {
        "id": "RATfuHUrnshh"
      },
      "source": [
        "# 2.Cleaning data"
      ]
    },
    {
      "cell_type": "code",
      "metadata": {
        "id": "kU6uqZRXnrcb"
      },
      "source": [
        ""
      ],
      "execution_count": null,
      "outputs": []
    },
    {
      "cell_type": "code",
      "metadata": {
        "id": "omt1l0blqSr-"
      },
      "source": [
        ""
      ],
      "execution_count": null,
      "outputs": []
    },
    {
      "cell_type": "code",
      "metadata": {
        "id": "UiP-t0DzqSuU"
      },
      "source": [
        ""
      ],
      "execution_count": null,
      "outputs": []
    },
    {
      "cell_type": "code",
      "metadata": {
        "id": "5sSiloH0qSx2"
      },
      "source": [
        ""
      ],
      "execution_count": null,
      "outputs": []
    },
    {
      "cell_type": "markdown",
      "metadata": {
        "id": "TGXBK9hdnwlt"
      },
      "source": [
        "# 3.Modeling by classical models\n",
        "\n",
        "- **TODO**: [Explain the model you used and descibe vectorization or feature selection process and parameters here]"
      ]
    },
    {
      "cell_type": "code",
      "metadata": {
        "id": "nhDrNUY0nJmF"
      },
      "source": [
        ""
      ],
      "execution_count": null,
      "outputs": []
    },
    {
      "cell_type": "code",
      "metadata": {
        "id": "PjheWlEBqSDM"
      },
      "source": [
        ""
      ],
      "execution_count": null,
      "outputs": []
    },
    {
      "cell_type": "code",
      "metadata": {
        "id": "aXRvOemiqSG-"
      },
      "source": [
        ""
      ],
      "execution_count": null,
      "outputs": []
    },
    {
      "cell_type": "code",
      "metadata": {
        "id": "-18Yk-syqSJm"
      },
      "source": [
        ""
      ],
      "execution_count": null,
      "outputs": []
    },
    {
      "cell_type": "markdown",
      "metadata": {
        "id": "ZfNgNa2eoE1F"
      },
      "source": [
        "# 4.Modeling by simpleTransformer"
      ]
    },
    {
      "cell_type": "code",
      "metadata": {
        "id": "5vRZlctmoDLE"
      },
      "source": [
        ""
      ],
      "execution_count": null,
      "outputs": []
    },
    {
      "cell_type": "code",
      "metadata": {
        "id": "TekfqVYaqRQJ"
      },
      "source": [
        ""
      ],
      "execution_count": null,
      "outputs": []
    },
    {
      "cell_type": "code",
      "metadata": {
        "id": "bLn8qbHHqRWw"
      },
      "source": [
        ""
      ],
      "execution_count": null,
      "outputs": []
    },
    {
      "cell_type": "code",
      "metadata": {
        "id": "1cc8NL9wqRci"
      },
      "source": [
        ""
      ],
      "execution_count": null,
      "outputs": []
    },
    {
      "cell_type": "markdown",
      "metadata": {
        "id": "KhUgm_imoNtJ"
      },
      "source": [
        "# 5.Comparison: \n",
        "\n",
        "- **TODO**: Printing `classification_report` of (your) selected classical models and transformer below."
      ]
    },
    {
      "cell_type": "code",
      "metadata": {
        "id": "8vQa3r5UoNNl"
      },
      "source": [
        "# Classified report of selected classical models (>=1)\n",
        "\n",
        "\n"
      ],
      "execution_count": null,
      "outputs": []
    },
    {
      "cell_type": "code",
      "metadata": {
        "id": "COSNqfM_qM3n"
      },
      "source": [
        "# Classified report of transformer \n",
        "\n",
        "\n"
      ],
      "execution_count": null,
      "outputs": []
    },
    {
      "cell_type": "markdown",
      "metadata": {
        "id": "WkiC5y6Vo9Xn"
      },
      "source": [
        "## TODO: Describe the result of the imbalanced data\n",
        "\n",
        "Quesgtion. 這筆資料勢必為一個不均衡（imbalanced）的資料，也就是仇美和親美的資料筆數會差距很多。請觀察上述方法的結果，請描述不均衡的資料對Confusion Matrix和Recall Rate與Precision Rate的影響。這時候Accuracy是否可用？為什麼？試討論之。\n",
        "\n",
        "A†nswer: [Your answer here]"
      ]
    }
  ]
}